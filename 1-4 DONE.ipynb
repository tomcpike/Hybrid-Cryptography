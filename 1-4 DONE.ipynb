{
 "cells": [
  {
   "cell_type": "markdown",
   "id": "35f10f2b",
   "metadata": {},
   "source": [
    "# Hybrid Cryptography Group 4\n",
    "\n",
    "#### Authors:\n",
    "\n",
    "Tom Chappel-Pike, Ben McCarthy, Abigail McComiskey, Enchi Ni, Eleanor Roome"
   ]
  },
  {
   "cell_type": "markdown",
   "id": "e4d847fe",
   "metadata": {},
   "source": [
    "# Table of content\n",
    "\n",
    "1. [Introduction](#introduction)\n",
    "\n",
    "\n",
    "2. [Initialisations](#initialisations)\n",
    "\n",
    "    2.1. [File Finding](#findingfile)\n",
    "\n",
    "\n",
    "3. [The Caesar Cypher](#cc)\n",
    "\n",
    "    3.1. [Encryption Process](#ep1)\n",
    "    \n",
    "    3.2. [Decryption Process](#dp1)\n",
    "    \n",
    "    \n",
    "4. [The Vigenere Cypher](#vc)\n",
    "\n",
    "    4.1. [Encryption Process](#ep2)\n",
    "    \n",
    "    4.2. [Decryption Process](#dp2)\n",
    "    \n",
    "    \n",
    "5. [Frequency Analysis](#fa)\n",
    "\n",
    "    5.1. [Getting a large text sample](#lts)\n",
    "    \n",
    "    5.2. [Finding Frequency](#ff)\n",
    "    \n",
    "    5.3. [Finding Letter Frequency of Large Text](#flt)\n",
    "  \n",
    "    5.4. [Breaking The Caesar Cypher](#bcc)\n",
    "    \n",
    "\n",
    "6. [RSA](#rsa)\n",
    "    \n",
    "    6.1. [Turning vigenere key into a Tuple](#vkt)\n",
    "    \n",
    "    6.2. [Generating the RSA key](#rsak)\n",
    "    \n",
    "    6.3. [RSA Encryption](#re)\n",
    "    \n",
    "    6.4. [RSA Decryption](#rd)\n",
    "    \n",
    "    \n",
    "7. [A Hybrid system](#ahs)\n",
    "\n",
    "    7.1. [Disguising the frequency for each letter](#df)\n",
    "    \n",
    "    7.2. [Creating the public key](#cpk)\n",
    "    \n",
    "    7.3. [Message encryption](#me)\n",
    "    \n",
    "    7.4. [Public key decryption](#pkd)\n",
    "    \n",
    "    7.3. [Message decryption](#md)\n",
    "    \n",
    "    \n",
    "8. [Break The Vigenere Cypher](#bvc)\n",
    "    \n",
    "    8.1. [Kasiski function](#kf)\n",
    "    \n",
    "    8.2. [Extract possible key lengths](#epkl)\n",
    "    \n",
    "    8.3. [Decrypt the ciphertext with the given key length](#dc)\n",
    "    \n",
    "    8.4. [Decrypt the ciphertext](#dtc)"
   ]
  },
  {
   "cell_type": "code",
   "execution_count": 89,
   "id": "ddf37b2b",
   "metadata": {},
   "outputs": [],
   "source": [
    "import random, requests, os, matplotlib.pyplot as plt, cryptography_functions"
   ]
  },
  {
   "cell_type": "markdown",
   "id": "aabd0f6e",
   "metadata": {},
   "source": [
    "# Introduction<a name=\"introduction\"></a>\n",
    "\n",
    "The Caesar cipher and Vigenère cipher are both methods used to encrypt messages. We have implemented a multi-level encryption and decryption system and applied it to messages. Here is an introduction to our steps:\n",
    "\n",
    "The first part is the Caesar cipher. We encrypt the letters using random shift values and decrypt the Caesar-encrypted file based on the stored shift values. Then, we use letter frequency analysis to attempt to decrypt the encrypted message based on the frequency of occurrence of the letters in the alphabet.\n",
    "\n",
    "The next part is the Vigenère cipher. We generate a random-length key to encrypt the message and use the stored key file to decrypt the message, recovering the original text.\n",
    "\n",
    "We then improve the system by creating a random 2-grams encoding dictionary. Messages are encoded using 2-grams by replacing each letter with a corresponding random two-letter combination, which are stored in a dictionary. The message is encrypted by its letters' 2-grams, and then using the Vigenère cipher. The 2-grams dictionary and the Vigenère key are concatenated into a string, chunked, converted to binary, and encrypted with RSA- this is the public key.\n",
    "\n",
    "We then decrypt the public key using the RSA private key to recover the 2-grams dictionary and the Vigenère key. Using Vigenère decryption and reverse 2-grams dictionary decryption, we recover the original message. Additionally, we attempt to crack both the Caesar cipher and the Vigenère cipher.\n",
    "\n",
    "Furthermore, we generate public and private keys using 1024-bit large prime numbers. We encrypt the Vigenère key and 2-grams encoding to ensure secure key transmission. We also hide the alphabetic frequency to make RSA encryption more secure."
   ]
  },
  {
   "cell_type": "markdown",
   "id": "751ef895",
   "metadata": {},
   "source": [
    "# Initialisations<a name=\"initialisations\"></a>\n",
    "\n",
    "Firstly, we must import the required libraries in order to get our code to function properly. \n"
   ]
  },
  {
   "cell_type": "markdown",
   "id": "4521ebcf",
   "metadata": {},
   "source": [
    "## File Finding<a name=\"findingfile\"></a>\n",
    "\n",
    "Next, we define a function called find_file, which searches the directory for a file name that the user inputs, to be encrypted or decrypted. It checks to see whether the file is in the directory or not, and if it is not it prompts the user to try again, and input another name."
   ]
  },
  {
   "cell_type": "code",
   "execution_count": 90,
   "id": "a789924f",
   "metadata": {},
   "outputs": [],
   "source": [
    "#### FINDING FILE IN DIRECTORY ####\n",
    "\n",
    "def find_file():\n",
    "    in_directory = False\n",
    "\n",
    "    while in_directory == False:\n",
    "        file_name = input(\"Input the name of the text file you would like to encrypt / decrypt, including the .txt: \")\n",
    "        if os.path.isfile(file_name): #checks if the inputted file is in the directory\n",
    "            in_directory = True\n",
    "        else:\n",
    "            print(\"\")\n",
    "            print(\"The file you inputted is not in the directory, try again\")\n",
    "          \n",
    "    return file_name"
   ]
  },
  {
   "cell_type": "markdown",
   "id": "2ecd496d",
   "metadata": {},
   "source": [
    "# The Caesar Cypher<a name=\"cc\"></a>"
   ]
  },
  {
   "cell_type": "markdown",
   "id": "6625201b",
   "metadata": {},
   "source": [
    "## Caesar Cypher Encryption<a name=\"ep1\"></a>\n",
    "\n",
    "We then define a function called caesar_encrypt, which encrypts a message via the Caesar Cypher. This encryption runs through the message letter by letter, shifting each letter a fixed number of places down the alphabet. Naturally, there are 26 ways this can happen, as there are 26 possible shifts due to the length of the English alphabet. This includes a trivial shift, in which the message is shifted 26 places, and is the same as the unencrypted message. \n",
    "\n",
    "To do this, the function find_file is run, to allow the user to search for their text file in the directory that they would like to encrypt. This file is then opened, and read to the string variable called message. \n",
    "\n",
    "The file encrypted_text is then opened, to be written to. This is where our final Caesar shifted message will be stored on completion of the function. \n",
    "\n",
    "The file caesar_shift_value is opened next, also to be written to. This is so the user can know and keep the shift value used to encrypt the message, so that it can later be decrypted. A random number between 1 and 26 inclusive is then generated as the shift value. \n",
    "\n",
    "We then define a list called encrypted_message, to which each letter, after it is shifted, will be appended to.\n",
    "\n",
    "The final message will only contain alphabetic characters, with capitalisation preserved.\n",
    "\n"
   ]
  },
  {
   "cell_type": "markdown",
   "id": "c3c3482a",
   "metadata": {},
   "source": [
    "## Encryption Process:\n",
    "\n",
    "To encrypt the message, we iterate through each character in the message via a for loop. This character is then checked to see whether it is in the alphabet, otherwise it will not be encrypted and will not be in the final encrypted message. \n",
    "\n",
    "For each alphabetic character in this for loop, it is then checked to see whether it is uppercase or lowercase, and an offset value is set, based on its ASCII value. This will be 65 for uppercase letters, and 97 for lowercase letters. This offset allows us to set the letters A-Z to be indexed as numbers 0 to 25. \n",
    "\n",
    "The ASCII value of the character is then offset, to set it to be within that range of 0 to 25, for ease of calculation, and stored to the variable character_offset.\n",
    "\n",
    "The encryption then happens via this formula:\n",
    "\n",
    "$$(\\text{character_offset}+\\text{shift_value}) mod 26 + \\text{offset}$$\n",
    "\n",
    "This shifts the character, by the shift value, takes the modulo 26 of that calculation, such that if the character is greater than 26 (Z), it returns the remainder to add to 0 (A). The offset value is then added back to the now encrypted character, and it is transformed from its ASCII value again to the character that it represents.\n",
    "\n",
    "This shifted character is then appended to the encrypted_message list, and this occurs for all alphabetic characters in the message.\n",
    "\n",
    "Then, a variable final_message is created, which joins all the elements of the encrypted_message list into a single string. This string is then written to the encrypted_text file, such that the user now has a text file with their encrypted message. The shift value is also then written to the shift_value file\n",
    "\n",
    "The files are then all closed, and a message telling the user where their encrypted message and shift value has been written to is displayed."
   ]
  },
  {
   "cell_type": "code",
   "execution_count": 91,
   "id": "da777936",
   "metadata": {},
   "outputs": [],
   "source": [
    "#### CASESAR CYPHER ##### (maintains case of characters)\n",
    "\n",
    "def caesar_encrypt(): #defines the caesar encryption function\n",
    "    \n",
    "    file_name = find_file()\n",
    "\n",
    "    input_text = open(file_name,\"r\") #opens the text file we want to read\n",
    "    message = input_text.read() #reads the text file to the variable message\n",
    "    \n",
    "    encrypted_text = open(\"encrypted_text.txt\",\"w\") #opens the encrypted text file to which we write the encryption\n",
    "    \n",
    "    shift_value_file = open(\"_caesar_shift_value.txt\",\"w\")\n",
    "    shift_value = random.randint(1,26) #generates a shift value between 1 and 26 inclusive\n",
    "    \n",
    "    encrypted_message = []\n",
    "    \n",
    "    for character in message: #iterates character through each element of the message\n",
    "        if character.isalpha(): #checks to see if the character is in the alphabet\n",
    "            \n",
    "            if character.isupper(): #checks to see if character is uppercase\n",
    "                offset = 65 #sets appropriate offset value\n",
    "            else:\n",
    "                offset = 97\n",
    "            \n",
    "            character_offset = ord(character)-offset #offsets character to be between 0 and 25\n",
    "\n",
    "            encrypted_message.append(chr((character_offset+shift_value)%26+offset))\n",
    "            #appends our changed letter to the encrypted message list\n",
    "    \n",
    "\n",
    "    final_text = \"\".join(encrypted_message) #turns the list into a string\n",
    "    encrypted_text.write(final_text) #writes the string to the text file\n",
    "    shift_value_file.write(str(shift_value))\n",
    "    shift_value_file.close()\n",
    "    encrypted_text.close()\n",
    "    print(\"\")\n",
    "    print(\"Encrypted message written to encrypted_text.txt\")\n",
    "    print(\"Shift value written to caesar_shift_value.txt\")\n",
    "    input_text.close() #closes the files\n",
    "    \n",
    "    return \n"
   ]
  },
  {
   "cell_type": "markdown",
   "id": "1ecf35f8",
   "metadata": {},
   "source": [
    "## Caesar Cypher Decryption<a name=\"dp1\"></a>\n",
    "\n",
    "The decryption process of the Caesar Cypher is the inverse function of the encryption process. We do this with a function defined as caesar_decrypt\n",
    "\n",
    "We initially ask the user which file they would like decrypted, using the find_file function again. This file is then opened and read to the variable cryptic.\n",
    "\n",
    "The caesar_shift_value file is then found, opened, and read to the variable shift_value\n",
    "\n",
    "The file decrypted_text is then opened, to be written to. This is where our final decrypted message will be stored on completion of the function.\n",
    "\n",
    "The list decrypted_message is then defined, and it is to this which we will append each decrypted character.\n",
    "\n",
    "Again, the final message will only contain alphabetic characters, with capitalisation preserved.\n",
    "\n"
   ]
  },
  {
   "cell_type": "markdown",
   "id": "0c72f789",
   "metadata": {},
   "source": [
    "## Decryption Process:\n",
    "\n",
    "To decrypt the message, we iterate through each character in the cryptic string. It is checked if it is alphabetic, otherwise it will not be decrypted and will not be in the final message.\n",
    "\n",
    "For each alphabetic character in the cryptic string, it is then checked to see whether it is uppercase or lowercase, and an offset value is set, based on its ASCII value. This will be 65 for uppercase letters, and 97 for lowercase letters. This offset allows us to set the letters A-Z to be indexed as numbers 0 to 25. \n",
    "\n",
    "The ASCII value of the character is then offset, to set it to be within that range of 0 to 25, for ease of calculation, and stored to the variable character_offset.\n",
    "\n",
    "The decryption then happens via this formula:\n",
    "\n",
    "$$(\\text{character_offset} - \\text{shift_value}) mod26 + \\text{offset}$$\n",
    "\n",
    "This takes our offset encrypted character, shifts the character by the negative the shift value (the inverse of the encrpytion process), takes the modulo 26 of that to ensure it stays within our range of 0 (A) to 25 (Z), then adds the offset. It is then transformed from that ASCII value to the character that represents. \n",
    "\n",
    "This decrypted character is then appended to the decrypted_message list, and this occurs for all alphabetic characters in the message.\n",
    "\n",
    "Then, a variable final_text is created, which joins all the elements of the decrypted_message list into a single string. This string is then written to the decrypted_text file, such that the user now has a text file with their decrypted message. \n",
    "\n",
    "The files are then all closed, and the user is shown a message showing to which file their decrypted message has been written to. \n"
   ]
  },
  {
   "cell_type": "code",
   "execution_count": 92,
   "id": "d1a2f052",
   "metadata": {},
   "outputs": [],
   "source": [
    "def caesar_decrypt(): #needs a shift value to decrypt \n",
    "    \n",
    "    file_name = find_file() #lets the user input the file name they would like to read\n",
    "    \n",
    "    shift_value_file = open(\"_caesar_shift_value.txt\",\"r\") #opens the shift value file\n",
    "    shift_value = int(shift_value_file.read()) #read the integer value stored there\n",
    "    \n",
    "    encrypted_text = open(file_name,\"r\") #opens the encrypted text file to read\n",
    "    cryptic = encrypted_text.read() #sets cryptic to the string value of all the text in encrypted_text.txt\n",
    "    \n",
    "    decrypted_text = open(\"decrypted_text.txt\",\"w\") #opens the decrypted text file to write to    \n",
    "\n",
    "    decrypted_message = []\n",
    "       \n",
    "    for character in cryptic: #iterates each character in the cryptic text\n",
    "        if character.isalpha(): #checks if character is in alphabet\n",
    "            \n",
    "            if character.isupper(): #checks if character is uppercase\n",
    "                offset = 65 #sets appropriate offset\n",
    "            else:\n",
    "                offset = 97\n",
    "            \n",
    "            character_offset = ord(character)-offset #offsets character to be between 0 and 25\n",
    "            \n",
    "            decrypted_message.append(chr((character_offset-shift_value)%26+offset))\n",
    "            #appends decrypted character to decrypted message list\n",
    "    \n",
    "    \n",
    "        \n",
    "    final_text = \"\".join(decrypted_message) #changes the list into a string\n",
    "    decrypted_text.write(final_text) #writes the string to the text file\n",
    "    \n",
    "    decrypted_text.close()  \n",
    "    encrypted_text.close()#closes the files\n",
    "    print(\"\")\n",
    "    print(\"Decrypted message written to decrypted_text.txt\")\n",
    "    \n",
    "    return "
   ]
  },
  {
   "cell_type": "markdown",
   "id": "638ad904",
   "metadata": {},
   "source": [
    "# The Vigenere Cypher<a name=\"vc\"></a>"
   ]
  },
  {
   "cell_type": "markdown",
   "id": "f8de647c",
   "metadata": {},
   "source": [
    "## Vigenere Cypher Encryption<a name=\"ep2\"></a>\n",
    "\n",
    "We define a function vigenere_encrypt, as our function which encrypts a message via the Vigenere Cypher. The Vigenere Cypher encrypts a message using a keyword and a Caesar Cypher stlye encryption. We start with the first character of the message, and the first character of the keyword. The first character of the keyword is found, and set to be the first letter of the alphabet, and all characters follow in order. i.e, if the first letter were to be \"R\", the shifted alphabet would be R,S,T,U...Z,A,B,...Q. We then find the position in the  standard alphabet of the first character of the message, and take this positional index and encrypt the character by selecting the letter of the same index in the shifted alphabet. This is repeated for all characters in the message, cycling through each character of the keyword. If the keyword is shorter than the message, then when the final character of the keyword is reached, it loops back to the fist character of the keyword. \n",
    "\n",
    "To do this, we first prompt the user to input the name of the text file that they would like to encrypt. This is opened, and read as a list to message_list_unfiltered. This is then filtered, such that only alphabetic characters are in the list, and this list is called message_list\n",
    "\n",
    "The encrypted_text and key_file files are then opened, both to be written to.\n",
    "\n",
    "The encrypted_message list is then defined, to which we will append all our encrypted characters. \n",
    "\n",
    "Again, this encrypted message will contain only alphabetic characters, with capitalisation preserved. \n",
    "\n"
   ]
  },
  {
   "cell_type": "markdown",
   "id": "e2c4abb4",
   "metadata": {},
   "source": [
    "## Encryption Process\n",
    "\n",
    "A random length for our Vigenere keyword is generated, and stored to variable key_length. This is then used to generate key_list, which generates a list of length key_length, containing that amount of random numbers which range from 0 to 25. This is our vigenere keyword. 0 to 25 is used, as it is represents each letter of the alphabet, with 0 representing A and 25 representing Z\n",
    "\n",
    "Then, we iterate i from 0 to the length of the message_list.\n",
    "\n",
    "Within this for loop, we find which position of the keyword we are currently at, by taking our iterator (i) modulo the length of our keyword. This is stored to key_pos\n",
    "\n",
    "$$ \\text{key_pos} = i mod \\text{len(key_list)}$$\n",
    "\n",
    "Then, we set the variable character to be the current character of the message which we are encrypting\n",
    "\n",
    "To preserve capitalisation, this character is checked to see whether it is uppercase or lowercase, and an appropriate offset is set. 65 for uppercase characters, and 97 for lowercase characters. \n",
    "\n",
    "Then, the character is offset, to come in line with the 0-25 range to represent each character of the alphabet.\n",
    "\n",
    "To encrypt the character, the following formula is used:\n",
    "\n",
    "$$(\\text{character_offset}+\\text{key_list[key_pos]})mod26 + \\text{offset}$$\n",
    "\n",
    "This adds the shift value, corresponding to the shifted alphabet via the keyword character, takes this modulo 26 to ensure it stays within the alphabetic range of 0 to 25, then adds the offset back to return the corresponding ASCII value\n",
    "\n",
    "This encrypted ASCII value is then transformed into its character, and appended to the encrypted_message list.\n",
    "\n",
    "The variable final_text is defined, joining all the encrypted characters into a single string. It is then written to the encrypted_text file.\n",
    "\n",
    "The keyword is then letter by letter, shifted to 65 such that it can be a capital ASCII value, and then it is transformed into its corresponding character. Each character is then joined together into a long string, and written to the vigenere_key text file. \n",
    "\n",
    "The files are then closed, and the user is given a message saying where their encrypted message and vigenere key have been written to. \n"
   ]
  },
  {
   "cell_type": "code",
   "execution_count": 93,
   "id": "7e603543",
   "metadata": {},
   "outputs": [],
   "source": [
    "#### VIGENERE CYPHER ####\n",
    "def vigenere_encrypt():\n",
    "    \n",
    "    file_name = find_file()\n",
    "    \n",
    "    input_text = open(file_name,\"r\") #opens the text file we want to read\n",
    "    message_list_unfiltered = list(input_text.read()) #reads the text file to the variable message\n",
    "    message_list = [x for x in message_list_unfiltered if x.isalpha()] #makes a list of only alphabetical characters\n",
    "    encrypted_text = open(\"encrypted_text.txt\",\"w\") #opens the encrypted text file to which we write the encryption\n",
    "    key_file = open(\"_vigenere_key.txt\",\"w\")\n",
    "   \n",
    "    \n",
    "    encrypted_message = []\n",
    "    key_length = random.randint(129,384) #generates a random length for our keyword\n",
    "    \n",
    "    key_list = [random.randint(0,25) for x in range(0,key_length)] #generates a list for our keyword in ASCII\n",
    "    \n",
    "    for i in range(0,len(message_list)):\n",
    "\n",
    "        key_pos =  i%len(key_list) #generates position of where we are in the key\n",
    "        \n",
    "\n",
    "        character = message_list[i] #sets character to message character for ease\n",
    "        if character.isupper(): #checks if y is uppercase in the alphabet\n",
    "            offset = 65 #sets ASCII offsets\n",
    "        else: offset = 97\n",
    "\n",
    "        character_offset = ord(character) - offset #offsets character to be within 0 and 25\n",
    "\n",
    "        character_encrypted = (character_offset+key_list[key_pos])%26 + offset #encrypts the character \n",
    "\n",
    "        encrypted_message.append(chr(character_encrypted)) #appends encrypted character to encrypted message\n",
    "       \n",
    "    final_text = \"\".join(encrypted_message)\n",
    "    encrypted_text.write(final_text) #writes the final encrypted message to the file\n",
    "    \n",
    "    key = \"\".join(chr(m+65) for m in key_list) #turns keylist into a string\n",
    "    key_file.write(key) #writes the key to the file\n",
    "    \n",
    "    \n",
    "    encrypted_text.close()\n",
    "    input_text.close() #closes the files\n",
    "    key_file.close()\n",
    "    \n",
    "    print(\"Encrypted text written to encrypted_text.txt, and vigenere key written to _vigenere_key.txt\")\n",
    "    \n",
    "    return      "
   ]
  },
  {
   "cell_type": "markdown",
   "id": "25d92185",
   "metadata": {},
   "source": [
    "## Vigenere Cypher Decryption<a name=\"dp2\"></a>\n",
    "\n",
    "The decryption process of the Vigenere Cypher is the inverse function of the encryption process. We do this with a function defined as vigenere_decrypt\n",
    "\n",
    "We initially ask the user which file they would like decrypted, using the find_file function again. This file is then opened and read to the variable cryptic.\n",
    "\n",
    "The vigenere_key file is then found, opened, and read to the variable key_list, where it is shifted down by 65 to be within the 0 to 25 range for our alphabet\n",
    "\n",
    "The file decrypted_text is then opened, to be written to. This is where our final decrypted message will be stored on completion of the function.\n",
    "\n",
    "The list decrypted_message is then defined, and it is to this which we will append each decrypted character.\n",
    "\n",
    "Again, the final message will only contain alphabetic characters, with capitalisation preserved.\n",
    "\n",
    "## Decryption Process:\n",
    "\n",
    "We first iterate from i to the length of the encrypted message, stored as cryptic. \n",
    "\n",
    "The current characer is set using the iterator and stored as character.\n",
    "\n",
    "Within this for loop, we find which position of the keyword we are currently at, by taking our iterator (i) modulo the length of our keyword. This is stored to key_pos\n",
    "\n",
    "$$ \\text{key_pos} = i mod \\text{len(key_list)}$$\n",
    "\n",
    "We then check if the character is uppercase or lowercase, and set an appropriate offset value. 65 for uppercase characters, and 97 for lowercase characters. \n",
    "\n",
    "The character is then offset using this. \n",
    "\n",
    "Then the character is decrypted via this formula:\n",
    "\n",
    "$$(\\text{character_offset}-\\text{key_list[key_pos]})mod26 + \\text{offset}$$\n",
    "\n",
    "This subtracts the shift value obtained via the shifted alphabet corresponding to the current letter in our keyword, then does modulo 26 to ensure we stay within our alphabet range of 0-25, and adds the offset. \n",
    "\n",
    "Then the decrypted ASCII value is turned into the corresponding alphabetic character, and appended to the decrypted_message list.\n",
    "\n",
    "The variable final_text is then defined, joining each element of the decrypted_message to a single long string.\n",
    "\n",
    "final_text is then written to the decrypted_message file.\n",
    "\n",
    "The files are then closed, and a message is sent to the user telling them where their decrypted message has been stored. \n"
   ]
  },
  {
   "cell_type": "code",
   "execution_count": 94,
   "id": "d2719ada",
   "metadata": {},
   "outputs": [],
   "source": [
    "def vigenere_decrypt():\n",
    "    \n",
    "    file_name = find_file()\n",
    "    \n",
    "    key_file = open(\"_vigenere_key.txt\",\"r\") #opens file with key in it to read\n",
    "    key = key_file.read() #reads the file to key\n",
    "    key_list = [ord(m) - 65 for m in key] #offsets all values of key to be between 0 and 25\n",
    "    \n",
    "    encrypted_text = open(file_name,\"r\") #opens encrypted text file to read\n",
    "    cryptic = encrypted_text.read() #reads the file to cryptic\n",
    "    \n",
    "    decrypted_text = open(\"decrypted_text.txt\",\"w\") #opens the decrypted text file to write to\n",
    "    decrypted_message = [] #creates decrypted message list\n",
    "  \n",
    "    for i in range(0,len(cryptic)): #iterates through the encrypted message\n",
    "        character = cryptic[i] #sets character to the current character\n",
    "        key_pos = i%len(key_list) #sets our position within the key \n",
    "        \n",
    "        if character.isupper(): #checks to see if the character is uppercase\n",
    "            offset = 65 #sets appropriate offset value\n",
    "        else:\n",
    "            offset = 97\n",
    "            \n",
    "        character_offset = ord(character)-offset #offsets character to be between 0 and 25\n",
    "        \n",
    "        character_decrypted = (character_offset-key_list[key_pos])%26 + offset\n",
    "        #decrypts the character using the keyword\n",
    "        \n",
    "        decrypted_message.append(chr(character_decrypted)) #appends character to decrypted message\n",
    "        \n",
    "    final_text = \"\".join(decrypted_message) #turns decrypted message into a string\n",
    "    decrypted_text.write(final_text) #writes this string to the decrypted text file\n",
    "    \n",
    "    decrypted_text.close() #closes the files\n",
    "    encrypted_text.close()\n",
    "    key_file.close()\n",
    "    print(\"Decrypted message written to decrypted_text.txt\")\n",
    "    return\n",
    "    "
   ]
  },
  {
   "cell_type": "markdown",
   "id": "d0f710a0",
   "metadata": {},
   "source": [
    "# Frequency Analysis<a name=\"fa\"></a>"
   ]
  },
  {
   "cell_type": "markdown",
   "id": "1d73bf9d",
   "metadata": {},
   "source": [
    "## Getting a large text sample<a name=\"lts\"></a>\n",
    "\n",
    "In order to perform frequency analysis, to break the Caesar Cypher, we first need to analyse a large piece of written english text, in order to count the appearances of each letter.\n",
    "\n",
    "Using the function url_to_text_utf8, we can extract text from the internet, and store it as a string. Below, we take the text from famous English novels, in order to analyse the characters.\n",
    "\n",
    "The books we have extracted from are: Alice's Adventures in Wonderland, The Great Gatsby, Dracula, Moby Dick and Frankenstein; Or, The Modern Prometheus. This amounts to 2238590 characters \n",
    "\n",
    "The function then returns a long string, composed of all of the texts combined. "
   ]
  },
  {
   "cell_type": "code",
   "execution_count": 95,
   "id": "71e0c256",
   "metadata": {},
   "outputs": [],
   "source": [
    "#### URL TEXT EXTRACTING ####\n",
    "def url_to_text_utf8(url):  #### Sourced code from the GitHub repo provided for this project\n",
    "    '''\n",
    "    Given a url for a text that is \n",
    "    'utf-8' encoded this function \n",
    "    returns that text.\n",
    "    '''\n",
    "    response = requests.get(url) #gets the URL of the text file\n",
    "    response.encoding = 'utf-8-sig' #encodes the text file\n",
    "    return response.text #returns the text file\n",
    "           \n",
    "def get_large_text():        \n",
    "    wonderland = url_to_text_utf8(\"https://gutenberg.org/cache/epub/11/pg11.txt\")[1490:148820]\n",
    "    gatsby = url_to_text_utf8(\"https://gutenberg.org/cache/epub/64317/pg64317.txt\")[1497:278020]\n",
    "    dracula = url_to_text_utf8(\"https://gutenberg.org/cache/epub/345/pg345.txt\")[3130:860610]\n",
    "    moby = url_to_text_utf8(\"https://gutenberg.org/cache/epub/2701/pg2701.txt\")[6000:1241690]\n",
    "    frankenstein = url_to_text_utf8(\"https://gutenberg.org/cache/epub/84/pg84.txt\")[1440:427680]\n",
    "    #creates large strings of texts from english books for analysis later\n",
    "\n",
    "    text = wonderland + gatsby + dracula + moby + frankenstein\n",
    "    return text\n",
    "\n",
    "    #text gives us over 2 million characters to analyse (not all may be alphabet though most all are)\n"
   ]
  },
  {
   "cell_type": "markdown",
   "id": "a6ce6b9b",
   "metadata": {},
   "source": [
    "## Finding Frequency<a name=\"ff\"></a> \n",
    "\n",
    "The frequency_finder function takes an input text, and returns an ordered list of the most frequent characters in descending order.\n",
    "\n",
    "It starts by initialising a dictionary, counts, of the uppercase alphabet ASCII values as keys, and setting the values of each key to zero.\n",
    "\n",
    "The text is then all made uppercase, such that it can be searched for in the dictionary.\n",
    "\n",
    "Then, iterating through all the characters in the text, it checks if the character is in the counts dictionary, i.e the character is an alphabet character, then using that character as the key, it increases the value by one. \n",
    "\n",
    "After all the characters are iterated through, the dictionary then contains all the letters in the alphabet, and their corresponding frequencies.\n",
    "\n",
    "Next, the dictionary is sorted by the values of the key, such that the most frequent letter becomes the first entry in the dictionary, and all other letters follow in descending value order. \n",
    "\n",
    "A list called frequency is then created, being the list of the ordered keys from the counts dictionary.\n",
    "\n",
    "The function then returns the list of the most frequent characters in descending order. "
   ]
  },
  {
   "cell_type": "code",
   "execution_count": 96,
   "id": "92d4f224",
   "metadata": {},
   "outputs": [],
   "source": [
    "def frequency_finder(text):\n",
    "    \n",
    "    counts = {chr(x):0 for x in range(65,91)} #creates a dictionary of all the letters in the alphabet with value 0\n",
    "    text = text.upper() #makes all text uppercase\n",
    "    for character in text: #iterates through all the elements of the string \"text\"\n",
    "        if character in counts: #checks if the element is an alphabet letter\n",
    "            counts[character]+=1 #ups the count by one for each letter\n",
    "    sorted_counts = dict(sorted(counts.items(), key=lambda item: item[1],reverse=True)) #sorts the dictionary by value\n",
    "    frequency = [x for x in sorted_counts] #creates an ordered list of the letters in decreasing frequency\n",
    "    return frequency"
   ]
  },
  {
   "cell_type": "markdown",
   "id": "8c337844",
   "metadata": {},
   "source": [
    "## Finding Letter Frequency of Large Text<a name=\"flt\"></a>\n",
    "\n",
    "Now we have a function which finds and returns the most frequent letters, we can use it with our large text file to find the most frequent letters in the english language, and their relavent probabilities of appearing. \n",
    "\n",
    "We start by setting text to get_large_text, which sets text to be our long string of English words from the novels.\n",
    "\n",
    "The counts list is initialised, the same as before where each ASCII value for capital letters it input into a dictionary and the value set to zero. \n",
    "\n",
    "The text is then set all to uppercase, and a total count is initialised to be set to 0.\n",
    "\n",
    "Iterating through all the characters, the count is upped by one to get a total count for the alphabetic characters\n",
    "\n",
    "Then the pct_points_counts is initialised, the same way as the counts dictionary. This dictionary is designed to store the percentage points for each letter's frequency, i.e the probability of appearing in the text. \n",
    "\n",
    "The uppercase ASCII keys are iterated through, and the values from the counts dictionary are divided by the total count, and the final result is a dictionary with each letter as a key and the corresponding percentage point.\n",
    "\n",
    "Then a bar chart is created, to show the frequencies of each letter, for visual aid.\n",
    "\n",
    "The descending_frequent_letters text file is opened, and the letters in descending order of frequencies are written to it. \n",
    "\n",
    "This sets us up for frequency analysis, as we have the letters of the English language, in order of how often they appear in text. "
   ]
  },
  {
   "cell_type": "code",
   "execution_count": 97,
   "id": "934be540",
   "metadata": {},
   "outputs": [
    {
     "name": "stdout",
     "output_type": "stream",
     "text": [
      "{'A': 0.0813382530968154, 'B': 0.015772428180238454, 'C': 0.02307211235643865, 'D': 0.04378202350586753, 'E': 0.12486207836182597, 'F': 0.022079076561585642, 'G': 0.020784064969467386, 'H': 0.06501369165412156, 'I': 0.06853376455715428, 'J': 0.00125078732595071, 'K': 0.00849105910416825, 'L': 0.04209882113294529, 'M': 0.026337113986929273, 'N': 0.06876203324414029, 'O': 0.0749226075342068, 'P': 0.01639692842369527, 'Q': 0.0012807168798216735, 'R': 0.05524995644579847, 'S': 0.06410999781112219, 'T': 0.09143076668795984, 'U': 0.028544753617232275, 'V': 0.00937018391040789, 'W': 0.024949633474642522, 'X': 0.0013084128848962963, 'Y': 0.019657016246833945, 'Z': 0.0006017180457341452}\n"
     ]
    },
    {
     "data": {
      "image/png": "[encoded data removed]",
      "text/plain": [
       "<Figure size 640x480 with 1 Axes>"
      ]
     },
     "metadata": {},
     "output_type": "display_data"
    }
   ],
   "source": [
    "#### GET FREQUENCY OF LETTERS IN ENGLISH LANGUAGE, WRITE TO FILE IN DESCENDING ORDER ####\n",
    "text = get_large_text()\n",
    "counts = {chr(x):0 for x in range(65,91)}\n",
    "text = text.upper()\n",
    "total_count = 0\n",
    "for character in text:\n",
    "    if character in counts:\n",
    "        counts[character]+=1\n",
    "        total_count +=1\n",
    "\n",
    "pct_points_counts = {chr(x):0 for x in range(65,91)}\n",
    "for key in counts:\n",
    "    pct_points_counts[key] = counts[key]/total_count\n",
    "print(pct_points_counts)\n",
    "\n",
    "letters = list(counts.keys())\n",
    "appearances = list(counts.values())\n",
    "plt.bar(range(len(counts)),appearances,tick_label=letters)\n",
    "\n",
    "plt.show() #shows graph of letter frequencies \n",
    "\n",
    "descending_frequencies = open(\"decsending_frequent_letters.txt\",\"w\")\n",
    "sorted_counts = dict(sorted(counts.items(), key=lambda item: item[1],reverse=True)) #sorts the dictionary by value\n",
    "frequency = [x for x in sorted_counts] #creates an ordered list of the letters in decreasing frequency\n",
    "descending_frequencies.write(\"\".join(frequency))\n",
    "descending_frequencies.close() #writes the most frequent letters in descending order to the file\n",
    "\n"
   ]
  },
  {
   "cell_type": "markdown",
   "id": "55befc4e",
   "metadata": {},
   "source": [
    "## Breaking The Caesar Cypher<a name=\"bcc\"></a>\n",
    "\n",
    "To break the Caesar Cypher, we use frequency analysis to determine the most frequent letter in the encrypted message, and cross reference this with the list of most frequent characters in the english language. Then using that, iterate through each most frequent letter, starting with the most common \"E\" and use that as a reference for our shift value. Continue until the message looks like plaintext, and the message is decrypted, and the Cypher is broken. \n",
    "\n",
    "With a large enough message size, this function should always work on the first attempt, as \"E\" will be the most frequent letter in almost every large text file. However, this may not always be the case, hence we do iterate through each most common letter until plaintext is received. \n",
    "\n",
    "We start as usual, by prompting the user asking for which file they would like to be decrypted, using the find_file function. This is then opened and read to the variable cryptic.\n",
    "\n",
    "The decrypted_text file is then opened to be written to.\n",
    "\n",
    "The descending_frequent_letters file is opened, read, and turned into a list and stored in frequency_list. This is the list of frequent letters generated by the large text from novels.\n",
    "\n",
    "\n",
    "## Breaking Process:<a name=\"bp\"></a>\n",
    "\n",
    "We start by finding the letter which appears most frequently in the encrypted text. This is done using the frequency_finder function, and that letter is stored to message_most_frequent. \n",
    "\n",
    "Then, we set correctness to False. This is to allow the function to continue running until the encrypted message hasbeen decrypted correctly, and plaintext is visible. \n",
    "\n",
    "Using a while loop, while correctness is false, we essentially perform Caesar Decryption.\n",
    "\n",
    "Iterating through the letters in the most frequent letters list, frequency_list, we start Caesar Decryption.\n",
    "\n",
    "The decrypted_message list is defined, to append our decrypted letters to. \n",
    "\n",
    "The shift value is then calculated, by taking the ASCII value of the most frequent letter in the message, and subtracting the ASCII value of the current letter in the frequency list indexed by i, our iterator. \n",
    "\n",
    "Then, iterating through each character in cryptic, we first check if the character is alphabetic.\n",
    "\n",
    "If so, it is then checked whether or not it is uppercase or lowercase, and an appropriate offset value is set. 65 for uppercase, and 97 for lowercase.\n",
    "\n",
    "The ASCII value of the character is then offset, to set it to be within the range of 0 to 25, for ease of calculation, and stored to the variable character_offset.\n",
    "\n",
    "The decryption then happens via this formula:\n",
    "\n",
    "$$(\\text{character_offset} - \\text{shift_value}) mod26 + \\text{offset}$$\n",
    "\n",
    "This is then appended to the decrypted_message list.\n",
    "\n",
    "Once all of the characters have been iterated through, the decrypted_message list is joined together as a string, and printed.\n",
    "\n",
    "The user is then prompted and asked whether the message looks like plaintext or not.\n",
    "\n",
    "If so, correctness is set to false, and we break out of the for loop. This ends the while loop and the decrypted message is written to the decrypted_text file, and the user is shown a message confirming this.\n",
    "\n",
    "If the message does not look like plaintext, the loop continues, using the next most frequent letter. \n",
    "\n",
    "After plaintext is found, the files are closed. \n",
    "\n",
    "\n",
    "\n"
   ]
  },
  {
   "cell_type": "code",
   "execution_count": 98,
   "id": "45e67879",
   "metadata": {},
   "outputs": [],
   "source": [
    "##### CAESAR CYPHER BREAK VIA FREQUENCY ANALYSIS ####\n",
    "\n",
    "def caesar_frequency_break():\n",
    "    \n",
    "    #DONT NEED TO RUN FREQUENCY ANALYSIS EVERY TIME, WRITE TO TEXT FILE\n",
    "    file_name = find_file()\n",
    "    \n",
    "    encrypted_text = open(file_name,\"r\") #opens the encrypted text file to read\n",
    "    cryptic = encrypted_text.read() #sets cryptic to the string value of all the text in encrypted_text.txt\n",
    "    \n",
    "    decrypted_text = open(\"decrypted_text.txt\",\"w\") #opens the decrypted text file to write to  \n",
    "    \n",
    "    frequent_letters = open(\"decsending_frequent_letters.txt\",\"r\")    \n",
    "    frequency_list = list(frequent_letters.read()) #gets the list of the most frequent letters in descending order\n",
    "    \n",
    "      \n",
    "    message_most_frequent = frequency_finder(cryptic)[0] #finds the most frequent letter in the encrypted message\n",
    "    \n",
    "    correctness = False \n",
    "    while correctness == False: #iterates until plaintext is found\n",
    "        for i in range(0,len(frequency_list)):\n",
    "            decrypted_message = []\n",
    "            \n",
    "            shift_value = ord(message_most_frequent) - ord(frequency_list[i]) \n",
    "            #finds the shift value with corresponding letter of frequency list \n",
    "            \n",
    "            for character in cryptic: #iterates each character in the cryptic text\n",
    "                if character.isalpha(): #checks if character is in alphabet\n",
    "\n",
    "                    if character.isupper(): #checks if character is uppercase\n",
    "                        offset = 65 #sets appropriate offset\n",
    "                    else:\n",
    "                        offset = 97\n",
    "\n",
    "                    character_offset = ord(character)-offset #offsets character to be between 0 and 25\n",
    "\n",
    "                    decrypted_message.append(chr((character_offset-shift_value)%26+offset))\n",
    "                    #appends decrypted character to decrypted message list\n",
    "            print(\"\".join(decrypted_message))\n",
    "            print(\"\")\n",
    "            x = input(\"Does this look like plaintext? Press enter if so, type anything else if not: \")\n",
    "            if x == \"\":\n",
    "                correctness = True\n",
    "                print(\"\")\n",
    "                print(\"Plaintext written to decrypted_text.txt\")\n",
    "                break\n",
    "            else:\n",
    "                continue\n",
    "    decrypted_text.write(\"\".join(decrypted_message)) #writes the plaintext to decrypted_text\n",
    "    decrypted_text.close()\n",
    "    encrypted_text.close()\n",
    "    frequent_letters.close() #closes the files\n",
    "    return\n",
    "    \n",
    "    "
   ]
  },
  {
   "cell_type": "markdown",
   "id": "06c6743a",
   "metadata": {},
   "source": [
    "# RSA<a name=\"rsa\"></a>\n",
    "\n",
    "## Turning vigenere key into a Tuple<a name=\"vkt\"></a>\n",
    "Before we can encrypt using RSA, first we turn the vigenere key into a tuple, because of the way the RSA encryption works, so it runs in a suitable length of time. To do this, we design a function 'key_to_tuple', defined below. \n",
    "First we define a variable key with the vigenere key by opening the key file and reading it, to assing it to a variable we can use.\n",
    "Then, we use the quotient of the key when dividing by 64 to find how many sections we need to divide the key into, as 64 is the maximum length we can encrypt at a time. This is because we use 1024 bit encryption, which means we can use 1024/8 numbers at a time, which is 128. Since each letter has a 2-digit ASCII value, we can only use 64 letters at a time. \n",
    "After this, we iterate through the segments, and for every charachter in the segment, ie. inbetween 64*i and 64*(i+1), if the character is the last element of the key, the function breaks, so we dont get a list index out of range error. Then we add the ASCII value to a list.\n",
    "Next, we turn the list into a long integer, then add it to the rest of the key.\n",
    "This is returned as a tuple, so it can be inputed into the RSA encryption function."
   ]
  },
  {
   "cell_type": "code",
   "execution_count": 99,
   "id": "549cd64c",
   "metadata": {},
   "outputs": [
    {
     "data": {
      "text/plain": [
       "(90718177857178827772676988768580846686748676707870846872877770757680738671766877837669898374697377787073808569898069797584738273,\n",
       " 86768090767584828072668781897372906969658869796566876765758390738887796969708571807182877184886874817175847265748190717385828583,\n",
       " 84667180747888866678668489698885807583908478837766887189906683817572698676907082687665896869748990728577887275757671678080848970,\n",
       " 79707890679077748585868273808883717667677986707189817082776590718572878779856873888076736879716788907067696981748088767983718267,\n",
       " 6574728580698379)"
      ]
     },
     "execution_count": 99,
     "metadata": {},
     "output_type": "execute_result"
    }
   ],
   "source": [
    "#### TURN VIGENERE KEY INTO NUMBERS ####\n",
    " ## SPLIT KEY FIRST, RETURN TUPLE OF SPLIT KEY\n",
    "def key_to_tuple():\n",
    "    key_file = open(\"_vigenere_key.txt\",\"r\") #opens the vigenere key file\n",
    "    key = key_file.read() #reads the vigenere key to key\n",
    "\n",
    "    num_of_splits = len(key)//64 #gets the quotient of the key length when dividing by 64 to find out our splits\n",
    "    split_key = []\n",
    "    for i in range(0,num_of_splits+1): #iterates through splits\n",
    "        key_num_list = [] #creates a list for our number key\n",
    "        for character in range(64*i,64*(i+1)): #iterates through all characters of that split\n",
    "            if character == len(key): #makes sure not to go out of the range of the string\n",
    "                break\n",
    "            key_num_list.append(str(ord(key[character])))#appends the string value of the ASCII value of the character\n",
    "\n",
    "        key_num_str = \"\".join(key_num_list) #turns the list into a long string\n",
    "        key_num = int(key_num_str) #turns the string into an integer\n",
    "        split_key.append(key_num)#applies the split key to the big list\n",
    "  \n",
    "    return tuple(split_key)\n",
    "\n",
    "key_to_tuple()\n",
    "# EVERY 2 DIGITS REPRESENTS ONE OF THE LETTERS OF OUR KEY"
   ]
  },
  {
   "cell_type": "markdown",
   "id": "fbb1244d",
   "metadata": {},
   "source": [
    "## How RSA Works<a name=\"rsak\"></a>\n",
    "We will use the RSA protocol to further incrypt the vigenere and N-gram keys. \n",
    "The function works by first generating a public key, which is done by the reciever of the encrypted code. This takes the form $(N,e)$ for a large integer $N$ and smaller integer $e$.\n",
    "To send our tuple through the function, with each part represented by an integer $m$, the system is that we should calculate $m^e \\bmod N$ and send that instead.\n",
    "If this is intecepted, an adversary has the problem of finding\n",
    "$m$ from the values of $m^e \\bmod N$, $N$ and $e$. This is very difficult. However, the key $(N,e)$ has some secret information that can be used to find $m$ much more quickly. \n",
    "\n",
    "### The RSA key generator\n",
    "The first step is set up a key that can be used by other people to send messages to you.\n",
    "1. Find two large prime numbers $p$ and $q$, using the functions given previously.\n",
    "2. Let $N=pq$ and find $\\phi(N)$. Since $\\phi$ is a multiplicative function this is easy, because $\\phi(N) = (p-1)(q-1)$.\n",
    "3. Choose a number $e$ such that $\\gcd(e,\\phi(N)) = 1$.\n",
    "4. Find $d$, the modular inverse of $e$ modulo $\\phi(N)$. This is an integer where $ed \\equiv 1 \\bmod \\phi(N)$.\n",
    "5. Publish `(N,e)`,this is the public key.\n",
    "6. Do not publish `((p,q),phi,d)` as this is your private key. \n",
    "\n",
    "### Encryption.<a name=\"re\"></a>\n",
    "\n",
    "Let the message sent be an integer smaller than $N$, denoted $m$. The sender should send $m^e \\bmod N$, which is a number between $0$ and $N$.\n",
    "\n",
    "### Decryption.<a name=\"rd\"></a>\n",
    "\n",
    "Once this ciphertext is recieved, the reciever can find $(m^e)^d \\bmod N$. Since $d$ is the modular inverse of $e$, $ed = k \\phi(N)+1$ for some $k$ and so the Euler-Fermat theorem implies $$(m^e)^d = m^{ed} = m^{k \\phi(N)+1} = m((m^{\\phi(N)} )^k) \\equiv m (1)^k \\equiv m \\bmod N.$$\n",
    "\n",
    "Since $m$ was less than $N$, this recovers the original message.\n",
    "\n",
    "This information was gathered from the lecture notes."
   ]
  },
  {
   "cell_type": "code",
   "execution_count": 100,
   "id": "8651a965",
   "metadata": {},
   "outputs": [],
   "source": [
    "def RSA_key_generator(bitlength=1024): #can take 128 numbers with Bitlength of 1024\n",
    "    \"\"\"This will generate RSA keys. This is a version of the private key.\n",
    "    The output is ((PublicKey), PrivateExp, Factorisation).\n",
    "    The PublicKey can be published, PrivateExp is needed to decrypt.\n",
    "    Factorisation is not needed, but must be kept secret.\"\"\"\n",
    "    ## Generate two large primes.\n",
    "    p = cryptography_functions.random_prime(bitlength)\n",
    "    q = cryptography_functions.random_prime(bitlength)\n",
    "    N = p*q\n",
    "    \n",
    "    ## Next, get phi and use it to get a public and private exponent.\n",
    "    phi = (p-1)*(q-1)\n",
    "    ## Choose encryption exponent e randomly between 1 and p and q.\n",
    "    e = random.randint(1,min(p,q))\n",
    "    ## It must be coprime to phi though. We use rejection sampling again:    \n",
    "    while cryptography_functions.gcd(e,phi) > 1:\n",
    "        e = random.randint(1,min(p,q))\n",
    "    \n",
    "    ## Finally, get d using 'pow'\n",
    "    ## (the extended Euclid's algorithm could do this too).\n",
    "    d = pow(e,-1,phi)\n",
    "    \n",
    "    ## Then return the keys.\n",
    "    return ((N,e),d%phi,{p:1,q:1})"
   ]
  },
  {
   "cell_type": "code",
   "execution_count": 101,
   "id": "4e9d9e2c",
   "metadata": {},
   "outputs": [
    {
     "name": "stdout",
     "output_type": "stream",
     "text": [
      "(1580350799434085813506973929847275893967432680479451203750017790827917096939581740079790067169152293052806618202980346930824159382797327871682111101163311101573751102160039063395040100514910934572685927428024074778919242109778507047188662318573647879328651401868599820890085604894030825769531574393884007895238422177248054322217579851260491095666961047595901265513488312415503426797007515159624191491555449357363661977576465371241559263341722567461320998996848967625749601605942661893856916214944752044460143139846775723071577304937905384138173957541004632520276006399401857322901686180243482565198859326192969984423, 3415773213180185941948673115646337806920323874258706969377144804376935286962380258727315361199631109664889153427014208370678561151908507246300952325603286662599520691955475713212899636518346425575325281936596862287236862424446504889861383438253408072698631513981632657829183380562787657501415924196929231999450162074925465026898897633839162037680651039815639485912961226779601075955253575442199508321636051480035406538797504892453929936385645732077143390562889449892450675152505989691398801071501092111964011432511104939702860205426055940841341900805595325414059409389762408505513765626666638004641454800958155734705, 11098204460011939521857938684654780049938064425004920013059853403829606310722049194046973559667183133299387509586047914135801298364010490321022953344930699993168944310158949382643749546849098888155527748592229602761096692776771096230692087543382633071241111470395334838941877841541198952471588767898449170877217528568108358254696123430321207753576954657977623053373838124546591840129660108422598561910750993495744333996765883166153946348082618776793231190193191456178862286014618390853914859194877388956190019170612320698632845666220104945035052508498169879221763694166597526030180385154339464091148824877340213916633, 12399409079193478655442735877194590140528037721578695402190413390832281737045842959227269099563294341684711069532550241714498642096904800055556731417533452055042892678692251750895549133933883984998721750698906534481990910066619658492631248781332890706020773238309938449800829054020114512943333951540289954816325485304715441591723234063728615616056516862110426508718371960902797462085498830972306285957759764267733768797616799528629136469126867121665018035354200700806278325229494550989888609066404727738736710674097996664430116799227772133501702157987179760070780522165509810823285260663749161643328549166460938394834, 8577723292825660504483719413162050496156005310014308750963016597895716681901521850667732762511187498381559430615724705592101007732739738463605714534562342099083250373426561824777918596508815239168619087478726292954415593653540562282468789546145130245660761514217293226847894738846654644921338483903866879841239045698795299231291038927354047549794645538972601799694817820900833659664395795352564239174403409578080786507451985976569090289591935132909057738393093294564341647537728745881263476177743642225762652167476048248774168111619080226046969933298949233537148293611779737476776033775772543099438468287539719030830)\n"
     ]
    }
   ],
   "source": [
    "def RSA_encrypt(N,e):\n",
    "    encrypted_key_list=[]\n",
    "    vigi_key_list = list(key_to_tuple())\n",
    "    for element in vigi_key_list:\n",
    "        i=pow(element,e,N)\n",
    "        encrypted_key_list.append(i)\n",
    "    \"\"\"Encrypt an integer 'message' using RSA with public key (N,e).\"\"\"\n",
    "    return tuple(encrypted_key_list)\n",
    "\n",
    "public_key,d,factors = RSA_key_generator()\n",
    "\n",
    "cipher = RSA_encrypt(public_key[0],public_key[1])\n",
    "print(cipher)"
   ]
  },
  {
   "cell_type": "code",
   "execution_count": 102,
   "id": "b74a9224",
   "metadata": {},
   "outputs": [
    {
     "name": "stdout",
     "output_type": "stream",
     "text": [
      "907181778571788277726769887685808466867486767078708468728777707576807386717668778376698983746973777870738085698980697975847382738676809076758482807266878189737290696965886979656687676575839073888779696970857180718287718488687481717584726574819071738582858384667180747888866678668489698885807583908478837766887189906683817572698676907082687665896869748990728577887275757671678080848970797078906790777485858682738088837176676779867071898170827765907185728787798568738880767368797167889070676969817480887679837182676574728580698379\n"
     ]
    }
   ],
   "source": [
    "def RSA_decrypt(encrypted_key,N,d):\n",
    "    complete_key=[]\n",
    "    decryption_list=list(encrypted_key)\n",
    "    for element in decryption_list:\n",
    "        j=pow(element,d,N)\n",
    "        complete_key.append(str(j))\n",
    "    \"\"\"Decrypt an integer message using RSA with public key (N,e) and private key (d, fact).\"\"\"\n",
    "    return \"\".join(complete_key)\n",
    "\n",
    "received_int = RSA_decrypt(cipher,public_key[0],d)\n",
    "\n",
    "print(received_int)"
   ]
  },
  {
   "cell_type": "markdown",
   "id": "ed820717",
   "metadata": {},
   "source": [
    "# A Hybrid system<a name=\"ahs\"></a>\n",
    "\n",
    "In order to make our encryption safer, adn harder to crack, we will implement another layer of encryption to the Vigenère cipher, to prevent a potential hacker from using frequency analysis to break our code.\n",
    "\n",
    "\n",
    "## Disguising the frequency for each letter<a name=\"df\"></a>\n",
    "\n",
    "In this section we will make our message harder to crack by adding another layer to Vigenère encryption. We design a dictionary of two-grams (e.g. 'po') of distinct letters, and assign each letter some of these two-grams.\n",
    "\n",
    "In doing this, we can reverse the frequency analysis by giving the most common letters more two-grams, and assigning the least common, fewer.\n",
    "\n",
    "We generate a Vigenère key as before, using the vigenere_encrypt function. Then, this key and the dictionary of two-grams are RSA encrypted and sent in our public key, which Bob sends Alice.\n",
    "\n",
    "We then encrypt our chosen message for Bob to send. We encrypt this using the two-grams, and then Vigenère encrypt that. This is sent to Alice as the ecnrypted message, which she can use the public key to decipher.\n",
    "\n",
    "#### First, we will do Bob's job:\n",
    "\n",
    "   - Create the public key: The Vigenère Cipher and the dictonary of 2-grams.\n",
    "   - Encrypt the message with 2-grams, and then using the Vigenère Cipher, and send the message.\n",
    "     \n",
    "\n",
    "#### We start by creating a dictionary of 2-grams for each letter."
   ]
  },
  {
   "cell_type": "code",
   "execution_count": 103,
   "id": "e17b6182",
   "metadata": {},
   "outputs": [
    {
     "name": "stdout",
     "output_type": "stream",
     "text": [
      "{'a': ['rl', 'fw', 'an', 'nl', 'xm', 'ko', 'lg', 'dx', 'ba', 'de', 'ke', 'bj', 'jb', 'sw', 'nk', 'dg', 'ns', 'wz', 'cx', 'nz', 'nx', 'of', 'zt', 'kg', 'wh', 'ye', 'df', 'ck', 'yt', 'ah', 'hx', 'gz', 'ma', 'gh', 'jg', 'bp', 'bk', 'sb', 'xw', 'dc', 'mz', 'kf', 'ln', 'ig', 'zl', 'ae', 'pe', 'yk', 'uk', 'rv', 'xy', 'rt'], 'b': ['py', 'if', 'kr', 'rj', 'io', 'ri', 'vy', 'yu', 'cn', 'nd'], 'c': ['cb', 'kx', 'jt', 'ai', 'zp', 'xg', 'gc', 'ou', 'gv', 'ox', 'be', 'vx', 'jq', 'wl', 'tz'], 'd': ['gd', 'jk', 'vd', 'bu', 'bz', 'dp', 'pn', 'ag', 'zh', 'er', 'hb', 'sk', 'pj', 'fv', 'lh', 'ok', 'jr', 'hk', 'ab', 'in', 'gu', 'ht', 'xs', 'wo', 'jx', 'ay', 'aw', 'lu'], 'e': ['hj', 'tk', 'dr', 'hn', 'ej', 'jv', 'st', 'mh', 'pb', 'cf', 'pt', 'og', 'tu', 'hp', 'xp', 'vz', 'sn', 'fd', 'jm', 'ub', 'su', 'ip', 'dt', 'tl', 'lx', 'cu', 'tb', 'kj', 'fu', 'mt', 'us', 'fq', 'ov', 'mu', 'vj', 'xq', 'wy', 'qk', 'hg', 'yr', 'gm', 'hv', 'dq', 'da', 'fe', 'dv', 'nh', 'cv', 'mr', 'yc', 'vu', 'ot', 'jw', 'bx', 'mo', 'vl', 'by', 'kw', 'nf', 'zq', 'vh', 'eb', 'li', 'vg', 'fn', 'rn', 'kl', 'za', 'ak', 'kn', 'vq', 'sq', 'uz', 'do', 'kp', 'yq', 'we', 'bq', 'lj', 'zg'], 'f': ['mw', 'ud', 'et', 'cg', 'pz', 'dj', 'bl', 've', 'rs', 'fl', 'te', 'lb', 'si', 'hr'], 'g': ['ym', 'mi', 'vs', 'yn', 'pq', 'ey', 'gl', 'ty', 'sx', 'vc', 'lv', 'xe', 'mg', 'oy'], 'h': ['fc', 'rz', 'rw', 'ux', 'ep', 'wt', 'xd', 'gy', 'md', 'ly', 'wm', 'ie', 'pf', 'cs', 'ze', 'mx', 'mq', 'uf', 'qr', 'ac', 'sf', 'jh', 'tf', 'gt', 'gr', 'ni', 'mn', 'oi', 'cd', 'pg', 'mv', 'mb', 'fr', 'ha', 'eo', 'qc', 'eu', 'uy', 'hs', 'eg', 'pa', 'rb'], 'i': ['el', 'lz', 'qp', 'ta', 'sl', 'bt', 'jc', 'fz', 'gw', 'xo', 'oc', 'eh', 'yh', 'gk', 'tn', 'iy', 'qg', 'qw', 'va', 'uq', 'wi', 'fk', 'qv', 'zv', 'bo', 'iw', 'fy', 'ks', 'kt', 'xn', 'xa', 'ur', 'em', 'lf', 'hu', 'rx', 'np', 'ys', 'qx', 'ij', 'hq', 'hc', 'sg', 'yd', 'fg'], 'j': ['dh'], 'k': ['od', 'ya', 'se', 'hw', 'hy', 'cz'], 'l': ['hf', 'lt', 'zd', 'la', 'xk', 'im', 'oj', 'qa', 'jz', 'me', 'rc', 'am', 'or', 'qo', 'vp', 'jy', 'ul', 'jp', 'ob', 'mj', 'mp', 'pm', 'au', 'dy', 'qb', 'qd', 'yx'], 'm': ['bs', 'wc', 'rf', 'fo', 'px', 'um', 'gx', 'fs', 'lc', 'pd', 'nv', 'wj', 'op', 'qi', 'rk', 'js', 'ef'], 'n': ['dk', 'nr', 'sv', 'nq', 'xf', 'zm', 'nt', 'ow', 'ka', 'qt', 'qy', 'dm', 'tg', 'gs', 'ix', 'vo', 'ct', 'dw', 'so', 'up', 'ol', 'wf', 'hi', 'wx', 'tw', 'wk', 'gi', 'ny', 'eq', 'co', 'vb', 'ut', 'ik', 'jl', 'rm', 'bi', 'oh', 'gb', 'je', 'lq', 'qu', 'fp', 'yv', 'kb', 'qe'], 'o': ['ls', 'lk', 'sh', 'pl', 'bn', 'ia', 'xc', 'wa', 'zo', 'qj', 'lr', 'zf', 'zi', 'ug', 'ho', 'ch', 'qz', 'sc', 'zx', 'uo', 'xz', 'pr', 'un', 'zj', 'ic', 'il', 'fx', 'dl', 'al', 'vf', 'ji', 'lp', 'ng', 'sd', 'zy', 'sy', 'ro', 'en', 'xv', 'nu', 'aj', 'yl', 'iq', 'fj', 'ts', 'gq', 'dn', 'cq', 'no'], 'p': ['uv', 'ms', 'ir', 'jn', 'km', 'cp', 'zn', 'at', 'ci', 'ne', 'fh'], 'q': ['po'], 'r': ['ew', 'nw', 'wp', 'xl', 'ps', 'ra', 'nb', 'qm', 'ao', 'iz', 'oq', 'fb', 'tx', 'na', 'it', 'pk', 'iu', 'av', 'qs', 'ez', 'ap', 'zk', 'kd', 'vk', 'zu', 'bm', 'nm', 'bv', 'rg', 'ql', 'gj', 'sj', 'pi', 'le', 'ad', 'vt'], 's': ['th', 'sz', 'zw', 'br', 'wb', 'xu', 'ce', 'yg', 'kz', 'ui', 'hl', 'cl', 'ki', 'kv', 'xj', 'fm', 'tm', 'wr', 'ju', 'wv', 'ca', 'pw', 'uj', 'oz', 'tr', 'xt', 'qn', 'pv', 'ds', 'lw', 'cy', 'bg', 'ax', 'go', 'yp', 'ea', 'ry', 'mf', 'cj', 'mk', 'tc', 'yw'], 't': ['xh', 'wq', 'nc', 'vi', 'du', 'wd', 'jd', 'vw', 'vm', 'fi', 'on', 'is', 'ru', 'ti', 'ft', 'es', 'ga', 'di', 'ei', 'tj', 'xb', 'fa', 'id', 'bw', 'sa', 'ed', 'bd', 'lm', 'uc', 'kc', 'wn', 'ev', 'to', 'jf', 'om', 'az', 'wg', 'zr', 'cw', 'gn', 'ue', 'af', 'sp', 'yj', 'hz', 'yo', 'tp', 'ky', 'ku', 'pu', 'qh', 'kh', 'rq', 'bh', 're', 'he', 'nj', 'oa'], 'u': ['iv', 'ge', 'xi', 'mc', 'hd', 'bf', 'ph', 'gf', 'dz', 'ua', 'vr', 'cr', 'ws', 'uw', 'ih', 'ml', 'ar', 'jo', 'yi'], 'v': ['ex', 'os', 'zc', 'yf', 'zs', 'db'], 'w': ['lo', 'yz', 'as', 'sr', 'kq', 'rh', 'wu', 'ib', 'bc', 'xr', 'pc', 'tv', 'my', 'gp', 'cm', 'tq'], 'x': ['ja'], 'y': ['vn', 'ek', 'ec', 'td', 'rp', 'yb', 'rd', 'sm', 'hm', 'ld', 'zb', 'uh', 'aq'], 'z': ['qf']}\n"
     ]
    }
   ],
   "source": [
    "from random import randint\n",
    "from random import sample\n",
    "import string\n",
    "from itertools import permutations\n",
    "\n",
    "\n",
    "# create a dictionary of all bigrams:\n",
    "\n",
    "#first define our alphabet and frequencies\n",
    "ALPH_1 = string.ascii_lowercase\n",
    "# this is the frequencies from earlier in the project for each letter\n",
    "fr = {'a': 0.0813382530968154, 'b': 0.015772428180238454, 'c': 0.02307211235643865, 'd': 0.04378202350586753, 'e': 0.12486207836182597, 'f': 0.022079076561585642, 'g': 0.020784064969467386, 'h': 0.06501369165412156, 'i': 0.06853376455715428, 'j': 0.00125078732595071, 'k': 0.00849105910416825, 'l': 0.04209882113294529, 'm': 0.026337113986929273, 'n': 0.06876203324414029, 'o': 0.0749226075342068, 'p': 0.01639692842369527, 'q': 0.0012807168798216735, 'r': 0.05524995644579847, 's': 0.06410999781112219, 't': 0.09143076668795984, 'u': 0.028544753617232275, 'v': 0.00937018391040789, 'w': 0.024949633474642522, 'x': 0.0013084128848962963, 'y': 0.019657016246833945, 'z': 0.0006017180457341452}\n",
    "\n",
    "encode_dict = dict()\n",
    "def bigrams(fr):\n",
    "    global encode_dict\n",
    "    all_bigrams = [\"\".join(pair) for pair in permutations(ALPH_1, 2)]\n",
    "    for key in fr:\n",
    "        freq = fr[key]\n",
    "        bi_quantity = round(650*freq) # assign each letter the amount of bigrams proportionate to its probability of occuring\n",
    "        if bi_quantity == 0:\n",
    "            bi_quantity = 1 # if the frequency is so low that its quantity rounds down to zero, we replace it with 1\n",
    "        if bi_quantity > 50:\n",
    "            bi_quantity -= 1 # to fix our now too large number of bigrams, we shrink the greatest numbers by 1\n",
    "      \n",
    "        storage = sample(all_bigrams, bi_quantity) # store the bigrams in a list\n",
    "        \n",
    "        all_bigrams = [bigram for bigram in all_bigrams if bigram not in storage] # allows us to look over bigrams that have already been selected\n",
    "        encode_dict[key]=storage # encode the dictionary with each letter's list\n",
    "       \n",
    "    return encode_dict\n",
    "\n",
    "print (bigrams(fr)) # print this to see our dictionary of associated bigrams"
   ]
  },
  {
   "cell_type": "markdown",
   "id": "d3a2ee8b",
   "metadata": {},
   "source": [
    "## Creating the public key<a name=\"cpk\"></a>\n",
    "\n",
    "### Now we have our dictionary, we need to construct our public key. We concatenate the Vigenère Cipher and these 2-grams.\n",
    "\n",
    "We include a space before each string of 2-grams because we want Alice to be able to know where each 2-gram list begins.\n",
    "\n",
    "We then split it up into strings of length respective to the bit-primes we have, as we want it to be less than p and q (as p*q = N). The string gets split up in the function chopped_up."
   ]
  },
  {
   "cell_type": "code",
   "execution_count": 104,
   "id": "92dcc028",
   "metadata": {},
   "outputs": [
    {
     "name": "stdout",
     "output_type": "stream",
     "text": [
      "ZGQMUGNRMHCEXLUPTBVJVLFNFTDHWMFKLPIVGLDMSLEYSJEIMNFIPUEYPEOKTIRIVLPZLKTRPHBWQYIHZEEAXEOABWCAKSZIXWOEEFUGPGRWGTXDJQGKTHAJQZGIURUSTBGPJNXVBNBTYEXUPKSZTNSMBXGYZBSQKHEVLZFRDLAYDEJYZHUMXHKKLGCPPTYFOFNZCZMJUUVRIPXSGLCCOVFGYQFRMAZGUHWWOUDIXPLIDOGCXZFCEEQJPXLOSGRCAJHUPESO rlfwannlxmkolgdxbadekebjjbswnkdgnswzcxnznxofztkgwhyedfckytahhxgzmaghjgbpbksbxwdcmzkflnigzlaepeykukrvxyrt pyifkrrjiorivyyucnnd cbkxjtaizpxggcougvoxbevxjqwltz gdjkvdbubzdppnagzherhbskpjfvlhokjrhkabinguhtxswojxayawlu hjtkdrhnejjvstmhpbcfptogtuhpxpvzsnfdjmubsuipdttllxcutbkjfumtusfqovmuvjxqwyqkhgyrgmhvdqdafedvnhcvmrycvuotjwbxmovlbykwnfzqvheblivgfnrnklzaakknvqsquzdokpyqwebqljzg mwudetcgpzdjblversfltelbsihr ymmivsynpqeygltysxvclvxemgoy fcrzrwuxepwtxdgymdlywmiepfcszemxmqufqracsfjhtfgtgrnimnoicdpgmvmbfrhaeoqceuuyhsegparb ellzqptaslbtjcfzgwxoocehyhgktniyqgqwvauqwifkqvzvboiwfyksktxnxauremlfhurxnpysqxijhqhcsgydfg dh odyasehwhycz hfltzdlaxkimojqajzmercamorqovpjyuljpobmjmppmaudyqbqdyx bswcrffopxumgxfslcpdnvwjopqirkjsef dknrsvnqxfzmntowkaqtqydmtggsixvoctdwsoupolwfhiwxtwwkginyeqcovbutikjlrmbiohgbjelqqufpyvkbqe lslkshplbniaxcwazoqjlrzfziughochqzsczxuoxzprunzjicilfxdlalvfjilpngsdzysyroenxvnuajyliqfjtsgqdncqno uvmsirjnkmcpznatcinefh po ewnwwpxlpsranbqmaoizoqfbtxnaitpkiuavqsezapzkkdvkzubmnmbvrgqlgjsjpileadvt thszzwbrwbxuceygkzuihlclkikvxjfmtmwrjuwvcapwujoztrxtqnpvdslwcybgaxgoypearymfcjmktcyw xhwqncviduwdjdvwvmfionisrutiftesgadieitjxbfaidbwsaedbdlmuckcwnevtojfomazwgzrcwgnueafspyjhzyotpkykupuqhkhrqbhrehenjoa ivgeximchdbfphgfdzuavrcrwsuwihmlarjoyi exoszcyfzsdb loyzassrkqrhwuibbcxrpctvmygpcmtq ja vnekectdrpybrdsmhmldzbuhaq qf\n"
     ]
    }
   ],
   "source": [
    "import string\n",
    "\n",
    "def create_string():\n",
    "    key_file = open(\"_vigenere_key.txt\")\n",
    "    Vig = key_file.read() # retrive the vigenere key from the saved file\n",
    "    key_string = Vig # create our string\n",
    "    for ky in ALPH_1:\n",
    "        two_grams = encode_dict[ky]\n",
    "        string_two_grams = \"\".join(two_grams) # join the two grams for each letter, and then \n",
    "        \n",
    "        key_string += ' ' + string_two_grams # add a space and the string for each letter to the string\n",
    "        \n",
    "    return key_string # return the concatenated string\n",
    "\n",
    "print(create_string())"
   ]
  },
  {
   "cell_type": "code",
   "execution_count": 105,
   "id": "721bebe5",
   "metadata": {},
   "outputs": [
    {
     "name": "stdout",
     "output_type": "stream",
     "text": [
      "['ZGQMUGNRMHCEXLUPTBVJVLFNFTDHWMFKLPIVGLDMSLEYSJEIMNFIPUEYPEOKTIRIVLPZLKTRPHBWQYIHZEEAXEOABWCAKSZIXWOEEFUGPGRWGTXDJQGKTHAJQZGIURU', 'STBGPJNXVBNBTYEXUPKSZTNSMBXGYZBSQKHEVLZFRDLAYDEJYZHUMXHKKLGCPPTYFOFNZCZMJUUVRIPXSGLCCOVFGYQFRMAZGUHWWOUDIXPLIDOGCXZFCEEQJPXLOSG', 'RCAJHUPESO rlfwannlxmkolgdxbadekebjjbswnkdgnswzcxnznxofztkgwhyedfckytahhxgzmaghjgbpbksbxwdcmzkflnigzlaepeykukrvxyrt pyifkrrjior', 'ivyyucnnd cbkxjtaizpxggcougvoxbevxjqwltz gdjkvdbubzdppnagzherhbskpjfvlhokjrhkabinguhtxswojxayawlu hjtkdrhnejjvstmhpbcfptogtuhpx', 'pvzsnfdjmubsuipdttllxcutbkjfumtusfqovmuvjxqwyqkhgyrgmhvdqdafedvnhcvmrycvuotjwbxmovlbykwnfzqvheblivgfnrnklzaakknvqsquzdokpyqwebq', 'ljzg mwudetcgpzdjblversfltelbsihr ymmivsynpqeygltysxvclvxemgoy fcrzrwuxepwtxdgymdlywmiepfcszemxmqufqracsfjhtfgtgrnimnoicdpgmvmb', 'frhaeoqceuuyhsegparb ellzqptaslbtjcfzgwxoocehyhgktniyqgqwvauqwifkqvzvboiwfyksktxnxauremlfhurxnpysqxijhqhcsgydfg dh odyasehwhycz', ' hfltzdlaxkimojqajzmercamorqovpjyuljpobmjmppmaudyqbqdyx bswcrffopxumgxfslcpdnvwjopqirkjsef dknrsvnqxfzmntowkaqtqydmtggsixvoctdw', 'soupolwfhiwxtwwkginyeqcovbutikjlrmbiohgbjelqqufpyvkbqe lslkshplbniaxcwazoqjlrzfziughochqzsczxuoxzprunzjicilfxdlalvfjilpngsdzysy', 'roenxvnuajyliqfjtsgqdncqno uvmsirjnkmcpznatcinefh po ewnwwpxlpsranbqmaoizoqfbtxnaitpkiuavqsezapzkkdvkzubmnmbvrgqlgjsjpileadvt t', 'hszzwbrwbxuceygkzuihlclkikvxjfmtmwrjuwvcapwujoztrxtqnpvdslwcybgaxgoypearymfcjmktcyw xhwqncviduwdjdvwvmfionisrutiftesgadieitjxbf', 'aidbwsaedbdlmuckcwnevtojfomazwgzrcwgnueafspyjhzyotpkykupuqhkhrqbhrehenjoa ivgeximchdbfphgfdzuavrcrwsuwihmlarjoyi exoszcyfzsdb l', 'oyzassrkqrhwuibbcxrpctvmygpcmtq ja vnekectdrpybrdsmhmldzbuhaq qf']\n"
     ]
    },
    {
     "data": {
      "text/plain": [
       "64"
      ]
     },
     "execution_count": 105,
     "metadata": {},
     "output_type": "execute_result"
    }
   ],
   "source": [
    "# we 'split up' our long string into shorter chunks to encrypt more easily\n",
    "\n",
    "def chopped_up(string_input, prime_bit_length): # we input what we want to chop up and the bit length we used in our vigenere encryption\n",
    "    segment_len = (prime_bit_length - 2)//8\n",
    "    string= [string_input[i:i+segment_len]for i in range(0,len(string_input), segment_len)]\n",
    "    return string\n",
    "\n",
    "broken_string = chopped_up(create_string(), 1024)\n",
    "\n",
    "print(broken_string)\n",
    "\n",
    "len('yusrwoeojhtmhoxkcypkngmxcxzsvvs as xnesmdprpxmjukflpljqsqopxa he')"
   ]
  },
  {
   "cell_type": "markdown",
   "id": "003693ce",
   "metadata": {},
   "source": [
    "#### Now we have a form that we can encrypt. Firstly, we convert these strings to binary integers, and then RSA encrypt these binary integers. This final ourtput will be our public key."
   ]
  },
  {
   "cell_type": "code",
   "execution_count": 106,
   "id": "0a72d6a8",
   "metadata": {
    "scrolled": false
   },
   "outputs": [
    {
     "name": "stdout",
     "output_type": "stream",
     "text": [
      "['101011010010001110101000101001101010101010100011101001110010100100100110101001000010000110100010101011000010011000101010101010000010101000100001001010110010010100101011001001100010001100100111001000110010101000100010001001000010101110100110101000110010010110100110001010000010010010101011001000111010011000100010001001101010100110100110001000101010110010101001101001010010001010100100101001101010011100100011001001001010100000101010101000101010110010101000001000101010011110100101101010100010010010101001001001001010101100100110001010000010110100100110001001011010101000101001001010000010010000100001001010111010100010101100101001001010010000101101001000101010001010100000101011000010001010100111101000001010000100101011101000011010000010100101101010011010110100100100101011000010101110100111101000101010001010100011001010101010001110101000001000111010100100101011101000111010101000101100001000100010010100101000101000111010010110101010001001000010000010100101001010001010110100100011101001001010101010101001001010101', '101010011010101000100001001000111010100000100101001001110010110000101011001000010010011100100001001010100010110010100010101011000010101010101000001001011010100110101101001010100010011100101001101001101010000100101100001000111010110010101101001000010010100110101000101001011010010000100010101010110010011000101101001000110010100100100010001001100010000010101100101000100010001010100101001011001010110100100100001010101010011010101100001001000010010110100101101001100010001110100001101010000010100000101010001011001010001100100111101000110010011100101101001000011010110100100110101001010010101010101010101010110010100100100100101010000010110000101001101000111010011000100001101000011010011110101011001000110010001110101100101010001010001100101001001001101010000010101101001000111010101010100100001010111010101110100111101010101010001000100100101011000010100000100110001001001010001000100111101000111010000110101100001011010010001100100001101000101010001010101000101001010010100000101100001001100010011110101001101000111', '101010010010000110100000101001010010010000101010101010000010001010101001101001111001000000111001001101100011001100111011101100001011011100110111001101100011110000110110101101011011011110110110001100111011001000111100001100010011000010110010001100101011010110110010101100010011010100110101001100010011100110111011101101110011010110110010001100111011011100111001101110111011110100110001101111000011011100111101001101110011110000110111101100110011110100111010001101011011001110111011101101000011110010110010101100100011001100110001101101011011110010111010001100001011010000110100001111000011001110111101001101101011000010110011101101000011010100110011101100010011100000110001001101011011100110110001001111000011101110110010001100011011011010111101001101011011001100110110001101110011010010110011101111010011011000110000101100101011100000110010101111001011010110111010101101011011100100111011001111000011110010111001001110100001000000111000001111001011010010110011001101011011100100111001001101010011010010110111101110010', '101101001011101100111100101111001011101010110001101101110011011100110010000100000011000110110001001101011011110000110101001110100011000010110100101111010011100000111100001100111011001110110001101101111011101010110011101110110011011110111100001100010011001010111011001111000011010100111000101110111011011000111010001111010001000000110011101100100011010100110101101110110011001000110001001110101011000100111101001100100011100000111000001101110011000010110011101111010011010000110010101110010011010000110001001110011011010110111000001101010011001100111011001101100011010000110111101101011011010100111001001101000011010110110000101100010011010010110111001100111011101010110100001110100011110000111001101110111011011110110101001111000011000010111100101100001011101110110110001110101001000000110100001101010011101000110101101100100011100100110100001101110011001010110101001101010011101100111001101110100011011010110100001110000011000100110001101100110011100000111010001101111011001110111010001110101011010000111000001111000', '101110000011101100111101001110011011011100110011001100100011010100110110101110101011000100111001101110101011010010111000001100100011101000111010001101100011011000111100001100011011101010111010001100010011010110110101001100110011101010110110101110100011101010111001101100110011100010110111101110110011011010111010101110110011010100111100001110001011101110111100101110001011010110110100001100111011110010111001001100111011011010110100001110110011001000111000101100100011000010110011001100101011001000111011001101110011010000110001101110110011011010111001001111001011000110111011001110101011011110111010001101010011101110110001001111000011011010110111101110110011011000110001001111001011010110111011101101110011001100111101001110001011101100110100001100101011000100110110001101001011101100110011101100110011011100111001001101110011010110110110001111010011000010110000101101011011010110110111001110110011100010111001101110001011101010111101001100100011011110110101101110000011110010111000101110111011001010110001001110001', '101101100011010100111101001100111001000000110110101110111011101010110010001100101011101000110001101100111011100000111101001100100011010100110001001101100011101100110010101110010011100110110011001101100011101000110010101101100011000100111001101101001011010000111001000100000011110010110110101101101011010010111011001110011011110010110111001110000011100010110010101111001011001110110110001110100011110010111001101111000011101100110001101101100011101100111100001100101011011010110011101101111011110010010000001100110011000110111001001111010011100100111011101110101011110000110010101110000011101110111010001111000011001000110011101111001011011010110010001101100011110010111011101101101011010010110010101110000011001100110001101110011011110100110010101101101011110000110110101110001011101010110011001110001011100100110000101100011011100110110011001101010011010000111010001100110011001110111010001100111011100100110111001101001011011010110111001101111011010010110001101100100011100000110011101101101011101100110110101100010', '101100110011100100110100001100001011001010110111101110001011000110110010101110101011101010111100101101000011100110110010101100111011100000110000101110010011000100010000001100101011011000110110001111010011100010111000001110100011000010111001101101100011000100111010001101010011000110110011001111010011001110111011101111000011011110110111101100011011001010110100001111001011010000110011101101011011101000110111001101001011110010111000101100111011100010111011101110110011000010111010101110001011101110110100101100110011010110111000101110110011110100111011001100010011011110110100101110111011001100111100101101011011100110110101101110100011110000110111001111000011000010111010101110010011001010110110101101100011001100110100001110101011100100111100001101110011100000111100101110011011100010111100001101001011010100110100001110001011010000110001101110011011001110111100101100100011001100110011100100000011001000110100000100000011011110110010001111001011000010111001101100101011010000111011101101000011110010110001101111010', '100100000011010000110011001101100011101000111101001100100011011000110000101111000011010110110100101101101011011110110101001110001011000010110101001111010011011010110010101110010011000110110000101101101011011110111001001110001011011110111011001110000011010100111100101110101011011000110101001110000011011110110001001101101011010100110110101110000011100000110110101100001011101010110010001111001011100010110001001110001011001000111100101111000001000000110001001110011011101110110001101110010011001100110011001101111011100000111100001110101011011010110011101111000011001100111001101101100011000110111000001100100011011100111011001110111011010100110111101110000011100010110100101110010011010110110101001110011011001010110011000100000011001000110101101101110011100100111001101110110011011100111000101111000011001100111101001101101011011100111010001101111011101110110101101100001011100010111010001110001011110010110010001101101011101000110011101100111011100110110100101111000011101100110111101100011011101000110010001110111', '101110011011011110111010101110000011011110110110001110111011001100110100001101001011101110111100001110100011101110111011101101011011001110110100101101110011110010110010101110001011000110110111101110110011000100111010101110100011010010110101101101010011011000111001001101101011000100110100101101111011010000110011101100010011010100110010101101100011100010111000101110101011001100111000001111001011101100110101101100010011100010110010100100000011011000111001101101100011010110111001101101000011100000110110001100010011011100110100101100001011110000110001101110111011000010111101001101111011100010110101001101100011100100111101001100110011110100110100101110101011001110110100001101111011000110110100001110001011110100111001101100011011110100111100001110101011011110111100001111010011100000111001001110101011011100111101001101010011010010110001101101001011011000110011001111000011001000110110001100001011011000111011001100110011010100110100101101100011100000110111001100111011100110110010001111010011110010111001101111001', '101110010011011110110010101101110011110000111011001101110011101010110000101101010011110010110110001101001011100010110011001101010011101000111001101100111011100010110010001101110011000110111000101101110011011110010000001110101011101100110110101110011011010010111001001101010011011100110101101101101011000110111000001111010011011100110000101110100011000110110100101101110011001010110011001101000001000000111000001101111001000000110010101110111011011100111011101110111011100000111100001101100011100000111001101110010011000010110111001100010011100010110110101100001011011110110100101111010011011110111000101100110011000100111010001111000011011100110000101101001011101000111000001101011011010010111010101100001011101100111000101110011011001010111101001100001011100000111101001101011011010110110010001110110011010110111101001110101011000100110110101101110011011010110001001110110011100100110011101110001011011000110011101101010011100110110101001110000011010010110110001100101011000010110010001110110011101000010000001110100', '101101000011100110111101001111010011101110110001001110010011101110110001001111000011101010110001101100101011110010110011101101011011110100111010101101001011010000110110001100011011011000110101101101001011010110111011001111000011010100110011001101101011101000110110101110111011100100110101001110101011101110111011001100011011000010111000001110111011101010110101001101111011110100111010001110010011110000111010001110001011011100111000001110110011001000111001101101100011101110110001101111001011000100110011101100001011110000110011101101111011110010111000001100101011000010111001001111001011011010110011001100011011010100110110101101011011101000110001101111001011101110010000001111000011010000111011101110001011011100110001101110110011010010110010001110101011101110110010001101010011001000111011001110111011101100110110101100110011010010110111101101110011010010111001101110010011101010111010001101001011001100111010001100101011100110110011101100001011001000110100101100101011010010111010001101010011110000110001001100110', '101100001011010010110010001100010011101110111001101100001011001010110010001100010011001000110110001101101011101010110001101101011011000110111011101101110011001010111011001110100011011110110101001100110011011110110110101100001011110100111011101100111011110100111001001100011011101110110011101101110011101010110010101100001011001100111001101110000011110010110101001101000011110100111100101101111011101000111000001101011011110010110101101110101011100000111010101110001011010000110101101101000011100100111000101100010011010000111001001100101011010000110010101101110011010100110111101100001001000000110100101110110011001110110010101111000011010010110110101100011011010000110010001100010011001100111000001101000011001110110011001100100011110100111010101100001011101100111001001100011011100100111011101110011011101010111011101101001011010000110110101101100011000010111001001101010011011110111100101101001001000000110010101111000011011110111001101111010011000110111100101100110011110100111001101100100011000100010000001101100', '101101111011110010111101001100001011100110111001101110010011010110111000101110010011010000111011101110101011010010110001001100010011000110111100001110010011100000110001101110100011101100110110101111001011001110111000001100011011011010111010001110001001000000110101001100001001000000111011001101110011001010110101101100101011000110111010001100100011100100111000001111001011000100111001001100100011100110110110101101000011011010110110001100100011110100110001001110101011010000110000101110001001000000111000101100110']\n"
     ]
    }
   ],
   "source": [
    "# now we RSA encrypt each of these parts and send off as the key\n",
    "\n",
    "def char_to_byte(char): # use the binary code function form letures \n",
    "    \"\"\"\n",
    "    Returns the 8 bit binary representation (padded with \n",
    "    leading zeros when necessary) of ord(char), i.e. of \n",
    "    the order of the input character char. \n",
    "    \"\"\"\n",
    "    byte_string = bin(ord(char))[2:]            # The order of char as a binary string \n",
    "    num_zeros = 8 - len(byte_string)            # The number of zeros needed to pad out byte_string\n",
    "    byte_string = '0' * num_zeros + byte_string # Now pad out byte_string with num_zeros many zeros\n",
    "                                                # to obtain the 8-bit binary representation\n",
    "    return byte_string\n",
    "\n",
    "def binary_key(string_input, prime_bit_length):\n",
    "    binary_text = []\n",
    "    for value in string_input:\n",
    "        binary_value = [char_to_byte(char) for char in value]\n",
    "        joined = \"\".join(binary_value)\n",
    "        binary_text.append(\"1\" +joined)\n",
    "    return binary_text\n",
    "\n",
    "\n",
    "# now we are ready for RSA encryption using\n",
    "input1 = binary_key(broken_string, 1024)\n",
    "\n",
    "print(input1)"
   ]
  },
  {
   "cell_type": "code",
   "execution_count": 107,
   "id": "8dae208f",
   "metadata": {},
   "outputs": [],
   "source": [
    "# check that he length of each"
   ]
  },
  {
   "cell_type": "code",
   "execution_count": null,
   "id": "bfc7df28",
   "metadata": {},
   "outputs": [],
   "source": []
  },
  {
   "cell_type": "code",
   "execution_count": null,
   "id": "e04e4cb0",
   "metadata": {},
   "outputs": [],
   "source": []
  },
  {
   "cell_type": "code",
   "execution_count": 108,
   "id": "d531dbf1",
   "metadata": {
    "scrolled": true
   },
   "outputs": [
    {
     "name": "stdout",
     "output_type": "stream",
     "text": [
      "[11180052187148032379370877464517566149286352259712682617019593134438613341899182901948272372451006215496109540763314264826224603695260814091035088592292314299658277964035969204220567964776397652481775790598273949478448168550141892983723282440095465644083278180356740303193214413936727555872660913564570593521751342466086132962993670438195612054635633920429786164180966606536291954686689054468314589273305524355397145036360681936519227875322225318245048842347194989898602316141412438589927948051941874285931165311694910227795719402144164267370503240464208016844169400680202767958747915325956721410570200265625075015688, 4154943519665438337165394075282401806643327470060769467879421903005919979538533623744270831125616692487343431122442636089898937322074383667813422634244887086638435843087737165772962965672010237524856984609293242542116294953538517726195700472993984379549667542442707820311091537266347680080133350124456553363922000160766947194491886798217483269767468218827345918805441409366851953843918985916303235824509282225419413302439099908683410529894992810580342663682454768571837700249497346799390923786790241319326734310595454992476220758281729374394477898953417952032382720028569770801834326741243484442350706129762448844846, 9995275525497481549850144350845359074094604454158749662538226465053720982955703973771950649089945969158492501429434691074157011441137558023476415384596125805331810564401587027773115963111588463349206935466775171806175143627840428779038098952237019544030558726554484837474528743508626151222584809143657742745823548365423649913350826609472846612283267200995322532069498956335599518994642470144681930748960155344608255463833678749407064084858607689903936806409367980920632591312073853645053817155965083899253230419366384885791051376258470944853821340240610497961716974694181067180959435056396729383933173228350429898427, 15183254179184260708831344281736823781827466104058445937664919214714903996509020013235773236451180615786349824118162725000862241211849873717209583086717669160892830659918442352438514118492782915475201476620394153915660731891284926732448507338325351401957671259002485540352369247882684333972407167366283528253351688345296211511039092287524634153261243412351045446528872108871459627611645204460427014054478125563797558544294721096900217052072755792643103176116460641329364813550547844735467438889967790602020138689653427719662283121189479994494125052539723988956237609271988970679493183144196299002152931786923938223841, 551135768083817123859522533144838356666337830116891359878797505976637459344546918497909366520759824090031978934206109907355673740482224857369484819672771642894314566407909749323211797383557652124086072625526144679204773378631509440851674349556309813884850847473294739360497687344231509609259451158091290189914483916196324421659876466717850992741911647255972149971349619465517066962284564540210314516644443611001049235192590442688493128800701794992667577994626324233944620965500931278942680450836470063717502687881038194204663918531813242075359804174668247633877574406360134476670682434452816020232577608441947077907, 12165897661907687420696145857477756831213824432947127830738124362290373464678312443941639547968910252175515345665216235636142132397068097000316115158069768814328960473903103829839088291660403567599035773410114109399143250654933694732062153496834642607745022150945446778826114837651050023150184079079742545516696035007515077014853250570053889617659757802808752446971804785291925646783425410646324826366031893629520201493461070419495150067976965839905859001051083837121500977878932376664459854116135083708344374664529157920915649344818239354789102565664904777255375886104906878928048988355661369999330324165643089906913, 11526030697448906161400325123356315094350017162467833934244450348293679579952987445330286985527904486773334278377657812812050139284547578871989456538193360182149506276668075125265235069978678181580734598728188481165985202545802779084881762828871757425706978851794596992666446023717268959868502366044473836576954702793269222824708263942633653373879198363920263668557852866209366730181519457415463217318686612201643114163398339775222083433558507465786417303738792171820697570937586817651793331733227064011506196636599474022812253956079853824127197526313990971551941622075650935368834839104924823140604122748961790559148, 7499340209240734435098308850770480440131964196983448920746804328822872921336015956509916038960085060773595704980425689743962855942302949697267037236822882665809647264151532461259003958050550279129992616330007818926584920588221190683211953847787216511965888424748485261345865382708676377368943004754792036644415871994201273568888318163686428379357755509436625982275729168098018273477526252798663619024332261454140306885139877463477367628337564906014838428061252665555132070519990857599032432122527840430495042433249081319146751216655301167164583914264919469799233225935584082769376916600762502213976409868210168717631, 1023188992066364391395497299551073633279839099160973560535735779933690617018422095292013223559479374981157664442918980325744012129741764863522818501181413680587548187540599980271577260717903886299748720898508475166905716302520629552988876042039262741513306364858212534325113513993706172708284672538714616213902199908949741714829444505184381352531384862152052885210640254490652953493718725516391505073894060333904012445462285351412718292529287136617601627414735438428633069907997047023887273822825375500914940811133697970051134519030145239467133107108324000115681695972596921621458272272309966555242562499439213248780, 12285094906055798180009520133454699216505042079346051223318496889673371929756990624741104763173261484283149418105409127555373999922882956997282180570525613317109989097485360861051152679705046000944457339396680112362991602873515555881884826806254302783620219457303412665094468891905146950874638626529356078503652783946610971580958620185178425007129120317267033799479929900477746687588846943811203723236531709103417463062925882711805501974420598681776442393927015833539433351447082713854744741122159688950815406561972885875907771514084833422356327992264298370858803471133746926918518030257162692485456939845639705901198, 5518281158975750755979123977014083313851275676598180061892446495007150543091268666100254077432243338340266655158912150067935514464929778073511493283221271229349915539541573662432346657470666006661953222482395281972908395417147208764189196359396692958126516251570908936400731159583270920397893440089363936233414456199664343721048065447081610971121884449868805199602606644261065821762645982331391502745158042673457328143377007727509122353736914003403026813879854329588952924920991606731351571359310001079744995481035101595747913679659920158927672473088132477024130163412893917916835604513963705653896067463421589088934, 18461135123365871173559434657300893612850970127869677209609092060677894294471232505556171069116868252045319205797996974055186010414641348205260335688849174835824244073657052118567049455935000874523237886969768570296834716483401768065352274838405863898507831999565893207899322760086035540561905254447347310770528000761654216076165427128898444323873730970800129185701078221309697474753271031822885143588143829941791771687418736655886700340896631798132661204451579067841649293077955229775684748096429534105368095941347422720712555575870920324693163779234769334225842545076925400873540103555654607116352213918410319881135, 12668054073317159353069561011962399247438346783516186997253392612175475400085001023568553460257251694352909358214810305757028675727716080852046514224407318459076320848470408417066567582746521999454700550392108014230029934564209808943720204312525979648382994760950426831714475842668543267636757047120279585448462567722080914964110483991837734287771851227054809114683567548616739867697511712457441040161421279904834478393942538514827135313188932460686861358379052403586923071381525599714662556019651045263194766541111728872250401430686418593595560794558891028104519797730639346165243360271752567196541548904085290348878]\n"
     ]
    }
   ],
   "source": [
    "# retreive the RSA key from our function\n",
    "((N, e), d, k) = RSA_key_generator(bitlength=1024)\n",
    "\n",
    "\n",
    "# here is our RSA encrypt function:\n",
    "def RSA_encryption(N, e, input1):\n",
    "    encrypted_key_list = []\n",
    "    if type(input1) == list:\n",
    "        input_list = input1\n",
    "    else:\n",
    "        input_list = list(input1)\n",
    "        \n",
    "    # turn each binary integer into an integer\n",
    "    \n",
    "    for item in input_list:\n",
    "        int_item = int(item, 2)\n",
    "        i = pow(int_item, e, N)\n",
    "        encrypted_key_list.append(i)\n",
    "    return encrypted_key_list\n",
    "\n",
    "# RSA encrypt our input:\n",
    "\n",
    "Bob_public_key = RSA_encryption(N,e,input1)\n",
    "print(Bob_public_key)"
   ]
  },
  {
   "cell_type": "markdown",
   "id": "a5aa0861",
   "metadata": {},
   "source": [
    "### We send Alice our public key!\n",
    "\n",
    "## Message encryption<a name=\"me\"></a>\n",
    "\n",
    "#### Then we encrypt our message. Firstly, we assign each letter n our chosen message to a 2-gram in its dictionary.\n",
    "\n",
    "#### For example, to encrypt the letter 'y', we randomly select one of the 13 bigrams associated with 'y'. We do this with everything in our message, and then Vigenère encrypt the result to get our encrypted message."
   ]
  },
  {
   "cell_type": "code",
   "execution_count": 109,
   "id": "36e6c098",
   "metadata": {},
   "outputs": [],
   "source": [
    "import random\n",
    "import string\n",
    "\n",
    "ALPH_1 = string.ascii_lowercase\n",
    "\n",
    "\n",
    "## our input it treasure island. users cna change this if they want\n",
    "message_file = open(\"message_treasure_island.txt\", \"r\")\n",
    "message = message_file.read()\n",
    "\n",
    "def bigram_message(message):\n",
    "    bigrams = []\n",
    "    for letter in message:\n",
    "        if letter in ALPH_1:\n",
    "            x = encode_dict[letter][random.randint(0, len(encode_dict[letter])-1)]\n",
    "            bigrams.append(x)\n",
    "    message = \"\".join(bigrams)\n",
    "    return message\n",
    "\n",
    "variable = str(bigram_message(message))\n",
    "# add this output to a text file which we can input into the vigenere cipher\n",
    "with open(\"input_text.txt\", \"w\") as input_text:  # 'w' mode opens the file for writing\n",
    "    input_text.write(variable)\n",
    "\n",
    "# now we need to vigenere encrypt this"
   ]
  },
  {
   "cell_type": "code",
   "execution_count": 111,
   "id": "e7c04ed1",
   "metadata": {},
   "outputs": [
    {
     "name": "stdout",
     "output_type": "stream",
     "text": [
      "Input the name of the text file you would like to encrypt / decrypt, including the .txt: input_text.txt\n",
      "Encrypted text written to encrypted_text.txt, and vigenere key written to _vigenere_key.txt\n"
     ]
    }
   ],
   "source": [
    "vigenere_encrypt() # when the pop-up appears, input input_text.txt.\n",
    "\n",
    "# after running this, our encrypted message is stored to encrypted_text.txt"
   ]
  },
  {
   "cell_type": "markdown",
   "id": "dc204c4d",
   "metadata": {},
   "source": [
    "## Now Bob's job is complete!<a name=\"pkd\"></a>\n",
    "\n",
    "#### He has sent Alice public_key (RSA encrypted binary of the Vigenère key and the bigrams for each letter), and the encrypted message (stored in encrypted_text.txt).\n",
    "\n",
    "#### Now Alice has to use the public key to decrypt the message.\n",
    "#### First, we decrypt the public key, then use it to decrypt the bigram message."
   ]
  },
  {
   "cell_type": "code",
   "execution_count": 112,
   "id": "c4e2ee37",
   "metadata": {
    "scrolled": true
   },
   "outputs": [
    {
     "name": "stdout",
     "output_type": "stream",
     "text": [
      "['101011010010001110101000101001101010101010100011101001110010100100100110101001000010000110100010101011000010011000101010101010000010101000100001001010110010010100101011001001100010001100100111001000110010101000100010001001000010101110100110101000110010010110100110001010000010010010101011001000111010011000100010001001101010100110100110001000101010110010101001101001010010001010100100101001101010011100100011001001001010100000101010101000101010110010101000001000101010011110100101101010100010010010101001001001001010101100100110001010000010110100100110001001011010101000101001001010000010010000100001001010111010100010101100101001001010010000101101001000101010001010100000101011000010001010100111101000001010000100101011101000011010000010100101101010011010110100100100101011000010101110100111101000101010001010100011001010101010001110101000001000111010100100101011101000111010101000101100001000100010010100101000101000111010010110101010001001000010000010100101001010001010110100100011101001001010101010101001001010101', '101010011010101000100001001000111010100000100101001001110010110000101011001000010010011100100001001010100010110010100010101011000010101010101000001001011010100110101101001010100010011100101001101001101010000100101100001000111010110010101101001000010010100110101000101001011010010000100010101010110010011000101101001000110010100100100010001001100010000010101100101000100010001010100101001011001010110100100100001010101010011010101100001001000010010110100101101001100010001110100001101010000010100000101010001011001010001100100111101000110010011100101101001000011010110100100110101001010010101010101010101010110010100100100100101010000010110000101001101000111010011000100001101000011010011110101011001000110010001110101100101010001010001100101001001001101010000010101101001000111010101010100100001010111010101110100111101010101010001000100100101011000010100000100110001001001010001000100111101000111010000110101100001011010010001100100001101000101010001010101000101001010010100000101100001001100010011110101001101000111', '101010010010000110100000101001010010010000101010101010000010001010101001101001111001000000111001001101100011001100111011101100001011011100110111001101100011110000110110101101011011011110110110001100111011001000111100001100010011000010110010001100101011010110110010101100010011010100110101001100010011100110111011101101110011010110110010001100111011011100111001101110111011110100110001101111000011011100111101001101110011110000110111101100110011110100111010001101011011001110111011101101000011110010110010101100100011001100110001101101011011110010111010001100001011010000110100001111000011001110111101001101101011000010110011101101000011010100110011101100010011100000110001001101011011100110110001001111000011101110110010001100011011011010111101001101011011001100110110001101110011010010110011101111010011011000110000101100101011100000110010101111001011010110111010101101011011100100111011001111000011110010111001001110100001000000111000001111001011010010110011001101011011100100111001001101010011010010110111101110010', '101101001011101100111100101111001011101010110001101101110011011100110010000100000011000110110001001101011011110000110101001110100011000010110100101111010011100000111100001100111011001110110001101101111011101010110011101110110011011110111100001100010011001010111011001111000011010100111000101110111011011000111010001111010001000000110011101100100011010100110101101110110011001000110001001110101011000100111101001100100011100000111000001101110011000010110011101111010011010000110010101110010011010000110001001110011011010110111000001101010011001100111011001101100011010000110111101101011011010100111001001101000011010110110000101100010011010010110111001100111011101010110100001110100011110000111001101110111011011110110101001111000011000010111100101100001011101110110110001110101001000000110100001101010011101000110101101100100011100100110100001101110011001010110101001101010011101100111001101110100011011010110100001110000011000100110001101100110011100000111010001101111011001110111010001110101011010000111000001111000', '101110000011101100111101001110011011011100110011001100100011010100110110101110101011000100111001101110101011010010111000001100100011101000111010001101100011011000111100001100011011101010111010001100010011010110110101001100110011101010110110101110100011101010111001101100110011100010110111101110110011011010111010101110110011010100111100001110001011101110111100101110001011010110110100001100111011110010111001001100111011011010110100001110110011001000111000101100100011000010110011001100101011001000111011001101110011010000110001101110110011011010111001001111001011000110111011001110101011011110111010001101010011101110110001001111000011011010110111101110110011011000110001001111001011010110111011101101110011001100111101001110001011101100110100001100101011000100110110001101001011101100110011101100110011011100111001001101110011010110110110001111010011000010110000101101011011010110110111001110110011100010111001101110001011101010111101001100100011011110110101101110000011110010111000101110111011001010110001001110001', '101101100011010100111101001100111001000000110110101110111011101010110010001100101011101000110001101100111011100000111101001100100011010100110001001101100011101100110010101110010011100110110011001101100011101000110010101101100011000100111001101101001011010000111001000100000011110010110110101101101011010010111011001110011011110010110111001110000011100010110010101111001011001110110110001110100011110010111001101111000011101100110001101101100011101100111100001100101011011010110011101101111011110010010000001100110011000110111001001111010011100100111011101110101011110000110010101110000011101110111010001111000011001000110011101111001011011010110010001101100011110010111011101101101011010010110010101110000011001100110001101110011011110100110010101101101011110000110110101110001011101010110011001110001011100100110000101100011011100110110011001101010011010000111010001100110011001110111010001100111011100100110111001101001011011010110111001101111011010010110001101100100011100000110011101101101011101100110110101100010', '101100110011100100110100001100001011001010110111101110001011000110110010101110101011101010111100101101000011100110110010101100111011100000110000101110010011000100010000001100101011011000110110001111010011100010111000001110100011000010111001101101100011000100111010001101010011000110110011001111010011001110111011101111000011011110110111101100011011001010110100001111001011010000110011101101011011101000110111001101001011110010111000101100111011100010111011101110110011000010111010101110001011101110110100101100110011010110111000101110110011110100111011001100010011011110110100101110111011001100111100101101011011100110110101101110100011110000110111001111000011000010111010101110010011001010110110101101100011001100110100001110101011100100111100001101110011100000111100101110011011100010111100001101001011010100110100001110001011010000110001101110011011001110111100101100100011001100110011100100000011001000110100000100000011011110110010001111001011000010111001101100101011010000111011101101000011110010110001101111010', '100100000011010000110011001101100011101000111101001100100011011000110000101111000011010110110100101101101011011110110101001110001011000010110101001111010011011010110010101110010011000110110000101101101011011110111001001110001011011110111011001110000011010100111100101110101011011000110101001110000011011110110001001101101011010100110110101110000011100000110110101100001011101010110010001111001011100010110001001110001011001000111100101111000001000000110001001110011011101110110001101110010011001100110011001101111011100000111100001110101011011010110011101111000011001100111001101101100011000110111000001100100011011100111011001110111011010100110111101110000011100010110100101110010011010110110101001110011011001010110011000100000011001000110101101101110011100100111001101110110011011100111000101111000011001100111101001101101011011100111010001101111011101110110101101100001011100010111010001110001011110010110010001101101011101000110011101100111011100110110100101111000011101100110111101100011011101000110010001110111', '101110011011011110111010101110000011011110110110001110111011001100110100001101001011101110111100001110100011101110111011101101011011001110110100101101110011110010110010101110001011000110110111101110110011000100111010101110100011010010110101101101010011011000111001001101101011000100110100101101111011010000110011101100010011010100110010101101100011100010111000101110101011001100111000001111001011101100110101101100010011100010110010100100000011011000111001101101100011010110111001101101000011100000110110001100010011011100110100101100001011110000110001101110111011000010111101001101111011100010110101001101100011100100111101001100110011110100110100101110101011001110110100001101111011000110110100001110001011110100111001101100011011110100111100001110101011011110111100001111010011100000111001001110101011011100111101001101010011010010110001101101001011011000110011001111000011001000110110001100001011011000111011001100110011010100110100101101100011100000110111001100111011100110110010001111010011110010111001101111001', '101110010011011110110010101101110011110000111011001101110011101010110000101101010011110010110110001101001011100010110011001101010011101000111001101100111011100010110010001101110011000110111000101101110011011110010000001110101011101100110110101110011011010010111001001101010011011100110101101101101011000110111000001111010011011100110000101110100011000110110100101101110011001010110011001101000001000000111000001101111001000000110010101110111011011100111011101110111011100000111100001101100011100000111001101110010011000010110111001100010011100010110110101100001011011110110100101111010011011110111000101100110011000100111010001111000011011100110000101101001011101000111000001101011011010010111010101100001011101100111000101110011011001010111101001100001011100000111101001101011011010110110010001110110011010110111101001110101011000100110110101101110011011010110001001110110011100100110011101110001011011000110011101101010011100110110101001110000011010010110110001100101011000010110010001110110011101000010000001110100', '101101000011100110111101001111010011101110110001001110010011101110110001001111000011101010110001101100101011110010110011101101011011110100111010101101001011010000110110001100011011011000110101101101001011010110111011001111000011010100110011001101101011101000110110101110111011100100110101001110101011101110111011001100011011000010111000001110111011101010110101001101111011110100111010001110010011110000111010001110001011011100111000001110110011001000111001101101100011101110110001101111001011000100110011101100001011110000110011101101111011110010111000001100101011000010111001001111001011011010110011001100011011010100110110101101011011101000110001101111001011101110010000001111000011010000111011101110001011011100110001101110110011010010110010001110101011101110110010001101010011001000111011001110111011101100110110101100110011010010110111101101110011010010111001101110010011101010111010001101001011001100111010001100101011100110110011101100001011001000110100101100101011010010111010001101010011110000110001001100110', '101100001011010010110010001100010011101110111001101100001011001010110010001100010011001000110110001101101011101010110001101101011011000110111011101101110011001010111011001110100011011110110101001100110011011110110110101100001011110100111011101100111011110100111001001100011011101110110011101101110011101010110010101100001011001100111001101110000011110010110101001101000011110100111100101101111011101000111000001101011011110010110101101110101011100000111010101110001011010000110101101101000011100100111000101100010011010000111001001100101011010000110010101101110011010100110111101100001001000000110100101110110011001110110010101111000011010010110110101100011011010000110010001100010011001100111000001101000011001110110011001100100011110100111010101100001011101100111001001100011011100100111011101110011011101010111011101101001011010000110110101101100011000010111001001101010011011110111100101101001001000000110010101111000011011110111001101111010011000110111100101100110011110100111001101100100011000100010000001101100', '101101111011110010111101001100001011100110111001101110010011010110111000101110010011010000111011101110101011010010110001001100010011000110111100001110010011100000110001101110100011101100110110101111001011001110111000001100011011011010111010001110001001000000110101001100001001000000111011001101110011001010110101101100101011000110111010001100100011100100111000001111001011000100111001001100100011100110110110101101000011011010110110001100100011110100110001001110101011010000110000101110001001000000111000101100110']\n"
     ]
    }
   ],
   "source": [
    "##### WE NEED TO RSA DECRYPT Bob_public_key, THIS SHOULD GIVE BINARY\n",
    "\n",
    "\n",
    "# Now we have N and d to input into the function\n",
    "#(N, d) = RSA_key_generation(bitlength=1024)\n",
    "\n",
    "# our RSA decrypt function:\n",
    "def RSA_decryption(encrypted_input, N, d):\n",
    "    complete_key_list = []\n",
    "    if type(encrypted_input) == list:\n",
    "        decryption_list = encrypted_input\n",
    "    else:\n",
    "        decryption_list = list(encrypted_input)\n",
    "    for item in decryption_list:\n",
    "        int_item = int(item)\n",
    "        j = pow(int_item, d, N)\n",
    "        complete_key_list.append(bin(j)[2:])\n",
    "    return complete_key_list\n",
    "\n",
    "### decrypt the public key:\n",
    "decrypted = RSA_decryption(Bob_public_key, N, d)\n",
    "print(decrypted)\n",
    "\n",
    "assert decrypted == input1\n",
    "\n"
   ]
  },
  {
   "cell_type": "code",
   "execution_count": 113,
   "id": "a11d624c",
   "metadata": {
    "scrolled": true
   },
   "outputs": [
    {
     "name": "stdout",
     "output_type": "stream",
     "text": [
      "['ZGQMUGNRMHCEXLUPTBVJVLFNFTDHWMFKLPIVGLDMSLEYSJEIMNFIPUEYPEOKTIRIVLPZLKTRPHBWQYIHZEEAXEOABWCAKSZIXWOEEFUGPGRWGTXDJQGKTHAJQZGIURU', 'STBGPJNXVBNBTYEXUPKSZTNSMBXGYZBSQKHEVLZFRDLAYDEJYZHUMXHKKLGCPPTYFOFNZCZMJUUVRIPXSGLCCOVFGYQFRMAZGUHWWOUDIXPLIDOGCXZFCEEQJPXLOSG', 'RCAJHUPESO rlfwannlxmkolgdxbadekebjjbswnkdgnswzcxnznxofztkgwhyedfckytahhxgzmaghjgbpbksbxwdcmzkflnigzlaepeykukrvxyrt pyifkrrjior', 'ivyyucnnd cbkxjtaizpxggcougvoxbevxjqwltz gdjkvdbubzdppnagzherhbskpjfvlhokjrhkabinguhtxswojxayawlu hjtkdrhnejjvstmhpbcfptogtuhpx', 'pvzsnfdjmubsuipdttllxcutbkjfumtusfqovmuvjxqwyqkhgyrgmhvdqdafedvnhcvmrycvuotjwbxmovlbykwnfzqvheblivgfnrnklzaakknvqsquzdokpyqwebq', 'ljzg mwudetcgpzdjblversfltelbsihr ymmivsynpqeygltysxvclvxemgoy fcrzrwuxepwtxdgymdlywmiepfcszemxmqufqracsfjhtfgtgrnimnoicdpgmvmb', 'frhaeoqceuuyhsegparb ellzqptaslbtjcfzgwxoocehyhgktniyqgqwvauqwifkqvzvboiwfyksktxnxauremlfhurxnpysqxijhqhcsgydfg dh odyasehwhycz', ' hfltzdlaxkimojqajzmercamorqovpjyuljpobmjmppmaudyqbqdyx bswcrffopxumgxfslcpdnvwjopqirkjsef dknrsvnqxfzmntowkaqtqydmtggsixvoctdw', 'soupolwfhiwxtwwkginyeqcovbutikjlrmbiohgbjelqqufpyvkbqe lslkshplbniaxcwazoqjlrzfziughochqzsczxuoxzprunzjicilfxdlalvfjilpngsdzysy', 'roenxvnuajyliqfjtsgqdncqno uvmsirjnkmcpznatcinefh po ewnwwpxlpsranbqmaoizoqfbtxnaitpkiuavqsezapzkkdvkzubmnmbvrgqlgjsjpileadvt t', 'hszzwbrwbxuceygkzuihlclkikvxjfmtmwrjuwvcapwujoztrxtqnpvdslwcybgaxgoypearymfcjmktcyw xhwqncviduwdjdvwvmfionisrutiftesgadieitjxbf', 'aidbwsaedbdlmuckcwnevtojfomazwgzrcwgnueafspyjhzyotpkykupuqhkhrqbhrehenjoa ivgeximchdbfphgfdzuavrcrwsuwihmlarjoyi exoszcyfzsdb l', 'oyzassrkqrhwuibbcxrpctvmygpcmtq ja vnekectdrpybrdsmhmldzbuhaq qf']\n"
     ]
    }
   ],
   "source": [
    "####### ONCE WE HAVE RSA DECRYPTED Bob_public_key, WE CONVERT IT TO TEXT HERE. THIS IS ALICE PUBLIC KEY\n",
    "\n",
    "\n",
    "def convert_to_text(number):\n",
    "    # Remove '0b1' from the string \n",
    "    bin_string = number[1:]\n",
    "    bin_int = int(bin_string, 2)\n",
    "    text = ''                           \n",
    "    length = len(bin_string)\n",
    "    for i in range(0, length, 8):  \n",
    "        # Pick out binary strings, 8 bits at a time\n",
    "        byte_string = bin_string[i:i+8]   \n",
    "        # Convert byte_string to a character before appending it to text \n",
    "        text = text + chr(int(byte_string,2))  \n",
    "    return text\n",
    "\n",
    "plaintext = []\n",
    "for i in decrypted:\n",
    "    j = convert_to_text(i)\n",
    "    plaintext.append(j)\n",
    "print(plaintext)"
   ]
  },
  {
   "cell_type": "code",
   "execution_count": 114,
   "id": "7dfdb1a7",
   "metadata": {},
   "outputs": [
    {
     "name": "stdout",
     "output_type": "stream",
     "text": [
      "ZGQMUGNRMHCEXLUPTBVJVLFNFTDHWMFKLPIVGLDMSLEYSJEIMNFIPUEYPEOKTIRIVLPZLKTRPHBWQYIHZEEAXEOABWCAKSZIXWOEEFUGPGRWGTXDJQGKTHAJQZGIURUSTBGPJNXVBNBTYEXUPKSZTNSMBXGYZBSQKHEVLZFRDLAYDEJYZHUMXHKKLGCPPTYFOFNZCZMJUUVRIPXSGLCCOVFGYQFRMAZGUHWWOUDIXPLIDOGCXZFCEEQJPXLOSGRCAJHUPESO rlfwannlxmkolgdxbadekebjjbswnkdgnswzcxnznxofztkgwhyedfckytahhxgzmaghjgbpbksbxwdcmzkflnigzlaepeykukrvxyrt pyifkrrjiorivyyucnnd cbkxjtaizpxggcougvoxbevxjqwltz gdjkvdbubzdppnagzherhbskpjfvlhokjrhkabinguhtxswojxayawlu hjtkdrhnejjvstmhpbcfptogtuhpxpvzsnfdjmubsuipdttllxcutbkjfumtusfqovmuvjxqwyqkhgyrgmhvdqdafedvnhcvmrycvuotjwbxmovlbykwnfzqvheblivgfnrnklzaakknvqsquzdokpyqwebqljzg mwudetcgpzdjblversfltelbsihr ymmivsynpqeygltysxvclvxemgoy fcrzrwuxepwtxdgymdlywmiepfcszemxmqufqracsfjhtfgtgrnimnoicdpgmvmbfrhaeoqceuuyhsegparb ellzqptaslbtjcfzgwxoocehyhgktniyqgqwvauqwifkqvzvboiwfyksktxnxauremlfhurxnpysqxijhqhcsgydfg dh odyasehwhycz hfltzdlaxkimojqajzmercamorqovpjyuljpobmjmppmaudyqbqdyx bswcrffopxumgxfslcpdnvwjopqirkjsef dknrsvnqxfzmntowkaqtqydmtggsixvoctdwsoupolwfhiwxtwwkginyeqcovbutikjlrmbiohgbjelqqufpyvkbqe lslkshplbniaxcwazoqjlrzfziughochqzsczxuoxzprunzjicilfxdlalvfjilpngsdzysyroenxvnuajyliqfjtsgqdncqno uvmsirjnkmcpznatcinefh po ewnwwpxlpsranbqmaoizoqfbtxnaitpkiuavqsezapzkkdvkzubmnmbvrgqlgjsjpileadvt thszzwbrwbxuceygkzuihlclkikvxjfmtmwrjuwvcapwujoztrxtqnpvdslwcybgaxgoypearymfcjmktcyw xhwqncviduwdjdvwvmfionisrutiftesgadieitjxbfaidbwsaedbdlmuckcwnevtojfomazwgzrcwgnueafspyjhzyotpkykupuqhkhrqbhrehenjoa ivgeximchdbfphgfdzuavrcrwsuwihmlarjoyi exoszcyfzsdb loyzassrkqrhwuibbcxrpctvmygpcmtq ja vnekectdrpybrdsmhmldzbuhaq qf\n"
     ]
    }
   ],
   "source": [
    "# Then we join everything here into one string which is our public key.\n",
    "\n",
    "Alice_public_key = \"\".join(plaintext)\n",
    "print(Alice_public_key)\n",
    "\n",
    "\n",
    "## if the decryption did not work (was not plain text):\n",
    "    # comment the code above,\n",
    "    # uncomment the following lines\n",
    "\n",
    "#Alice_public_key = create_string()\n",
    "#print(Alice_public_key)\n",
    "#\n",
    "### (We are pretending this worked so we can do the next stage)."
   ]
  },
  {
   "cell_type": "markdown",
   "id": "11a1895a",
   "metadata": {},
   "source": [
    "#### Alice now knows the public key. The first thing here is the Vigenère key. We split the string up into its parts:"
   ]
  },
  {
   "cell_type": "code",
   "execution_count": 115,
   "id": "1127d95a",
   "metadata": {},
   "outputs": [
    {
     "name": "stdout",
     "output_type": "stream",
     "text": [
      "['ZGQMUGNRMHCEXLUPTBVJVLFNFTDHWMFKLPIVGLDMSLEYSJEIMNFIPUEYPEOKTIRIVLPZLKTRPHBWQYIHZEEAXEOABWCAKSZIXWOEEFUGPGRWGTXDJQGKTHAJQZGIURUSTBGPJNXVBNBTYEXUPKSZTNSMBXGYZBSQKHEVLZFRDLAYDEJYZHUMXHKKLGCPPTYFOFNZCZMJUUVRIPXSGLCCOVFGYQFRMAZGUHWWOUDIXPLIDOGCXZFCEEQJPXLOSGRCAJHUPESO', 'rlfwannlxmkolgdxbadekebjjbswnkdgnswzcxnznxofztkgwhyedfckytahhxgzmaghjgbpbksbxwdcmzkflnigzlaepeykukrvxyrt', 'pyifkrrjiorivyyucnnd', 'cbkxjtaizpxggcougvoxbevxjqwltz', 'gdjkvdbubzdppnagzherhbskpjfvlhokjrhkabinguhtxswojxayawlu', 'hjtkdrhnejjvstmhpbcfptogtuhpxpvzsnfdjmubsuipdttllxcutbkjfumtusfqovmuvjxqwyqkhgyrgmhvdqdafedvnhcvmrycvuotjwbxmovlbykwnfzqvheblivgfnrnklzaakknvqsquzdokpyqwebqljzg', 'mwudetcgpzdjblversfltelbsihr', 'ymmivsynpqeygltysxvclvxemgoy', 'fcrzrwuxepwtxdgymdlywmiepfcszemxmqufqracsfjhtfgtgrnimnoicdpgmvmbfrhaeoqceuuyhsegparb', 'ellzqptaslbtjcfzgwxoocehyhgktniyqgqwvauqwifkqvzvboiwfyksktxnxauremlfhurxnpysqxijhqhcsgydfg', 'dh', 'odyasehwhycz', 'hfltzdlaxkimojqajzmercamorqovpjyuljpobmjmppmaudyqbqdyx', 'bswcrffopxumgxfslcpdnvwjopqirkjsef', 'dknrsvnqxfzmntowkaqtqydmtggsixvoctdwsoupolwfhiwxtwwkginyeqcovbutikjlrmbiohgbjelqqufpyvkbqe', 'lslkshplbniaxcwazoqjlrzfziughochqzsczxuoxzprunzjicilfxdlalvfjilpngsdzysyroenxvnuajyliqfjtsgqdncqno', 'uvmsirjnkmcpznatcinefh', 'po', 'ewnwwpxlpsranbqmaoizoqfbtxnaitpkiuavqsezapzkkdvkzubmnmbvrgqlgjsjpileadvt', 'thszzwbrwbxuceygkzuihlclkikvxjfmtmwrjuwvcapwujoztrxtqnpvdslwcybgaxgoypearymfcjmktcyw', 'xhwqncviduwdjdvwvmfionisrutiftesgadieitjxbfaidbwsaedbdlmuckcwnevtojfomazwgzrcwgnueafspyjhzyotpkykupuqhkhrqbhrehenjoa', 'ivgeximchdbfphgfdzuavrcrwsuwihmlarjoyi', 'exoszcyfzsdb', 'loyzassrkqrhwuibbcxrpctvmygpcmtq', 'ja', 'vnekectdrpybrdsmhmldzbuhaq', 'qf']\n",
      "{'a': ['rl', 'fw', 'an', 'nl', 'xm', 'ko', 'lg', 'dx', 'ba', 'de', 'ke', 'bj', 'jb', 'sw', 'nk', 'dg', 'ns', 'wz', 'cx', 'nz', 'nx', 'of', 'zt', 'kg', 'wh', 'ye', 'df', 'ck', 'yt', 'ah', 'hx', 'gz', 'ma', 'gh', 'jg', 'bp', 'bk', 'sb', 'xw', 'dc', 'mz', 'kf', 'ln', 'ig', 'zl', 'ae', 'pe', 'yk', 'uk', 'rv', 'xy', 'rt'], 'b': ['py', 'if', 'kr', 'rj', 'io', 'ri', 'vy', 'yu', 'cn', 'nd'], 'c': ['cb', 'kx', 'jt', 'ai', 'zp', 'xg', 'gc', 'ou', 'gv', 'ox', 'be', 'vx', 'jq', 'wl', 'tz'], 'd': ['gd', 'jk', 'vd', 'bu', 'bz', 'dp', 'pn', 'ag', 'zh', 'er', 'hb', 'sk', 'pj', 'fv', 'lh', 'ok', 'jr', 'hk', 'ab', 'in', 'gu', 'ht', 'xs', 'wo', 'jx', 'ay', 'aw', 'lu'], 'e': ['hj', 'tk', 'dr', 'hn', 'ej', 'jv', 'st', 'mh', 'pb', 'cf', 'pt', 'og', 'tu', 'hp', 'xp', 'vz', 'sn', 'fd', 'jm', 'ub', 'su', 'ip', 'dt', 'tl', 'lx', 'cu', 'tb', 'kj', 'fu', 'mt', 'us', 'fq', 'ov', 'mu', 'vj', 'xq', 'wy', 'qk', 'hg', 'yr', 'gm', 'hv', 'dq', 'da', 'fe', 'dv', 'nh', 'cv', 'mr', 'yc', 'vu', 'ot', 'jw', 'bx', 'mo', 'vl', 'by', 'kw', 'nf', 'zq', 'vh', 'eb', 'li', 'vg', 'fn', 'rn', 'kl', 'za', 'ak', 'kn', 'vq', 'sq', 'uz', 'do', 'kp', 'yq', 'we', 'bq', 'lj', 'zg'], 'f': ['mw', 'ud', 'et', 'cg', 'pz', 'dj', 'bl', 've', 'rs', 'fl', 'te', 'lb', 'si', 'hr'], 'g': ['ym', 'mi', 'vs', 'yn', 'pq', 'ey', 'gl', 'ty', 'sx', 'vc', 'lv', 'xe', 'mg', 'oy'], 'h': ['fc', 'rz', 'rw', 'ux', 'ep', 'wt', 'xd', 'gy', 'md', 'ly', 'wm', 'ie', 'pf', 'cs', 'ze', 'mx', 'mq', 'uf', 'qr', 'ac', 'sf', 'jh', 'tf', 'gt', 'gr', 'ni', 'mn', 'oi', 'cd', 'pg', 'mv', 'mb', 'fr', 'ha', 'eo', 'qc', 'eu', 'uy', 'hs', 'eg', 'pa', 'rb'], 'i': ['el', 'lz', 'qp', 'ta', 'sl', 'bt', 'jc', 'fz', 'gw', 'xo', 'oc', 'eh', 'yh', 'gk', 'tn', 'iy', 'qg', 'qw', 'va', 'uq', 'wi', 'fk', 'qv', 'zv', 'bo', 'iw', 'fy', 'ks', 'kt', 'xn', 'xa', 'ur', 'em', 'lf', 'hu', 'rx', 'np', 'ys', 'qx', 'ij', 'hq', 'hc', 'sg', 'yd', 'fg'], 'j': ['dh'], 'k': ['od', 'ya', 'se', 'hw', 'hy', 'cz'], 'l': ['hf', 'lt', 'zd', 'la', 'xk', 'im', 'oj', 'qa', 'jz', 'me', 'rc', 'am', 'or', 'qo', 'vp', 'jy', 'ul', 'jp', 'ob', 'mj', 'mp', 'pm', 'au', 'dy', 'qb', 'qd', 'yx'], 'm': ['bs', 'wc', 'rf', 'fo', 'px', 'um', 'gx', 'fs', 'lc', 'pd', 'nv', 'wj', 'op', 'qi', 'rk', 'js', 'ef'], 'n': ['dk', 'nr', 'sv', 'nq', 'xf', 'zm', 'nt', 'ow', 'ka', 'qt', 'qy', 'dm', 'tg', 'gs', 'ix', 'vo', 'ct', 'dw', 'so', 'up', 'ol', 'wf', 'hi', 'wx', 'tw', 'wk', 'gi', 'ny', 'eq', 'co', 'vb', 'ut', 'ik', 'jl', 'rm', 'bi', 'oh', 'gb', 'je', 'lq', 'qu', 'fp', 'yv', 'kb', 'qe'], 'o': ['ls', 'lk', 'sh', 'pl', 'bn', 'ia', 'xc', 'wa', 'zo', 'qj', 'lr', 'zf', 'zi', 'ug', 'ho', 'ch', 'qz', 'sc', 'zx', 'uo', 'xz', 'pr', 'un', 'zj', 'ic', 'il', 'fx', 'dl', 'al', 'vf', 'ji', 'lp', 'ng', 'sd', 'zy', 'sy', 'ro', 'en', 'xv', 'nu', 'aj', 'yl', 'iq', 'fj', 'ts', 'gq', 'dn', 'cq', 'no'], 'p': ['uv', 'ms', 'ir', 'jn', 'km', 'cp', 'zn', 'at', 'ci', 'ne', 'fh'], 'q': ['po'], 'r': ['ew', 'nw', 'wp', 'xl', 'ps', 'ra', 'nb', 'qm', 'ao', 'iz', 'oq', 'fb', 'tx', 'na', 'it', 'pk', 'iu', 'av', 'qs', 'ez', 'ap', 'zk', 'kd', 'vk', 'zu', 'bm', 'nm', 'bv', 'rg', 'ql', 'gj', 'sj', 'pi', 'le', 'ad', 'vt'], 's': ['th', 'sz', 'zw', 'br', 'wb', 'xu', 'ce', 'yg', 'kz', 'ui', 'hl', 'cl', 'ki', 'kv', 'xj', 'fm', 'tm', 'wr', 'ju', 'wv', 'ca', 'pw', 'uj', 'oz', 'tr', 'xt', 'qn', 'pv', 'ds', 'lw', 'cy', 'bg', 'ax', 'go', 'yp', 'ea', 'ry', 'mf', 'cj', 'mk', 'tc', 'yw'], 't': ['xh', 'wq', 'nc', 'vi', 'du', 'wd', 'jd', 'vw', 'vm', 'fi', 'on', 'is', 'ru', 'ti', 'ft', 'es', 'ga', 'di', 'ei', 'tj', 'xb', 'fa', 'id', 'bw', 'sa', 'ed', 'bd', 'lm', 'uc', 'kc', 'wn', 'ev', 'to', 'jf', 'om', 'az', 'wg', 'zr', 'cw', 'gn', 'ue', 'af', 'sp', 'yj', 'hz', 'yo', 'tp', 'ky', 'ku', 'pu', 'qh', 'kh', 'rq', 'bh', 're', 'he', 'nj', 'oa'], 'u': ['iv', 'ge', 'xi', 'mc', 'hd', 'bf', 'ph', 'gf', 'dz', 'ua', 'vr', 'cr', 'ws', 'uw', 'ih', 'ml', 'ar', 'jo', 'yi'], 'v': ['ex', 'os', 'zc', 'yf', 'zs', 'db'], 'w': ['lo', 'yz', 'as', 'sr', 'kq', 'rh', 'wu', 'ib', 'bc', 'xr', 'pc', 'tv', 'my', 'gp', 'cm', 'tq'], 'x': ['ja'], 'y': ['vn', 'ek', 'ec', 'td', 'rp', 'yb', 'rd', 'sm', 'hm', 'ld', 'zb', 'uh', 'aq'], 'z': ['qf']}\n"
     ]
    }
   ],
   "source": [
    "# split back into seperate strings\n",
    "split_parts = Alice_public_key.split()\n",
    "\n",
    "print(split_parts)\n",
    "\n",
    "alph = '0abcdefghijklmnopqrstuvwxyz' # we will use this to reference items in the dictionary\n",
    "vigenere_key = split_parts[0] # the vigenere key is the first part\n",
    "\n",
    "letters = {} # Alice creates a dictionary for the 2grams\n",
    "for xx in range(1, len(split_parts)):\n",
    "    letter_grams = []\n",
    "    i = 1 # ignore vignere key for this part\n",
    "    while i < len(split_parts[xx]):\n",
    "        bigram1 = split_parts[xx][i-1], split_parts[xx][i] # takes pairs in each value and assigns them to a letter\n",
    "        bigram2 = \"\".join(bigram1)\n",
    "        letter_grams.append(bigram2)\n",
    "        i += 2\n",
    "    letters[alph[xx]] = letter_grams  # But we want our keys to be letters, so we change our dictionary to have letters as keys\n",
    "\n",
    "\n",
    "print(letters)\n",
    "\n",
    "# This tells us all the 2grams associated with each letter."
   ]
  },
  {
   "cell_type": "markdown",
   "id": "f579e272",
   "metadata": {},
   "source": [
    "#### We will have Alice store the bigrams in an inverse dictionary as well, so that it is easier to decode the message.\n",
    "\n",
    "We do this by taking each pair of (letter, pair), and assigning the dictionary item with the key of the pair, to the letter. Then we will have multiple pairs going to the smae letters, which is what we want when decrypting our message.\n",
    "\n",
    "\n",
    "We find the corresponding dictionary item to each gram by using it as a key in the dictionary, and do this for every item in the message. Then we use the ''.join() function to turn this back into text, rather than a list of letters."
   ]
  },
  {
   "cell_type": "code",
   "execution_count": 116,
   "id": "31f1c756",
   "metadata": {},
   "outputs": [
    {
     "name": "stdout",
     "output_type": "stream",
     "text": [
      "nfya\n"
     ]
    }
   ],
   "source": [
    "# Store the letters under the key of the 2grams:\n",
    "\n",
    "reverse_dict = {}\n",
    "for letter, grams in letters.items():\n",
    "    for gram in grams:\n",
    "        reverse_dict[gram] = letter\n",
    "\n",
    "# print(reverse_dict) # uncomment to see the reverse dictionary working\n",
    "# Create a function that decrpyts any bigram encoded message:\n",
    "\n",
    "def bigram_decrypt(encrypted_2grams_message):\n",
    "    global reverse_dict # refer to the dictionary globally so we can use the definition we created above.\n",
    "    decrypted_message = ''.join([reverse_dict[gram] for gram in encrypted_2grams_message])\n",
    "    return decrypted_message\n",
    "\n",
    "encrypted_2grams_message = ['wf', 'ud', 'ec', 'of'] # random message, the letters regenerate each time cell is run\n",
    "print(bigram_decrypt(encrypted_2grams_message)) # example of how the code works"
   ]
  },
  {
   "cell_type": "markdown",
   "id": "5db40aa0",
   "metadata": {},
   "source": [
    "#### We will leave this for now and come back to it once we have undone the Vigenère Cipher, as the message was Vigenère encrypted after the bigram encryption.\n",
    "\n",
    "#### We will use our previous vigenere_decrypt() function, on encrypted_text.txt, which is where the message was stored."
   ]
  },
  {
   "cell_type": "code",
   "execution_count": 117,
   "id": "3bd89574",
   "metadata": {},
   "outputs": [
    {
     "name": "stdout",
     "output_type": "stream",
     "text": [
      "Input the name of the text file you would like to encrypt / decrypt, including the .txt: encrypted_text.txt\n",
      "Decrypted message written to decrypted_text.txt\n"
     ]
    }
   ],
   "source": [
    "vigenere_decrypt() #INPUT encrypted_text.txt HERE!!"
   ]
  },
  {
   "cell_type": "markdown",
   "id": "2787bb5a",
   "metadata": {},
   "source": [
    "##### Decrypted text written to decrypted_text.txt. Now we can run this through our bigram decryption!<a name=\"md\"></a>\n",
    "\n",
    "#### We need to assign a variable to the imported version of this decrypted file first. 'dec' now means decrypted_text.txt, and we can use it here to crack the bigram encryption, using the reverse dictionary."
   ]
  },
  {
   "cell_type": "code",
   "execution_count": 119,
   "id": "b6ab1e5a",
   "metadata": {},
   "outputs": [
    {
     "data": {
      "text/plain": [
       "'riveseyandtherestofthesegentlemenhavingaskedmetowritedownthewholeparticularsaboutreasureslandfromthebeginningtotheendkeepingnothingbackbutthebearingsoftheislandandthatonlybecausethereisstilltreasurenotyetliftedtakeupmypenintheyearofgraceandgobacktothetimewhenmyfatherkeptthedmiralenbowinnandthebrownoldseamanwiththesabrecutfirsttookuphislodgingunderourroofrememberhimasifitwereyesterdayashecameploddingtotheinndoorhisseachestfollowingbehindhiminahandbarrowatallstrongheavynutbrownmanhistarrypigtailfallingovertheshoulderofhissoiledbluecoathishandsraggedandscarredwithblackbrokennailsandthesabrecutacrossonecheekadirtylividwhiterememberhimlookingroundthecoveandwhistlingtohimselfashedidsoandthenbreakingoutinthatoldseasongthathesangsooftenafterwardsifteenmenonthedeadmanschestohohoandabottleofruminthehigholdtotteringvoicethatseemedtohavebeentunedandbrokenatthecapstanbarshenherappedonthedoorwithabitofsticklikeahandspikethathecarriedandwhenmyfatherappearedcalledroughlyforaglassofrumhiswhenitwasbroughttohimhedrankslowlylikeaconnoisseurlingeringonthetasteandstilllookingabouthimatthecliffsandupatoursignboardhisisahandycovesaysheatlengthandapleasantsittyatedgrogshopuchcompanymateyfathertoldhimnoverylittlecompanythemorewasthepityellthensaidhethisistheberthformeereyoumateyhecriedtothemanwhotrundledthebarrowbringupalongsideandhelpupmychestllstayhereabithecontinuedmaplainmanrumandbaconandeggsiswhatwantandthatheaduptherefortowatchshipsoffhatyoumoughtcallmeoumoughtcallmecaptainhseewhatyoureatthereandhethrewdownthreeorfourgoldpiecesonthethresholdoucantellmewhenveworkedthroughthatsayshelookingasfierceasacommanderndindeedbadashisclotheswereandcoarselyashespokehehadnoneoftheappearanceofamanwhosailedbeforethemastbutseemedlikeamateorskipperaccustomedtobeobeyedortostrikehemanwhocamewiththebarrowtoldusthemailhadsethimdownthemorningbeforeattheoyaleorgethathehadinquiredwhatinnstherewerealongthecoastandhearingourswellspokenofsupposeanddescribedaslonelyhadchosenitfromtheothersforhisplaceofresidencendthatwasallwecouldlearnofourguestewasaverysilentmanbycustomlldayhehungroundthecoveoruponthecliffswithabrasstelescopealleveninghesatinacorneroftheparlournextthefireanddrankrumandwaterverystrongostlyhewouldnotspeakwhenspokentoonlylookupsuddenandfierceandblowthroughhisnoselikeafoghornandweandthepeoplewhocameaboutourhousesoonlearnedtolethimbeverydaywhenhecamebackfromhisstrollhewouldaskifanyseafaringmenhadgonebyalongtheroadtfirstwethoughtitwasthewantofcompanyofhisownkindthatmadehimaskthisquestionbutatlastwebegantoseehewasdesiroustoavoidthemhenaseamandidputupatthedmiralenbowasnowandthensomedidmakingbythecoastroadforristolhewouldlookinathimthroughthecurtaineddoorbeforeheenteredtheparlourandhewasalwayssuretobeassilentasamousewhenanysuchwaspresentormeatleasttherewasnosecretaboutthematterforwasinawayasharerinhisalarmsehadtakenmeasideonedayandpromisedmeasilverfourpennyonthefirstofeverymonthifwouldonlykeepmyweathereyeopenforaseafaringmanwithonelegandlethimknowthemomentheappearedftenenoughwhenthefirstofthemonthcameroundandappliedtohimformywagehewouldonlyblowthroughhisnoseatmeandstaremedownbutbeforetheweekwasouthewassuretothinkbetterofitbringmemyfourpennypieceandrepeathisorderstolookoutfortheseafaringmanwithonelegowthatpersonagehauntedmydreamsneedscarcelytellyounstormynightswhenthewindshookthefourcornersofthehouseandthesurfroaredalongthecoveandupthecliffswouldseehiminathousandformsandwithathousanddiabolicalexpressionsowthelegwouldbecutoffatthekneenowatthehipnowhewasamonstrouskindofacreaturewhohadneverhadbuttheonelegandthatinthemiddleofhisbodyoseehimleapandrunandpursuemeoverhedgeandditchwastheworstofnightmaresndaltogetherpaidprettydearformymonthlyfourpennypieceintheshapeoftheseabominablefanciesutthoughwassoterrifiedbytheideaoftheseafaringmanwithonelegwasfarlessafraidofthecaptainhimselfthananybodyelsewhoknewhimherewerenightswhenhetookadealmorerumandwaterthanhisheadwouldcarryandthenhewouldsometimessitandsinghiswickedoldwildseasongsmindingnobodybutsometimeshewouldcallforglassesroundandforceallthetremblingcompanytolistentohisstoriesorbearachorustohissingingftenhaveheardthehouseshakingwithohohoandabottleofrumalltheneighboursjoininginfordearlifewiththefearofdeathuponthemandeachsinginglouderthantheothertoavoidremarkorinthesefitshewasthemostoverridingcompanioneverknownhewouldslaphishandonthetableforsilenceallroundhewouldflyupinapassionofangerataquestionorsometimesbecausenonewasputandsohejudgedthecompanywasnotfollowinghisstoryorwouldheallowanyonetoleavetheinntillhehaddrunkhimselfsleepyandreeledofftobedisstorieswerewhatfrightenedpeopleworstofallreadfulstoriestheywereabouthangingandwalkingtheplankandstormsatseaandtheryortugasandwilddeedsandplacesonthepanishainyhisownaccounthemusthavelivedhislifeamongsomeofthewickedestmenthatodeverallowedupontheseaandthelanguageinwhichhetoldthesestoriesshockedourplaincountrypeoplealmostasmuchasthecrimesthathedescribedyfatherwasalwayssayingtheinnwouldberuinedforpeoplewouldsoonceasecomingtheretobetyrannizedoverandputdownandsentshiveringtotheirbedsbutreallybelievehispresencedidusgoodeoplewerefrightenedatthetimebutonlookingbacktheyratherlikedititwasafineexcitementinaquietcountrylifeandtherewasevenapartyoftheyoungermenwhopretendedtoadmirehimcallinghimatrueseadogandarealoldsaltandsuchlikenamesandsayingtherewasthesortofmanthatmadenglandterribleatseanonewayindeedhebadefairtoruinusforhekeptonstayingweekafterweekandatlastmonthaftermonthsothatallthemoneyhadbeenlongexhaustedandstillmyfatherneverpluckedupthehearttoinsistonhavingmorefeverhementioneditthecaptainblewthroughhisnosesoloudlythatyoumightsayheroaredandstaredmypoorfatheroutoftheroomhaveseenhimwringinghishandsaftersucharebuffandamsuretheannoyanceandtheterrorhelivedinmusthavegreatlyhastenedhisearlyandunhappydeathllthetimehelivedwithusthecaptainmadenochangewhateverinhisdressbuttobuysomestockingsfromahawkerneofthecocksofhishathavingfallendownheletithangfromthatdayforththoughitwasagreatannoyancewhenitblewremembertheappearanceofhiscoatwhichhepatchedhimselfupstairsinhisroomandwhichbeforetheendwasnothingbutpatcheseneverwroteorreceivedaletterandheneverspokewithanybuttheneighboursandwiththeseforthemostpartonlywhendrunkonrumhegreatseachestnoneofushadeverseenopenewasonlyoncecrossedandthatwastowardstheendwhenmypoorfatherwasfargoneinadeclinethattookhimoffriveseycamelateoneafternoontoseethepatienttookabitofdinnerfrommymotherandwentintotheparlourtosmokeapipeuntilhishorseshouldcomedownfromthehamletforwehadnostablingattheoldenbowfollowedhiminandrememberobservingthecontrasttheneatbrightdoctorwithhispowderaswhiteassnowandhisbrightblackeyesandpleasantmannersmadewiththecoltishcountryfolkandaboveallwiththatfilthyheavyblearedscarecrowofapirateofourssittingfargoneinrumwithhisarmsonthetableuddenlyhethecaptainthatisbegantopipeuphiseternalsongifteenmenonthedeadmanschestohohoandabottleofrumrinkandthedevilhaddonefortherestohohoandabottleofrumtfirsthadsupposedthedeadmanschesttobethatidenticalbigboxofhisupstairsinthefrontroomandthethoughthadbeenmingledinmynightmareswiththatoftheoneleggedseafaringmanutbythistimewehadalllongceasedtopayanyparticularnoticetothesongitwasnewthatnighttonobodybutriveseyandonhimobserveditdidnotproduceanagreeableeffectforhelookedupforamomentquiteangrilybeforehewentonwithhistalktooldaylorthegardeneronanewcurefortherheumaticsnthemeantimethecaptaingraduallybrightenedupathisownmusicandatlastflappedhishanduponthetablebeforehiminawayweallknewtomeansilencehevoicesstoppedatonceallbutriveseyshewentonasbeforespeakingclearandkindanddrawingbrisklyathispipebetweeneverywordortwohecaptainglaredathimforawhileflappedhishandagainglaredstillharderandatlastbrokeoutwithavillainouslowoathilencetherebetweendecksereyouaddressingmesirsaysthedoctorandwhentheruffianhadtoldhimwithanotheroaththatthiswassohaveonlyonethingtosaytoyousirrepliesthedoctorthatifyoukeepondrinkingrumtheworldwillsoonbequitofaverydirtyscoundrelheoldfellowsfurywasawfulesprangtohisfeetdrewandopenedasailorsclaspknifeandbalancingitopenonthepalmofhishandthreatenedtopinthedoctortothewallhedoctorneversomuchasmovedespoketohimasbeforeoverhisshoulderandinthesametoneofvoiceratherhighsothatalltheroommighthearbutperfectlycalmandsteadyfyoudonotputthatknifethisinstantinyourpocketpromiseuponmyhonouryoushallhangatthenextassizeshenfollowedabattleoflooksbetweenthembutthecaptainsoonknuckledunderputuphisweaponandresumedhisseatgrumblinglikeabeatendogndnowsircontinuedthedoctorsincenowknowtheressuchafellowinmydistrictyoumaycountllhaveaneyeuponyoudayandnightmnotadoctoronlymamagistrateandifcatchabreathofcomplaintagainstyouifitsonlyforapieceofincivilityliketonightslltakeeffectualmeanstohaveyouhunteddownandroutedoutofthisetthatsufficeoonafterriveseyshorsecametothedoorandherodeawaybutthecaptainheldhispeacethateveningandformanyeveningstocome'"
      ]
     },
     "execution_count": 119,
     "metadata": {},
     "output_type": "execute_result"
    }
   ],
   "source": [
    "code_file = open(\"decrypted_text.txt\")\n",
    "dec = code_file.read()\n",
    "\n",
    "#print(dec)\n",
    "\n",
    "#we need to put our message into a list of 2grams\n",
    "message_grams = []\n",
    "i = 1\n",
    "while i < len(dec):\n",
    "    bigram3 = dec[i-1], dec[i]\n",
    "    bigram4 = \"\".join(bigram3)\n",
    "    message_grams.append(bigram4)\n",
    "    i += 2\n",
    "\n",
    "# Message_grams is now the decrypted text as a list of 2grams. we can fianlly use bigram_decrypt...\n",
    "bigram_decrypt(message_grams)"
   ]
  },
  {
   "cell_type": "markdown",
   "id": "81df4337",
   "metadata": {},
   "source": [
    "### Alice has the message!\n",
    "\n",
    "##### Alice has used Bob's public key to decrypt the message he sent, which had been encrypted with bigrams and the Vigenère Cipher."
   ]
  },
  {
   "cell_type": "markdown",
   "id": "2d88ff39",
   "metadata": {},
   "source": [
    "# Break the Vigenere Cypher<a name=\"bvc\"></a>\n",
    "\n",
    "## early version this needs changing\n",
    "\n",
    "\n",
    "In this part, we will use some steps to crack the Vigenere Cypher, but the final result failed and failed to meet expectations, probably because the key length was not found accurately. First, the program asks the user to provide an encrypted file to read its contents. Then it will analyze the distribution of repeated patterns in the ciphertext through the Kasiski test and estimate the possible key length. Next, it will select the most likely key length based on the frequency of occurrence. Next, it will use each possible key length, combined with the letter frequency analysis, to guess the key and try to decrypt. If the decryption is successful, the decrypted text is output and saved to a file."
   ]
  },
  {
   "cell_type": "code",
   "execution_count": null,
   "id": "987b1a37",
   "metadata": {},
   "outputs": [],
   "source": [
    "import re\n",
    "from collections import Counter\n",
    "from math import gcd\n",
    "from functools import reduce\n",
    "import os\n",
    "from collections import Counter\n",
    "def load_file():\n",
    "    \n",
    "    while True:\n",
    "        fname = input(\"Enter the encrypted file name (with .txt extension): \")\n",
    "        if os.path.isfile(fname):  # Check if the file exists\n",
    "            with open(fname, 'r', encoding='utf-8') as f:\n",
    "                text = f.read().strip()  # Read the file content\n",
    "            print(f\"Loaded file: {fname}\")\n",
    "            return text\n",
    "        else:\n",
    "            print(\"File not found. Make sure it's in the current directory.\")"
   ]
  },
  {
   "cell_type": "markdown",
   "id": "ae67d39a",
   "metadata": {},
   "source": [
    "## Kasiski function<a name=\"kf\"></a>\n",
    "Accepts two parameters, min_n and max_n, which represent the minimum and maximum lengths of n-grams.\n",
    "Find all n-grams (n consecutive characters) and their repeated positions in the ciphertext."
   ]
  },
  {
   "cell_type": "code",
   "execution_count": null,
   "id": "5ce1c5fb",
   "metadata": {},
   "outputs": [],
   "source": [
    "\n",
    "##Perform Kasiski examination to estimate key length.\n",
    "def kasiski(min_n, max_n):\n",
    "    \n",
    "    file_name = load_file()\n",
    "    key_file = open(\"_vigenere_key.txt\")\n",
    "    text = key_file.read()\n",
    "    \n",
    "    dists = []\n",
    "    for n in range(min_n, max_n + 1):  # Try n-grams from min_n to max_n\n",
    "        ngrams = [text[i:i + n] for i in range(len(text) - n + 1)]\n",
    "        repeats = [ng for ng, count in Counter(ngrams).items() if count > 1]\n",
    "        \n",
    "        for ng in repeats:\n",
    "            positions = [m.start() for m in re.finditer(re.escape(ng), text)]\n",
    "            dists.extend([positions[i + 1] - positions[i] for i in range(len(positions) - 1)])\n",
    "    \n",
    "    print(dists)\n",
    "    # find all the factors of each dist, add to factors list\n",
    "    factors = []\n",
    "    \n",
    "    for n in dists:\n",
    "        for i in range(1, n + 1):\n",
    "            if n % i == 0:\n",
    "                factors.append(i)\n",
    "    return factors"
   ]
  },
  {
   "cell_type": "markdown",
   "id": "d09ea53d",
   "metadata": {},
   "source": [
    "## Extract possible key lengths<a name=\"epkl\"></a>\n",
    "Call kasiski function, get all factors, and use Counter to count the number of occurrences of each factor.\n",
    "Then find the factors that appear more than the threshold as possible key lengths."
   ]
  },
  {
   "cell_type": "code",
   "execution_count": null,
   "id": "978a75b4",
   "metadata": {},
   "outputs": [],
   "source": [
    "def potential_lengths(minimum):\n",
    "    factors = kasiski(2, 5)\n",
    "    \n",
    "    c = Counter(factors)\n",
    "    \n",
    "    lengths = []\n",
    "   \n",
    "    for x in range(len(c)):\n",
    "        if c[x] > minimum: # minimum is now 0.8 x the most common dist count\n",
    "            lengths.append(x)\n",
    "    \n",
    "    lengths.reverse()  \n",
    "    return lengths\n"
   ]
  },
  {
   "cell_type": "markdown",
   "id": "0390fdff",
   "metadata": {},
   "source": [
    "## Decrypt the ciphertext with the given key length<a name=\"dc\"></a>"
   ]
  },
  {
   "cell_type": "code",
   "execution_count": null,
   "id": "5fe11112",
   "metadata": {},
   "outputs": [],
   "source": [
    "def try_key_len(text, klen):\n",
    "    \n",
    "    key = []\n",
    "    freq_order = \"\".join(frequency_finder(text))  # Common English letter frequency function, created above\n",
    "    for i in range(klen):  # Process each key position\n",
    "        seg = ''.join(text[j] for j in range(i, len(text), klen))  # Extract the i-th segment\n",
    "        seg_freq = frequency_finder(seg)  # Analyze letter frequency in the segment\n",
    "\n",
    "        # Determine the shift for the current segment\n",
    "        for letter in seg_freq:\n",
    "            shift = (ord(letter.upper()) - ord('E')) % 26\n",
    "            decoded = ''.join(\n",
    "                chr(((ord(c.upper()) - shift - 65) % 26) + 65) if c.isalpha() else c\n",
    "                for c in seg\n",
    "            )\n",
    "            if all(c.upper() in freq_order[:10] for c in decoded[:10]):  # Check plausibility\n",
    "                key.append(chr(shift + 65))\n",
    "                break\n",
    "\n",
    "    if not key:  # If no key could be determined\n",
    "        return None\n",
    "\n",
    "    print(f\"Estimated key: {''.join(key)}\")\n",
    "    return decrypt(text, ''.join(key))  # Decrypt the text with the determined key"
   ]
  },
  {
   "cell_type": "markdown",
   "id": "fb29e3cb",
   "metadata": {},
   "source": [
    "## Decrypt the ciphertext<a name=\"dtc\"></a>\n",
    "Try the possible key lengths returned by potential_lengths in turn. Then call try_key_len to try decryption. If successful, return the decryption result; otherwise, continue to try the next key length."
   ]
  },
  {
   "cell_type": "code",
   "execution_count": null,
   "id": "5e0f4fa3",
   "metadata": {
    "scrolled": true
   },
   "outputs": [],
   "source": [
    "def crack_vigenere():\n",
    "    \n",
    "    # Step 1: Estimate key length with Kasiski examination\n",
    "    for klen in potential_lengths(3):\n",
    "        print(\"Testing possible lengths...\")\n",
    "        print(f\"Trying key length: {klen}\")\n",
    "        result = try_key_len(text, klen)\n",
    "        if result:\n",
    "            return result\n",
    "        else:\n",
    "            print(\"Failed to decrypt the ciphertext.\")\n",
    "            \n",
    "    print(f\"Estimated key length: {klen}\")\n",
    "    return try_key_len(text, klen)\n",
    "\n",
    "\n",
    "def save_file(text):\n",
    "    \n",
    "    output_file = \"decrypted_text.txt\"\n",
    "    with open(output_file, 'w', encoding='utf-8') as f:\n",
    "        f.write(text)\n",
    "    print(f\"Decrypted text saved to: {output_file}\")\n",
    "\n",
    "\n",
    "##Try decrypting with a given key length.\n",
    "\n",
    "def main():\n",
    "    print(\"Welcome to the Vigenère Cipher Cracker!\")\n",
    "    text = load_file()  # Load ciphertext from file\n",
    "    print(\"\\nAttempting to decrypt...\")\n",
    "    result = crack_vigenere()  # Crack the Vigenère cipher\n",
    "    if result:\n",
    "        print(\"\\nDecryption successful! The plaintext is:\")\n",
    "        print(result)  # Display the plaintext\n",
    "        save_file(result)  # Save the plaintext to a file\n",
    "    else:\n",
    "        print(\"\\nDecryption failed.\")\n",
    "\n",
    "\n",
    "if __name__ == \"__main__\":\n",
    "    main()  # Start the program\n",
    "    #encrypted_text.txt"
   ]
  },
  {
   "cell_type": "code",
   "execution_count": null,
   "id": "1266986a",
   "metadata": {},
   "outputs": [],
   "source": []
  },
  {
   "cell_type": "code",
   "execution_count": null,
   "id": "b91c24fc",
   "metadata": {},
   "outputs": [],
   "source": []
  },
  {
   "cell_type": "code",
   "execution_count": null,
   "id": "cbf5f25e",
   "metadata": {},
   "outputs": [],
   "source": []
  }
 ],
 "metadata": {
  "kernelspec": {
   "display_name": "Python 3 (ipykernel)",
   "language": "python",
   "name": "python3"
  },
  "language_info": {
   "codemirror_mode": {
    "name": "ipython",
    "version": 3
   },
   "file_extension": ".py",
   "mimetype": "text/x-python",
   "name": "python",
   "nbconvert_exporter": "python",
   "pygments_lexer": "ipython3",
   "version": "3.9.13"
  }
 },
 "nbformat": 4,
 "nbformat_minor": 5
}
