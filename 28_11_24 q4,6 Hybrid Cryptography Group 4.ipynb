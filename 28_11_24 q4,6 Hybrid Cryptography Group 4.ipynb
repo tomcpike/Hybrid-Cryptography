{
 "cells": [
  {
   "cell_type": "code",
   "execution_count": 1,
   "id": "d9da7753",
   "metadata": {},
   "outputs": [],
   "source": [
    "##### IMPORTS ####\n",
    "import random, requests, os, matplotlib.pyplot as plt, cryptography_functions\n",
    "\n",
    "### LET USER INPUT TEXT FILE NAME ####"
   ]
  },
  {
   "cell_type": "code",
   "execution_count": 2,
   "id": "1784b74a",
   "metadata": {},
   "outputs": [],
   "source": [
    "#### FINDING FILE IN DIRECTORY ####\n",
    "\n",
    "def find_file():\n",
    "    in_directory = False\n",
    "\n",
    "    while in_directory == False:\n",
    "        file_name = input(\"Input the name of the text file you would like to encrypt / decrypt, including the .txt: \")\n",
    "        if os.path.isfile(file_name):\n",
    "            in_directory = True\n",
    "        else:\n",
    "            print(\"\")\n",
    "            print(\"The file you inputted is not in the directory, try again\")\n",
    "          \n",
    "    return file_name"
   ]
  },
  {
   "cell_type": "code",
   "execution_count": 3,
   "id": "b0f1171d",
   "metadata": {},
   "outputs": [],
   "source": [
    "#### CASESAR CYPHER ##### (maintains case of characters)\n",
    "\n",
    "def caesar_encrypt(): #defines the caesar encryption function\n",
    "    \n",
    "    file_name = find_file()\n",
    "\n",
    "    input_text = open(file_name,\"r\") #opens the text file we want to read\n",
    "    message = input_text.read() #reads the text file to the variable message\n",
    "    \n",
    "    encrypted_text = open(\"encrypted_text.txt\",\"w\") #opens the encrypted text file to which we write the encryption\n",
    "    \n",
    "    shift_value_file = open(\"_caesar_shift_value.txt\",\"w\")\n",
    "    shift_value = random.randint(1,26) #generates a shift value between 1 and 26 inclusive\n",
    "    \n",
    "    encrypted_message = []\n",
    "    \n",
    "    for character in message: #iterates character through each element of the message\n",
    "        if character.isalpha(): #checks to see if the character is in the alphabet\n",
    "            \n",
    "            if character.isupper(): #checks to see if character is uppercase\n",
    "                offset = 65 #sets appropriate offset value\n",
    "            else:\n",
    "                offset = 97\n",
    "            \n",
    "            character_offset = ord(character)-offset #offsets character to be between 0 and 25\n",
    "\n",
    "            encrypted_message.append(chr((character_offset+shift_value)%26+offset))\n",
    "            #appends our changed letter to the encrypted message list\n",
    "    \n",
    "\n",
    "    final_text = \"\".join(encrypted_message) #turns the list into a string\n",
    "    encrypted_text.write(final_text) #writes the string to the text file\n",
    "    shift_value_file.write(str(shift_value))\n",
    "    shift_value_file.close()\n",
    "    encrypted_text.close()\n",
    "    print(\"\")\n",
    "    print(\"Encrypted message written to encrypted_text.txt\")\n",
    "    input_text.close() #closes the files\n",
    "    \n",
    "    return \n"
   ]
  },
  {
   "cell_type": "code",
   "execution_count": 4,
   "id": "4cc24d0a",
   "metadata": {},
   "outputs": [],
   "source": [
    "def caesar_decrypt(): #needs a shift value to decrypt \n",
    "    \n",
    "    file_name = find_file() #lets the user input the file name they would like to read\n",
    "    \n",
    "    shift_value_file = open(\"_caesar_shift_value.txt\",\"r\") #opens the shift value file\n",
    "    shift_value = int(shift_value_file.read()) #read the integer value stored there\n",
    "    \n",
    "    encrypted_text = open(file_name,\"r\") #opens the encrypted text file to read\n",
    "    cryptic = encrypted_text.read() #sets cryptic to the string value of all the text in encrypted_text.txt\n",
    "    \n",
    "    decrypted_text = open(\"decrypted_text.txt\",\"w\") #opens the decrypted text file to write to    \n",
    "\n",
    "    decrypted_message = []\n",
    "       \n",
    "    for character in cryptic: #iterates each character in the cryptic text\n",
    "        if character.isalpha(): #checks if character is in alphabet\n",
    "            \n",
    "            if character.isupper(): #checks if character is uppercase\n",
    "                offset = 65 #sets appropriate offset\n",
    "            else:\n",
    "                offset = 97\n",
    "            \n",
    "            character_offset = ord(character)-offset #offsets character to be between 0 and 25\n",
    "            \n",
    "            decrypted_message.append(chr((character_offset-shift_value)%26+offset))\n",
    "            #appends decrypted character to decrypted message list\n",
    "    \n",
    "    \n",
    "        \n",
    "    final_text = \"\".join(decrypted_message) #changes the list into a string\n",
    "    decrypted_text.write(final_text) #writes the string to the text file\n",
    "    \n",
    "    decrypted_text.close()  \n",
    "    encrypted_text.close()#closes the files\n",
    "    print(\"\")\n",
    "    print(\"Decrypted message written to decrypted_text.txt\")\n",
    "    \n",
    "    return "
   ]
  },
  {
   "cell_type": "code",
   "execution_count": 5,
   "id": "d112525f",
   "metadata": {},
   "outputs": [],
   "source": [
    "#caesar_encrypt()"
   ]
  },
  {
   "cell_type": "code",
   "execution_count": 6,
   "id": "5bc39ff0",
   "metadata": {},
   "outputs": [],
   "source": [
    "#caesar_decrypt()"
   ]
  },
  {
   "cell_type": "code",
   "execution_count": 7,
   "id": "fdcdfebc",
   "metadata": {},
   "outputs": [],
   "source": [
    "#### VIGENERE CYPHER ####\n",
    "def vigenere_encrypt():\n",
    "    \n",
    "    file_name = find_file()\n",
    "    \n",
    "    input_text = open(file_name,\"r\") #opens the text file we want to read\n",
    "    message_list_unfiltered = list(input_text.read()) #reads the text file to the variable message\n",
    "    message_list = [x for x in message_list_unfiltered if x.isalpha()] #makes a list of only alphabetical characters\n",
    "    encrypted_text = open(\"encrypted_text.txt\",\"w\") #opens the encrypted text file to which we write the encryption\n",
    "    key_file = open(\"_vigenere_key.txt\",\"w\")\n",
    "   \n",
    "    \n",
    "    encrypted_message = []\n",
    "    key_length = random.randint(129,384) #generates a random length for our keyword\n",
    "    \n",
    "    key_list = [random.randint(0,25) for x in range(0,key_length)] #generates a list for our keyword in ASCII\n",
    "    \n",
    "    for i in range(0,len(message_list)):\n",
    "\n",
    "        key_pos =  i%len(key_list) #generates position of where we are in the key\n",
    "        \n",
    "\n",
    "        character = message_list[i] #sets character to message character for ease\n",
    "        if character.isupper(): #checks if y is uppercase in the alphabet\n",
    "            offset = 65 #sets ASCII offsets\n",
    "        else: offset = 97\n",
    "\n",
    "        character_offset = ord(character) - offset #offsets character to be within 0 and 25\n",
    "\n",
    "        character_encrypted = (character_offset+key_list[key_pos])%26 + offset #encrypts the character \n",
    "\n",
    "        encrypted_message.append(chr(character_encrypted)) #appends encrypted character to encrypted message\n",
    "       \n",
    "    final_text = \"\".join(encrypted_message)\n",
    "    encrypted_text.write(final_text) #writes the final encrypted message to the file\n",
    "    \n",
    "    key = \"\".join(chr(m+65) for m in key_list) #turns keylist into a string\n",
    "    key_file.write(key) #writes the key to the file\n",
    "    \n",
    "    \n",
    "    encrypted_text.close()\n",
    "    input_text.close() #closes the files\n",
    "    key_file.close()\n",
    "    \n",
    "    print(\"Encrypted text written to encrypted_text.txt, and vigenere key written to _vigenere_key.txt\")\n",
    "    \n",
    "    return      "
   ]
  },
  {
   "cell_type": "code",
   "execution_count": 21,
   "id": "74e49e46",
   "metadata": {},
   "outputs": [],
   "source": [
    "def vigenere_decrypt():\n",
    "    \n",
    "    file_name = find_file()\n",
    "    \n",
    "    key_file = open(\"_vigenere_key.txt\",\"r\") #opens file with key in it to read\n",
    "    key = key_file.read() #reads the file to key\n",
    "    key_list = [ord(m) - 65 for m in key] #offsets all values of key to be between 0 and 25\n",
    "    \n",
    "    encrypted_text = open(file_name,\"r\") #opens encrypted text file to read\n",
    "    cryptic = encrypted_text.read() #reads the file to cryptic\n",
    "    \n",
    "    decrypted_text = open(\"decrypted_text.txt\",\"w\") #opens the decrypted text file to write to\n",
    "    decrypted_message = [] #creates decrypted message list\n",
    "  \n",
    "    for i in range(0,len(cryptic)): #iterates through the encrypted message\n",
    "        character = cryptic[i] #sets character to the current character\n",
    "        key_pos = i%len(key_list) #sets our position within the key \n",
    "        \n",
    "        if character.isupper(): #checks to see if the character is uppercase\n",
    "            offset = 65 #sets appropriate offset value\n",
    "        else:\n",
    "            offset = 97\n",
    "            \n",
    "        character_offset = ord(character)-offset #offsets character to be between 0 and 25\n",
    "        \n",
    "        character_decrypted = (character_offset-key_list[key_pos])%26 + offset\n",
    "        #decrypts the character using the keyword\n",
    "        \n",
    "        decrypted_message.append(chr(character_decrypted)) #appends character to decrypted message\n",
    "        \n",
    "    final_text = \"\".join(decrypted_message) #turns decrypted message into a string\n",
    "    decrypted_text.write(final_text) #writes this string to the decrypted text file\n",
    "    \n",
    "    decrypted_text.close() #closes the files\n",
    "    encrypted_text.close()\n",
    "    key_file.close()\n",
    "    return\n",
    "    \n",
    "    \n",
    "    "
   ]
  },
  {
   "cell_type": "code",
   "execution_count": 22,
   "id": "e336494c",
   "metadata": {},
   "outputs": [
    {
     "name": "stdout",
     "output_type": "stream",
     "text": [
      "Input the name of the text file you would like to encrypt / decrypt, including the .txt: message_treasure_island.txt\n",
      "Encrypted text written to encrypted_text.txt, and vigenere key written to _vigenere_key.txt\n"
     ]
    }
   ],
   "source": [
    "vigenere_encrypt()"
   ]
  },
  {
   "cell_type": "code",
   "execution_count": 10,
   "id": "486891a0",
   "metadata": {},
   "outputs": [],
   "source": [
    "vigenere_decrypt()"
   ]
  },
  {
   "cell_type": "code",
   "execution_count": 11,
   "id": "87a19902",
   "metadata": {},
   "outputs": [],
   "source": [
    "#### URL TEXT EXTRACTING ####\n",
    "def url_to_text_utf8(url):  #### Sourced code from the GitHub repo provided for this project\n",
    "    '''\n",
    "    Given a url for a text that is \n",
    "    'utf-8' encoded this function \n",
    "    returns that text.\n",
    "    '''\n",
    "    response = requests.get(url) #gets the URL of the text file\n",
    "    response.encoding = 'utf-8-sig' #encodes the text file\n",
    "    return response.text #returns the text file\n",
    "           \n",
    "def get_large_text():        \n",
    "    wonderland = url_to_text_utf8(\"https://gutenberg.org/cache/epub/11/pg11.txt\")[1490:148820]\n",
    "    gatsby = url_to_text_utf8(\"https://gutenberg.org/cache/epub/64317/pg64317.txt\")[1497:278020]\n",
    "    dracula = url_to_text_utf8(\"https://gutenberg.org/cache/epub/345/pg345.txt\")[3130:860610]\n",
    "    moby = url_to_text_utf8(\"https://gutenberg.org/cache/epub/2701/pg2701.txt\")[6000:1241690]\n",
    "    frankenstein = url_to_text_utf8(\"https://gutenberg.org/cache/epub/84/pg84.txt\")[1440:427680]\n",
    "    #creates large strings of texts from english books for analysis later\n",
    "\n",
    "    text = wonderland + gatsby + dracula + moby + frankenstein\n",
    "    return text\n",
    "\n",
    "    #text gives us approximately 3 million characters to analyse (not all may be alphabet though most all are)\n"
   ]
  },
  {
   "cell_type": "code",
   "execution_count": 12,
   "id": "46720c91",
   "metadata": {},
   "outputs": [],
   "source": [
    "def frequency_finder(text):\n",
    "    descending_frequencies = open(\"decsending_frequent_letters.txt\",\"w\")\n",
    "    counts = {chr(x):0 for x in range(65,91)} #creates a dictionary of all the letters in the alphabet with value 0\n",
    "    text = text.upper() #makes all text uppercase\n",
    "    for character in text: #iterates through all the elements of the string \"text\"\n",
    "        if character in counts: #checks if the element is an alphabet letter\n",
    "            counts[character]+=1 #ups the count by one for each letter\n",
    "    sorted_counts = dict(sorted(counts.items(), key=lambda item: item[1],reverse=True)) #sorts the dictionary by value\n",
    "    frequency = [x for x in sorted_counts] #creates an ordered list of the letters in decreasing frequency\n",
    "    descending_frequencies.write(\"\".join(frequency))\n",
    "    descending_frequencies.close()\n",
    "    return frequency"
   ]
  },
  {
   "cell_type": "code",
   "execution_count": 13,
   "id": "a32396ce",
   "metadata": {},
   "outputs": [
    {
     "data": {
      "image/png": "[encoded data removed]",
      "text/plain": [
       "<Figure size 640x480 with 1 Axes>"
      ]
     },
     "metadata": {},
     "output_type": "display_data"
    }
   ],
   "source": [
    "#### GET FREQUENCY OF LETTERS IN ENGLISH LANGUAGE, WRITE TO FILE IN DESCENDING ORDER ####\n",
    "text = get_large_text()\n",
    "counts = {chr(x):0 for x in range(65,91)}\n",
    "text = text.upper()\n",
    "for character in text:\n",
    "    if character in counts:\n",
    "        counts[character]+=1\n",
    "\n",
    "letters = list(counts.keys())\n",
    "appearances = list(counts.values())\n",
    "plt.bar(range(len(counts)),appearances,tick_label=letters)\n",
    "\n",
    "plt.show() #shows graph of letter frequencies \n",
    "\n",
    "descending_frequencies = open(\"decsending_frequent_letters.txt\",\"w\")\n",
    "sorted_counts = dict(sorted(counts.items(), key=lambda item: item[1],reverse=True)) #sorts the dictionary by value\n",
    "frequency = [x for x in sorted_counts] #creates an ordered list of the letters in decreasing frequency\n",
    "descending_frequencies.write(\"\".join(frequency))\n",
    "descending_frequencies.close() #writes the most frequent letters in descending order to the file\n",
    "\n"
   ]
  },
  {
   "cell_type": "code",
   "execution_count": 15,
   "id": "be1e8d28",
   "metadata": {},
   "outputs": [],
   "source": [
    "##### CAESAR CYPHER BREAK VIA FREQUENCY ANALYSIS ####\n",
    "\n",
    "def caesar_frequency_break():\n",
    "    \n",
    "    #DONT NEED TO RUN FREQUENCY ANALYSIS EVERY TIME, WRITE TO TEXT FILE\n",
    "    file_name = find_file()\n",
    "    \n",
    "    encrypted_text = open(file_name,\"r\") #opens the encrypted text file to read\n",
    "    cryptic = encrypted_text.read() #sets cryptic to the string value of all the text in encrypted_text.txt\n",
    "    \n",
    "    decrypted_text = open(\"decrypted_text.txt\",\"w\") #opens the decrypted text file to write to  \n",
    "    \n",
    "    frequent_letters = open(\"decsending_frequent_letters.txt\",\"r\")    \n",
    "    frequency_list = list(frequent_letters.read()) #gets the list of the most frequent letters in descending order\n",
    "    \n",
    "  \n",
    "    \n",
    "    \n",
    "    \n",
    "    message_most_frequent = frequency_finder(cryptic)[0] #finds the most frequent letter in the encrypted message\n",
    "    \n",
    "    correctness = False \n",
    "    while correctness == False: #iterates until plaintext is found\n",
    "        for i in range(0,len(frequency_list)):\n",
    "            decrypted_message = []\n",
    "            \n",
    "            shift_value = ord(message_most_frequent) - ord(frequency_list[i]) \n",
    "            #finds the shift value with corresponding letter of frequency list \n",
    "            \n",
    "            for character in cryptic: #iterates each character in the cryptic text\n",
    "                if character.isalpha(): #checks if character is in alphabet\n",
    "\n",
    "                    if character.isupper(): #checks if character is uppercase\n",
    "                        offset = 65 #sets appropriate offset\n",
    "                    else:\n",
    "                        offset = 97\n",
    "\n",
    "                    character_offset = ord(character)-offset #offsets character to be between 0 and 25\n",
    "\n",
    "                    decrypted_message.append(chr((character_offset-shift_value)%26+offset))\n",
    "                    #appends decrypted character to decrypted message list\n",
    "            print(\"\".join(decrypted_message))\n",
    "            print(\"\")\n",
    "            x = input(\"Does this look like plaintext? Press enter if so, type anything else if not: \")\n",
    "            if x == \"\":\n",
    "                correctness = True\n",
    "                print(\"\")\n",
    "                print(\"Plaintext written to decrypted_text.txt\")\n",
    "                break\n",
    "            else:\n",
    "                continue\n",
    "    decrypted_text.write(\"\".join(decrypted_message)) #writes the plaintext to decrypted_text\n",
    "    decrypted_text.close()\n",
    "    encrypted_text.close()\n",
    "    frequent_letters.close() #closes the files\n",
    "    return\n",
    "    \n",
    "    "
   ]
  },
  {
   "cell_type": "code",
   "execution_count": 26,
   "id": "695b1841",
   "metadata": {},
   "outputs": [
    {
     "name": "stdout",
     "output_type": "stream",
     "text": [
      "Input the name of the text file you would like to encrypt / decrypt, including the .txt: message_treasure_island.txt\n",
      "\n",
      "Encrypted message written to encrypted_text.txt\n",
      "Input the name of the text file you would like to encrypt / decrypt, including the .txt: message_treasure_island.txt\n",
      "SQUIRETRELAWNEYDrLiveseyandtherestofthesegentlemenhavingaskedmetowritedownthewholeparticularsaboutTreasureIslandfromthebeginningtotheendkeepingnothingbackbutthebearingsoftheislandandthatonlybecausethereisstilltreasurenotyetliftedItakeupmypenintheyearofgraceandgobacktothetimewhenmyfatherkepttheAdmiralBenbowinnandthebrownoldseamanwiththesabrecutfirsttookuphislodgingunderourroofIrememberhimasifitwereyesterdayashecameploddingtotheinndoorhisseachestfollowingbehindhiminahandbarrowatallstrongheavynutbrownmanhistarrypigtailfallingovertheshoulderofhissoiledbluecoathishandsraggedandscarredwithblackbrokennailsandthesabrecutacrossonecheekadirtylividwhiteIrememberhimlookingroundthecoveandwhistlingtohimselfashedidsoandthenbreakingoutinthatoldseasongthathesangsooftenafterwardsFifteenmenonthedeadmanschestYohohoandabottleofruminthehigholdtotteringvoicethatseemedtohavebeentunedandbrokenatthecapstanbarsThenherappedonthedoorwithabitofsticklikeahandspikethathecarriedandwhenmyfatherappearedcalledroughlyforaglassofrumThiswhenitwasbroughttohimhedrankslowlylikeaconnoisseurlingeringonthetasteandstilllookingabouthimatthecliffsandupatoursignboardThisisahandycovesaysheatlengthandapleasantsittyatedgrogshopMuchcompanymateMyfathertoldhimnoverylittlecompanythemorewasthepityWellthensaidhethisistheberthformeHereyoumateyhecriedtothemanwhotrundledthebarrowbringupalongsideandhelpupmychestIllstayhereabithecontinuedImaplainmanrumandbaconandeggsiswhatIwantandthatheaduptherefortowatchshipsoffWhatyoumoughtcallmeYoumoughtcallmecaptainOhIseewhatyoureatthereandhethrewdownthreeorfourgoldpiecesonthethresholdYoucantellmewhenIveworkedthroughthatsayshelookingasfierceasacommanderAndindeedbadashisclotheswereandcoarselyashespokehehadnoneoftheappearanceofamanwhosailedbeforethemastbutseemedlikeamateorskipperaccustomedtobeobeyedortostrikeThemanwhocamewiththebarrowtoldusthemailhadsethimdownthemorningbeforeattheRoyalGeorgethathehadinquiredwhatinnstherewerealongthecoastandhearingourswellspokenofIsupposeanddescribedaslonelyhadchosenitfromtheothersforhisplaceofresidenceAndthatwasallwecouldlearnofourguestHewasaverysilentmanbycustomAlldayhehungroundthecoveoruponthecliffswithabrasstelescopealleveninghesatinacorneroftheparlournextthefireanddrankrumandwaterverystrongMostlyhewouldnotspeakwhenspokentoonlylookupsuddenandfierceandblowthroughhisnoselikeafoghornandweandthepeoplewhocameaboutourhousesoonlearnedtolethimbeEverydaywhenhecamebackfromhisstrollhewouldaskifanyseafaringmenhadgonebyalongtheroadAtfirstwethoughtitwasthewantofcompanyofhisownkindthatmadehimaskthisquestionbutatlastwebegantoseehewasdesiroustoavoidthemWhenaseamandidputupattheAdmiralBenbowasnowandthensomedidmakingbythecoastroadforBristolhewouldlookinathimthroughthecurtaineddoorbeforeheenteredtheparlourandhewasalwayssuretobeassilentasamousewhenanysuchwaspresentFormeatleasttherewasnosecretaboutthematterforIwasinawayasharerinhisalarmsHehadtakenmeasideonedayandpromisedmeasilverfourpennyonthefirstofeverymonthifIwouldonlykeepmyweathereyeopenforaseafaringmanwithonelegandlethimknowthemomentheappearedOftenenoughwhenthefirstofthemonthcameroundandIappliedtohimformywagehewouldonlyblowthroughhisnoseatmeandstaremedownbutbeforetheweekwasouthewassuretothinkbetterofitbringmemyfourpennypieceandrepeathisorderstolookoutfortheseafaringmanwithonelegHowthatpersonagehauntedmydreamsIneedscarcelytellyouOnstormynightswhenthewindshookthefourcornersofthehouseandthesurfroaredalongthecoveandupthecliffsIwouldseehiminathousandformsandwithathousanddiabolicalexpressionsNowthelegwouldbecutoffatthekneenowatthehipnowhewasamonstrouskindofacreaturewhohadneverhadbuttheonelegandthatinthemiddleofhisbodyToseehimleapandrunandpursuemeoverhedgeandditchwastheworstofnightmaresAndaltogetherIpaidprettydearformymonthlyfourpennypieceintheshapeoftheseabominablefanciesButthoughIwassoterrifiedbytheideaoftheseafaringmanwithonelegIwasfarlessafraidofthecaptainhimselfthananybodyelsewhoknewhimTherewerenightswhenhetookadealmorerumandwaterthanhisheadwouldcarryandthenhewouldsometimessitandsinghiswickedoldwildseasongsmindingnobodybutsometimeshewouldcallforglassesroundandforceallthetremblingcompanytolistentohisstoriesorbearachorustohissingingOftenIhaveheardthehouseshakingwithYohohoandabottleofrumalltheneighboursjoininginfordearlifewiththefearofdeathuponthemandeachsinginglouderthantheothertoavoidremarkForinthesefitshewasthemostoverridingcompanioneverknownhewouldslaphishandonthetableforsilenceallroundhewouldflyupinapassionofangerataquestionorsometimesbecausenonewasputandsohejudgedthecompanywasnotfollowinghisstoryNorwouldheallowanyonetoleavetheinntillhehaddrunkhimselfsleepyandreeledofftobedHisstorieswerewhatfrightenedpeopleworstofallDreadfulstoriestheywereabouthangingandwalkingtheplankandstormsatseaandtheDryTortugasandwilddeedsandplacesontheSpanishMainByhisownaccounthemusthavelivedhislifeamongsomeofthewickedestmenthatGodeverallowedupontheseaandthelanguageinwhichhetoldthesestoriesshockedourplaincountrypeoplealmostasmuchasthecrimesthathedescribedMyfatherwasalwayssayingtheinnwouldberuinedforpeoplewouldsoonceasecomingtheretobetyrannizedoverandputdownandsentshiveringtotheirbedsbutIreallybelievehispresencedidusgoodPeoplewerefrightenedatthetimebutonlookingbacktheyratherlikedititwasafineexcitementinaquietcountrylifeandtherewasevenapartyoftheyoungermenwhopretendedtoadmirehimcallinghimatrueseadogandarealoldsaltandsuchlikenamesandsayingtherewasthesortofmanthatmadeEnglandterribleatseaInonewayindeedhebadefairtoruinusforhekeptonstayingweekafterweekandatlastmonthaftermonthsothatallthemoneyhadbeenlongexhaustedandstillmyfatherneverpluckedupthehearttoinsistonhavingmoreIfeverhementioneditthecaptainblewthroughhisnosesoloudlythatyoumightsayheroaredandstaredmypoorfatheroutoftheroomIhaveseenhimwringinghishandsaftersucharebuffandIamsuretheannoyanceandtheterrorhelivedinmusthavegreatlyhastenedhisearlyandunhappydeathAllthetimehelivedwithusthecaptainmadenochangewhateverinhisdressbuttobuysomestockingsfromahawkerOneofthecocksofhishathavingfallendownheletithangfromthatdayforththoughitwasagreatannoyancewhenitblewIremembertheappearanceofhiscoatwhichhepatchedhimselfupstairsinhisroomandwhichbeforetheendwasnothingbutpatchesHeneverwroteorreceivedaletterandheneverspokewithanybuttheneighboursandwiththeseforthemostpartonlywhendrunkonrumThegreatseachestnoneofushadeverseenopenHewasonlyoncecrossedandthatwastowardstheendwhenmypoorfatherwasfargoneinadeclinethattookhimoffDrLiveseycamelateoneafternoontoseethepatienttookabitofdinnerfrommymotherandwentintotheparlourtosmokeapipeuntilhishorseshouldcomedownfromthehamletforwehadnostablingattheoldBenbowIfollowedhiminandIrememberobservingthecontrasttheneatbrightdoctorwithhispowderaswhiteassnowandhisbrightblackeyesandpleasantmannersmadewiththecoltishcountryfolkandaboveallwiththatfilthyheavyblearedscarecrowofapirateofourssittingfargoneinrumwithhisarmsonthetableSuddenlyhethecaptainthatisbegantopipeuphiseternalsongFifteenmenonthedeadmanschestYohohoandabottleofrumDrinkandthedevilhaddonefortherestYohohoandabottleofrumAtfirstIhadsupposedthedeadmanschesttobethatidenticalbigboxofhisupstairsinthefrontroomandthethoughthadbeenmingledinmynightmareswiththatoftheoneleggedseafaringmanButbythistimewehadalllongceasedtopayanyparticularnoticetothesongitwasnewthatnighttonobodybutDrLiveseyandonhimIobserveditdidnotproduceanagreeableeffectforhelookedupforamomentquiteangrilybeforehewentonwithhistalktooldTaylorthegardeneronanewcurefortherheumaticsInthemeantimethecaptaingraduallybrightenedupathisownmusicandatlastflappedhishanduponthetablebeforehiminawayweallknewtomeansilenceThevoicesstoppedatonceallbutDrLiveseyshewentonasbeforespeakingclearandkindanddrawingbrisklyathispipebetweeneverywordortwoThecaptainglaredathimforawhileflappedhishandagainglaredstillharderandatlastbrokeoutwithavillainouslowoathSilencetherebetweendecksWereyouaddressingmesirsaysthedoctorandwhentheruffianhadtoldhimwithanotheroaththatthiswassoIhaveonlyonethingtosaytoyousirrepliesthedoctorthatifyoukeepondrinkingrumtheworldwillsoonbequitofaverydirtyscoundrelTheoldfellowsfurywasawfulHesprangtohisfeetdrewandopenedasailorsclaspknifeandbalancingitopenonthepalmofhishandthreatenedtopinthedoctortothewallThedoctorneversomuchasmovedHespoketohimasbeforeoverhisshoulderandinthesametoneofvoiceratherhighsothatalltheroommighthearbutperfectlycalmandsteadyIfyoudonotputthatknifethisinstantinyourpocketIpromiseuponmyhonouryoushallhangatthenextassizesThenfollowedabattleoflooksbetweenthembutthecaptainsoonknuckledunderputuphisweaponandresumedhisseatgrumblinglikeabeatendogAndnowsircontinuedthedoctorsinceInowknowtheressuchafellowinmydistrictyoumaycountIllhaveaneyeuponyoudayandnightImnotadoctoronlyImamagistrateandifIcatchabreathofcomplaintagainstyouifitsonlyforapieceofincivilityliketonightsIlltakeeffectualmeanstohaveyouhunteddownandroutedoutofthisLetthatsufficeSoonafterDrLiveseyshorsecametothedoorandherodeawaybutthecaptainheldhispeacethateveningandformanyeveningstocome\n",
      "\n"
     ]
    },
    {
     "name": "stdout",
     "output_type": "stream",
     "text": [
      "Does this look like plaintext? Press enter if so, type anything else if not: \n",
      "\n",
      "Plaintext written to decrypted_text.txt\n"
     ]
    }
   ],
   "source": [
    "caesar_encrypt()\n",
    "caesar_frequency_break()"
   ]
  },
  {
   "cell_type": "code",
   "execution_count": 27,
   "id": "00af7289",
   "metadata": {},
   "outputs": [
    {
     "data": {
      "text/plain": [
       "(83848088878174668788806876868979808667686886857267777672687787718990676978827969728878828478768777848277758975837390668380887871,\n",
       " 79736778827971767666708786777079848265888485717984798983677172747273797989777176737885707077706684678786678285818079707671836973,\n",
       " 68897076798772737879888873856788787776737569896776819090688478798278876674778383877373767472658381668685888573868568688583848674,\n",
       " 79718089748466668478667790868073867882686872896685907783756677787974708771898990697280837576887573897266697068837587898379758982,\n",
       " 83836890878376856871737467877078907172796989686878879074788984768886827067897674837586679072708484909077698578769082797676657480,\n",
       " 86747286878381836777758386747187837878847687657687737771687473658987718480668668776678)"
      ]
     },
     "execution_count": 27,
     "metadata": {},
     "output_type": "execute_result"
    }
   ],
   "source": [
    "#### TURN VIGENERE KEY INTO NUMBERS ####\n",
    " ## SPLIT KEY FIRST, RETURN TUPLE OF SPLIT KEY\n",
    "def key_to_tuple():\n",
    "    key_file = open(\"_vigenere_key.txt\",\"r\") #opens the vigenere key file\n",
    "    key = key_file.read() #reads the vigenere key to key\n",
    "\n",
    "    num_of_splits = len(key)//64 #gets the quotient of the key length when dividing by 64 to find out our splits\n",
    "    split_key = []\n",
    "    for i in range(0,num_of_splits+1): #iterates through splits\n",
    "        key_num_list = [] #creates a list for our number key\n",
    "        for character in range(64*i,64*(i+1)): #iterates through all characters of that split\n",
    "            if character == len(key): #makes sure not to go out of the range of the string\n",
    "                break\n",
    "            key_num_list.append(str(ord(key[character])))#appends the string value of the ASCII value of the character\n",
    "\n",
    "        key_num_str = \"\".join(key_num_list) #turns the list into a long string\n",
    "        key_num = int(key_num_str) #turns the string into an integer\n",
    "        split_key.append(key_num)#applies the split key to the big list\n",
    "  \n",
    "    return tuple(split_key)\n",
    "\n",
    "key_to_tuple()\n",
    "# EVERY 2 DIGITS REPRESENTS ONE OF THE LETTERS OF OUR KEY"
   ]
  },
  {
   "cell_type": "code",
   "execution_count": 28,
   "id": "654d7803",
   "metadata": {},
   "outputs": [],
   "source": [
    "#### RSA KEY GENERATOR ####\n",
    "\n",
    "def RSA_key_generator(bitlength=1024): #can take 128 numbers with Bitlength of 1024\n",
    "    \"\"\"This will generate RSA keys. This is a version of the private key.\n",
    "    The output is ((PublicKey), PrivateExp, Factorisation).\n",
    "    The PublicKey can be published, PrivateExp is needed to decrypt.\n",
    "    Factorisation is not needed, but must be kept secret.\"\"\"\n",
    "    ## Generate two large primes.\n",
    "    p = cryptography_functions.random_prime(bitlength)\n",
    "    q = cryptography_functions.random_prime(bitlength)\n",
    "    N = p*q\n",
    "    \n",
    "    ## Next, get phi and use it to get a public and private exponent.\n",
    "    phi = (p-1)*(q-1)\n",
    "    ## Choose encryption exponent e randomly between 1 and p and q.\n",
    "    e = random.randint(1,min(p,q))\n",
    "    ## It must be coprime to phi though. We use rejection sampling again:    \n",
    "    while cryptography_functions.gcd(e,phi) > 1:\n",
    "        e = random.randint(1,min(p,q))\n",
    "    \n",
    "    ## Finally, get d using 'pow'\n",
    "    ## (the extended Euclid's algorithm could do this too).\n",
    "    d = pow(e,-1,phi)\n",
    "    \n",
    "    ## Then return the keys.\n",
    "    return ((N,e),d%phi,{p:1,q:1})"
   ]
  },
  {
   "cell_type": "code",
   "execution_count": 32,
   "id": "5f82bc1e",
   "metadata": {},
   "outputs": [
    {
     "name": "stdout",
     "output_type": "stream",
     "text": [
      "(6517569479084228175159948429797254734293222154604564180354196763480689797727974223231856726707738257334297302118296590263501414421358548023138388218940137226291493080719159018742383713526267458959273457529011181429168530773858236834181453910665011319765956441802040013405375282656172029373080009928599236621638061018186550531732567284110414089208500506476865830864353652687123778777263390277938487736491873998314249374048425383387745394794386944014461023346880434588036854309116224569090110313022502562744461363972090215371283790908407437258127522436836986406567742784252196780310837750512823952255176614069356546419, 11250848876166672513146090399263101852610828765727657266061713865446538866141909014709777720001505893324358518349599531837058235203901510851417251341551137108246224031772026901097177127808305013479466600428314084502618949998888243169611253184910458161262881701597856369952615948464340178594538711547952469642707974442244145424110564421420387950212378803517229650957790142960984097040113836777659483657866738048117656365082636740004333825315469906896572148690738677320031644749873681093224852602645459773509184962547866819434104990330776616532416918593833569782111766388664622274182480266907456701923759030799926310815, 23264497607500014345956826797960185292450373675004560776422896226500180859884715286976566570037897604674670110459742255187910821347382635458145047076565529294107109888705111521279138858947972543035835188503183695203633159789881547417536001328030476722263077192928908382918282515470466382832568003618823545372467972361740527900244923069897798669444725033449314799552880525626052151604629462238348361441792866706231413974982774428943474723103357427376071106084408132262989779146192840911510006729560097219718100951125211554075092961454809330488860574696182881066975651335853859769994446355193207718130927392371101718605, 23220870889429314476907441114081240928413311559890500786626410383062255389038804117489896806094841951211567430926481352508191090835233832151799599775462357152797851252382475247909485683210532395849551108558397354685604404592972101894392424005532631722647557152582419634713964379965178590928261647360299410851054695490089488553073073898685063451736294113555973898708698654595875313179137892441885911591707264858136511056132728970509831250771397182265884207201225971812338326961054504277625378493421836988950640136020469134279072601411673861792343725466158053203048494129993647881774405511897805675863585601995243071297, 13324452018892805876602320449498420934592655336263857474068462201191908748433417245129260372978730766741249171852061578834311466719528575416707378448365803121419303647758423026291169017134758002091759207690599002191367086386919712036730209423573604866959667109141238375641734768182511472091978216060138018308157764858832731101675269764118153112397244074088198461373739201835531307912848395234719112135404616160209947666699224744774059080754781461858617415467371113792436079670503284003402210115447197062601532676608149715549034301923347640333317822652057560510996516716127263248609795250054095385433205385539805918897, 19602551805455494311572111384741550299628809786018058849598356927556656693710241427924869649068462511423357320983404308073649810142662909289942285361190552043783967764090909030855273436911063120970859924831982772886588907923755319687310200404805307742553831636129293387335905655104160350809330721712602592017069552842568921653034720347305060757090247665301700759214269227799820127177092875780008439924022609568888961157158859249784396317700137279215958897177276299512726386238684697719039278057108022539403769175355883430770843943360177637527102421342626357586766615477591719734096991683914460973766590398598779158327)\n"
     ]
    },
    {
     "ename": "NameError",
     "evalue": "name 'vigi_key_list' is not defined",
     "output_type": "error",
     "traceback": [
      "\u001b[0;31m---------------------------------------------------------------------------\u001b[0m",
      "\u001b[0;31mNameError\u001b[0m                                 Traceback (most recent call last)",
      "Cell \u001b[0;32mIn[32], line 28\u001b[0m\n\u001b[1;32m     24\u001b[0m     \u001b[38;5;28;01mreturn\u001b[39;00m \u001b[38;5;28mtuple\u001b[39m(encrypted_key_list)\n\u001b[1;32m     26\u001b[0m public_key,d,factors \u001b[38;5;241m=\u001b[39m RSA_key_generator()\n\u001b[0;32m---> 28\u001b[0m cipher \u001b[38;5;241m=\u001b[39m \u001b[43mRSA_encrypt\u001b[49m\u001b[43m(\u001b[49m\u001b[43mpublic_key\u001b[49m\u001b[43m[\u001b[49m\u001b[38;5;241;43m0\u001b[39;49m\u001b[43m]\u001b[49m\u001b[43m,\u001b[49m\u001b[43mpublic_key\u001b[49m\u001b[43m[\u001b[49m\u001b[38;5;241;43m1\u001b[39;49m\u001b[43m]\u001b[49m\u001b[43m,\u001b[49m\u001b[43m \u001b[49m\u001b[43mkey_to_tuple\u001b[49m\u001b[43m(\u001b[49m\u001b[43m)\u001b[49m\u001b[43m)\u001b[49m\n\u001b[1;32m     29\u001b[0m \u001b[38;5;28mprint\u001b[39m(cipher)\n\u001b[1;32m     30\u001b[0m \u001b[38;5;28mtuple\u001b[39m(encrypted_key_list)\n",
      "Cell \u001b[0;32mIn[32], line 20\u001b[0m, in \u001b[0;36mRSA_encrypt\u001b[0;34m(N, e, KEY_plural)\u001b[0m\n\u001b[1;32m     18\u001b[0m encrypted_key_list\u001b[38;5;241m=\u001b[39m[]\n\u001b[1;32m     19\u001b[0m _key_list \u001b[38;5;241m=\u001b[39m \u001b[38;5;28mlist\u001b[39m(KEY_plural)\n\u001b[0;32m---> 20\u001b[0m \u001b[38;5;28;01mfor\u001b[39;00m element \u001b[38;5;129;01min\u001b[39;00m \u001b[43mvigi_key_list\u001b[49m:\n\u001b[1;32m     21\u001b[0m     i\u001b[38;5;241m=\u001b[39m\u001b[38;5;28mpow\u001b[39m(element,e,N)\n\u001b[1;32m     22\u001b[0m     encrypted_key_list\u001b[38;5;241m.\u001b[39mappend(i)\n",
      "\u001b[0;31mNameError\u001b[0m: name 'vigi_key_list' is not defined"
     ]
    }
   ],
   "source": [
    "def RSA_encrypt(N,e):\n",
    "    encrypted_key_list=[]\n",
    "    vigi_key_list = list(key_to_tuple())\n",
    "    for element in vigi_key_list:\n",
    "        i=pow(element,e,N)\n",
    "        encrypted_key_list.append(i)\n",
    "    \"\"\"Encrypt an integer 'message' using RSA with public key (N,e).\"\"\"\n",
    "    return tuple(encrypted_key_list)\n",
    "\n",
    "public_key,d,factors = RSA_key_generator()\n",
    "\n",
    "cipher = RSA_encrypt(public_key[0],public_key[1])\n",
    "print(cipher)\n",
    "\n",
    "\n",
    "#attempt at changing it\n",
    "def RSA_encrypt(N,e,KEY_plural):\n",
    "    encrypted_key_list=[]\n",
    "    _key_list = list(KEY_plural)\n",
    "    for element in vigi_key_list:\n",
    "        i=pow(element,e,N)\n",
    "        encrypted_key_list.append(i)\n",
    "    \"\"\"Encrypt an integer 'message' using RSA with public key (N,e).\"\"\"\n",
    "    return tuple(encrypted_key_list)\n",
    "\n",
    "public_key,d,factors = RSA_key_generator()\n",
    "\n",
    "cipher = RSA_encrypt(public_key[0],public_key[1], key_to_tuple())\n",
    "print(cipher)\n",
    "tuple(encrypted_key_list)\n",
    "\n",
    "public_key,d,factors = RSA_key_generator()\n",
    "\n",
    "cipher = RSA_encrypt(public_key[0],public_key[1])\n",
    "print(cipher)\n"
   ]
  },
  {
   "cell_type": "code",
   "execution_count": 33,
   "id": "c13ef2ad",
   "metadata": {},
   "outputs": [
    {
     "name": "stdout",
     "output_type": "stream",
     "text": [
      "4687694328775877827054316434516257947594410492399864837326403969365072636810606074904336858413376201001591651917959128758438717949617781942636002650796555942825129685885547014789039421559443021936769355184055451858515737880190883662119775700147340037164401757676540790308338260469090371330167805256192577170957204613884742154226825589537493863276730966601503392598780295819730797693035145766587626796281048995668273507972550647468085600638695621234129714976384553618708187476585739769231677132569541443692446567618388369895540583905953855402554384774838274429829062579164619483012116771826699517031226414812406394451161151395570603581347662842291676042407661487452748412285175808304531818457655969277909187022213143520168545759894269985479278330917394168230708423920164509463693458672501062897758009493224525631262892518641035039015276298770681496659528129951334995981620563484838325855545826101203277144262962105085219112465955291229707147109899916466440050842347868066420431187126957864406130418855344420398778727678338805241491484135929828086222555819388989458645963237398120559615644056230661990309875312344476103865445065210785000579569012804933608380609876085540098615169380710848117885004924524750416802831031753722764689731049652769893652142677855614845149477803344846705128306386157069594715600267686036988803725875185021686967092694886533526419334408578669204064855783395247221278768580093850071849058895811000064215665814599028606584977951602096791732470138171149789219528594658782301555467933919347489356235512511580992150789319238504797155626105129560806588199165958423132687811726929179063906145692402760399930359660901689192925382187800811862421140824829076436361148946778673010398268200534240123713956424257308417622193181425320426227401577254223477803434043105950601257920538396525137727412219242887347454674217771336129466356429096419891663973339114629624192345332131024185184476241201464218494833244774175742244624129649833647662193168643491082947930328884088564709875341090417604890814743056279515242736087070558557898911808470708802265892934638154929650661741305306486769492749913621220319274147065233650587936962704043656674853262328631194519784079075369012784130514835764958451118315475676180326946175818384722104090946301105707276718355841519443809293687124369977054810393154163297110514930557901417096571123753985292068623603137070199198235538072840760924802618366030605009622312907788009162118456495992772432647330546195851909630793802315387086209872416843490715294132636091748551409671011146332874893021007219231286792583847325394393322441533965488879734628003657076602477762722642642762269451809751937585849016632681186143399333079013664243056767751222133139448627464333670995468727455345437051017685603159927053930766280891356876392278798278206612398780390825269800341947482154693278042401148558039756759765006260439287537994451780215096020327417942517724912494714589443536739510299698841833838685413256723258667657850891873230141605238286120706380737062675082009672998389330714885879122593126083248055516017201604347528546464483521279295832769796010113189851610300414602912206696789357608500374048151785082679225083103313377987736904060459802716312702761932005083859179188376011127838610716611051525803339455022486994792234896413017362417541893527026664142114310108401477805412196319469930162278642990897884451462507396446740171156488596646393887914539723657465175020692271107911446716157949358819059071038436559175840966871911372039908400108368128472301868022185798225948730384735993826471229313155025879000437880716884396171969524204255954029317086264166180591016615575492140822166997925202176295982965214913379359768749581316833738381501902256410144330550769439655\n"
     ]
    }
   ],
   "source": [
    "def RSA_decrypt(encrypted_key,N,d):\n",
    "    complete_key=[]\n",
    "    decryption_list=list(encrypted_key)\n",
    "    for element in decryption_list:\n",
    "        j=pow(element,d,N)\n",
    "        complete_key.append(str(j))\n",
    "    \"\"\"Decrypt an integer message using RSA with public key (N,e) and private key (d, fact).\"\"\"\n",
    "    return \"\".join(complete_key)\n",
    "\n",
    "received_int = RSA_decrypt(cipher,public_key[0],d)\n",
    "\n",
    "print(received_int)"
   ]
  },
  {
   "cell_type": "code",
   "execution_count": 34,
   "id": "8d1a4ab6",
   "metadata": {},
   "outputs": [
    {
     "name": "stdout",
     "output_type": "stream",
     "text": [
      "256\n"
     ]
    }
   ],
   "source": [
    "print(len(\"8678868975786684757371837574908171717884807067706983788273708868826974767772666782677988658883838688676675696866747472838985868370657690667386787588827288708780667774898573727980806566908868878768727981807589887875757090697368737176658670788785678190906586\"))"
   ]
  },
  {
   "cell_type": "code",
   "execution_count": 35,
   "id": "36162682",
   "metadata": {},
   "outputs": [
    {
     "name": "stdout",
     "output_type": "stream",
     "text": [
      "128\n"
     ]
    }
   ],
   "source": [
    "\n",
    "print(len(\"86788689757866847573718375749081717178848070677069837882737088688269747677726667826779886588838386886766756968667474728389858683\"))"
   ]
  },
  {
   "cell_type": "code",
   "execution_count": 36,
   "id": "9197939b",
   "metadata": {},
   "outputs": [
    {
     "name": "stdout",
     "output_type": "stream",
     "text": [
      "{'a': ['fr', 'ux', 'gd', 'ah', 'qx', 'au', 'iw', 'du', 'eu', 'qs', 'pt', 'li', 'mq', 'ki', 'cr', 'aj', 'sz', 'xd', 'jy', 'hw', 'oh', 'gq', 'fe', 'wj', 'mh', 'ma', 'ne', 'hl', 'if', 'zg', 'uk', 'oj', 'iu', 'yq', 'tn', 'it', 'dx', 'dj', 'gt', 'hp', 'zo', 'id', 'pd', 'uc', 'ri', 'lg', 'mk', 'xs', 'ck', 'sd', 'dl', 'ts'], 'b': ['is', 'ix', 'on', 'ey', 'ik', 'fh', 'um', 'db', 'cu', 'ew'], 'c': ['yx', 'ue', 'xy', 'me', 'zw', 'pe', 'mx', 'zh', 'iq', 'na', 'ha', 'ps', 'le', 'lx', 'pr'], 'd': ['hv', 'up', 'ba', 'dk', 'jc', 'fm', 'sm', 'vd', 'mc', 'vg', 'tb', 'fp', 'pl', 'sa', 'by', 'ge', 'pw', 'ca', 'cy', 'ru', 'di', 'dw', 'sj', 'pz', 'zl', 'bp', 'bg', 'af'], 'e': ['eg', 'zr', 'ut', 'np', 'rs', 'so', 'fg', 'bx', 'xz', 'ks', 'hf', 'ao', 'ym', 'cl', 'rm', 'nt', 'js', 'qc', 'oe', 'px', 'vu', 'mv', 'jk', 'xr', 'jw', 'ie', 'ej', 'vj', 'nh', 'wb', 'as', 'ot', 'bm', 'vy', 'dg', 'yw', 'ly', 'oz', 'qi', 'kz', 'te', 'cv', 'hy', 'nk', 'vp', 'jd', 'kf', 'yc', 'ro', 'iz', 'wz', 'rf', 'hq', 'ed', 'lb', 'sl', 'gw', 'uw', 'ch', 'ek', 'bn', 'dp', 'jn', 'xj', 'ih', 'be', 'zs', 'om', 'wc', 'vc', 'ra', 'nw', 'xm', 'nj', 'qh', 'ig', 'bv', 'cd', 'yd', 'si'], 'f': ['rj', 'cz', 'ho', 'zi', 'fk', 'hg', 'gz', 'hs', 'vn', 'ul', 'oc', 'br', 'ji', 'cg'], 'g': ['da', 'xa', 'he', 'gm', 'el', 'tu', 'cj', 'wp', 'rb', 'ld', 'yu', 'vz', 'se', 'rt'], 'h': ['et', 'yv', 'gk', 'ta', 'bz', 'zb', 'wy', 'qm', 'ug', 'gu', 'jb', 'wi', 'wf', 'td', 'kj', 'kx', 'nd', 'mg', 'ml', 'sw', 'dm', 'bh', 'nx', 'lv', 'wx', 'pi', 'bo', 'zd', 'yo', 'ol', 'os', 'bj', 'uq', 'kt', 'cw', 'rc', 'oa', 'og', 'pq', 'fb', 'kv', 'cb'], 'i': ['fu', 'wd', 'nl', 'ku', 'ja', 'cf', 'bs', 'gc', 'ib', 'cn', 'ic', 'jm', 'kc', 'yg', 'rv', 'vr', 'iv', 'ya', 'wr', 'gy', 'tv', 'dt', 'nz', 'eq', 'ry', 'fo', 'ai', 'hd', 'jh', 'kp', 'ys', 'xo', 'aq', 'pv', 'zc', 'ad', 'xf', 'nf', 'uh', 'rn', 'ny', 'od', 'tc', 'jp', 'jv'], 'j': ['nr'], 'k': ['nu', 'sk', 'vw', 'df', 'ar', 'eb'], 'l': ['ei', 'kn', 'tf', 'wt', 'wq', 'nq', 're', 'rx', 'fy', 'ud', 'la', 'eo', 'bi', 'em', 'xw', 'xq', 'qv', 'ti', 'ip', 'mn', 'sy', 'rq', 'cm', 'ex', 'at', 'ws', 'xh'], 'm': ['jz', 'cs', 'uy', 'ga', 'mu', 'qf', 'kq', 'qt', 'xp', 'uz', 'rd', 'lp', 'hn', 'yl', 'yp', 'jl', 'st'], 'n': ['av', 'pu', 'ql', 'ua', 'pk', 'dn', 'pj', 'an', 'zy', 'ci', 'mt', 'ju', 'qn', 'ty', 'xb', 'qy', 'lj', 'vf', 'rz', 'ev', 'zt', 'gr', 'hr', 'sc', 'bt', 'hi', 'ep', 'xt', 'yt', 'lf', 'fc', 'tj', 'ke', 'ng', 'xn', 'fd', 'tr', 'sx', 'cp', 'pf', 'gf', 'bk', 'bl', 'hj', 'uj'], 'o': ['lh', 'tm', 'mi', 'qz', 'fv', 'wo', 'mw', 'vm', 'mf', 'er', 'ax', 'fx', 'je', 'yn', 'ct', 'bq', 'lr', 'kw', 'or', 'uo', 'sv', 'ia', 'rh', 'cq', 'de', 'my', 'mr', 'lq', 'ky', 'ir', 'nc', 'aw', 'fq', 'md', 'qj', 'qd', 'pa', 'ae', 'wl', 'bw', 'rk', 'ka', 'kr', 'lm', 'qu', 'ay', 'zu', 'qk', 'hu'], 'p': ['ak', 'ub', 'ov', 'tx', 'hx', 'nv', 'bu', 'dv', 'rp', 'th', 'pc'], 'q': ['ea'], 'r': ['vl', 'un', 'ob', 'dy', 'nb', 'uf', 'qr', 'pb', 'ou', 'az', 'to', 'ui', 'il', 'rw', 'zk', 'oq', 'lt', 'ow', 'za', 'hz', 'am', 'tq', 'bc', 'jq', 'qg', 'ht', 'sp', 'km', 'xe', 'ok', 'vh', 'fn', 'co', 'in', 'pm', 'hk'], 's': ['fi', 'lo', 'jt', 'qb', 'qw', 'lu', 'wv', 'wm', 'yr', 'oy', 'yi', 'dz', 'xc', 'gp', 'qo', 'go', 've', 'rg', 'ph', 'yh', 'hb', 'xi', 'zn', 'en', 'rl', 'uv', 'wn', 'tg', 'ms', 'hm', 'ag', 'ij', 'gx', 'sb', 'yb', 'zp', 'zm', 'zj', 'sf', 'kb', 'io', 'us'], 't': ['fw', 'nm', 'ds', 'jg', 'mj', 'va', 'pn', 'op', 'jr', 'of', 'gh', 'sh', 'xk', 'yj', 'dh', 'lw', 'es', 'vq', 'qe', 'wa', 'zf', 'zx', 'no', 'ox', 'kd', 'we', 'mb', 'ln', 'vx', 'vo', 'jo', 'ez', 'xg', 'yk', 'py', 'dr', 'fs', 'fa', 'im', 'gi', 'ef', 'jf', 'gn', 'ko', 'lk', 'tk', 'wu', 'fj', 'ce', 'ye', 'xv', 'sq', 'bd', 'tp', 'sr', 'fl', 'lc', 'mo'], 'u': ['wk', 'xu', 'vk', 'kg', 'qa', 'qp', 'hc', 'fz', 'dq', 'gl', 'gj', 'bf', 'vi', 'ur', 'vb', 'ft', 'eh', 'ap', 'gv'], 'v': ['ab', 'gs', 'pg', 'wg', 'wh', 'lz'], 'w': ['sn', 'oi', 'ec', 'tw', 'yz', 'iy', 'jx', 'ac', 'ls', 'xl', 'cx', 'al', 'gb', 'su', 'po', 'tl'], 'x': ['ze'], 'y': ['yf', 'ni', 'dc', 'do', 'ns', 'sg', 'zv', 'kh', 'vt', 'mz', 'tz', 'mp', 'vs'], 'z': ['kl']}\n"
     ]
    }
   ],
   "source": [
    "from random import randint\n",
    "from random import sample\n",
    "import string\n",
    "from itertools import permutations\n",
    "\n",
    "ALPH_1 = string.ascii_lowercase\n",
    "\n",
    "# round? = The return value is an integer\n",
    "\n",
    "# create bigrams:\n",
    "\n",
    "\n",
    "\n",
    "fr = {'a': 0.0813382530968154, 'b': 0.015772428180238454, 'c': 0.02307211235643865, 'd': 0.04378202350586753, 'e': 0.12486207836182597, 'f': 0.022079076561585642, 'g': 0.020784064969467386, 'h': 0.06501369165412156, 'i': 0.06853376455715428, 'j': 0.00125078732595071, 'k': 0.00849105910416825, 'l': 0.04209882113294529, 'm': 0.026337113986929273, 'n': 0.06876203324414029, 'o': 0.0749226075342068, 'p': 0.01639692842369527, 'q': 0.0012807168798216735, 'r': 0.05524995644579847, 's': 0.06410999781112219, 't': 0.09143076668795984, 'u': 0.028544753617232275, 'v': 0.00937018391040789, 'w': 0.024949633474642522, 'x': 0.0013084128848962963, 'y': 0.019657016246833945, 'z': 0.0006017180457341452}\n",
    "\n",
    "#all_bigrams = []\n",
    " #   for c in ALPH_1:\n",
    "  #      for d in ALPH_1:\n",
    "   #         all_bigrams.append(c + d)\n",
    "    \n",
    "encode_dict = dict()\n",
    "\n",
    "def bigrams(fr):\n",
    "\n",
    "    global encode_dict\n",
    "    all_bigrams = [\"\".join(pair) for pair in permutations(ALPH_1, 2)]\n",
    "  #  su = []\n",
    "    \n",
    "    for key in fr:\n",
    "        \n",
    "        freq = fr[key]\n",
    "        \n",
    "        bi_quantity = round(650*freq)\n",
    "        if bi_quantity == 0:\n",
    "            bi_quantity = 1\n",
    "        if bi_quantity > 50:\n",
    "            bi_quantity -= 1\n",
    "      \n",
    "        storage = sample(all_bigrams, bi_quantity)\n",
    "        \n",
    "        all_bigrams = [bigram for bigram in all_bigrams if bigram not in storage]\n",
    "        encode_dict[key]=storage\n",
    "       \n",
    "    return encode_dict\n",
    "\n",
    "print (bigrams(fr))"
   ]
  },
  {
   "cell_type": "code",
   "execution_count": 37,
   "id": "c5a032ca",
   "metadata": {},
   "outputs": [
    {
     "name": "stdout",
     "output_type": "stream",
     "text": [
      "83848088878174668788806876868979808667686886857267777672687787718990676978827969728878828478768777848277758975837390668380887871 10110011001110010011101010111100001100111011001000110000101101000011100010111100001100001011101010110100101110111011001000111010101100101011101010111000101110011011100000111010001101100011010010110110101110001011010110110100101100011011100100110000101101010011100110111101001111000011001000110101001111001011010000111011101101111011010000110011101110001011001100110010101110111011010100110110101101000011011010110000101101110011001010110100001101100011010010110011001111010011001110111010101101011011011110110101001101001011101010111100101110001011101000110111001101001011101000110010001111000011001000110101001100111011101000110100001110000011110100110111101101001011001000111000001100100011101010110001101110010011010010110110001100111011011010110101101111000011100110110001101101011011100110110010001100100011011000111010001110011 10110100101110011011010010111100001101111011011100110010101111001011010010110101101100110011010000111010101101101011001000110001001100011011101010110010101110111 1011110010111100001110101011001010111100001111001011011010110010101111010011101110111000001100101011011010111100001111010011010000110100101110001011011100110000101101000011000010111000001110011011011000110010101101100011110000111000001110010 10110100001110110011101010111000001100010011000010110010001101011011010100110001101100110011011010111001101101101011101100110010001101101011000110111011001100111011101000110001001100110011100000111000001101100011100110110000101100010011110010110011101100101011100000111011101100011011000010110001101111001011100100111010101100100011010010110010001110111011100110110101001110000011110100111101001101100011000100111000001100010011001110110000101100110 101100101011001110111101001110010011101010111010001101110011100000111001001110011011100110110111101100110011001110110001001111000011110000111101001101011011100110110100001100110011000010110111101111001011011010110001101101100011100100110110101101110011101000110101001110011011100010110001101101111011001010111000001111000011101100111010101101101011101100110101001101011011110000111001001101010011101110110100101100101011001010110101001110110011010100110111001101000011101110110001001100001011100110110111101110100011000100110110101110110011110010110010001100111011110010111011101101100011110010110111101111010011100010110100101101011011110100111010001100101011000110111011001101000011110010110111001101011011101100111000001101010011001000110101101100110011110010110001101110010011011110110100101111010011101110111101001110010011001100110100001110001011001010110010001101100011000100111001101101100011001110111011101110101011101110110001101101000011001010110101101100010011011100110010001110000011010100110111001111000011010100110100101101000011000100110010101111010011100110110111101101101011101110110001101110110011000110111001001100001011011100111011101111000011011010110111001101010011100010110100001101001011001110110001001110110011000110110010001111001011001000111001101101001 101110010011010100110001101111010011010000110111101111010011010010110011001101011011010000110011101100111011110100110100001110011011101100110111001110101011011000110111101100011011000100111001001101010011010010110001101100111 101100100011000010111100001100001011010000110010101100111011011010110010101101100011101000111010101100011011010100111011101110000011100100110001001101100011001000111100101110101011101100111101001110011011001010111001001110100 1011001010111010001111001011101100110011101101011011101000110000101100010011110100111101001100010011101110111100101110001011011010111010101100111011001110111010101101010011000100111011101101001011101110110011001110100011001000110101101101010011010110111100001101110011001000110110101100111011011010110110001110011011101110110010001101101011000100110100001101110011110000110110001110110011101110111100001110000011010010110001001101111011110100110010001111001011011110110111101101100011011110111001101100010011010100111010101110001011010110111010001100011011101110111001001100011011011110110000101101111011001110111000001110001011001100110001001101011011101100110001101100010 1011001100111010101110111011001000110111001101100011010110111010101101010011000010110001101100110011000100111001101100111011000110110100101100010011000110110111001101001011000110110101001101101011010110110001101111001011001110111001001110110011101100111001001101001011101100111100101100001011101110111001001100111011110010111010001110110011001000111010001101110011110100110010101110001011100100111100101100110011011110110000101101001011010000110010001101010011010000110101101110000011110010111001101111000011011110110000101110001011100000111011001111010011000110110000101100100011110000110011001101110011001100111010101101000011100100110111001101110011110010110111101100100011101000110001101101010011100000110101001110110 10110111001110010 1011011100111010101110011011010110111011001110111011001000110011001100001011100100110010101100010 1011001010110100101101011011011100111010001100110011101110111010001110111011100010110111001110001011100100110010101110010011110000110011001111001011101010110010001101100011000010110010101101111011000100110100101100101011011010111100001110111011110000111000101110001011101100111010001101001011010010111000001101101011011100111001101111001011100100111000101100011011011010110010101111000011000010111010001110111011100110111100001101000 101101010011110100110001101110011011101010111100101100111011000010110110101110101011100010110011001101011011100010111000101110100011110000111000001110101011110100111001001100100011011000111000001101000011011100111100101101100011110010111000001101010011011000111001101110100 1011000010111011001110000011101010111000101101100011101010110000101110000011010110110010001101110011100000110101001100001011011100111101001111001011000110110100101101101011101000110101001110101011100010110111001110100011110010111100001100010011100010111100101101100011010100111011001100110011100100111101001100101011101100111101001110100011001110111001001101000011100100111001101100011011000100111010001101000011010010110010101110000011110000111010001111001011101000110110001100110011001100110001101110100011010100110101101100101011011100110011101111000011011100110011001100100011101000111001001110011011110000110001101110000011100000110011001100111011001100110001001101011011000100110110001101000011010100111010101101010 10110110001101000011101000110110101101101011010010111000101111010011001100111011001110111011011110110110101110111011101100110110101101101011001100110010101110010011000010111100001100110011110000110101001100101011110010110111001100011011101000110001001110001011011000111001001101011011101110110111101110010011101010110111101110011011101100110100101100001011100100110100001100011011100010110010001100101011011010111100101101101011100100110110001110001011010110111100101101001011100100110111001100011011000010111011101100110011100010110110101100100011100010110101001110001011001000111000001100001011000010110010101110111011011000110001001110111011100100110101101101011011000010110101101110010011011000110110101110001011101010110000101111001011110100111010101110001011010110110100001110101 101100001011010110111010101100010011011110111011001110100011110000110100001111000011011100111011001100010011101010110010001110110011100100111000001110100011010000111000001100011 10110010101100001 1011101100110110001110101011011100110111101100010011001000111100101101110011000100111010101100110011100010111001001110000011000100110111101110101011000010111101001110100011011110111010101101001011010010110110001110010011101110111101001101011011011110111000101101100011101000110111101110111011110100110000101101000011110100110000101101101011101000111000101100010011000110110101001110001011100010110011101101000011101000111001101110000011010110110110101111000011001010110111101101011011101100110100001100110011011100110001101101111011010010110111001110000011011010110100001101011 1011001100110100101101100011011110110101001110100011100010110001001110001011101110110110001110101011101110111011001110111011011010111100101110010011011110111100101111001011010010110010001111010011110000110001101100111011100000111000101101111011001110110111101110110011001010111001001100111011100000110100001111001011010000110100001100010011110000110100101111010011011100110010101101110011100100110110001110101011101100111011101101110011101000110011101101101011100110110100001101101011000010110011101101001011010100110011101111000011100110110001001111001011000100111101001110000011110100110110101111010011010100111001101100110011010110110001001101001011011110111010101110011 10110011001110111011011100110110101100100011100110110101001100111011011010110101001110110011000010111000001101110011011110111000001101010011100100110111101100110011001110110100001110011011010000111100001101011011110010110101001100100011010000110110001110111011001010111001101110110011100010111000101100101011101110110000101111010011001100111101001111000011011100110111101101111011110000110101101100100011101110110010101101101011000100110110001101110011101100111100001110110011011110110101001101111011001010111101001111000011001110111100101101011011100000111100101100100011100100110011001110011011001100110000101101001011011010110011101101001011001010110011001101010011001100110011101101110011010110110111101101100011010110111010001101011011101110111010101100110011010100110001101100101011110010110010101111000011101100111001101110001011000100110010001110100011100000111001101110010011001100110110001101100011000110110110101101111 10111011101101011011110000111010101110110011010110110101101100111011100010110000101110001011100000110100001100011011001100111101001100100011100010110011101101100011001110110101001100010011001100111011001101001011101010111001001110110011000100110011001110100011001010110100001100001011100000110011101110110 1011000010110001001100111011100110111000001100111011101110110011101110111011010000110110001111010 10111001101101110011011110110100101100101011000110111010001110111011110010111101001101001011110010110101001111000011000010110001101101100011100110111100001101100011000110111100001100001011011000110011101100010011100110111010101110000011011110111010001101100 10111101001100101 10111100101100110011011100110100101100100011000110110010001101111011011100111001101110011011001110111101001110110011010110110100001110110011101000110110101111010011101000111101001101101011100000111011001110011 10110101101101100\n"
     ]
    }
   ],
   "source": [
    "# second part of question 4 below\n",
    "\n",
    "import string\n",
    "ALPH_1 = string.ascii_lowercase\n",
    "\n",
    "def char_to_byte(char): \n",
    "    \"\"\"\n",
    "    Returns the 8 bit binary representation (padded with \n",
    "    leading zeros when necessary) of ord(char), i.e. of \n",
    "    the order of the input character char. \n",
    "    \"\"\"\n",
    "    byte_string = bin(ord(char))[2:]            # The order of char as a binary string \n",
    "    num_zeros = 8 - len(byte_string)            # The number of zeros needed to pad out byte_string\n",
    "    byte_string = '0' * num_zeros + byte_string # Now pad out byte_string with num_zeros many zeros\n",
    "                                                # to obtain the 8-bit binary representation\n",
    "    return byte_string  \n",
    "\n",
    "\n",
    "#global encode_dict\n",
    "# replace this dectionary wiht the dictionary we've made of 2grams\n",
    "\n",
    "def int_form(key1):\n",
    "    two_grams = encode_dict[key1] \n",
    "    y = \"\".join(two_grams)\n",
    "    list = []\n",
    "    list.append(' 1')\n",
    "    binary = [char_to_byte(char) for char in y]\n",
    "    biny = \"\".join(binary)\n",
    "    list.append(biny)\n",
    "    return \"\".join(list)\n",
    "\n",
    "key = []\n",
    "Vig = str(key_to_tuple()[0])\n",
    "key.append(Vig)\n",
    "for key2 in ALPH_1:\n",
    "    item = int_form(key2)\n",
    "    key.append(item)\n",
    "\n",
    "key_final = \"\".join(key)\n",
    "    \n",
    "print(key_final)\n"
   ]
  },
  {
   "cell_type": "code",
   "execution_count": 38,
   "id": "4f787d28",
   "metadata": {
    "scrolled": false
   },
   "outputs": [
    {
     "name": "stdout",
     "output_type": "stream",
     "text": [
      "['83848088878174668788806876868979808667686886857267777672687787718990676978827969728878828478768777848277758975837390668380887871 101100110011100100111010101111000011001110110010001100001011010000111000101111000011000010111010101101001011101110110010001110101011001', '010111010101110001011100110111000001110100011011000110100101101101011100010110101101101001011000110111001001100001011010100111001101111010011110000110010001101010011110010110100001110111011011110110100001100111011100010110011001100101011101110110101001101101011010', '000110110101100001011011100110010101101000011011000110100101100110011110100110011101110101011010110110111101101010011010010111010101111001011100010111010001101110011010010111010001100100011110000110010001101010011001110111010001101000011100000111101001101111011010', '01011001000111000001100100011101010110001101110010011010010110110001100111011011010110101101111000011100110110001101101011011100110110010001100100011011000111010001110011 101101001011100110110100101111000011011110110111001100101011110010110100101101011011001100110', '10000111010101101101011001000110001001100011011101010110010101110111 101111001011110000111010101100101011110000111100101101101011001010111101001110111011100000110010101101101011110000111101001101000011010010111000101101110011000010110100001100001011100000111001101', '1011000110010101101100011110000111000001110010 1011010000111011001110101011100000110001001100001011001000110101101101010011000110110011001101101011100110110110101110110011001000110110101100011011101100110011101110100011000100110011001110000011100000110110001110011', '0110000101100010011110010110011101100101011100000111011101100011011000010110001101111001011100100111010101100100011010010110010001110111011100110110101001110000011110100111101001101100011000100111000001100010011001110110000101100110 1011001010110011101111010011100', '100111010101110100011011100111000001110010011100110111001101101111011001100110011101100010011110000111100001111010011010110111001101101000011001100110000101101111011110010110110101100011011011000111001001101101011011100111010001101010011100110111000101100011011011', '110110010101110000011110000111011001110101011011010111011001101010011010110111100001110010011010100111011101101001011001010110010101101010011101100110101001101110011010000111011101100010011000010111001101101111011101000110001001101101011101100111100101100100011001', '110111100101110111011011000111100101101111011110100111000101101001011010110111101001110100011001010110001101110110011010000111100101101110011010110111011001110000011010100110010001101011011001100111100101100011011100100110111101101001011110100111011101111010011100', '100110011001101000011100010110010101100100011011000110001001110011011011000110011101110111011101010111011101100011011010000110010101101011011000100110111001100100011100000110101001101110011110000110101001101001011010000110001001100101011110100111001101101111011011', '01011101110110001101110110011000110111001001100001011011100111011101111000011011010110111001101010011100010110100001101001011001110110001001110110011000110110010001111001011001000111001101101001 101110010011010100110001101111010011010000110111101111010011010010110', '011001101011011010000110011101100111011110100110100001110011011101100110111001110101011011000110111101100011011000100111001001101010011010010110001101100111 10110010001100001011110000110000101101000011001010110011101101101011001010110110001110100011101010110001101', '1010100111011101110000011100100110001001101100011001000111100101110101011101100111101001110011011001010111001001110100 1011001010111010001111001011101100110011101101011011101000110000101100010011110100111101001100010011101110111100101110001011011010111010101100111', '011001110111010101101010011000100111011101101001011101110110011001110100011001000110101101101010011010110111100001101110011001000110110101100111011011010110110001110011011101110110010001101101011000100110100001101110011110000110110001110110011101110111100001110000', '011010010110001001101111011110100110010001111001011011110110111101101100011011110111001101100010011010100111010101110001011010110111010001100011011101110111001001100011011011110110000101101111011001110111000001110001011001100110001001101011011101100110001101100010', ' 10110011001110101011101110110010001101110011011000110101101110101011010100110000101100011011001100110001001110011011001110110001101101001011000100110001101101110011010010110001101101010011011010110101101100011011110010110011101110010011101100111011001110010011010', '010111011001111001011000010111011101110010011001110111100101110100011101100110010001110100011011100111101001100101011100010111001001111001011001100110111101100001011010010110100001100100011010100110100001101011011100000111100101110011011110000110111101100001011100', '01011100000111011001111010011000110110000101100100011110000110011001101110011001100111010101101000011100100110111001101110011110010110111101100100011101000110001101101010011100000110101001110110 10110111001110010 101101110011101010111001101101011011101100111011101', '1001000110011001100001011100100110010101100010 1011001010110100101101011011011100111010001100110011101110111010001110111011100010110111001110001011100100110010101110010011110000110011001111001011101010110010001101100011000010110010101101111011000100110100101100101', '011011010111100001110111011110000111000101110001011101100111010001101001011010010111000001101101011011100111001101111001011100100111000101100011011011010110010101111000011000010111010001110111011100110111100001101000 10110101001111010011000110111001101110101011110', '0101100111011000010110110101110101011100010110011001101011011100010111000101110100011110000111000001110101011110100111001001100100011011000111000001101000011011100111100101101100011110010111000001101010011011000111001101110100 1011000010111011001110000011101010111', '000101101100011101010110000101110000011010110110010001101110011100000110101001100001011011100111101001111001011000110110100101101101011101000110101001110101011100010110111001110100011110010111100001100010011100010111100101101100011010100111011001100110011100100111', '101001100101011101100111101001110100011001110111001001101000011100100111001101100011011000100111010001101000011010010110010101110000011110000111010001111001011101000110110001100110011001100110001101110100011010100110101101100101011011100110011101111000011011100110', '011001100100011101000111001001110011011110000110001101110000011100000110011001100111011001100110001001101011011000100110110001101000011010100111010101101010 10110110001101000011101000110110101101101011010010111000101111010011001100111011001110111011011110110110101', '110111011101100110110101101101011001100110010101110010011000010111100001100110011110000110101001100101011110010110111001100011011101000110001001110001011011000111001001101011011101110110111101110010011101010110111101110011011101100110100101100001011100100110100001', '100011011100010110010001100101011011010111100101101101011100100110110001110001011010110111100101101001011100100110111001100011011000010111011101100110011100010110110101100100011100010110101001110001011001000111000001100001011000010110010101110111011011000110001001', '110111011100100110101101101011011000010110101101110010011011000110110101110001011101010110000101111001011110100111010101110001011010110110100001110101 10110000101101011011101010110001001101111011101100111010001111000011010000111100001101110011101100110001001110101', '0110010001110110011100100111000001110100011010000111000001100011 10110010101100001 1011101100110110001110101011011100110111101100010011001000111100101101110011000100111010101100110011100010111001001110000011000100110111101110101011000010111101001110100011011110111', '010101101001011010010110110001110010011101110111101001101011011011110111000101101100011101000110111101110111011110100110000101101000011110100110000101101101011101000111000101100010011000110110101001110001011100010110011101101000011101000111001101110000011010110110', '110101111000011001010110111101101011011101100110100001100110011011100110001101101111011010010110111001110000011011010110100001101011 10110011001101001011011000110111101101010011101000111000101100010011100010111011101101100011101010111011101110110011101110110110101', '111001011100100110111101111001011110010110100101100100011110100111100001100011011001110111000001110001011011110110011101101111011101100110010101110010011001110111000001101000011110010110100001101000011000100111100001101001011110100110111001100101011011100111001001', '101100011101010111011001110111011011100111010001100111011011010111001101101000011011010110000101100111011010010110101001100111011110000111001101100010011110010110001001111010011100000111101001101101011110100110101001110011011001100110101101100010011010010110111101', '11010101110011 101100110011101110110111001101101011001000111001101101010011001110110110101101010011101100110000101110000011011100110111101110000011010100111001001101111011001100110011101101000011100110110100001111000011010110111100101101010011001000110100001101100', '011101110110010101110011011101100111000101110001011001010111011101100001011110100110011001111010011110000110111001101111011011110111100001101011011001000111011101100101011011010110001001101100011011100111011001111000011101100110111101101010011011110110010101111010', '011110000110011101111001011010110111000001111001011001000111001001100110011100110110011001100001011010010110110101100111011010010110010101100110011010100110011001100111011011100110101101101111011011000110101101110100011010110111011101110101011001100110101001100011', '01100101011110010110010101111000011101100111001101110001011000100110010001110100011100000111001101110010011001100110110001101100011000110110110101101111 101110111011010110111100001110101011101100110101101101011011001110111000101100001011100010111000001101000011000', '11011001100111101001100100011100010110011101101100011001110110101001100010011001100111011001101001011101010111001001110110011000100110011001110100011001010110100001100001011100000110011101110110 101100001011000100110011101110011011100000110011101110111011001110111', '0111011010000110110001111010 1011100110110111001101111011010010110010101100011011101000111011101111001011110100110100101111001011010100111100001100001011000110110110001110011011110000110110001100011011110000110000101101100011001110110001001110011011101010111000001', '1011110111010001101100 10111101001100101 10111100101100110011011100110100101100100011000110110010001101111011011100111001101110011011001110111101001110110011010110110100001110110011101000110110101111010011101000111101001101101011100000111011001110011 10110101101101100']\n"
     ]
    }
   ],
   "source": [
    "def prep_for_RSA(string_input,segment_len):\n",
    "    string= [string_input[i:i+segment_len]for i in range(0,len(string_input), segment_len)]\n",
    "    if len(string) == 40:\n",
    "        return string\n",
    "    else:\n",
    "        last_two = [string[39], string[40]]\n",
    "        string.remove(string[40])\n",
    "        string[39] = \"\".join(last_two)\n",
    "        return string\n",
    "    \n",
    "eights = prep_for_RSA(key_final, len(key_final)//40)\n",
    "print(eights)\n",
    "#len(eights)"
   ]
  },
  {
   "cell_type": "code",
   "execution_count": 42,
   "id": "235a9a24",
   "metadata": {},
   "outputs": [
    {
     "ename": "SyntaxError",
     "evalue": "invalid syntax (3843624939.py, line 1)",
     "output_type": "error",
     "traceback": [
      "\u001b[0;36m  Cell \u001b[0;32mIn[42], line 1\u001b[0;36m\u001b[0m\n\u001b[0;31m    we need to rsa encrypt all these integers and send them in a list called the public key -> ben now\u001b[0m\n\u001b[0m       ^\u001b[0m\n\u001b[0;31mSyntaxError\u001b[0m\u001b[0;31m:\u001b[0m invalid syntax\n"
     ]
    }
   ],
   "source": [
    " we need to rsa encrypt all these integers and send them in a list called the public key -> ben now\n",
    "    we also need to send the message which is encrypted wiht the 2grams and vig\n",
    "    and send it"
   ]
  },
  {
   "cell_type": "code",
   "execution_count": 39,
   "id": "0699429f",
   "metadata": {
    "scrolled": true
   },
   "outputs": [
    {
     "name": "stdout",
     "output_type": "stream",
     "text": [
      "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\n"
     ]
    }
   ],
   "source": [
    "import random\n",
    "import string\n",
    "ALPH_1 = string.ascii_lowercase\n",
    "\n",
    "message_file = open(\"message_treasure_island.txt\", \"r\")\n",
    "message = message_file.read()\n",
    "\n",
    "def bigram_message(message):\n",
    "    bigrams = []\n",
    "    for letter in message:\n",
    "        if letter in ALPH_1:\n",
    "            x = encode_dict[letter][random.randint(0, len(encode_dict[letter])-1)]\n",
    "            bigrams.append(x)\n",
    "    message = \"\".join(bigrams)\n",
    "    return message\n",
    "\n",
    "print(bigram_message(message))"
   ]
  },
  {
   "cell_type": "code",
   "execution_count": null,
   "id": "7406f5d9",
   "metadata": {},
   "outputs": [],
   "source": [
    "WHERE WE GOT TO\n",
    "\n",
    "\n",
    "we created the bigrams of two letters and stored them in a dictionary\n",
    "then we used the dictionary to encode all the bigrams of each letter in through binary and \n",
    "  store it in a string with the vigenere key, splitting up each part with ''.\n",
    "then we split up the strng into 40 smaller strngs to mkae it easier for encryption.\n",
    "    we wanted to then rsa encrypt this to be our public key that we send to alice but we couldn't work the ' '\n",
    "for encoding the message, we turned it into bigrams and joined it together to be one long string(call above)\n",
    "we want to vifenere encrypt this but the vigenere encrypt function didn't work\n",
    "\n",
    "we will send to alice the rsa encoded key with vigenere key and bigrams (in binary), \n",
    "  and the message encoded wiht both bigrams and the vigenere cipher.\n",
    "    \n",
    "    \n",
    "we also need to be able to decrypt the message and the key ...\n",
    "\n",
    "\n",
    "\n",
    "plan by end of thursday, meet thrusday evening\n",
    "ask charles any remaining questions friday morning\n",
    "\n",
    "QUESTION 1 AND 2 WRITE UP ; TOM\n",
    "TOM please also have a look through question 4, the notes are really clear above,\n",
    "I think some of the issues were from your functions earlier in the code and we weren't sure how to fix it.\n",
    "\n",
    "question 3 write up : ben\n",
    "\n",
    "question 4 write up: abigail\n",
    "    discussion: eleanor\n",
    "\n",
    "reference stuff: eleanor\n",
    "    \n",
    "question 6: patrick!"
   ]
  },
  {
   "cell_type": "code",
   "execution_count": 40,
   "id": "1b930f7d",
   "metadata": {},
   "outputs": [
    {
     "name": "stdout",
     "output_type": "stream",
     "text": [
      "Input the name of the text file you would like to encrypt / decrypt, including the .txt: message_treasure_island.txt\n",
      "Encrypted text written to encrypted_text.txt, and vigenere key written to _vigenere_key.txt\n"
     ]
    }
   ],
   "source": [
    "vigenere_encrypt()"
   ]
  },
  {
   "cell_type": "code",
   "execution_count": null,
   "id": "103bc059",
   "metadata": {},
   "outputs": [],
   "source": [
    "# question 6:"
   ]
  },
  {
   "cell_type": "code",
   "execution_count": null,
   "id": "b7c53c7d",
   "metadata": {},
   "outputs": [],
   "source": [
    "import re\n",
    "from collections import Counter\n",
    "from math import gcd\n",
    "from functools import reduce\n",
    "import os\n",
    "\n",
    "\n",
    "##Load the ciphertext from a user-specified .txt file.\n",
    "\n",
    "def load_file():\n",
    "    \n",
    "    while True:\n",
    "        fname = input(\"Enter the encrypted file name (with .txt extension): \")\n",
    "        if os.path.isfile(fname):  # Check if the file exists\n",
    "            with open(fname, 'r', encoding='utf-8') as f:\n",
    "                text = f.read().strip()  # Read the file content\n",
    "            print(f\"Loaded file: {fname}\")\n",
    "            return text\n",
    "        else:\n",
    "            print(\"File not found. Make sure it's in the current directory.\")"
   ]
  },
  {
   "cell_type": "code",
   "execution_count": null,
   "id": "353f6b02",
   "metadata": {},
   "outputs": [],
   "source": [
    "def save_file(text):\n",
    "    \n",
    "    output_file = \"decrypted_text.txt\"\n",
    "    with open(output_file, 'w', encoding='utf-8') as f:\n",
    "        f.write(text)\n",
    "    print(f\"Decrypted text saved to: {output_file}\")\n",
    "\n",
    "\n",
    "##Perform Kasiski examination to estimate key length.\n",
    "def kasiski(min_n, max_n):\n",
    "    \n",
    "    file_name = load_file()\n",
    "    key_file = open(\"_vigenere_key.txt\")\n",
    "    text = key_file.read()\n",
    "    \n",
    "    dists = []\n",
    "    for n in range(min_n, max_n + 1):  # Try n-grams from min_n to max_n\n",
    "        ngrams = [text[i:i + n] for i in range(len(text) - n + 1)]\n",
    "        repeats = [ng for ng, count in Counter(ngrams).items() if count > 1]\n",
    "        \n",
    "        for ng in repeats:\n",
    "            positions = [m.start() for m in re.finditer(re.escape(ng), text)]\n",
    "            dists.extend([positions[i + 1] - positions[i] for i in range(len(positions) - 1)])\n",
    "    \n",
    "    # find all the factors of each dist, add to factors list\n",
    "    factors = []\n",
    "    \n",
    "    for n in dists:\n",
    "        for i in range(1, n + 1):\n",
    "            if n % i == 0:\n",
    "                factors.append(i)\n",
    "    return factors"
   ]
  },
  {
   "cell_type": "code",
   "execution_count": null,
   "id": "4f09d66a",
   "metadata": {},
   "outputs": [],
   "source": [
    "from collections import Counter\n",
    "\n",
    "\n",
    "def potential_lengths(minimum):\n",
    "    factors = kasiski(2, 5)\n",
    "    \n",
    "    c = Counter(factors)\n",
    "    \n",
    "    lengths = []\n",
    "   \n",
    "    for x in range(len(c)):\n",
    "        if c[x] > minimum:\n",
    "            lengths.append(x)\n",
    "    \n",
    "    lengths.reverse()  \n",
    "    return lengths"
   ]
  },
  {
   "cell_type": "code",
   "execution_count": null,
   "id": "85ad7b59",
   "metadata": {},
   "outputs": [],
   "source": [
    "def try_key_len(text, klen):\n",
    "    \n",
    "    key = []\n",
    "    freq_order = \"\".join(frequency_finder(text))  # Common English letter frequency function, created above\n",
    "    for i in range(klen):  # Process each key position\n",
    "        seg = ''.join(text[j] for j in range(i, len(text), klen))  # Extract the i-th segment\n",
    "        seg_freq = frequency_finder(seg)  # Analyze letter frequency in the segment\n",
    "\n",
    "        # Determine the shift for the current segment\n",
    "        for letter in seg_freq:\n",
    "            shift = (ord(letter.upper()) - ord('E')) % 26\n",
    "            decoded = ''.join(\n",
    "                chr(((ord(c.upper()) - shift - 65) % 26) + 65) if c.isalpha() else c\n",
    "                for c in seg\n",
    "            )\n",
    "            if all(c.upper() in freq_order[:10] for c in decoded[:10]):  # Check plausibility\n",
    "                key.append(chr(shift + 65))\n",
    "                break\n",
    "\n",
    "    if not key:  # If no key could be determined\n",
    "        return None\n",
    "\n",
    "    print(f\"Estimated key: {''.join(key)}\")\n",
    "    return decrypt(text, ''.join(key))  # Decrypt the text with the determined key\n",
    "\n",
    "\n",
    "\n",
    "def crack_vigenere():\n",
    "    \n",
    "#    file_name = load_file()\n",
    "#    key_file = open(\"_vigenere_key.txt\")\n",
    "#    text = key_file.read()\n",
    "    \n",
    "    # Step 1: Estimate key length with Kasiski examination\n",
    "    for klen in potential_lengths(3):\n",
    "        print(\"Testing possible lengths...\")\n",
    "        print(f\"Trying key length: {klen}\")\n",
    "        result = try_key_len(text, klen)\n",
    "        if result:\n",
    "            return result\n",
    "        else:\n",
    "            print(\"Failed to decrypt the ciphertext.\")\n",
    "            \n",
    "    print(f\"Estimated key length: {klen}\")\n",
    "    return try_key_len(text, klen)\n",
    "\n",
    "\n",
    "##Try decrypting with a given key length.\n",
    "   \n",
    "\n",
    "\n",
    "\n",
    "def main():\n",
    "    print(\"Welcome to the Vigenère Cipher Cracker!\")\n",
    "    text = load_file()  # Load ciphertext from file\n",
    "    print(\"\\nAttempting to decrypt...\")\n",
    "    result = crack_vigenere()  # Crack the Vigenère cipher\n",
    "    if result:\n",
    "        print(\"\\nDecryption successful! The plaintext is:\")\n",
    "        print(result)  # Display the plaintext\n",
    "        save_file(result)  # Save the plaintext to a file\n",
    "    else:\n",
    "        print(\"\\nDecryption failed.\")\n",
    "\n",
    "\n",
    "if __name__ == \"__main__\":\n",
    "    main()  # Start the program"
   ]
  }
 ],
 "metadata": {
  "kernelspec": {
   "display_name": "Python 3 (ipykernel)",
   "language": "python",
   "name": "python3"
  },
  "language_info": {
   "codemirror_mode": {
    "name": "ipython",
    "version": 3
   },
   "file_extension": ".py",
   "mimetype": "text/x-python",
   "name": "python",
   "nbconvert_exporter": "python",
   "pygments_lexer": "ipython3",
   "version": "3.9.13"
  }
 },
 "nbformat": 4,
 "nbformat_minor": 5
}
