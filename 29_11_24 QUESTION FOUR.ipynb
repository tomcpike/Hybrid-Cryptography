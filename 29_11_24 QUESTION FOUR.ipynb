{
 "cells": [
  {
   "cell_type": "markdown",
   "id": "7cf28d01",
   "metadata": {},
   "source": []
  },
  {
   "cell_type": "code",
   "execution_count": null,
   "id": "5318eac4",
   "metadata": {},
   "outputs": [],
   "source": []
  },
  {
   "cell_type": "code",
   "execution_count": 1,
   "id": "1d15edc4",
   "metadata": {},
   "outputs": [],
   "source": [
    "########### QUESTION 4"
   ]
  },
  {
   "cell_type": "markdown",
   "id": "80dc83b0",
   "metadata": {},
   "source": [
    "# We now want to redesign our Vigenère Cipher to make it unsusceptible to being cracked by frequency analysis.\n",
    "\n",
    "#### To do this, we throw the frequency of each letter away by assigning each letter different amount of 2-grams (pair of two letters) respective to the frequency of the letter.\n",
    "#### We will include the dictionary of 2-grams in our public key, then send the message which will be 2-gram encrypted and tehn Vigenere encrypted.\n",
    "\n",
    "#### Alice receives the public key and the encrypted message and will then be able to work out the message.\n",
    "\n",
    "#### First, we will do Bob's job:\n",
    "\n",
    "     - Create the public key: The Vigenère Cipher and the dictonary of 2-grams.\n",
    "     - Encrypt the message with 2-grams, and then using the Vigenère Cipher, and send the message.\n",
    "     \n",
    "\n",
    "#### We start by creating a dictionary of 2-grams for each letter."
   ]
  },
  {
   "cell_type": "code",
   "execution_count": 21,
   "id": "9197939b",
   "metadata": {},
   "outputs": [
    {
     "name": "stdout",
     "output_type": "stream",
     "text": [
      "{'a': ['so', 'ls', 'od', 'bi', 'th', 'rq', 'az', 'uz', 'zd', 'nu', 'ig', 'jw', 'os', 'dp', 'fy', 'hb', 'yt', 'rj', 'wa', 'uf', 'pi', 'sy', 'yn', 'sd', 'dg', 'wx', 'dj', 'sc', 'dz', 'bt', 'ip', 'vm', 'hq', 'kg', 'tb', 'ut', 'wm', 'tr', 'pj', 'bh', 'ko', 'mw', 'kz', 'gu', 'ph', 'tk', 'qw', 'zb', 'cs', 'tm', 'bo', 'kr'], 'b': ['oy', 'we', 'xc', 'cj', 'zs', 'ob', 'ac', 'ry', 'fw', 'lm'], 'c': ['rd', 'cb', 'ja', 'ws', 'it', 'cy', 'ng', 'nv', 'zg', 'gf', 'ma', 'jk', 'kb', 'fg', 'fz'], 'd': ['ub', 'ts', 'us', 'sx', 'gn', 'fa', 'tz', 'kd', 'lj', 'fn', 'yb', 'ef', 'ux', 'wu', 'xt', 'ek', 'ne', 'yf', 'jz', 'qh', 'xj', 'pf', 'yi', 'wv', 'cx', 'mn', 'qp', 'hk'], 'e': ['nh', 'ys', 'ul', 'pr', 'hg', 'pl', 'ak', 'op', 'dr', 'xl', 'nf', 'at', 'xq', 'fk', 'sp', 'lq', 'ue', 'xk', 'hn', 'tn', 'km', 'zk', 'uv', 'cz', 'as', 'in', 'gt', 'na', 'qf', 'vo', 'bu', 'ln', 'vx', 'ze', 'ro', 'uj', 'zt', 'tl', 'bj', 'ye', 'en', 'he', 'sg', 'kj', 'ha', 'dw', 'ce', 'qz', 'mb', 'wk', 'pz', 'sh', 'kc', 'se', 'ao', 'jr', 'dt', 'ck', 'et', 'eg', 'xg', 'zj', 'mt', 'vg', 'si', 'db', 'ox', 'ic', 'og', 'hu', 'xr', 'er', 'if', 'vk', 'ex', 'my', 'vf', 'jf', 'iy', 'xh'], 'f': ['rh', 'ir', 'pu', 'fd', 'ah', 'ej', 'gx', 'lk', 'bx', 'ot', 'zq', 'gl', 'ep', 'hi'], 'g': ['el', 'ga', 'ld', 'eu', 'id', 'ie', 'bz', 'aq', 'pa', 'qb', 'ca', 'vt', 'lf', 'ra'], 'h': ['oa', 'fo', 'lx', 'ku', 'hl', 'bs', 'ag', 'vz', 'yo', 'mg', 'xz', 'ji', 'ri', 'wj', 'kq', 'jt', 'ny', 'rm', 'il', 'nk', 'qn', 'zi', 'cm', 'uc', 'dh', 'ky', 'pn', 'tv', 'py', 'rs', 'mf', 'ou', 'jo', 'fs', 'bv', 'zu', 'gs', 'vs', 'do', 'ms', 'cr', 'bl'], 'i': ['hs', 'jc', 'fb', 'xw', 'tq', 'ki', 'rw', 'pb', 'st', 'zv', 'fl', 'cf', 'hx', 'qg', 'zh', 'gz', 'oi', 'zn', 'gb', 'qm', 'ti', 'zy', 'xe', 'jg', 'yl', 'kl', 'cq', 'yq', 'mo', 'fu', 'tf', 'tc', 'lt', 'dn', 'sv', 'hw', 'hy', 'yw', 'eh', 'xv', 'ql', 'dv', 'ya', 'li', 'tx'], 'j': ['ay'], 'k': ['af', 'bw', 'gk', 'wt', 'ia', 'qs'], 'l': ['rb', 'ow', 'mx', 'jq', 'za', 'nq', 'zl', 'am', 'wd', 'xp', 'bq', 'gi', 'rl', 'rg', 'xn', 'fi', 'bf', 'hf', 'ru', 'vu', 'le', 'rn', 'pd', 'ik', 'wb', 'rc', 'sk'], 'm': ['vi', 'nj', 'jl', 'be', 'xi', 'iv', 'gm', 'da', 'gy', 'ch', 'fx', 'ok', 'ix', 'vn', 'fp', 'qi', 'wr'], 'n': ['wn', 'mp', 'ci', 'kh', 'kv', 'eb', 'xa', 'vr', 'oj', 'xs', 'tp', 'cu', 'df', 'br', 'sf', 'ds', 'dc', 'uo', 'tg', 'yk', 'cd', 'ks', 'hd', 'un', 'ft', 'px', 'de', 'hj', 'qo', 'mr', 'om', 're', 'dy', 'nc', 'cg', 'tw', 'eo', 'an', 'ij', 'js', 'nx', 'fe', 'ge', 'lg', 'oq'], 'o': ['dx', 'yh', 'ug', 'hz', 'vl', 'iq', 'zx', 'lv', 'vd', 'iu', 've', 'lc', 'ih', 'ke', 'ai', 'lz', 'yd', 'pg', 'zf', 'qa', 'vw', 'dl', 'dk', 'qx', 'im', 'fm', 'wo', 'fv', 'qr', 'qu', 'pq', 'jh', 'nw', 'xd', 'um', 'gr', 'bc', 'ps', 'fj', 'mz', 'rp', 'uy', 'wl', 'ho', 'ed', 'gq', 'ap', 'sw', 'mq'], 'p': ['zw', 'yg', 'go', 'cn', 'fr', 'av', 'vj', 'jp', 'ib', 'ym', 'mi'], 'q': ['lb'], 'r': ['wg', 'hm', 'wc', 'jd', 'je', 'zo', 'ns', 'ml', 'mj', 'yj', 'zc', 'oe', 'lw', 'hr', 'vc', 'ty', 'fh', 'di', 'qd', 'mu', 'sr', 'yu', 'eq', 'bg', 'ht', 'vp', 'lp', 'ni', 'rx', 'sb', 'aj', 'bd', 'ua', 'nr', 'yp', 'up'], 's': ['is', 'yr', 'ov', 'qy', 'ba', 'vy', 'uh', 'qv', 'lh', 'co', 'yv', 'gw', 'vb', 'ta', 'yz', 'sq', 'dm', 'pk', 'jm', 'hp', 'xm', 'bm', 'fq', 'rf', 'cw', 'md', 'sn', 'du', 'pc', 'ct', 'fc', 'lr', 'po', 'ae', 'cv', 'wi', 'pw', 'wp', 'nd', 'kx', 'io', 'wh'], 't': ['np', 'zp', 'qj', 'rz', 'ui', 'al', 'pm', 'hc', 'kw', 'hv', 'by', 'gc', 'no', 'lu', 'gp', 'jn', 'uq', 'jb', 'rk', 'au', 'nz', 'ei', 'va', 'uk', 'wq', 'ol', 'cl', 'cp', 'tj', 'rv', 'mh', 'ev', 'gd', 'to', 'ar', 'oc', 'gj', 'ab', 'kp', 'pv', 'kt', 'me', 'bk', 'sm', 'td', 'sz', 'xo', 'or', 'pt', 'mv', 'qk', 'su', 'jy', 'ew', 'dq', 'pe', 'mk', 'vh'], 'u': ['wf', 'ud', 'ec', 'of', 'es', 'iw', 'jv', 'sl', 'ea', 'bp', 'ly', 'ju', 'oz', 'wz', 'nt', 'gh', 'nb', 'aw', 'nm'], 'v': ['sj', 'xy', 'rt', 'xb', 'qe', 'qc'], 'w': ['zm', 'mc', 'on', 'jx', 'ax', 'vq', 'wy', 'te', 'lo', 'nl', 'xu', 'ur', 'zr', 'kn', 'ez', 'uw'], 'x': ['bn'], 'y': ['iz', 'kf', 'em', 'yx', 'ad', 'gv', 'la', 'ka', 'yc', 'qt', 'sa', 'ey', 'oh'], 'z': ['xf']}\n"
     ]
    }
   ],
   "source": [
    "from random import randint\n",
    "from random import sample\n",
    "import string\n",
    "from itertools import permutations\n",
    "\n",
    "\n",
    "# create a dictionary of all bigrams:\n",
    "\n",
    "#first define our alphabet and frequencies\n",
    "ALPH_1 = string.ascii_lowercase\n",
    "# this is the frequencies from earlier in the project for each letter\n",
    "fr = {'a': 0.0813382530968154, 'b': 0.015772428180238454, 'c': 0.02307211235643865, 'd': 0.04378202350586753, 'e': 0.12486207836182597, 'f': 0.022079076561585642, 'g': 0.020784064969467386, 'h': 0.06501369165412156, 'i': 0.06853376455715428, 'j': 0.00125078732595071, 'k': 0.00849105910416825, 'l': 0.04209882113294529, 'm': 0.026337113986929273, 'n': 0.06876203324414029, 'o': 0.0749226075342068, 'p': 0.01639692842369527, 'q': 0.0012807168798216735, 'r': 0.05524995644579847, 's': 0.06410999781112219, 't': 0.09143076668795984, 'u': 0.028544753617232275, 'v': 0.00937018391040789, 'w': 0.024949633474642522, 'x': 0.0013084128848962963, 'y': 0.019657016246833945, 'z': 0.0006017180457341452}\n",
    "\n",
    "encode_dict = dict()\n",
    "def bigrams(fr):\n",
    "    global encode_dict\n",
    "    all_bigrams = [\"\".join(pair) for pair in permutations(ALPH_1, 2)]\n",
    "    for key in fr:\n",
    "        freq = fr[key]\n",
    "        bi_quantity = round(650*freq) # assign each letter the amount of bigrams proportionate to its probability of occuring\n",
    "        if bi_quantity == 0:\n",
    "            bi_quantity = 1 # if the frequency is so low that its quantity rounds down to zero, we replace it with 1\n",
    "        if bi_quantity > 50:\n",
    "            bi_quantity -= 1 # to fix our now too large number of bigrams, we shrink the greatest numbers by 1\n",
    "      \n",
    "        storage = sample(all_bigrams, bi_quantity) # store the bigrams in a list\n",
    "        \n",
    "        all_bigrams = [bigram for bigram in all_bigrams if bigram not in storage] # allows us to look over bigrams that have already been selected\n",
    "        encode_dict[key]=storage # encode the dictionary with each letter's list\n",
    "       \n",
    "    return encode_dict\n",
    "\n",
    "print (bigrams(fr)) # print this to see our dictionary of associated bigrams"
   ]
  },
  {
   "cell_type": "markdown",
   "id": "0ffc7dff",
   "metadata": {},
   "source": [
    "### Now we have our dictionary, we need to construct our public key. We concatenate the Vigenère Cipher and these 2-grams.\n",
    "\n",
    "#### We include a space before each string of 2-grams because we want Alice to be able to know where each 2-gram list begins.\n",
    "\n",
    "#### We then split it up into strings of length respective to the bit-primes we have, as we want it to be less than p and q (as p*q = N). The string gets split up in the function chopped_up."
   ]
  },
  {
   "cell_type": "code",
   "execution_count": 22,
   "id": "6c383a60",
   "metadata": {},
   "outputs": [
    {
     "name": "stdout",
     "output_type": "stream",
     "text": [
      "CTVHIHFANBMBLGBZAQQUWNUNGAEBHZATRNOJOHIYKWUIBPJWNFUDUFANEPMCCWEDEICLKGUSNPDGCYKCIZKATEKIORUXSQRMJKLMTYFUJILCKTMQMNOUOZPIMUQNRHAVNGTUATHCFXMQTXAXHLLOADYDJAQHUEVLYJPECPTHPBTLTGDDRIFBIWIJZSNDNELVYIADSUMVUIGCGUUCGMLTKDUUBGRJPLZOOYEYOBRFMGHJGAKXZYGOILRBCFIDYWRUTPYKZJMATRMGZFYKBCAVJDRUXMQIOUQADWQWXFBGDHBOERPVVROXGTNMWQPMV solsodbithrqazuzzdnuigjwosdpfyhbytrjwaufpisyynsddgwxdjscdzbtipvmhqkgtbutwmtrpjbhkomwkzguphtkqwzbcstmbokr oywexccjzsobacryfwlm rdcbjawsitcyngnvzggfmajkkbfgfz ubtsussxgnfatzkdljfnybefuxwuxtekneyfjzqhxjpfyiwvcxmnqphk nhysulprhgplakopdrxlnfatxqfksplquexkhntnkmzkuvczasingtnaqfvobulnvxzeroujzttlbjyeenhesgkjhadwceqzmbwkpzshkcseaojrdtcketegxgzjmtvgsidboxicoghuxrerifvkexmyvfjfiyxh rhirpufdahejgxlkbxotzqglephi elgaldeuidiebzaqpaqbcavtlfra oafolxkuhlbsagvzyomgxzjiriwjkqjtnyrmilnkqnzicmucdhkypntvpyrsmfoujofsbvzugsvsdomscrbl hsjcfbxwtqkirwpbstzvflcfhxqgzhgzoizngbqmtizyxejgylklcqyqmofutftcltdnsvhwhyywehxvqldvyalitx ay afbwgkwtiaqs rbowmxjqzanqzlamwdxpbqgirlrgxnfibfhfruvulernpdikwbrcsk vinjjlbexiivgmdagychfxokixvnfpqiwr wnmpcikhkvebxavrojxstpcudfbrsfdsdcuotgykcdkshdunftpxdehjqomromredynccgtweoanijjsnxfegelgoq dxyhughzvliqzxlvvdiuvelcihkeailzydpgzfqavwdldkqximfmwofvqrqupqjhnwxdumgrbcpsfjmzrpuywlhoedgqapswmq zwyggocnfravvjjpibymmi lb wghmwcjdjezonsmlmjyjzcoelwhrvctyfhdiqdmusryueqbghtvplpnirxsbajbduanrypup isyrovqybavyuhqvlhcoyvgwvbtayzsqdmpkjmhpxmbmfqrfcwmdsndupcctfclrpoaecvwipwwpndkxiowh npzpqjrzuialpmhckwhvbygcnolugpjnuqjbrkaunzeivaukwqolclcptjrvmhevgdtoarocgjabkppvktmebksmtdszxoorptmvqksujyewdqpemkvh wfudecofesiwjvsleabplyjuozwzntghnbawnm sjxyrtxbqeqc zmmconjxaxvqwytelonlxuurzrknezuw bn izkfemyxadgvlakaycqtsaeyoh xf\n"
     ]
    }
   ],
   "source": [
    "import string\n",
    "\n",
    "def create_string():\n",
    "    key_file = open(\"_vigenere_key.txt\")\n",
    "    Vig = key_file.read() # retrive the vigenere key from the saved file\n",
    "    key_string = Vig # create our string\n",
    "    for ky in ALPH_1:\n",
    "        two_grams = encode_dict[ky]\n",
    "        string_two_grams = \"\".join(two_grams) # join the two grams for each letter, and then \n",
    "        \n",
    "        key_string += ' ' + string_two_grams # add a space and the string for each letter to the string\n",
    "        \n",
    "    return key_string # return the concatenated string\n",
    "\n",
    "print(create_string())"
   ]
  },
  {
   "cell_type": "code",
   "execution_count": 23,
   "id": "028eefd2",
   "metadata": {},
   "outputs": [
    {
     "name": "stdout",
     "output_type": "stream",
     "text": [
      "['CTVHIHFANBMBLGBZAQQUWNUNGAEBHZATRNOJOHIYKWUIBPJWNFUDUFANEPMCCWEDEICLKGUSNPDGCYKCIZKATEKIORUXSQRMJKLMTYFUJILCKTMQMNOUOZPIMUQNRHA', 'VNGTUATHCFXMQTXAXHLLOADYDJAQHUEVLYJPECPTHPBTLTGDDRIFBIWIJZSNDNELVYIADSUMVUIGCGUUCGMLTKDUUBGRJPLZOOYEYOBRFMGHJGAKXZYGOILRBCFIDYW', 'RUTPYKZJMATRMGZFYKBCAVJDRUXMQIOUQADWQWXFBGDHBOERPVVROXGTNMWQPMV solsodbithrqazuzzdnuigjwosdpfyhbytrjwaufpisyynsddgwxdjscdzbtipv', 'mhqkgtbutwmtrpjbhkomwkzguphtkqwzbcstmbokr oywexccjzsobacryfwlm rdcbjawsitcyngnvzggfmajkkbfgfz ubtsussxgnfatzkdljfnybefuxwuxtekn', 'eyfjzqhxjpfyiwvcxmnqphk nhysulprhgplakopdrxlnfatxqfksplquexkhntnkmzkuvczasingtnaqfvobulnvxzeroujzttlbjyeenhesgkjhadwceqzmbwkpzs', 'hkcseaojrdtcketegxgzjmtvgsidboxicoghuxrerifvkexmyvfjfiyxh rhirpufdahejgxlkbxotzqglephi elgaldeuidiebzaqpaqbcavtlfra oafolxkuhlb', 'sagvzyomgxzjiriwjkqjtnyrmilnkqnzicmucdhkypntvpyrsmfoujofsbvzugsvsdomscrbl hsjcfbxwtqkirwpbstzvflcfhxqgzhgzoizngbqmtizyxejgylklc', 'qyqmofutftcltdnsvhwhyywehxvqldvyalitx ay afbwgkwtiaqs rbowmxjqzanqzlamwdxpbqgirlrgxnfibfhfruvulernpdikwbrcsk vinjjlbexiivgmdagy', 'chfxokixvnfpqiwr wnmpcikhkvebxavrojxstpcudfbrsfdsdcuotgykcdkshdunftpxdehjqomromredynccgtweoanijjsnxfegelgoq dxyhughzvliqzxlvvdi', 'uvelcihkeailzydpgzfqavwdldkqximfmwofvqrqupqjhnwxdumgrbcpsfjmzrpuywlhoedgqapswmq zwyggocnfravvjjpibymmi lb wghmwcjdjezonsmlmjyjz', 'coelwhrvctyfhdiqdmusryueqbghtvplpnirxsbajbduanrypup isyrovqybavyuhqvlhcoyvgwvbtayzsqdmpkjmhpxmbmfqrfcwmdsndupcctfclrpoaecvwipww', 'pndkxiowh npzpqjrzuialpmhckwhvbygcnolugpjnuqjbrkaunzeivaukwqolclcptjrvmhevgdtoarocgjabkppvktmebksmtdszxoorptmvqksujyewdqpemkvh ', 'wfudecofesiwjvsleabplyjuozwzntghnbawnm sjxyrtxbqeqc zmmconjxaxvqwytelonlxuurzrknezuw bn izkfemyxadgvlakaycqtsaeyoh xf']\n"
     ]
    }
   ],
   "source": [
    "# we 'split up' our long string into shorter chunks to encrypt more easily\n",
    "\n",
    "def chopped_up(string_input, prime_bit_length): # we input what we want to chop up and the bit length we used in our vigenere encryption\n",
    "    segment_len = (prime_bit_length - 2)//8\n",
    "    string= [string_input[i:i+segment_len]for i in range(0,len(string_input), segment_len)]\n",
    "    return string\n",
    "\n",
    "broken_string = chopped_up(create_string(), 1024)\n",
    "\n",
    "print(broken_string)"
   ]
  },
  {
   "cell_type": "markdown",
   "id": "bc3e88c7",
   "metadata": {},
   "source": [
    "#### Now we have a form that we can encrypt. Firstly, we convert these strings to binary integers, and then RSA encrypt these binary integers. This final ourtput will be our public key."
   ]
  },
  {
   "cell_type": "code",
   "execution_count": 24,
   "id": "4f787d28",
   "metadata": {
    "scrolled": true
   },
   "outputs": [
    {
     "ename": "TypeError",
     "evalue": "ord() expected a character, but string of length 127 found",
     "output_type": "error",
     "traceback": [
      "\u001b[0;31m---------------------------------------------------------------------------\u001b[0m",
      "\u001b[0;31mTypeError\u001b[0m                                 Traceback (most recent call last)",
      "Cell \u001b[0;32mIn[24], line 26\u001b[0m\n\u001b[1;32m     22\u001b[0m     \u001b[38;5;28;01mreturn\u001b[39;00m binary_text\n\u001b[1;32m     25\u001b[0m \u001b[38;5;66;03m# now we are ready for RSA encryption using\u001b[39;00m\n\u001b[0;32m---> 26\u001b[0m input1 \u001b[38;5;241m=\u001b[39m \u001b[43mbinary_key\u001b[49m\u001b[43m(\u001b[49m\u001b[43mbroken_string\u001b[49m\u001b[43m,\u001b[49m\u001b[43m \u001b[49m\u001b[38;5;241;43m1024\u001b[39;49m\u001b[43m)\u001b[49m\n\u001b[1;32m     28\u001b[0m \u001b[38;5;28mprint\u001b[39m(input1)\n",
      "Cell \u001b[0;32mIn[24], line 19\u001b[0m, in \u001b[0;36mbinary_key\u001b[0;34m(string_input, prime_bit_length)\u001b[0m\n\u001b[1;32m     17\u001b[0m binary_text \u001b[38;5;241m=\u001b[39m []\n\u001b[1;32m     18\u001b[0m \u001b[38;5;28;01mfor\u001b[39;00m value \u001b[38;5;129;01min\u001b[39;00m text:\n\u001b[0;32m---> 19\u001b[0m     binary_value \u001b[38;5;241m=\u001b[39m [char_to_byte(char) \u001b[38;5;28;01mfor\u001b[39;00m char \u001b[38;5;129;01min\u001b[39;00m value]\n\u001b[1;32m     20\u001b[0m     joined \u001b[38;5;241m=\u001b[39m \u001b[38;5;124m\"\u001b[39m\u001b[38;5;124m\"\u001b[39m\u001b[38;5;241m.\u001b[39mjoin(binary_value)\n\u001b[1;32m     21\u001b[0m     binary_text\u001b[38;5;241m.\u001b[39mappend(joined)\n",
      "Cell \u001b[0;32mIn[24], line 19\u001b[0m, in \u001b[0;36m<listcomp>\u001b[0;34m(.0)\u001b[0m\n\u001b[1;32m     17\u001b[0m binary_text \u001b[38;5;241m=\u001b[39m []\n\u001b[1;32m     18\u001b[0m \u001b[38;5;28;01mfor\u001b[39;00m value \u001b[38;5;129;01min\u001b[39;00m text:\n\u001b[0;32m---> 19\u001b[0m     binary_value \u001b[38;5;241m=\u001b[39m [\u001b[43mchar_to_byte\u001b[49m\u001b[43m(\u001b[49m\u001b[43mchar\u001b[49m\u001b[43m)\u001b[49m \u001b[38;5;28;01mfor\u001b[39;00m char \u001b[38;5;129;01min\u001b[39;00m value]\n\u001b[1;32m     20\u001b[0m     joined \u001b[38;5;241m=\u001b[39m \u001b[38;5;124m\"\u001b[39m\u001b[38;5;124m\"\u001b[39m\u001b[38;5;241m.\u001b[39mjoin(binary_value)\n\u001b[1;32m     21\u001b[0m     binary_text\u001b[38;5;241m.\u001b[39mappend(joined)\n",
      "Cell \u001b[0;32mIn[24], line 9\u001b[0m, in \u001b[0;36mchar_to_byte\u001b[0;34m(char)\u001b[0m\n\u001b[1;32m      3\u001b[0m \u001b[38;5;28;01mdef\u001b[39;00m \u001b[38;5;21mchar_to_byte\u001b[39m(char): \u001b[38;5;66;03m# use the binary code function form letures \u001b[39;00m\n\u001b[1;32m      4\u001b[0m     \u001b[38;5;124;03m\"\"\"\u001b[39;00m\n\u001b[1;32m      5\u001b[0m \u001b[38;5;124;03m    Returns the 8 bit binary representation (padded with \u001b[39;00m\n\u001b[1;32m      6\u001b[0m \u001b[38;5;124;03m    leading zeros when necessary) of ord(char), i.e. of \u001b[39;00m\n\u001b[1;32m      7\u001b[0m \u001b[38;5;124;03m    the order of the input character char. \u001b[39;00m\n\u001b[1;32m      8\u001b[0m \u001b[38;5;124;03m    \"\"\"\u001b[39;00m\n\u001b[0;32m----> 9\u001b[0m     byte_string \u001b[38;5;241m=\u001b[39m \u001b[38;5;28mbin\u001b[39m(\u001b[38;5;28;43mord\u001b[39;49m\u001b[43m(\u001b[49m\u001b[43mchar\u001b[49m\u001b[43m)\u001b[49m)[\u001b[38;5;241m2\u001b[39m:]            \u001b[38;5;66;03m# The order of char as a binary string \u001b[39;00m\n\u001b[1;32m     10\u001b[0m     num_zeros \u001b[38;5;241m=\u001b[39m \u001b[38;5;241m8\u001b[39m \u001b[38;5;241m-\u001b[39m \u001b[38;5;28mlen\u001b[39m(byte_string)            \u001b[38;5;66;03m# The number of zeros needed to pad out byte_string\u001b[39;00m\n\u001b[1;32m     11\u001b[0m     byte_string \u001b[38;5;241m=\u001b[39m \u001b[38;5;124m'\u001b[39m\u001b[38;5;124m0\u001b[39m\u001b[38;5;124m'\u001b[39m \u001b[38;5;241m*\u001b[39m num_zeros \u001b[38;5;241m+\u001b[39m byte_string \u001b[38;5;66;03m# Now pad out byte_string with num_zeros many zeros\u001b[39;00m\n",
      "\u001b[0;31mTypeError\u001b[0m: ord() expected a character, but string of length 127 found"
     ]
    }
   ],
   "source": [
    "# now we RSA encrypt each of these parts and send off as the key\n",
    "\n",
    "def char_to_byte(char): # use the binary code function form letures \n",
    "    \"\"\"\n",
    "    Returns the 8 bit binary representation (padded with \n",
    "    leading zeros when necessary) of ord(char), i.e. of \n",
    "    the order of the input character char. \n",
    "    \"\"\"\n",
    "    byte_string = bin(ord(char))[2:]            # The order of char as a binary string \n",
    "    num_zeros = 8 - len(byte_string)            # The number of zeros needed to pad out byte_string\n",
    "    byte_string = '0' * num_zeros + byte_string # Now pad out byte_string with num_zeros many zeros\n",
    "                                                # to obtain the 8-bit binary representation\n",
    "    return byte_string\n",
    "\n",
    "def binary_key(string_input, prime_bit_length):\n",
    "    text = chopped_up(string_input, prime_bit_length)\n",
    "    binary_text = []\n",
    "    for value in text:\n",
    "        binary_value = [char_to_byte(char) for char in value]\n",
    "        joined = \"\".join(binary_value)\n",
    "        binary_text.append(joined)\n",
    "    return binary_text\n",
    "\n",
    "\n",
    "# now we are ready for RSA encryption using\n",
    "input1 = binary_key(broken_string, 1024)\n",
    "\n",
    "print(input1)"
   ]
  },
  {
   "cell_type": "code",
   "execution_count": 25,
   "id": "111472f7",
   "metadata": {},
   "outputs": [
    {
     "ename": "KeyboardInterrupt",
     "evalue": "",
     "output_type": "error",
     "traceback": [
      "\u001b[0;31m---------------------------------------------------------------------------\u001b[0m",
      "\u001b[0;31mKeyboardInterrupt\u001b[0m                         Traceback (most recent call last)",
      "Cell \u001b[0;32mIn[25], line 2\u001b[0m\n\u001b[1;32m      1\u001b[0m \u001b[38;5;66;03m# retreive the RSA key from our function\u001b[39;00m\n\u001b[0;32m----> 2\u001b[0m (N, e) \u001b[38;5;241m=\u001b[39m \u001b[43mRSA_key_generator\u001b[49m\u001b[43m(\u001b[49m\u001b[43mbitlength\u001b[49m\u001b[38;5;241;43m=\u001b[39;49m\u001b[38;5;241;43m1024\u001b[39;49m\u001b[43m)\u001b[49m[\u001b[38;5;241m0\u001b[39m]\n\u001b[1;32m      5\u001b[0m \u001b[38;5;66;03m# here is our RSA encrypt function:\u001b[39;00m\n\u001b[1;32m      6\u001b[0m \u001b[38;5;28;01mdef\u001b[39;00m \u001b[38;5;21mRSA_encryption\u001b[39m(N, e, input1):\n",
      "Cell \u001b[0;32mIn[16], line 10\u001b[0m, in \u001b[0;36mRSA_key_generator\u001b[0;34m(bitlength)\u001b[0m\n\u001b[1;32m      8\u001b[0m \u001b[38;5;66;03m## Generate two large primes.\u001b[39;00m\n\u001b[1;32m      9\u001b[0m p \u001b[38;5;241m=\u001b[39m cryptography_functions\u001b[38;5;241m.\u001b[39mrandom_prime(bitlength)\n\u001b[0;32m---> 10\u001b[0m q \u001b[38;5;241m=\u001b[39m \u001b[43mcryptography_functions\u001b[49m\u001b[38;5;241;43m.\u001b[39;49m\u001b[43mrandom_prime\u001b[49m\u001b[43m(\u001b[49m\u001b[43mbitlength\u001b[49m\u001b[43m)\u001b[49m\n\u001b[1;32m     11\u001b[0m N \u001b[38;5;241m=\u001b[39m p\u001b[38;5;241m*\u001b[39mq\n\u001b[1;32m     13\u001b[0m \u001b[38;5;66;03m## Next, get phi and use it to get a public and private exponent.\u001b[39;00m\n",
      "File \u001b[0;32m~/PROJECT/cryptography_functions.py:103\u001b[0m, in \u001b[0;36mrandom_prime\u001b[0;34m(bit_length)\u001b[0m\n\u001b[1;32m    101\u001b[0m p \u001b[38;5;241m=\u001b[39m SystemRandom()\u001b[38;5;241m.\u001b[39mgetrandbits(bit_length)  \n\u001b[1;32m    102\u001b[0m \u001b[38;5;28;01mif\u001b[39;00m p \u001b[38;5;241m>\u001b[39m\u001b[38;5;241m=\u001b[39m \u001b[38;5;241m2\u001b[39m\u001b[38;5;241m*\u001b[39m\u001b[38;5;241m*\u001b[39m(bit_length\u001b[38;5;241m-\u001b[39m\u001b[38;5;241m1\u001b[39m):\n\u001b[0;32m--> 103\u001b[0m     \u001b[38;5;28;01mif\u001b[39;00m \u001b[43mis_prime\u001b[49m\u001b[43m(\u001b[49m\u001b[43mp\u001b[49m\u001b[43m)\u001b[49m:\n\u001b[1;32m    104\u001b[0m         \u001b[38;5;28;01mreturn\u001b[39;00m p\n",
      "File \u001b[0;32m~/PROJECT/cryptography_functions.py:91\u001b[0m, in \u001b[0;36mis_prime\u001b[0;34m(p, num_wit)\u001b[0m\n\u001b[1;32m     89\u001b[0m     num_trials \u001b[38;5;241m=\u001b[39m num_trials \u001b[38;5;241m+\u001b[39m \u001b[38;5;241m1\u001b[39m\n\u001b[1;32m     90\u001b[0m     witness \u001b[38;5;241m=\u001b[39m randint(\u001b[38;5;241m2\u001b[39m,p\u001b[38;5;241m-\u001b[39m\u001b[38;5;241m2\u001b[39m)\n\u001b[0;32m---> 91\u001b[0m     \u001b[38;5;28;01mif\u001b[39;00m \u001b[43mmiller_rabin\u001b[49m\u001b[43m(\u001b[49m\u001b[43mp\u001b[49m\u001b[43m,\u001b[49m\u001b[43mwitness\u001b[49m\u001b[43m)\u001b[49m \u001b[38;5;241m==\u001b[39m \u001b[38;5;28;01mFalse\u001b[39;00m: \n\u001b[1;32m     92\u001b[0m         \u001b[38;5;28;01mreturn\u001b[39;00m \u001b[38;5;28;01mFalse\u001b[39;00m\n\u001b[1;32m     93\u001b[0m \u001b[38;5;28;01mreturn\u001b[39;00m \u001b[38;5;28;01mTrue\u001b[39;00m\n",
      "File \u001b[0;32m~/PROJECT/cryptography_functions.py:46\u001b[0m, in \u001b[0;36mmiller_rabin\u001b[0;34m(p, base)\u001b[0m\n\u001b[1;32m     43\u001b[0m         \u001b[38;5;28;01mreturn\u001b[39;00m \u001b[38;5;28;01mFalse\u001b[39;00m             \u001b[38;5;66;03m# So ROO violated and False is output\u001b[39;00m\n\u001b[1;32m     45\u001b[0m \u001b[38;5;28;01mif\u001b[39;00m bit \u001b[38;5;241m==\u001b[39m \u001b[38;5;124m'\u001b[39m\u001b[38;5;124m1\u001b[39m\u001b[38;5;124m'\u001b[39m: \n\u001b[0;32m---> 46\u001b[0m     n \u001b[38;5;241m=\u001b[39m (\u001b[43mn_squared\u001b[49m\u001b[43m \u001b[49m\u001b[38;5;241;43m*\u001b[39;49m\u001b[43m \u001b[49m\u001b[43mbase\u001b[49m) \u001b[38;5;241m%\u001b[39m modulus\n\u001b[1;32m     47\u001b[0m \u001b[38;5;28;01mif\u001b[39;00m bit \u001b[38;5;241m==\u001b[39m \u001b[38;5;124m'\u001b[39m\u001b[38;5;124m0\u001b[39m\u001b[38;5;124m'\u001b[39m:\n\u001b[1;32m     48\u001b[0m     n \u001b[38;5;241m=\u001b[39m n_squared \n",
      "\u001b[0;31mKeyboardInterrupt\u001b[0m: "
     ]
    }
   ],
   "source": [
    "# retreive the RSA key from our function\n",
    "(N, e) = RSA_key_generator(bitlength=1024)[0]\n",
    "\n",
    "\n",
    "# here is our RSA encrypt function:\n",
    "def RSA_encryption(N, e, input1):\n",
    "    encrypted_key_list = []\n",
    "    if type(input1) == list:\n",
    "        input_list = input1\n",
    "    else:\n",
    "        input_list = list(input1)\n",
    "    for item in input_list:\n",
    "        int_item = int(item)\n",
    "        i = pow(int_item, e, N)\n",
    "        encrypted_key_list.append(i)\n",
    "    return encrypted_key_list\n",
    "\n",
    "# RSA encrypt our input:\n",
    "\n",
    "Bob_public_key = RSA_encryption(N,e,input1)\n",
    "print(Bob_public_key)"
   ]
  },
  {
   "cell_type": "markdown",
   "id": "a45eec2b",
   "metadata": {},
   "source": [
    "### We send Alice our public key.\n",
    "\n",
    "#### Then we encrypt our message. Firstly, we assign each letter n our chosen message to a 2-gram in its dictionary.\n",
    "\n",
    "#### For example, to encrypt the letter 'y', we randomly select one of the 13 bigrams associated with 'y'. We do this with everything in our message, and then Vigenère encrypt the result to get our encrypted message."
   ]
  },
  {
   "cell_type": "code",
   "execution_count": 57,
   "id": "b4a793f2",
   "metadata": {},
   "outputs": [],
   "source": [
    "import random\n",
    "import string\n",
    "\n",
    "ALPH_1 = string.ascii_lowercase\n",
    "\n",
    "\n",
    "## our input it treasure island. users cna change this if they want\n",
    "message_file = open(\"message_treasure_island.txt\", \"r\")\n",
    "message = message_file.read()\n",
    "\n",
    "def bigram_message(message):\n",
    "    bigrams = []\n",
    "    for letter in message:\n",
    "        if letter in ALPH_1:\n",
    "            x = encode_dict[letter][random.randint(0, len(encode_dict[letter])-1)]\n",
    "            bigrams.append(x)\n",
    "    message = \"\".join(bigrams)\n",
    "    return message\n",
    "\n",
    "variable = str(bigram_message(message))\n",
    "# add this output to a text file which we can input into the vigenere cipher\n",
    "with open(\"input_text.txt\", \"w\") as input_text:  # 'w' mode opens the file for writing\n",
    "    input_text.write(variable)\n",
    "\n",
    "# now we need to vigenere encrypt this"
   ]
  },
  {
   "cell_type": "code",
   "execution_count": 58,
   "id": "0699429f",
   "metadata": {
    "scrolled": true
   },
   "outputs": [
    {
     "name": "stdout",
     "output_type": "stream",
     "text": [
      "Input the name of the text file you would like to encrypt / decrypt, including the .txt: input_text.txt\n",
      "Encrypted text written to encrypted_text.txt, and vigenere key written to _vigenere_key.txt\n"
     ]
    }
   ],
   "source": [
    "vigenere_encrypt() # when the pop-up appears, input input_text.txt.\n",
    "\n",
    "# after running this, our encrypted message is stored to encrypted_text.txt"
   ]
  },
  {
   "cell_type": "markdown",
   "id": "554613a9",
   "metadata": {},
   "source": [
    "## Now Bob's job is complete!\n",
    "\n",
    "#### He has sent Alice public_key (RSA encrypted binary of the Vigenère key and the bigrams for each letter), and the encrypted message (stored in encrypted_text.txt).\n",
    "\n",
    "#### Now Alice has to use the public key to decrypt the message.\n",
    "#### First, we decrypt the public key, then use it to decrypt the bigram message."
   ]
  },
  {
   "cell_type": "code",
   "execution_count": 28,
   "id": "197d5879",
   "metadata": {},
   "outputs": [
    {
     "ename": "KeyboardInterrupt",
     "evalue": "",
     "output_type": "error",
     "traceback": [
      "\u001b[0;31m---------------------------------------------------------------------------\u001b[0m",
      "\u001b[0;31mKeyboardInterrupt\u001b[0m                         Traceback (most recent call last)",
      "Cell \u001b[0;32mIn[28], line 19\u001b[0m\n\u001b[1;32m     16\u001b[0m     \u001b[38;5;28;01mreturn\u001b[39;00m (N, d)\n\u001b[1;32m     18\u001b[0m \u001b[38;5;66;03m# Now we have N and d to input into the function\u001b[39;00m\n\u001b[0;32m---> 19\u001b[0m (N, d) \u001b[38;5;241m=\u001b[39m \u001b[43mRSA_key_generation\u001b[49m\u001b[43m(\u001b[49m\u001b[43mbitlength\u001b[49m\u001b[38;5;241;43m=\u001b[39;49m\u001b[38;5;241;43m1024\u001b[39;49m\u001b[43m)\u001b[49m\n\u001b[1;32m     21\u001b[0m \u001b[38;5;66;03m# our RSA decrypt function:\u001b[39;00m\n\u001b[1;32m     22\u001b[0m \u001b[38;5;28;01mdef\u001b[39;00m \u001b[38;5;21mRSA_decryption\u001b[39m(encrypted_input, N, d):\n",
      "Cell \u001b[0;32mIn[28], line 9\u001b[0m, in \u001b[0;36mRSA_key_generation\u001b[0;34m(bitlength)\u001b[0m\n\u001b[1;32m      7\u001b[0m \u001b[38;5;28;01mdef\u001b[39;00m \u001b[38;5;21mRSA_key_generation\u001b[39m(bitlength\u001b[38;5;241m=\u001b[39m\u001b[38;5;241m1024\u001b[39m):\n\u001b[1;32m      8\u001b[0m     p \u001b[38;5;241m=\u001b[39m cryptography_functions\u001b[38;5;241m.\u001b[39mrandom_prime(bitlength)\n\u001b[0;32m----> 9\u001b[0m     q \u001b[38;5;241m=\u001b[39m \u001b[43mcryptography_functions\u001b[49m\u001b[38;5;241;43m.\u001b[39;49m\u001b[43mrandom_prime\u001b[49m\u001b[43m(\u001b[49m\u001b[43mbitlength\u001b[49m\u001b[43m)\u001b[49m\n\u001b[1;32m     10\u001b[0m     N \u001b[38;5;241m=\u001b[39m p\u001b[38;5;241m*\u001b[39mq\n\u001b[1;32m     11\u001b[0m     phi \u001b[38;5;241m=\u001b[39m (p\u001b[38;5;241m-\u001b[39m\u001b[38;5;241m1\u001b[39m)\u001b[38;5;241m*\u001b[39m(q\u001b[38;5;241m-\u001b[39m\u001b[38;5;241m1\u001b[39m)\n",
      "File \u001b[0;32m~/PROJECT/cryptography_functions.py:103\u001b[0m, in \u001b[0;36mrandom_prime\u001b[0;34m(bit_length)\u001b[0m\n\u001b[1;32m    101\u001b[0m p \u001b[38;5;241m=\u001b[39m SystemRandom()\u001b[38;5;241m.\u001b[39mgetrandbits(bit_length)  \n\u001b[1;32m    102\u001b[0m \u001b[38;5;28;01mif\u001b[39;00m p \u001b[38;5;241m>\u001b[39m\u001b[38;5;241m=\u001b[39m \u001b[38;5;241m2\u001b[39m\u001b[38;5;241m*\u001b[39m\u001b[38;5;241m*\u001b[39m(bit_length\u001b[38;5;241m-\u001b[39m\u001b[38;5;241m1\u001b[39m):\n\u001b[0;32m--> 103\u001b[0m     \u001b[38;5;28;01mif\u001b[39;00m \u001b[43mis_prime\u001b[49m\u001b[43m(\u001b[49m\u001b[43mp\u001b[49m\u001b[43m)\u001b[49m:\n\u001b[1;32m    104\u001b[0m         \u001b[38;5;28;01mreturn\u001b[39;00m p\n",
      "File \u001b[0;32m~/PROJECT/cryptography_functions.py:91\u001b[0m, in \u001b[0;36mis_prime\u001b[0;34m(p, num_wit)\u001b[0m\n\u001b[1;32m     89\u001b[0m     num_trials \u001b[38;5;241m=\u001b[39m num_trials \u001b[38;5;241m+\u001b[39m \u001b[38;5;241m1\u001b[39m\n\u001b[1;32m     90\u001b[0m     witness \u001b[38;5;241m=\u001b[39m randint(\u001b[38;5;241m2\u001b[39m,p\u001b[38;5;241m-\u001b[39m\u001b[38;5;241m2\u001b[39m)\n\u001b[0;32m---> 91\u001b[0m     \u001b[38;5;28;01mif\u001b[39;00m \u001b[43mmiller_rabin\u001b[49m\u001b[43m(\u001b[49m\u001b[43mp\u001b[49m\u001b[43m,\u001b[49m\u001b[43mwitness\u001b[49m\u001b[43m)\u001b[49m \u001b[38;5;241m==\u001b[39m \u001b[38;5;28;01mFalse\u001b[39;00m: \n\u001b[1;32m     92\u001b[0m         \u001b[38;5;28;01mreturn\u001b[39;00m \u001b[38;5;28;01mFalse\u001b[39;00m\n\u001b[1;32m     93\u001b[0m \u001b[38;5;28;01mreturn\u001b[39;00m \u001b[38;5;28;01mTrue\u001b[39;00m\n",
      "File \u001b[0;32m~/PROJECT/cryptography_functions.py:39\u001b[0m, in \u001b[0;36mmiller_rabin\u001b[0;34m(p, base)\u001b[0m\n\u001b[1;32m     36\u001b[0m bin_string \u001b[38;5;241m=\u001b[39m \u001b[38;5;28mbin\u001b[39m(exponent)[\u001b[38;5;241m2\u001b[39m:]        \u001b[38;5;66;03m# Get 'exponent' in binary without the first '0b'\u001b[39;00m\n\u001b[1;32m     38\u001b[0m \u001b[38;5;28;01mfor\u001b[39;00m bit \u001b[38;5;129;01min\u001b[39;00m bin_string:               \u001b[38;5;66;03m# Iterate through the '0' and '1' of binstring\u001b[39;00m\n\u001b[0;32m---> 39\u001b[0m     n_squared \u001b[38;5;241m=\u001b[39m \u001b[43mn\u001b[49m\u001b[43m \u001b[49m\u001b[38;5;241;43m*\u001b[39;49m\u001b[43m \u001b[49m\u001b[43mn\u001b[49m\u001b[43m \u001b[49m\u001b[38;5;241;43m%\u001b[39;49m\u001b[43m \u001b[49m\u001b[43mmodulus\u001b[49m      \u001b[38;5;66;03m# We need this below\u001b[39;00m\n\u001b[1;32m     41\u001b[0m     \u001b[38;5;28;01mif\u001b[39;00m  n_squared \u001b[38;5;241m==\u001b[39m \u001b[38;5;241m1\u001b[39m:              \u001b[38;5;66;03m# Case when n * n = 1 mod p. \u001b[39;00m\n\u001b[1;32m     42\u001b[0m         \u001b[38;5;28;01mif\u001b[39;00m (n \u001b[38;5;241m!=\u001b[39m \u001b[38;5;241m1\u001b[39m) \u001b[38;5;129;01mand\u001b[39;00m (n \u001b[38;5;241m!=\u001b[39m p\u001b[38;5;241m-\u001b[39m\u001b[38;5;241m1\u001b[39m):  \u001b[38;5;66;03m# Case when is neither 1 nor -1 mod p\u001b[39;00m\n",
      "\u001b[0;31mKeyboardInterrupt\u001b[0m: "
     ]
    }
   ],
   "source": [
    "##### WE NEED TO RSA DECRYPT Bob_public_key, THIS SHOULD GIVE BINARY\n",
    "\n",
    "\n",
    "\n",
    "\n",
    "# refine the key generator to give us the inputs we want:\n",
    "def RSA_key_generation(bitlength=1024):\n",
    "    p = cryptography_functions.random_prime(bitlength)\n",
    "    q = cryptography_functions.random_prime(bitlength)\n",
    "    N = p*q\n",
    "    phi = (p-1)*(q-1)\n",
    "    e = random.randint(1,min(p,q))   \n",
    "    while cryptography_functions.gcd(e,phi) > 1:\n",
    "        e = random.randint(1,min(p,q))\n",
    "    d = pow(e,-1,phi)\n",
    "    return (N, d)\n",
    "\n",
    "# Now we have N and d to input into the function\n",
    "(N, d) = RSA_key_generation(bitlength=1024)\n",
    "\n",
    "# our RSA decrypt function:\n",
    "def RSA_decryption(encrypted_input, N, d):\n",
    "    complete_key_list = []\n",
    "    if type(encrypted_input) == list:\n",
    "        decryption_list = encrypted_input\n",
    "    else:\n",
    "        decryption_list = list(encrypted_input)\n",
    "    for item in decryption_list:\n",
    "        int_item = int(item)\n",
    "        j = pow(int_item, d, N)\n",
    "        complete_key_list.append(j)\n",
    "    return complete_key_list\n",
    "\n",
    "### decrypt the public key:\n",
    "decrypted = RSA_decryption(Bob_public_key, N, d)\n",
    "print(decrypted)"
   ]
  },
  {
   "cell_type": "code",
   "execution_count": null,
   "id": "0ce143a1",
   "metadata": {},
   "outputs": [],
   "source": [
    "####### ONCE WE HAVE RSA DECRYPTED Bob_public_key, WE CONVERT IT TO TEXT HERE. THIS IS ALICE PUBLIC KEY\n",
    "\n",
    "\n",
    "def convert_to_text(number):\n",
    "    # Remove '0b1' from the string \n",
    "    bin_string = bin(number)[3:] \n",
    "    text = ''                           \n",
    "    length = len(bin_string)\n",
    "    for i in range(0,length,8):  \n",
    "        # Pick out binary strings, 8 bits at a time\n",
    "        byte_string = bin_string[i:i+8]   \n",
    "        # Convert byte_string to a character before \n",
    "        # appending it to text \n",
    "        text = text + chr(int(byte_string,2))  \n",
    "    return text\n",
    "\n",
    "plaintext = []\n",
    "for i in decrypted:\n",
    "    j = convert_to_text(i)\n",
    "    plaintext.append(j)\n",
    "print(plaintext)"
   ]
  },
  {
   "cell_type": "code",
   "execution_count": 29,
   "id": "944cb7b5",
   "metadata": {},
   "outputs": [
    {
     "name": "stdout",
     "output_type": "stream",
     "text": [
      "DOFSNKMJUYALHPNGUPXZBPMIAEEIVGAOEPFXFMMKMEYMCASETDHMRDUGOEICNHTLBBGZPIRWAMPRYCAALHYSCCCOSINEEOIDBOVXCFKDTYPGXMGMMUWPGSWRAQQLUXAVFTLXYRZQVSPAPYXFHFHAFXQZLNKWUJLPBHXDPYMWYWUVOOOACLOJMWLDRQWUNEXOWQVUPIJXZBPTI solsodbithrqazuzzdnuigjwosdpfyhbytrjwaufpisyynsddgwxdjscdzbtipvmhqkgtbutwmtrpjbhkomwkzguphtkqwzbcstmbokr oywexccjzsobacryfwlm rdcbjawsitcyngnvzggfmajkkbfgfz ubtsussxgnfatzkdljfnybefuxwuxtekneyfjzqhxjpfyiwvcxmnqphk nhysulprhgplakopdrxlnfatxqfksplquexkhntnkmzkuvczasingtnaqfvobulnvxzeroujzttlbjyeenhesgkjhadwceqzmbwkpzshkcseaojrdtcketegxgzjmtvgsidboxicoghuxrerifvkexmyvfjfiyxh rhirpufdahejgxlkbxotzqglephi elgaldeuidiebzaqpaqbcavtlfra oafolxkuhlbsagvzyomgxzjiriwjkqjtnyrmilnkqnzicmucdhkypntvpyrsmfoujofsbvzugsvsdomscrbl hsjcfbxwtqkirwpbstzvflcfhxqgzhgzoizngbqmtizyxejgylklcqyqmofutftcltdnsvhwhyywehxvqldvyalitx ay afbwgkwtiaqs rbowmxjqzanqzlamwdxpbqgirlrgxnfibfhfruvulernpdikwbrcsk vinjjlbexiivgmdagychfxokixvnfpqiwr wnmpcikhkvebxavrojxstpcudfbrsfdsdcuotgykcdkshdunftpxdehjqomromredynccgtweoanijjsnxfegelgoq dxyhughzvliqzxlvvdiuvelcihkeailzydpgzfqavwdldkqximfmwofvqrqupqjhnwxdumgrbcpsfjmzrpuywlhoedgqapswmq zwyggocnfravvjjpibymmi lb wghmwcjdjezonsmlmjyjzcoelwhrvctyfhdiqdmusryueqbghtvplpnirxsbajbduanrypup isyrovqybavyuhqvlhcoyvgwvbtayzsqdmpkjmhpxmbmfqrfcwmdsndupcctfclrpoaecvwipwwpndkxiowh npzpqjrzuialpmhckwhvbygcnolugpjnuqjbrkaunzeivaukwqolclcptjrvmhevgdtoarocgjabkppvktmebksmtdszxoorptmvqksujyewdqpemkvh wfudecofesiwjvsleabplyjuozwzntghnbawnm sjxyrtxbqeqc zmmconjxaxvqwytelonlxuurzrknezuw bn izkfemyxadgvlakaycqtsaeyoh xf\n"
     ]
    }
   ],
   "source": [
    "#then we join everything here into one string which is our public key.\n",
    "\n",
    "#plaintext = Alice_public_key\n",
    "#print(Alice_public_key)\n",
    "\n",
    "\n",
    "# leave next line here\n",
    "\n",
    "## if the decryption did not work, please uncomment the following lines and use this for the next stage.\n",
    "\n",
    "Alice_public_key = create_string()\n",
    "print(Alice_public_key)\n",
    "\n",
    "### (i am pretending this worked so i can do the next stage)."
   ]
  },
  {
   "cell_type": "markdown",
   "id": "9b065e18",
   "metadata": {},
   "source": [
    "#### Alice now knows the public key. The first thing here is the Vigenère key. We split the string up into its parts:"
   ]
  },
  {
   "cell_type": "code",
   "execution_count": 30,
   "id": "97fac024",
   "metadata": {},
   "outputs": [
    {
     "name": "stdout",
     "output_type": "stream",
     "text": [
      "['DOFSNKMJUYALHPNGUPXZBPMIAEEIVGAOEPFXFMMKMEYMCASETDHMRDUGOEICNHTLBBGZPIRWAMPRYCAALHYSCCCOSINEEOIDBOVXCFKDTYPGXMGMMUWPGSWRAQQLUXAVFTLXYRZQVSPAPYXFHFHAFXQZLNKWUJLPBHXDPYMWYWUVOOOACLOJMWLDRQWUNEXOWQVUPIJXZBPTI', 'solsodbithrqazuzzdnuigjwosdpfyhbytrjwaufpisyynsddgwxdjscdzbtipvmhqkgtbutwmtrpjbhkomwkzguphtkqwzbcstmbokr', 'oywexccjzsobacryfwlm', 'rdcbjawsitcyngnvzggfmajkkbfgfz', 'ubtsussxgnfatzkdljfnybefuxwuxtekneyfjzqhxjpfyiwvcxmnqphk', 'nhysulprhgplakopdrxlnfatxqfksplquexkhntnkmzkuvczasingtnaqfvobulnvxzeroujzttlbjyeenhesgkjhadwceqzmbwkpzshkcseaojrdtcketegxgzjmtvgsidboxicoghuxrerifvkexmyvfjfiyxh', 'rhirpufdahejgxlkbxotzqglephi', 'elgaldeuidiebzaqpaqbcavtlfra', 'oafolxkuhlbsagvzyomgxzjiriwjkqjtnyrmilnkqnzicmucdhkypntvpyrsmfoujofsbvzugsvsdomscrbl', 'hsjcfbxwtqkirwpbstzvflcfhxqgzhgzoizngbqmtizyxejgylklcqyqmofutftcltdnsvhwhyywehxvqldvyalitx', 'ay', 'afbwgkwtiaqs', 'rbowmxjqzanqzlamwdxpbqgirlrgxnfibfhfruvulernpdikwbrcsk', 'vinjjlbexiivgmdagychfxokixvnfpqiwr', 'wnmpcikhkvebxavrojxstpcudfbrsfdsdcuotgykcdkshdunftpxdehjqomromredynccgtweoanijjsnxfegelgoq', 'dxyhughzvliqzxlvvdiuvelcihkeailzydpgzfqavwdldkqximfmwofvqrqupqjhnwxdumgrbcpsfjmzrpuywlhoedgqapswmq', 'zwyggocnfravvjjpibymmi', 'lb', 'wghmwcjdjezonsmlmjyjzcoelwhrvctyfhdiqdmusryueqbghtvplpnirxsbajbduanrypup', 'isyrovqybavyuhqvlhcoyvgwvbtayzsqdmpkjmhpxmbmfqrfcwmdsndupcctfclrpoaecvwipwwpndkxiowh', 'npzpqjrzuialpmhckwhvbygcnolugpjnuqjbrkaunzeivaukwqolclcptjrvmhevgdtoarocgjabkppvktmebksmtdszxoorptmvqksujyewdqpemkvh', 'wfudecofesiwjvsleabplyjuozwzntghnbawnm', 'sjxyrtxbqeqc', 'zmmconjxaxvqwytelonlxuurzrknezuw', 'bn', 'izkfemyxadgvlakaycqtsaeyoh', 'xf']\n",
      "{'a': ['so', 'ls', 'od', 'bi', 'th', 'rq', 'az', 'uz', 'zd', 'nu', 'ig', 'jw', 'os', 'dp', 'fy', 'hb', 'yt', 'rj', 'wa', 'uf', 'pi', 'sy', 'yn', 'sd', 'dg', 'wx', 'dj', 'sc', 'dz', 'bt', 'ip', 'vm', 'hq', 'kg', 'tb', 'ut', 'wm', 'tr', 'pj', 'bh', 'ko', 'mw', 'kz', 'gu', 'ph', 'tk', 'qw', 'zb', 'cs', 'tm', 'bo', 'kr'], 'b': ['oy', 'we', 'xc', 'cj', 'zs', 'ob', 'ac', 'ry', 'fw', 'lm'], 'c': ['rd', 'cb', 'ja', 'ws', 'it', 'cy', 'ng', 'nv', 'zg', 'gf', 'ma', 'jk', 'kb', 'fg', 'fz'], 'd': ['ub', 'ts', 'us', 'sx', 'gn', 'fa', 'tz', 'kd', 'lj', 'fn', 'yb', 'ef', 'ux', 'wu', 'xt', 'ek', 'ne', 'yf', 'jz', 'qh', 'xj', 'pf', 'yi', 'wv', 'cx', 'mn', 'qp', 'hk'], 'e': ['nh', 'ys', 'ul', 'pr', 'hg', 'pl', 'ak', 'op', 'dr', 'xl', 'nf', 'at', 'xq', 'fk', 'sp', 'lq', 'ue', 'xk', 'hn', 'tn', 'km', 'zk', 'uv', 'cz', 'as', 'in', 'gt', 'na', 'qf', 'vo', 'bu', 'ln', 'vx', 'ze', 'ro', 'uj', 'zt', 'tl', 'bj', 'ye', 'en', 'he', 'sg', 'kj', 'ha', 'dw', 'ce', 'qz', 'mb', 'wk', 'pz', 'sh', 'kc', 'se', 'ao', 'jr', 'dt', 'ck', 'et', 'eg', 'xg', 'zj', 'mt', 'vg', 'si', 'db', 'ox', 'ic', 'og', 'hu', 'xr', 'er', 'if', 'vk', 'ex', 'my', 'vf', 'jf', 'iy', 'xh'], 'f': ['rh', 'ir', 'pu', 'fd', 'ah', 'ej', 'gx', 'lk', 'bx', 'ot', 'zq', 'gl', 'ep', 'hi'], 'g': ['el', 'ga', 'ld', 'eu', 'id', 'ie', 'bz', 'aq', 'pa', 'qb', 'ca', 'vt', 'lf', 'ra'], 'h': ['oa', 'fo', 'lx', 'ku', 'hl', 'bs', 'ag', 'vz', 'yo', 'mg', 'xz', 'ji', 'ri', 'wj', 'kq', 'jt', 'ny', 'rm', 'il', 'nk', 'qn', 'zi', 'cm', 'uc', 'dh', 'ky', 'pn', 'tv', 'py', 'rs', 'mf', 'ou', 'jo', 'fs', 'bv', 'zu', 'gs', 'vs', 'do', 'ms', 'cr', 'bl'], 'i': ['hs', 'jc', 'fb', 'xw', 'tq', 'ki', 'rw', 'pb', 'st', 'zv', 'fl', 'cf', 'hx', 'qg', 'zh', 'gz', 'oi', 'zn', 'gb', 'qm', 'ti', 'zy', 'xe', 'jg', 'yl', 'kl', 'cq', 'yq', 'mo', 'fu', 'tf', 'tc', 'lt', 'dn', 'sv', 'hw', 'hy', 'yw', 'eh', 'xv', 'ql', 'dv', 'ya', 'li', 'tx'], 'j': ['ay'], 'k': ['af', 'bw', 'gk', 'wt', 'ia', 'qs'], 'l': ['rb', 'ow', 'mx', 'jq', 'za', 'nq', 'zl', 'am', 'wd', 'xp', 'bq', 'gi', 'rl', 'rg', 'xn', 'fi', 'bf', 'hf', 'ru', 'vu', 'le', 'rn', 'pd', 'ik', 'wb', 'rc', 'sk'], 'm': ['vi', 'nj', 'jl', 'be', 'xi', 'iv', 'gm', 'da', 'gy', 'ch', 'fx', 'ok', 'ix', 'vn', 'fp', 'qi', 'wr'], 'n': ['wn', 'mp', 'ci', 'kh', 'kv', 'eb', 'xa', 'vr', 'oj', 'xs', 'tp', 'cu', 'df', 'br', 'sf', 'ds', 'dc', 'uo', 'tg', 'yk', 'cd', 'ks', 'hd', 'un', 'ft', 'px', 'de', 'hj', 'qo', 'mr', 'om', 're', 'dy', 'nc', 'cg', 'tw', 'eo', 'an', 'ij', 'js', 'nx', 'fe', 'ge', 'lg', 'oq'], 'o': ['dx', 'yh', 'ug', 'hz', 'vl', 'iq', 'zx', 'lv', 'vd', 'iu', 've', 'lc', 'ih', 'ke', 'ai', 'lz', 'yd', 'pg', 'zf', 'qa', 'vw', 'dl', 'dk', 'qx', 'im', 'fm', 'wo', 'fv', 'qr', 'qu', 'pq', 'jh', 'nw', 'xd', 'um', 'gr', 'bc', 'ps', 'fj', 'mz', 'rp', 'uy', 'wl', 'ho', 'ed', 'gq', 'ap', 'sw', 'mq'], 'p': ['zw', 'yg', 'go', 'cn', 'fr', 'av', 'vj', 'jp', 'ib', 'ym', 'mi'], 'q': ['lb'], 'r': ['wg', 'hm', 'wc', 'jd', 'je', 'zo', 'ns', 'ml', 'mj', 'yj', 'zc', 'oe', 'lw', 'hr', 'vc', 'ty', 'fh', 'di', 'qd', 'mu', 'sr', 'yu', 'eq', 'bg', 'ht', 'vp', 'lp', 'ni', 'rx', 'sb', 'aj', 'bd', 'ua', 'nr', 'yp', 'up'], 's': ['is', 'yr', 'ov', 'qy', 'ba', 'vy', 'uh', 'qv', 'lh', 'co', 'yv', 'gw', 'vb', 'ta', 'yz', 'sq', 'dm', 'pk', 'jm', 'hp', 'xm', 'bm', 'fq', 'rf', 'cw', 'md', 'sn', 'du', 'pc', 'ct', 'fc', 'lr', 'po', 'ae', 'cv', 'wi', 'pw', 'wp', 'nd', 'kx', 'io', 'wh'], 't': ['np', 'zp', 'qj', 'rz', 'ui', 'al', 'pm', 'hc', 'kw', 'hv', 'by', 'gc', 'no', 'lu', 'gp', 'jn', 'uq', 'jb', 'rk', 'au', 'nz', 'ei', 'va', 'uk', 'wq', 'ol', 'cl', 'cp', 'tj', 'rv', 'mh', 'ev', 'gd', 'to', 'ar', 'oc', 'gj', 'ab', 'kp', 'pv', 'kt', 'me', 'bk', 'sm', 'td', 'sz', 'xo', 'or', 'pt', 'mv', 'qk', 'su', 'jy', 'ew', 'dq', 'pe', 'mk', 'vh'], 'u': ['wf', 'ud', 'ec', 'of', 'es', 'iw', 'jv', 'sl', 'ea', 'bp', 'ly', 'ju', 'oz', 'wz', 'nt', 'gh', 'nb', 'aw', 'nm'], 'v': ['sj', 'xy', 'rt', 'xb', 'qe', 'qc'], 'w': ['zm', 'mc', 'on', 'jx', 'ax', 'vq', 'wy', 'te', 'lo', 'nl', 'xu', 'ur', 'zr', 'kn', 'ez', 'uw'], 'x': ['bn'], 'y': ['iz', 'kf', 'em', 'yx', 'ad', 'gv', 'la', 'ka', 'yc', 'qt', 'sa', 'ey', 'oh'], 'z': ['xf']}\n"
     ]
    }
   ],
   "source": [
    "# split back into seperate strings\n",
    "split_parts = Alice_public_key.split()\n",
    "\n",
    "print(split_parts)\n",
    "\n",
    "alph = '0abcdefghijklmnopqrstuvwxyz' # we will use this to reference items in the dictionary\n",
    "vigenere_key = split_parts[0] # the vigenere key is the first part\n",
    "\n",
    "letters = {} # Alice creates a dictionary for the 2grams\n",
    "for xx in range(1, len(split_parts)):\n",
    "    letter_grams = []\n",
    "    i = 1 # ignore vignere key for this part\n",
    "    while i < len(split_parts[xx]):\n",
    "        bigram1 = split_parts[xx][i-1], split_parts[xx][i] # takes pairs in each value and assigns them to a letter\n",
    "        bigram2 = \"\".join(bigram1)\n",
    "        letter_grams.append(bigram2)\n",
    "        i += 2\n",
    "    letters[alph[xx]] = letter_grams  # But we want our keys to be letters, so we change our dictionary to have letters as keys\n",
    "\n",
    "\n",
    "print(letters)\n",
    "\n",
    "# This tells us all the 2grams associated with each letter."
   ]
  },
  {
   "cell_type": "markdown",
   "id": "b56cfcf3",
   "metadata": {},
   "source": [
    "#### We will have Alice store the bigrams in an inverse dictionary as well, so that it is easier to decode the message."
   ]
  },
  {
   "cell_type": "code",
   "execution_count": 62,
   "id": "4bbf8077",
   "metadata": {},
   "outputs": [],
   "source": [
    "# Store the letters under the key of the 2grams:\n",
    "\n",
    "\n",
    "reverse_dict = {}\n",
    "for letter, grams in letters.items():\n",
    "    for gram in grams:\n",
    "        reverse_dict[gram] = letter\n",
    "\n",
    "\n",
    "# Create a function that decrpyts any bigram encoded message:\n",
    "\n",
    "def bigram_decrypt(encrypted_2grams_message):\n",
    "    global reverse_dict\n",
    "    decrypted_message = ''.join([reverse_dict[gram] for gram in encrypted_2grams_message])\n",
    "    return decrypted_message\n",
    "\n",
    "#encrypted_2grams_message = ['wf', 'ud', 'ec', 'of']\n",
    "#print(bigram_decrypt(encrypted_2grams_message))"
   ]
  },
  {
   "cell_type": "markdown",
   "id": "427bb746",
   "metadata": {},
   "source": [
    "#### We will leave this for now and come back to it once we have undone the Vigenère Cipher, as the message was Vigenère encrypted after the bigram encryption.\n",
    "\n",
    "#### We will use our previous vigenere_decrypt() function, on encrypted_text.txt, which is where the message was stored."
   ]
  },
  {
   "cell_type": "code",
   "execution_count": 59,
   "id": "d507ca80",
   "metadata": {},
   "outputs": [
    {
     "name": "stdout",
     "output_type": "stream",
     "text": [
      "Input the name of the text file you would like to encrypt / decrypt, including the .txt: encrypted_text.txt\n",
      "Decrypted text written to decrypted_text.txt\n"
     ]
    }
   ],
   "source": [
    "vigenere_decrypt()"
   ]
  },
  {
   "cell_type": "markdown",
   "id": "c88694dc",
   "metadata": {},
   "source": [
    "##### Decrypted text written to decrypted_text.txt. Now we can run this through our bigram decryption!\n",
    "\n",
    "##### We need to assign a variable to the imported version of this decrypted file first."
   ]
  },
  {
   "cell_type": "code",
   "execution_count": 69,
   "id": "8d12f044",
   "metadata": {},
   "outputs": [
    {
     "data": {
      "text/plain": [
       "'riveseyandtherestofthesegentlemenhavingaskedmetowritedownthewholeparticularsaboutreasureslandfromthebeginningtotheendkeepingnothingbackbutthebearingsoftheislandandthatonlybecausethereisstilltreasurenotyetliftedtakeupmypenintheyearofgraceandgobacktothetimewhenmyfatherkeptthedmiralenbowinnandthebrownoldseamanwiththesabrecutfirsttookuphislodgingunderourroofrememberhimasifitwereyesterdayashecameploddingtotheinndoorhisseachestfollowingbehindhiminahandbarrowatallstrongheavynutbrownmanhistarrypigtailfallingovertheshoulderofhissoiledbluecoathishandsraggedandscarredwithblackbrokennailsandthesabrecutacrossonecheekadirtylividwhiterememberhimlookingroundthecoveandwhistlingtohimselfashedidsoandthenbreakingoutinthatoldseasongthathesangsooftenafterwardsifteenmenonthedeadmanschestohohoandabottleofruminthehigholdtotteringvoicethatseemedtohavebeentunedandbrokenatthecapstanbarshenherappedonthedoorwithabitofsticklikeahandspikethathecarriedandwhenmyfatherappearedcalledroughlyforaglassofrumhiswhenitwasbroughttohimhedrankslowlylikeaconnoisseurlingeringonthetasteandstilllookingabouthimatthecliffsandupatoursignboardhisisahandycovesaysheatlengthandapleasantsittyatedgrogshopuchcompanymateyfathertoldhimnoverylittlecompanythemorewasthepityellthensaidhethisistheberthformeereyoumateyhecriedtothemanwhotrundledthebarrowbringupalongsideandhelpupmychestllstayhereabithecontinuedmaplainmanrumandbaconandeggsiswhatwantandthatheaduptherefortowatchshipsoffhatyoumoughtcallmeoumoughtcallmecaptainhseewhatyoureatthereandhethrewdownthreeorfourgoldpiecesonthethresholdoucantellmewhenveworkedthroughthatsayshelookingasfierceasacommanderndindeedbadashisclotheswereandcoarselyashespokehehadnoneoftheappearanceofamanwhosailedbeforethemastbutseemedlikeamateorskipperaccustomedtobeobeyedortostrikehemanwhocamewiththebarrowtoldusthemailhadsethimdownthemorningbeforeattheoyaleorgethathehadinquiredwhatinnstherewerealongthecoastandhearingourswellspokenofsupposeanddescribedaslonelyhadchosenitfromtheothersforhisplaceofresidencendthatwasallwecouldlearnofourguestewasaverysilentmanbycustomlldayhehungroundthecoveoruponthecliffswithabrasstelescopealleveninghesatinacorneroftheparlournextthefireanddrankrumandwaterverystrongostlyhewouldnotspeakwhenspokentoonlylookupsuddenandfierceandblowthroughhisnoselikeafoghornandweandthepeoplewhocameaboutourhousesoonlearnedtolethimbeverydaywhenhecamebackfromhisstrollhewouldaskifanyseafaringmenhadgonebyalongtheroadtfirstwethoughtitwasthewantofcompanyofhisownkindthatmadehimaskthisquestionbutatlastwebegantoseehewasdesiroustoavoidthemhenaseamandidputupatthedmiralenbowasnowandthensomedidmakingbythecoastroadforristolhewouldlookinathimthroughthecurtaineddoorbeforeheenteredtheparlourandhewasalwayssuretobeassilentasamousewhenanysuchwaspresentormeatleasttherewasnosecretaboutthematterforwasinawayasharerinhisalarmsehadtakenmeasideonedayandpromisedmeasilverfourpennyonthefirstofeverymonthifwouldonlykeepmyweathereyeopenforaseafaringmanwithonelegandlethimknowthemomentheappearedftenenoughwhenthefirstofthemonthcameroundandappliedtohimformywagehewouldonlyblowthroughhisnoseatmeandstaremedownbutbeforetheweekwasouthewassuretothinkbetterofitbringmemyfourpennypieceandrepeathisorderstolookoutfortheseafaringmanwithonelegowthatpersonagehauntedmydreamsneedscarcelytellyounstormynightswhenthewindshookthefourcornersofthehouseandthesurfroaredalongthecoveandupthecliffswouldseehiminathousandformsandwithathousanddiabolicalexpressionsowthelegwouldbecutoffatthekneenowatthehipnowhewasamonstrouskindofacreaturewhohadneverhadbuttheonelegandthatinthemiddleofhisbodyoseehimleapandrunandpursuemeoverhedgeandditchwastheworstofnightmaresndaltogetherpaidprettydearformymonthlyfourpennypieceintheshapeoftheseabominablefanciesutthoughwassoterrifiedbytheideaoftheseafaringmanwithonelegwasfarlessafraidofthecaptainhimselfthananybodyelsewhoknewhimherewerenightswhenhetookadealmorerumandwaterthanhisheadwouldcarryandthenhewouldsometimessitandsinghiswickedoldwildseasongsmindingnobodybutsometimeshewouldcallforglassesroundandforceallthetremblingcompanytolistentohisstoriesorbearachorustohissingingftenhaveheardthehouseshakingwithohohoandabottleofrumalltheneighboursjoininginfordearlifewiththefearofdeathuponthemandeachsinginglouderthantheothertoavoidremarkorinthesefitshewasthemostoverridingcompanioneverknownhewouldslaphishandonthetableforsilenceallroundhewouldflyupinapassionofangerataquestionorsometimesbecausenonewasputandsohejudgedthecompanywasnotfollowinghisstoryorwouldheallowanyonetoleavetheinntillhehaddrunkhimselfsleepyandreeledofftobedisstorieswerewhatfrightenedpeopleworstofallreadfulstoriestheywereabouthangingandwalkingtheplankandstormsatseaandtheryortugasandwilddeedsandplacesonthepanishainyhisownaccounthemusthavelivedhislifeamongsomeofthewickedestmenthatodeverallowedupontheseaandthelanguageinwhichhetoldthesestoriesshockedourplaincountrypeoplealmostasmuchasthecrimesthathedescribedyfatherwasalwayssayingtheinnwouldberuinedforpeoplewouldsoonceasecomingtheretobetyrannizedoverandputdownandsentshiveringtotheirbedsbutreallybelievehispresencedidusgoodeoplewerefrightenedatthetimebutonlookingbacktheyratherlikedititwasafineexcitementinaquietcountrylifeandtherewasevenapartyoftheyoungermenwhopretendedtoadmirehimcallinghimatrueseadogandarealoldsaltandsuchlikenamesandsayingtherewasthesortofmanthatmadenglandterribleatseanonewayindeedhebadefairtoruinusforhekeptonstayingweekafterweekandatlastmonthaftermonthsothatallthemoneyhadbeenlongexhaustedandstillmyfatherneverpluckedupthehearttoinsistonhavingmorefeverhementioneditthecaptainblewthroughhisnosesoloudlythatyoumightsayheroaredandstaredmypoorfatheroutoftheroomhaveseenhimwringinghishandsaftersucharebuffandamsuretheannoyanceandtheterrorhelivedinmusthavegreatlyhastenedhisearlyandunhappydeathllthetimehelivedwithusthecaptainmadenochangewhateverinhisdressbuttobuysomestockingsfromahawkerneofthecocksofhishathavingfallendownheletithangfromthatdayforththoughitwasagreatannoyancewhenitblewremembertheappearanceofhiscoatwhichhepatchedhimselfupstairsinhisroomandwhichbeforetheendwasnothingbutpatcheseneverwroteorreceivedaletterandheneverspokewithanybuttheneighboursandwiththeseforthemostpartonlywhendrunkonrumhegreatseachestnoneofushadeverseenopenewasonlyoncecrossedandthatwastowardstheendwhenmypoorfatherwasfargoneinadeclinethattookhimoffriveseycamelateoneafternoontoseethepatienttookabitofdinnerfrommymotherandwentintotheparlourtosmokeapipeuntilhishorseshouldcomedownfromthehamletforwehadnostablingattheoldenbowfollowedhiminandrememberobservingthecontrasttheneatbrightdoctorwithhispowderaswhiteassnowandhisbrightblackeyesandpleasantmannersmadewiththecoltishcountryfolkandaboveallwiththatfilthyheavyblearedscarecrowofapirateofourssittingfargoneinrumwithhisarmsonthetableuddenlyhethecaptainthatisbegantopipeuphiseternalsongifteenmenonthedeadmanschestohohoandabottleofrumrinkandthedevilhaddonefortherestohohoandabottleofrumtfirsthadsupposedthedeadmanschesttobethatidenticalbigboxofhisupstairsinthefrontroomandthethoughthadbeenmingledinmynightmareswiththatoftheoneleggedseafaringmanutbythistimewehadalllongceasedtopayanyparticularnoticetothesongitwasnewthatnighttonobodybutriveseyandonhimobserveditdidnotproduceanagreeableeffectforhelookedupforamomentquiteangrilybeforehewentonwithhistalktooldaylorthegardeneronanewcurefortherheumaticsnthemeantimethecaptaingraduallybrightenedupathisownmusicandatlastflappedhishanduponthetablebeforehiminawayweallknewtomeansilencehevoicesstoppedatonceallbutriveseyshewentonasbeforespeakingclearandkindanddrawingbrisklyathispipebetweeneverywordortwohecaptainglaredathimforawhileflappedhishandagainglaredstillharderandatlastbrokeoutwithavillainouslowoathilencetherebetweendecksereyouaddressingmesirsaysthedoctorandwhentheruffianhadtoldhimwithanotheroaththatthiswassohaveonlyonethingtosaytoyousirrepliesthedoctorthatifyoukeepondrinkingrumtheworldwillsoonbequitofaverydirtyscoundrelheoldfellowsfurywasawfulesprangtohisfeetdrewandopenedasailorsclaspknifeandbalancingitopenonthepalmofhishandthreatenedtopinthedoctortothewallhedoctorneversomuchasmovedespoketohimasbeforeoverhisshoulderandinthesametoneofvoiceratherhighsothatalltheroommighthearbutperfectlycalmandsteadyfyoudonotputthatknifethisinstantinyourpocketpromiseuponmyhonouryoushallhangatthenextassizeshenfollowedabattleoflooksbetweenthembutthecaptainsoonknuckledunderputuphisweaponandresumedhisseatgrumblinglikeabeatendogndnowsircontinuedthedoctorsincenowknowtheressuchafellowinmydistrictyoumaycountllhaveaneyeuponyoudayandnightmnotadoctoronlymamagistrateandifcatchabreathofcomplaintagainstyouifitsonlyforapieceofincivilityliketonightslltakeeffectualmeanstohaveyouhunteddownandroutedoutofthisetthatsufficeoonafterriveseyshorsecametothedoorandherodeawaybutthecaptainheldhispeacethateveningandformanyeveningstocome'"
      ]
     },
     "execution_count": 69,
     "metadata": {},
     "output_type": "execute_result"
    }
   ],
   "source": [
    "code_file = open(\"decrypted_text.txt\")\n",
    "dec = code_file.read()\n",
    "\n",
    "#print(dec)\n",
    "\n",
    "#we need to put our message into a list of 2grams\n",
    "message_grams = []\n",
    "i = 1\n",
    "while i < len(dec):\n",
    "    bigram3 = dec[i-1], dec[i]\n",
    "    bigram4 = \"\".join(bigram3)\n",
    "    message_grams.append(bigram4)\n",
    "    i += 2\n",
    "\n",
    "# Message_grams is now the decrypted text as a list of 2grams. we can fianlly use bigram_decrypt...\n",
    "bigram_decrypt(message_grams)"
   ]
  },
  {
   "cell_type": "markdown",
   "id": "4c2395c5",
   "metadata": {},
   "source": [
    "### Alice has the message!\n",
    "\n",
    "##### Alice has used Bob's public key to decrypt the message he sent, which had been encrypted with bigrams and the Vigenère Cipher."
   ]
  },
  {
   "cell_type": "code",
   "execution_count": null,
   "id": "f8984fbc",
   "metadata": {},
   "outputs": [],
   "source": []
  },
  {
   "cell_type": "code",
   "execution_count": null,
   "id": "15d0c7db",
   "metadata": {},
   "outputs": [],
   "source": []
  },
  {
   "cell_type": "code",
   "execution_count": null,
   "id": "85620913",
   "metadata": {},
   "outputs": [],
   "source": []
  }
 ],
 "metadata": {
  "kernelspec": {
   "display_name": "Python 3 (ipykernel)",
   "language": "python",
   "name": "python3"
  },
  "language_info": {
   "codemirror_mode": {
    "name": "ipython",
    "version": 3
   },
   "file_extension": ".py",
   "mimetype": "text/x-python",
   "name": "python",
   "nbconvert_exporter": "python",
   "pygments_lexer": "ipython3",
   "version": "3.9.13"
  }
 },
 "nbformat": 4,
 "nbformat_minor": 5
}
