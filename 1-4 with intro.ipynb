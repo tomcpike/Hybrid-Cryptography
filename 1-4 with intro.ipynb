{
 "cells": [
  {
   "cell_type": "markdown",
   "id": "35f10f2b",
   "metadata": {},
   "source": [
    "# Hybrid Cryptography Group 4\n",
    "\n",
    "#### Authors:\n",
    "\n",
    "Tom Chappel-Pike, Ben McCarthy, Abigail McComiskey, Enchi Ni, Eleanor Roome"
   ]
  },
  {
   "cell_type": "markdown",
   "id": "e4d847fe",
   "metadata": {},
   "source": [
    "# Table of content\n",
    "\n",
    "1. [Introduction](#introduction)\n",
    "\n",
    "\n",
    "2. [Initialisations](#initialisations)\n",
    "\n",
    "    2.1. [File Finding](#findingfile)\n",
    "\n",
    "\n",
    "3. [The Caesar Cypher](#caesarcypherencryption)\n",
    "\n",
    "    3.1. [Encryption Process](#encryptionprocess)\n",
    "    \n",
    "    3.2. [Decryption Process](#dp1)\n",
    "    \n",
    "    \n",
    "4. [The Vigenere Cypher](#vce)\n",
    "\n",
    "    4.1. [Encryption Process](#e)\n",
    "    \n",
    "    4.2. [Decryption Process](#dp1)\n",
    "    \n",
    "    \n",
    "5. [Frequency Analysis](#)\n",
    "\n",
    "    5.1. [Getting a large text sample](#)\n",
    "    \n",
    "    5.2. [Finding Letter Frequency of Large Text](#flt)\n",
    "  \n",
    "    5.3. [Breaking The Caesar Cypher](#bcc)\n",
    "    \n",
    "\n",
    "6. [RSA Encryption](#)\n",
    "    \n",
    "    6.1. [Turning vigenere key into a Tuple](#vkt)\n",
    "    \n",
    "    6.2. [Generating the RSA key](#)\n",
    "    \n",
    "    6.3. [RSA Encryption](#)\n",
    "    \n",
    "    6.4. [RSA Decryption](#)\n",
    "    \n",
    "    \n",
    "7. [A Hybrid system](#)\n",
    "\n",
    "    7.1. [Disguising the frequency for each letter](#)\n",
    "    \n",
    "    7.2. [Creating the public key](#)\n",
    "    \n",
    "    7.3. [Message encryption](#)\n",
    "    \n",
    "    7.4. [Public key decryption](#)\n",
    "    \n",
    "    7.3. [Message decryption](#)\n",
    "    \n",
    "    \n",
    "8. [](#) ## question 6 stuff"
   ]
  },
  {
   "cell_type": "code",
   "execution_count": 1,
   "id": "ddf37b2b",
   "metadata": {},
   "outputs": [],
   "source": [
    "import random, requests, os, matplotlib.pyplot as plt, cryptography_functions"
   ]
  },
  {
   "cell_type": "markdown",
   "id": "aabd0f6e",
   "metadata": {},
   "source": [
    "## Introduction<a name=\"introduction\"></a>\n",
    "\n",
    "The Caesar cipher and Vigenère cipher are both methods used to encrypt messages. We have implemented a multi-level encryption and decryption system and applied it to messages. Here is an introduction to our steps:\n",
    "\n",
    "The first part is the Caesar cipher. We encrypt the letters using random shift values and decrypt the Caesar-encrypted file based on the stored shift values. Then, we use letter frequency analysis to attempt to decrypt the encrypted message based on the frequency of occurrence of the letters in the alphabet.\n",
    "\n",
    "The next part is the Vigenère cipher. We generate a random-length key to encrypt the message and use the stored key file to decrypt the message, recovering the original text.\n",
    "\n",
    "We then improve the system by creating a random 2-grams encoding dictionary. Messages are encoded using 2-grams by replacing each letter with a corresponding random two-letter combination, which are stored in a dictionary. The message is encrypted by its letters' 2-grams, and then using the Vigenère cipher. The 2-grams dictionary and the Vigenère key are concatenated into a string, chunked, converted to binary, and encrypted with RSA- this is the public key.\n",
    "\n",
    "We then decrypt the public key using the RSA private key to recover the 2-grams dictionary and the Vigenère key. Using Vigenère decryption and reverse 2-grams dictionary decryption, we recover the original message. Additionally, we attempt to crack both the Caesar cipher and the Vigenère cipher.\n",
    "\n",
    "Furthermore, we generate public and private keys using 1024-bit large prime numbers. We encrypt the Vigenère key and 2-grams encoding to ensure secure key transmission. We also hide the alphabetic frequency to make RSA encryption more secure."
   ]
  },
  {
   "cell_type": "markdown",
   "id": "751ef895",
   "metadata": {},
   "source": [
    "## Initialisations<a name=\"initialisations\"></a>\n",
    "\n",
    "Firstly, we must import the required libraries in order to get our code to function properly. \n"
   ]
  },
  {
   "cell_type": "markdown",
   "id": "4521ebcf",
   "metadata": {},
   "source": [
    "## File Finding<a name=\"findingfile\"></a>\n",
    "\n",
    "Next, we define a function called find_file, which searches the directory for a file name that the user inputs, to be encrypted or decrypted. It checks to see whether the file is in the directory or not, and if it is not it prompts the user to try again, and input another name."
   ]
  },
  {
   "cell_type": "code",
   "execution_count": 2,
   "id": "a789924f",
   "metadata": {},
   "outputs": [],
   "source": [
    "#### FINDING FILE IN DIRECTORY ####\n",
    "\n",
    "def find_file():\n",
    "    in_directory = False\n",
    "\n",
    "    while in_directory == False:\n",
    "        file_name = input(\"Input the name of the text file you would like to encrypt / decrypt, including the .txt: \")\n",
    "        if os.path.isfile(file_name): #checks if the inputted file is in the directory\n",
    "            in_directory = True\n",
    "        else:\n",
    "            print(\"\")\n",
    "            print(\"The file you inputted is not in the directory, try again\")\n",
    "          \n",
    "    return file_name"
   ]
  },
  {
   "cell_type": "markdown",
   "id": "6625201b",
   "metadata": {},
   "source": [
    "## Caesar Cypher Encryption<a name=\"caesarcypherencryption\"></a>\n",
    "\n",
    "We then define a function called caesar_encrypt, which encrypts a message via the Caesar Cypher. This encryption runs through the message letter by letter, shifting each letter a fixed number of places down the alphabet. Naturally, there are 26 ways this can happen, as there are 26 possible shifts due to the length of the English alphabet. This includes a trivial shift, in which the message is shifted 26 places, and is the same as the unencrypted message. \n",
    "\n",
    "To do this, the function find_file is run, to allow the user to search for their text file in the directory that they would like to encrypt. This file is then opened, and read to the string variable called message. \n",
    "\n",
    "The file encrypted_text is then opened, to be written to. This is where our final Caesar shifted message will be stored on completion of the function. \n",
    "\n",
    "The file caesar_shift_value is opened next, also to be written to. This is so the user can know and keep the shift value used to encrypt the message, so that it can later be decrypted. A random number between 1 and 26 inclusive is then generated as the shift value. \n",
    "\n",
    "We then define a list called encrypted_message, to which each letter, after it is shifted, will be appended to.\n",
    "\n",
    "The final message will only contain alphabetic characters, with capitalisation preserved.\n",
    "\n"
   ]
  },
  {
   "cell_type": "markdown",
   "id": "c3c3482a",
   "metadata": {},
   "source": [
    "## Encryption Process:<a name=\"encryptionprocess\"></a>\n",
    "\n",
    "To encrypt the message, we iterate through each character in the message via a for loop. This character is then checked to see whether it is in the alphabet, otherwise it will not be encrypted and will not be in the final encrypted message. \n",
    "\n",
    "For each alphabetic character in this for loop, it is then checked to see whether it is uppercase or lowercase, and an offset value is set, based on its ASCII value. This will be 65 for uppercase letters, and 97 for lowercase letters. This offset allows us to set the letters A-Z to be indexed as numbers 0 to 25. \n",
    "\n",
    "The ASCII value of the character is then offset, to set it to be within that range of 0 to 25, for ease of calculation, and stored to the variable character_offset.\n",
    "\n",
    "The encryption then happens via this formula:\n",
    "\n",
    "$$(\\text{character_offset}+\\text{shift_value}) mod 26 + \\text{offset}$$\n",
    "\n",
    "This shifts the character, by the shift value, takes the modulo 26 of that calculation, such that if the character is greater than 26 (Z), it returns the remainder to add to 0 (A). The offset value is then added back to the now encrypted character, and it is transformed from its ASCII value again to the character that it represents.\n",
    "\n",
    "This shifted character is then appended to the encrypted_message list, and this occurs for all alphabetic characters in the message.\n",
    "\n",
    "Then, a variable final_message is created, which joins all the elements of the encrypted_message list into a single string. This string is then written to the encrypted_text file, such that the user now has a text file with their encrypted message. The shift value is also then written to the shift_value file\n",
    "\n",
    "The files are then all closed, and a message telling the user where their encrypted message and shift value has been written to is displayed."
   ]
  },
  {
   "cell_type": "code",
   "execution_count": 3,
   "id": "da777936",
   "metadata": {},
   "outputs": [],
   "source": [
    "#### CASESAR CYPHER ##### (maintains case of characters)\n",
    "\n",
    "def caesar_encrypt(): #defines the caesar encryption function\n",
    "    \n",
    "    file_name = find_file()\n",
    "\n",
    "    input_text = open(file_name,\"r\") #opens the text file we want to read\n",
    "    message = input_text.read() #reads the text file to the variable message\n",
    "    \n",
    "    encrypted_text = open(\"encrypted_text.txt\",\"w\") #opens the encrypted text file to which we write the encryption\n",
    "    \n",
    "    shift_value_file = open(\"_caesar_shift_value.txt\",\"w\")\n",
    "    shift_value = random.randint(1,26) #generates a shift value between 1 and 26 inclusive\n",
    "    \n",
    "    encrypted_message = []\n",
    "    \n",
    "    for character in message: #iterates character through each element of the message\n",
    "        if character.isalpha(): #checks to see if the character is in the alphabet\n",
    "            \n",
    "            if character.isupper(): #checks to see if character is uppercase\n",
    "                offset = 65 #sets appropriate offset value\n",
    "            else:\n",
    "                offset = 97\n",
    "            \n",
    "            character_offset = ord(character)-offset #offsets character to be between 0 and 25\n",
    "\n",
    "            encrypted_message.append(chr((character_offset+shift_value)%26+offset))\n",
    "            #appends our changed letter to the encrypted message list\n",
    "    \n",
    "\n",
    "    final_text = \"\".join(encrypted_message) #turns the list into a string\n",
    "    encrypted_text.write(final_text) #writes the string to the text file\n",
    "    shift_value_file.write(str(shift_value))\n",
    "    shift_value_file.close()\n",
    "    encrypted_text.close()\n",
    "    print(\"\")\n",
    "    print(\"Encrypted message written to encrypted_text.txt\")\n",
    "    print(\"Shift value written to caesar_shift_value.txt\")\n",
    "    input_text.close() #closes the files\n",
    "    \n",
    "    return \n"
   ]
  },
  {
   "cell_type": "markdown",
   "id": "1ecf35f8",
   "metadata": {},
   "source": [
    "## Caesar Cypher Decryption<a name=\"de1\"></a>\n",
    "\n",
    "The decryption process of the Caesar Cypher is the inverse function of the encryption process. We do this with a function defined as caesar_decrypt\n",
    "\n",
    "We initially ask the user which file they would like decrypted, using the find_file function again. This file is then opened and read to the variable cryptic.\n",
    "\n",
    "The caesar_shift_value file is then found, opened, and read to the variable shift_value\n",
    "\n",
    "The file decrypted_text is then opened, to be written to. This is where our final decrypted message will be stored on completion of the function.\n",
    "\n",
    "The list decrypted_message is then defined, and it is to this which we will append each decrypted character.\n",
    "\n",
    "Again, the final message will only contain alphabetic characters, with capitalisation preserved.\n",
    "\n"
   ]
  },
  {
   "cell_type": "markdown",
   "id": "0c72f789",
   "metadata": {},
   "source": [
    "## Decryption Process:<a name=\"dp1\"></a>\n",
    "\n",
    "To decrypt the message, we iterate through each character in the cryptic string. It is checked if it is alphabetic, otherwise it will not be decrypted and will not be in the final message.\n",
    "\n",
    "For each alphabetic character in the cryptic string, it is then checked to see whether it is uppercase or lowercase, and an offset value is set, based on its ASCII value. This will be 65 for uppercase letters, and 97 for lowercase letters. This offset allows us to set the letters A-Z to be indexed as numbers 0 to 25. \n",
    "\n",
    "The ASCII value of the character is then offset, to set it to be within that range of 0 to 25, for ease of calculation, and stored to the variable character_offset.\n",
    "\n",
    "The decryption then happens via this formula:\n",
    "\n",
    "$$(\\text{character_offset} - \\text{shift_value}) mod26 + \\text{offset}$$\n",
    "\n",
    "This takes our offset encrypted character, shifts the character by the negative the shift value (the inverse of the encrpytion process), takes the modulo 26 of that to ensure it stays within our range of 0 (A) to 25 (Z), then adds the offset. It is then transformed from that ASCII value to the character that represents. \n",
    "\n",
    "This decrypted character is then appended to the decrypted_message list, and this occurs for all alphabetic characters in the message.\n",
    "\n",
    "Then, a variable final_text is created, which joins all the elements of the decrypted_message list into a single string. This string is then written to the decrypted_text file, such that the user now has a text file with their decrypted message. \n",
    "\n",
    "The files are then all closed, and the user is shown a message showing to which file their decrypted message has been written to. \n"
   ]
  },
  {
   "cell_type": "code",
   "execution_count": 4,
   "id": "d1a2f052",
   "metadata": {},
   "outputs": [],
   "source": [
    "def caesar_decrypt(): #needs a shift value to decrypt \n",
    "    \n",
    "    file_name = find_file() #lets the user input the file name they would like to read\n",
    "    \n",
    "    shift_value_file = open(\"_caesar_shift_value.txt\",\"r\") #opens the shift value file\n",
    "    shift_value = int(shift_value_file.read()) #read the integer value stored there\n",
    "    \n",
    "    encrypted_text = open(file_name,\"r\") #opens the encrypted text file to read\n",
    "    cryptic = encrypted_text.read() #sets cryptic to the string value of all the text in encrypted_text.txt\n",
    "    \n",
    "    decrypted_text = open(\"decrypted_text.txt\",\"w\") #opens the decrypted text file to write to    \n",
    "\n",
    "    decrypted_message = []\n",
    "       \n",
    "    for character in cryptic: #iterates each character in the cryptic text\n",
    "        if character.isalpha(): #checks if character is in alphabet\n",
    "            \n",
    "            if character.isupper(): #checks if character is uppercase\n",
    "                offset = 65 #sets appropriate offset\n",
    "            else:\n",
    "                offset = 97\n",
    "            \n",
    "            character_offset = ord(character)-offset #offsets character to be between 0 and 25\n",
    "            \n",
    "            decrypted_message.append(chr((character_offset-shift_value)%26+offset))\n",
    "            #appends decrypted character to decrypted message list\n",
    "    \n",
    "    \n",
    "        \n",
    "    final_text = \"\".join(decrypted_message) #changes the list into a string\n",
    "    decrypted_text.write(final_text) #writes the string to the text file\n",
    "    \n",
    "    decrypted_text.close()  \n",
    "    encrypted_text.close()#closes the files\n",
    "    print(\"\")\n",
    "    print(\"Decrypted message written to decrypted_text.txt\")\n",
    "    \n",
    "    return "
   ]
  },
  {
   "cell_type": "markdown",
   "id": "f8de647c",
   "metadata": {},
   "source": [
    "## Vigenere Cypher Encryption<a name=\"vce\"></a>\n",
    "\n",
    "We define a function vigenere_encrypt, as our function which encrypts a message via the Vigenere Cypher. The Vigenere Cypher encrypts a message using a keyword and a Caesar Cypher stlye encryption. We start with the first character of the message, and the first character of the keyword. The first character of the keyword is found, and set to be the first letter of the alphabet, and all characters follow in order. i.e, if the first letter were to be \"R\", the shifted alphabet would be R,S,T,U...Z,A,B,...Q. We then find the position in the  standard alphabet of the first character of the message, and take this positional index and encrypt the character by selecting the letter of the same index in the shifted alphabet. This is repeated for all characters in the message, cycling through each character of the keyword. If the keyword is shorter than the message, then when the final character of the keyword is reached, it loops back to the fist character of the keyword. \n",
    "\n",
    "To do this, we first prompt the user to input the name of the text file that they would like to encrypt. This is opened, and read as a list to message_list_unfiltered. This is then filtered, such that only alphabetic characters are in the list, and this list is called message_list\n",
    "\n",
    "The encrypted_text and key_file files are then opened, both to be written to.\n",
    "\n",
    "The encrypted_message list is then defined, to which we will append all our encrypted characters. \n",
    "\n",
    "Again, this encrypted message will contain only alphabetic characters, with capitalisation preserved. \n",
    "\n"
   ]
  },
  {
   "cell_type": "markdown",
   "id": "e2c4abb4",
   "metadata": {},
   "source": [
    "## Encryption Process<a name=\"ep2\"></a>\n",
    "\n",
    "A random length for our Vigenere keyword is generated, and stored to variable key_length. This is then used to generate key_list, which generates a list of length key_length, containing that amount of random numbers which range from 0 to 25. This is our vigenere keyword. 0 to 25 is used, as it is represents each letter of the alphabet, with 0 representing A and 25 representing Z\n",
    "\n",
    "Then, we iterate i from 0 to the length of the message_list.\n",
    "\n",
    "Within this for loop, we find which position of the keyword we are currently at, by taking our iterator (i) modulo the length of our keyword. This is stored to key_pos\n",
    "\n",
    "$$ \\text{key_pos} = i mod \\text{len(key_list)}$$\n",
    "\n",
    "Then, we set the variable character to be the current character of the message which we are encrypting\n",
    "\n",
    "To preserve capitalisation, this character is checked to see whether it is uppercase or lowercase, and an appropriate offset is set. 65 for uppercase characters, and 97 for lowercase characters. \n",
    "\n",
    "Then, the character is offset, to come in line with the 0-25 range to represent each character of the alphabet.\n",
    "\n",
    "To encrypt the character, the following formula is used:\n",
    "\n",
    "$$(\\text{character_offset}+\\text{key_list[key_pos]})mod26 + \\text{offset}$$\n",
    "\n",
    "This adds the shift value, corresponding to the shifted alphabet via the keyword character, takes this modulo 26 to ensure it stays within the alphabetic range of 0 to 25, then adds the offset back to return the corresponding ASCII value\n",
    "\n",
    "This encrypted ASCII value is then transformed into its character, and appended to the encrypted_message list.\n",
    "\n",
    "The variable final_text is defined, joining all the encrypted characters into a single string. It is then written to the encrypted_text file.\n",
    "\n",
    "The keyword is then letter by letter, shifted to 65 such that it can be a capital ASCII value, and then it is transformed into its corresponding character. Each character is then joined together into a long string, and written to the vigenere_key text file. \n",
    "\n",
    "The files are then closed, and the user is given a message saying where their encrypted message and vigenere key have been written to. \n"
   ]
  },
  {
   "cell_type": "code",
   "execution_count": 5,
   "id": "7e603543",
   "metadata": {},
   "outputs": [],
   "source": [
    "#### VIGENERE CYPHER ####\n",
    "def vigenere_encrypt():\n",
    "    \n",
    "    file_name = find_file()\n",
    "    \n",
    "    input_text = open(file_name,\"r\") #opens the text file we want to read\n",
    "    message_list_unfiltered = list(input_text.read()) #reads the text file to the variable message\n",
    "    message_list = [x for x in message_list_unfiltered if x.isalpha()] #makes a list of only alphabetical characters\n",
    "    encrypted_text = open(\"encrypted_text.txt\",\"w\") #opens the encrypted text file to which we write the encryption\n",
    "    key_file = open(\"_vigenere_key.txt\",\"w\")\n",
    "   \n",
    "    \n",
    "    encrypted_message = []\n",
    "    key_length = random.randint(129,384) #generates a random length for our keyword\n",
    "    \n",
    "    key_list = [random.randint(0,25) for x in range(0,key_length)] #generates a list for our keyword in ASCII\n",
    "    \n",
    "    for i in range(0,len(message_list)):\n",
    "\n",
    "        key_pos =  i%len(key_list) #generates position of where we are in the key\n",
    "        \n",
    "\n",
    "        character = message_list[i] #sets character to message character for ease\n",
    "        if character.isupper(): #checks if y is uppercase in the alphabet\n",
    "            offset = 65 #sets ASCII offsets\n",
    "        else: offset = 97\n",
    "\n",
    "        character_offset = ord(character) - offset #offsets character to be within 0 and 25\n",
    "\n",
    "        character_encrypted = (character_offset+key_list[key_pos])%26 + offset #encrypts the character \n",
    "\n",
    "        encrypted_message.append(chr(character_encrypted)) #appends encrypted character to encrypted message\n",
    "       \n",
    "    final_text = \"\".join(encrypted_message)\n",
    "    encrypted_text.write(final_text) #writes the final encrypted message to the file\n",
    "    \n",
    "    key = \"\".join(chr(m+65) for m in key_list) #turns keylist into a string\n",
    "    key_file.write(key) #writes the key to the file\n",
    "    \n",
    "    \n",
    "    encrypted_text.close()\n",
    "    input_text.close() #closes the files\n",
    "    key_file.close()\n",
    "    \n",
    "    print(\"Encrypted text written to encrypted_text.txt, and vigenere key written to _vigenere_key.txt\")\n",
    "    \n",
    "    return      "
   ]
  },
  {
   "cell_type": "markdown",
   "id": "25d92185",
   "metadata": {},
   "source": [
    "## Vigenere Cypher Decryption<a name=\"vcd\"></a>\n",
    "\n",
    "The decryption process of the Vigenere Cypher is the inverse function of the encryption process. We do this with a function defined as vigenere_decrypt\n",
    "\n",
    "We initially ask the user which file they would like decrypted, using the find_file function again. This file is then opened and read to the variable cryptic.\n",
    "\n",
    "The vigenere_key file is then found, opened, and read to the variable key_list, where it is shifted down by 65 to be within the 0 to 25 range for our alphabet\n",
    "\n",
    "The file decrypted_text is then opened, to be written to. This is where our final decrypted message will be stored on completion of the function.\n",
    "\n",
    "The list decrypted_message is then defined, and it is to this which we will append each decrypted character.\n",
    "\n",
    "Again, the final message will only contain alphabetic characters, with capitalisation preserved.\n",
    "\n",
    "## Decryption Process:<a name=\"dp2\"></a>\n",
    "\n",
    "We first iterate from i to the length of the encrypted message, stored as cryptic. \n",
    "\n",
    "The current characer is set using the iterator and stored as character.\n",
    "\n",
    "Within this for loop, we find which position of the keyword we are currently at, by taking our iterator (i) modulo the length of our keyword. This is stored to key_pos\n",
    "\n",
    "$$ \\text{key_pos} = i mod \\text{len(key_list)}$$\n",
    "\n",
    "We then check if the character is uppercase or lowercase, and set an appropriate offset value. 65 for uppercase characters, and 97 for lowercase characters. \n",
    "\n",
    "The character is then offset using this. \n",
    "\n",
    "Then the character is decrypted via this formula:\n",
    "\n",
    "$$(\\text{character_offset}-\\text{key_list[key_pos]})mod26 + \\text{offset}$$\n",
    "\n",
    "This subtracts the shift value obtained via the shifted alphabet corresponding to the current letter in our keyword, then does modulo 26 to ensure we stay within our alphabet range of 0-25, and adds the offset. \n",
    "\n",
    "Then the decrypted ASCII value is turned into the corresponding alphabetic character, and appended to the decrypted_message list.\n",
    "\n",
    "The variable final_text is then defined, joining each element of the decrypted_message to a single long string.\n",
    "\n",
    "final_text is then written to the decrypted_message file.\n",
    "\n",
    "The files are then closed, and a message is sent to the user telling them where their decrypted message has been stored. \n"
   ]
  },
  {
   "cell_type": "code",
   "execution_count": 6,
   "id": "d2719ada",
   "metadata": {},
   "outputs": [],
   "source": [
    "def vigenere_decrypt():\n",
    "    \n",
    "    file_name = find_file()\n",
    "    \n",
    "    key_file = open(\"_vigenere_key.txt\",\"r\") #opens file with key in it to read\n",
    "    key = key_file.read() #reads the file to key\n",
    "    key_list = [ord(m) - 65 for m in key] #offsets all values of key to be between 0 and 25\n",
    "    \n",
    "    encrypted_text = open(file_name,\"r\") #opens encrypted text file to read\n",
    "    cryptic = encrypted_text.read() #reads the file to cryptic\n",
    "    \n",
    "    decrypted_text = open(\"decrypted_text.txt\",\"w\") #opens the decrypted text file to write to\n",
    "    decrypted_message = [] #creates decrypted message list\n",
    "  \n",
    "    for i in range(0,len(cryptic)): #iterates through the encrypted message\n",
    "        character = cryptic[i] #sets character to the current character\n",
    "        key_pos = i%len(key_list) #sets our position within the key \n",
    "        \n",
    "        if character.isupper(): #checks to see if the character is uppercase\n",
    "            offset = 65 #sets appropriate offset value\n",
    "        else:\n",
    "            offset = 97\n",
    "            \n",
    "        character_offset = ord(character)-offset #offsets character to be between 0 and 25\n",
    "        \n",
    "        character_decrypted = (character_offset-key_list[key_pos])%26 + offset\n",
    "        #decrypts the character using the keyword\n",
    "        \n",
    "        decrypted_message.append(chr(character_decrypted)) #appends character to decrypted message\n",
    "        \n",
    "    final_text = \"\".join(decrypted_message) #turns decrypted message into a string\n",
    "    decrypted_text.write(final_text) #writes this string to the decrypted text file\n",
    "    \n",
    "    decrypted_text.close() #closes the files\n",
    "    encrypted_text.close()\n",
    "    key_file.close()\n",
    "    print(\"Decrypted message written to decrypted_text.txt\")\n",
    "    return\n",
    "    https://noteable.edina.ac.uk/user/xhakqh2wp1rf4pshcsvcsm/notebooks/PROJECT/patrick%20question%201%20to%204%20complete%20(1).ipynb#Getting-a-large-text-sample\n",
    "    \n",
    "    "
   ]
  },
  {
   "cell_type": "markdown",
   "id": "1d73bf9d",
   "metadata": {},
   "source": [
    "## Getting a large text sample<a name=\"lts\"></a>\n",
    "\n",
    "In order to perform frequency analysis, to break the Caesar Cypher, we first need to analyse a large piece of written english text, in order to count the appearances of each letter.\n",
    "\n",
    "Using the function url_to_text_utf8, we can extract text from the internet, and store it as a string. Below, we take the text from famous English novels, in order to analyse the characters.\n",
    "\n",
    "The books we have extracted from are: Alice's Adventures in Wonderland, The Great Gatsby, Dracula, Moby Dick and Frankenstein; Or, The Modern Prometheus. This amounts to 2238590 characters \n",
    "\n",
    "The function then returns a long string, composed of all of the texts combined. "
   ]
  },
  {
   "cell_type": "code",
   "execution_count": 7,
   "id": "71e0c256",
   "metadata": {},
   "outputs": [],
   "source": [
    "#### URL TEXT EXTRACTING ####\n",
    "def url_to_text_utf8(url):  #### Sourced code from the GitHub repo provided for this project\n",
    "    '''\n",
    "    Given a url for a text that is \n",
    "    'utf-8' encoded this function \n",
    "    returns that text.\n",
    "    '''\n",
    "    response = requests.get(url) #gets the URL of the text file\n",
    "    response.encoding = 'utf-8-sig' #encodes the text file\n",
    "    return response.text #returns the text file\n",
    "           \n",
    "def get_large_text():        \n",
    "    wonderland = url_to_text_utf8(\"https://gutenberg.org/cache/epub/11/pg11.txt\")[1490:148820]\n",
    "    gatsby = url_to_text_utf8(\"https://gutenberg.org/cache/epub/64317/pg64317.txt\")[1497:278020]\n",
    "    dracula = url_to_text_utf8(\"https://gutenberg.org/cache/epub/345/pg345.txt\")[3130:860610]\n",
    "    moby = url_to_text_utf8(\"https://gutenberg.org/cache/epub/2701/pg2701.txt\")[6000:1241690]\n",
    "    frankenstein = url_to_text_utf8(\"https://gutenberg.org/cache/epub/84/pg84.txt\")[1440:427680]\n",
    "    #creates large strings of texts from english books for analysis later\n",
    "\n",
    "    text = wonderland + gatsby + dracula + moby + frankenstein\n",
    "    return text\n",
    "\n",
    "    #text gives us over 2 million characters to analyse (not all may be alphabet though most all are)\n"
   ]
  },
  {
   "cell_type": "markdown",
   "id": "a6ce6b9b",
   "metadata": {},
   "source": [
    "## Finding Frequency<a name=\"ff\"></a> \n",
    "\n",
    "The frequency_finder function takes an input text, and returns an ordered list of the most frequent characters in descending order.\n",
    "\n",
    "It starts by initialising a dictionary, counts, of the uppercase alphabet ASCII values as keys, and setting the values of each key to zero.\n",
    "\n",
    "The text is then all made uppercase, such that it can be searched for in the dictionary.\n",
    "\n",
    "Then, iterating through all the characters in the text, it checks if the character is in the counts dictionary, i.e the character is an alphabet character, then using that character as the key, it increases the value by one. \n",
    "\n",
    "After all the characters are iterated through, the dictionary then contains all the letters in the alphabet, and their corresponding frequencies.\n",
    "\n",
    "Next, the dictionary is sorted by the values of the key, such that the most frequent letter becomes the first entry in the dictionary, and all other letters follow in descending value order. \n",
    "\n",
    "A list called frequency is then created, being the list of the ordered keys from the counts dictionary.\n",
    "\n",
    "The function then returns the list of the most frequent characters in descending order. "
   ]
  },
  {
   "cell_type": "code",
   "execution_count": 8,
   "id": "92d4f224",
   "metadata": {},
   "outputs": [],
   "source": [
    "def frequency_finder(text):\n",
    "    \n",
    "    counts = {chr(x):0 for x in range(65,91)} #creates a dictionary of all the letters in the alphabet with value 0\n",
    "    text = text.upper() #makes all text uppercase\n",
    "    for character in text: #iterates through all the elements of the string \"text\"\n",
    "        if character in counts: #checks if the element is an alphabet letter\n",
    "            counts[character]+=1 #ups the count by one for each letter\n",
    "    sorted_counts = dict(sorted(counts.items(), key=lambda item: item[1],reverse=True)) #sorts the dictionary by value\n",
    "    frequency = [x for x in sorted_counts] #creates an ordered list of the letters in decreasing frequency\n",
    "    return frequency"
   ]
  },
  {
   "cell_type": "markdown",
   "id": "8c337844",
   "metadata": {},
   "source": [
    "# Frequency Analysis\n",
    "\n",
    "\n",
    "## Finding Letter Frequency of Large Text<a name=\"flt\"></a>\n",
    "\n",
    "Now we have a function which finds and returns the most frequent letters, we can use it with our large text file to find the most frequent letters in the english language, and their relavent probabilities of appearing. \n",
    "\n",
    "We start by setting text to get_large_text, which sets text to be our long string of English words from the novels.\n",
    "\n",
    "The counts list is initialised, the same as before where each ASCII value for capital letters it input into a dictionary and the value set to zero. \n",
    "\n",
    "The text is then set all to uppercase, and a total count is initialised to be set to 0.\n",
    "\n",
    "Iterating through all the characters, the count is upped by one to get a total count for the alphabetic characters\n",
    "\n",
    "Then the pct_points_counts is initialised, the same way as the counts dictionary. This dictionary is designed to store the percentage points for each letter's frequency, i.e the probability of appearing in the text. \n",
    "\n",
    "The uppercase ASCII keys are iterated through, and the values from the counts dictionary are divided by the total count, and the final result is a dictionary with each letter as a key and the corresponding percentage point.\n",
    "\n",
    "Then a bar chart is created, to show the frequencies of each letter, for visual aid.\n",
    "\n",
    "The descending_frequent_letters text file is opened, and the letters in descending order of frequencies are written to it. \n",
    "\n",
    "This sets us up for frequency analysis, as we have the letters of the English language, in order of how often they appear in text. "
   ]
  },
  {
   "cell_type": "code",
   "execution_count": 9,
   "id": "934be540",
   "metadata": {},
   "outputs": [
    {
     "name": "stdout",
     "output_type": "stream",
     "text": [
      "{'A': 0.0813382530968154, 'B': 0.015772428180238454, 'C': 0.02307211235643865, 'D': 0.04378202350586753, 'E': 0.12486207836182597, 'F': 0.022079076561585642, 'G': 0.020784064969467386, 'H': 0.06501369165412156, 'I': 0.06853376455715428, 'J': 0.00125078732595071, 'K': 0.00849105910416825, 'L': 0.04209882113294529, 'M': 0.026337113986929273, 'N': 0.06876203324414029, 'O': 0.0749226075342068, 'P': 0.01639692842369527, 'Q': 0.0012807168798216735, 'R': 0.05524995644579847, 'S': 0.06410999781112219, 'T': 0.09143076668795984, 'U': 0.028544753617232275, 'V': 0.00937018391040789, 'W': 0.024949633474642522, 'X': 0.0013084128848962963, 'Y': 0.019657016246833945, 'Z': 0.0006017180457341452}\n"
     ]
    },
    {
     "data": {
      "image/png": "[encoded data removed]",
      "text/plain": [
       "<Figure size 640x480 with 1 Axes>"
      ]
     },
     "metadata": {},
     "output_type": "display_data"
    }
   ],
   "source": [
    "#### GET FREQUENCY OF LETTERS IN ENGLISH LANGUAGE, WRITE TO FILE IN DESCENDING ORDER ####\n",
    "text = get_large_text()\n",
    "counts = {chr(x):0 for x in range(65,91)}\n",
    "text = text.upper()\n",
    "total_count = 0\n",
    "for character in text:\n",
    "    if character in counts:\n",
    "        counts[character]+=1\n",
    "        total_count +=1\n",
    "\n",
    "pct_points_counts = {chr(x):0 for x in range(65,91)}\n",
    "for key in counts:\n",
    "    pct_points_counts[key] = counts[key]/total_count\n",
    "print(pct_points_counts)\n",
    "\n",
    "letters = list(counts.keys())\n",
    "appearances = list(counts.values())\n",
    "plt.bar(range(len(counts)),appearances,tick_label=letters)\n",
    "\n",
    "plt.show() #shows graph of letter frequencies \n",
    "\n",
    "descending_frequencies = open(\"decsending_frequent_letters.txt\",\"w\")\n",
    "sorted_counts = dict(sorted(counts.items(), key=lambda item: item[1],reverse=True)) #sorts the dictionary by value\n",
    "frequency = [x for x in sorted_counts] #creates an ordered list of the letters in decreasing frequency\n",
    "descending_frequencies.write(\"\".join(frequency))\n",
    "descending_frequencies.close() #writes the most frequent letters in descending order to the file\n",
    "\n"
   ]
  },
  {
   "cell_type": "markdown",
   "id": "55befc4e",
   "metadata": {},
   "source": [
    "## Breaking The Caesar Cypher<a name=\"bcc\"></a>\n",
    "\n",
    "To break the Caesar Cypher, we use frequency analysis to determine the most frequent letter in the encrypted message, and cross reference this with the list of most frequent characters in the english language. Then using that, iterate through each most frequent letter, starting with the most common \"E\" and use that as a reference for our shift value. Continue until the message looks like plaintext, and the message is decrypted, and the Cypher is broken. \n",
    "\n",
    "With a large enough message size, this function should always work on the first attempt, as \"E\" will be the most frequent letter in almost every large text file. However, this may not always be the case, hence we do iterate through each most common letter until plaintext is received. \n",
    "\n",
    "We start as usual, by prompting the user asking for which file they would like to be decrypted, using the find_file function. This is then opened and read to the variable cryptic.\n",
    "\n",
    "The decrypted_text file is then opened to be written to.\n",
    "\n",
    "The descending_frequent_letters file is opened, read, and turned into a list and stored in frequency_list. This is the list of frequent letters generated by the large text from novels.\n",
    "\n",
    "\n",
    "## Breaking Process:<a name=\"bp\"></a>\n",
    "\n",
    "We start by finding the letter which appears most frequently in the encrypted text. This is done using the frequency_finder function, and that letter is stored to message_most_frequent. \n",
    "\n",
    "Then, we set correctness to False. This is to allow the function to continue running until the encrypted message hasbeen decrypted correctly, and plaintext is visible. \n",
    "\n",
    "Using a while loop, while correctness is false, we essentially perform Caesar Decryption.\n",
    "\n",
    "Iterating through the letters in the most frequent letters list, frequency_list, we start Caesar Decryption.\n",
    "\n",
    "The decrypted_message list is defined, to append our decrypted letters to. \n",
    "\n",
    "The shift value is then calculated, by taking the ASCII value of the most frequent letter in the message, and subtracting the ASCII value of the current letter in the frequency list indexed by i, our iterator. \n",
    "\n",
    "Then, iterating through each character in cryptic, we first check if the character is alphabetic.\n",
    "\n",
    "If so, it is then checked whether or not it is uppercase or lowercase, and an appropriate offset value is set. 65 for uppercase, and 97 for lowercase.\n",
    "\n",
    "The ASCII value of the character is then offset, to set it to be within the range of 0 to 25, for ease of calculation, and stored to the variable character_offset.\n",
    "\n",
    "The decryption then happens via this formula:\n",
    "\n",
    "$$(\\text{character_offset} - \\text{shift_value}) mod26 + \\text{offset}$$\n",
    "\n",
    "This is then appended to the decrypted_message list.\n",
    "\n",
    "Once all of the characters have been iterated through, the decrypted_message list is joined together as a string, and printed.\n",
    "\n",
    "The user is then prompted and asked whether the message looks like plaintext or not.\n",
    "\n",
    "If so, correctness is set to false, and we break out of the for loop. This ends the while loop and the decrypted message is written to the decrypted_text file, and the user is shown a message confirming this.\n",
    "\n",
    "If the message does not look like plaintext, the loop continues, using the next most frequent letter. \n",
    "\n",
    "After plaintext is found, the files are closed. \n",
    "\n",
    "\n",
    "\n"
   ]
  },
  {
   "cell_type": "code",
   "execution_count": 10,
   "id": "45e67879",
   "metadata": {},
   "outputs": [],
   "source": [
    "##### CAESAR CYPHER BREAK VIA FREQUENCY ANALYSIS ####\n",
    "\n",
    "def caesar_frequency_break():\n",
    "    \n",
    "    #DONT NEED TO RUN FREQUENCY ANALYSIS EVERY TIME, WRITE TO TEXT FILE\n",
    "    file_name = find_file()\n",
    "    \n",
    "    encrypted_text = open(file_name,\"r\") #opens the encrypted text file to read\n",
    "    cryptic = encrypted_text.read() #sets cryptic to the string value of all the text in encrypted_text.txt\n",
    "    \n",
    "    decrypted_text = open(\"decrypted_text.txt\",\"w\") #opens the decrypted text file to write to  \n",
    "    \n",
    "    frequent_letters = open(\"decsending_frequent_letters.txt\",\"r\")    \n",
    "    frequency_list = list(frequent_letters.read()) #gets the list of the most frequent letters in descending order\n",
    "    \n",
    "      \n",
    "    message_most_frequent = frequency_finder(cryptic)[0] #finds the most frequent letter in the encrypted message\n",
    "    \n",
    "    correctness = False \n",
    "    while correctness == False: #iterates until plaintext is found\n",
    "        for i in range(0,len(frequency_list)):\n",
    "            decrypted_message = []\n",
    "            \n",
    "            shift_value = ord(message_most_frequent) - ord(frequency_list[i]) \n",
    "            #finds the shift value with corresponding letter of frequency list \n",
    "            \n",
    "            for character in cryptic: #iterates each character in the cryptic text\n",
    "                if character.isalpha(): #checks if character is in alphabet\n",
    "\n",
    "                    if character.isupper(): #checks if character is uppercase\n",
    "                        offset = 65 #sets appropriate offset\n",
    "                    else:\n",
    "                        offset = 97\n",
    "\n",
    "                    character_offset = ord(character)-offset #offsets character to be between 0 and 25\n",
    "\n",
    "                    decrypted_message.append(chr((character_offset-shift_value)%26+offset))\n",
    "                    #appends decrypted character to decrypted message list\n",
    "            print(\"\".join(decrypted_message))\n",
    "            print(\"\")\n",
    "            x = input(\"Does this look like plaintext? Press enter if so, type anything else if not: \")\n",
    "            if x == \"\":\n",
    "                correctness = True\n",
    "                print(\"\")\n",
    "                print(\"Plaintext written to decrypted_text.txt\")\n",
    "                break\n",
    "            else:\n",
    "                continue\n",
    "    decrypted_text.write(\"\".join(decrypted_message)) #writes the plaintext to decrypted_text\n",
    "    decrypted_text.close()\n",
    "    encrypted_text.close()\n",
    "    frequent_letters.close() #closes the files\n",
    "    return\n",
    "    \n",
    "    "
   ]
  },
  {
   "cell_type": "markdown",
   "id": "06c6743a",
   "metadata": {},
   "source": [
    "# RSA Encryption\n",
    "\n",
    "## Turning vigenere key into a Tuple<a name=\"vkt\"></a>\n",
    "Before we can encrypt using RSA, first we turn the vigenere key into a tuple, because of the way the RSA encryption works, so it runs in a suitable length of time. To do this, we design a function 'key_to_tuple', defined below. \n",
    "First we define a variable key with the vigenere key by opening the key file and reading it, to assing it to a variable we can use.\n",
    "Then, we use the quotient of the key when dividing by 64 to find how many sections we need to divide the key into, as 64 is the maximum length we can encrypt at a time. This is because we use 1024 bit encryption, which means we can use 1024/8 numbers at a time, which is 128. Since each letter has a 2-digit ASCII value, we can only use 64 letters at a time. \n",
    "After this, we iterate through the segments, and for every charachter in the segment, ie. inbetween 64*i and 64*(i+1), if the character is the last element of the key, the function breaks, so we dont get a list index out of range error. Then we add the ASCII value to a list.\n",
    "Next, we turn the list into a long integer, then add it to the rest of the key.\n",
    "This is returned as a tuple, so it can be inputed into the RSA encryption function."
   ]
  },
  {
   "cell_type": "code",
   "execution_count": 11,
   "id": "549cd64c",
   "metadata": {},
   "outputs": [
    {
     "data": {
      "text/plain": [
       "(74878872898890777088906876769065706578897569727674667178748975708787709076717069867781738476658468806690898581707184787181657474,\n",
       " 68727568808486777376826682746882808476678769807170718167767986658584778487837670657987848486727977806787758778778667728779698868,\n",
       " 83726679667379828381827790708871679090847367796981828484668584668279858868738087787166869089758889748883788090789087858969836669,\n",
       " 87696970686777797378708577676685699065778476878381766979728169898488738366846866857975666967668685856781)"
      ]
     },
     "execution_count": 11,
     "metadata": {},
     "output_type": "execute_result"
    }
   ],
   "source": [
    "#### TURN VIGENERE KEY INTO NUMBERS ####\n",
    " ## SPLIT KEY FIRST, RETURN TUPLE OF SPLIT KEY\n",
    "def key_to_tuple():\n",
    "    key_file = open(\"_vigenere_key.txt\",\"r\") #opens the vigenere key file\n",
    "    key = key_file.read() #reads the vigenere key to key\n",
    "\n",
    "    num_of_splits = len(key)//64 #gets the quotient of the key length when dividing by 64 to find out our splits\n",
    "    split_key = []\n",
    "    for i in range(0,num_of_splits+1): #iterates through splits\n",
    "        key_num_list = [] #creates a list for our number key\n",
    "        for character in range(64*i,64*(i+1)): #iterates through all characters of that split\n",
    "            if character == len(key): #makes sure not to go out of the range of the string\n",
    "                break\n",
    "            key_num_list.append(str(ord(key[character])))#appends the string value of the ASCII value of the character\n",
    "\n",
    "        key_num_str = \"\".join(key_num_list) #turns the list into a long string\n",
    "        key_num = int(key_num_str) #turns the string into an integer\n",
    "        split_key.append(key_num)#applies the split key to the big list\n",
    "  \n",
    "    return tuple(split_key)\n",
    "\n",
    "key_to_tuple()\n",
    "# EVERY 2 DIGITS REPRESENTS ONE OF THE LETTERS OF OUR KEY"
   ]
  },
  {
   "cell_type": "markdown",
   "id": "fbb1244d",
   "metadata": {},
   "source": [
    "## How RSA Works<a name=\"hrw\"></a>\n",
    "We will use the RSA protocol to further incrypt the vigenere and N-gram keys. \n",
    "The function works by first generating a public key, which is done by the reciever of the encrypted code. This takes the form $(N,e)$ for a large integer $N$ and smaller integer $e$.\n",
    "To send our tuple through the function, with each part represented by an integer $m$, the system is that we should calculate $m^e \\bmod N$ and send that instead.\n",
    "If this is intecepted, an adversary has the problem of finding\n",
    "$m$ from the values of $m^e \\bmod N$, $N$ and $e$. This is very difficult. However, the key $(N,e)$ has some secret information that can be used to find $m$ much more quickly. \n",
    "\n",
    "### The RSA key generator\n",
    "The first step is set up a key that can be used by other people to send messages to you.\n",
    "1. Find two large prime numbers $p$ and $q$, using the functions given previously.\n",
    "2. Let $N=pq$ and find $\\phi(N)$. Since $\\phi$ is a multiplicative function this is easy, because $\\phi(N) = (p-1)(q-1)$.\n",
    "3. Choose a number $e$ such that $\\gcd(e,\\phi(N)) = 1$.\n",
    "4. Find $d$, the modular inverse of $e$ modulo $\\phi(N)$. This is an integer where $ed \\equiv 1 \\bmod \\phi(N)$.\n",
    "5. Publish `(N,e)`,this is the public key.\n",
    "6. Do not publish `((p,q),phi,d)` as this is your private key. \n",
    "\n",
    "### Encryption.\n",
    "\n",
    "Let the message sent be an integer smaller than $N$, denoted $m$. The sender should send $m^e \\bmod N$, which is a number between $0$ and $N$.\n",
    "\n",
    "### Decryption.\n",
    "\n",
    "Once this ciphertext is recieved, the reciever can find $(m^e)^d \\bmod N$. Since $d$ is the modular inverse of $e$, $ed = k \\phi(N)+1$ for some $k$ and so the Euler-Fermat theorem implies $$(m^e)^d = m^{ed} = m^{k \\phi(N)+1} = m((m^{\\phi(N)} )^k) \\equiv m (1)^k \\equiv m \\bmod N.$$\n",
    "\n",
    "Since $m$ was less than $N$, this recovers the original message.\n",
    "\n",
    "This information was gathered from the lecture notes."
   ]
  },
  {
   "cell_type": "code",
   "execution_count": 12,
   "id": "8651a965",
   "metadata": {},
   "outputs": [],
   "source": [
    "def RSA_key_generator(bitlength=1024): #can take 128 numbers with Bitlength of 1024\n",
    "    \"\"\"This will generate RSA keys. This is a version of the private key.\n",
    "    The output is ((PublicKey), PrivateExp, Factorisation).\n",
    "    The PublicKey can be published, PrivateExp is needed to decrypt.\n",
    "    Factorisation is not needed, but must be kept secret.\"\"\"\n",
    "    ## Generate two large primes.\n",
    "    p = cryptography_functions.random_prime(bitlength)\n",
    "    q = cryptography_functions.random_prime(bitlength)\n",
    "    N = p*q\n",
    "    \n",
    "    ## Next, get phi and use it to get a public and private exponent.\n",
    "    phi = (p-1)*(q-1)\n",
    "    ## Choose encryption exponent e randomly between 1 and p and q.\n",
    "    e = random.randint(1,min(p,q))\n",
    "    ## It must be coprime to phi though. We use rejection sampling again:    \n",
    "    while cryptography_functions.gcd(e,phi) > 1:\n",
    "        e = random.randint(1,min(p,q))\n",
    "    \n",
    "    ## Finally, get d using 'pow'\n",
    "    ## (the extended Euclid's algorithm could do this too).\n",
    "    d = pow(e,-1,phi)\n",
    "    \n",
    "    ## Then return the keys.\n",
    "    return ((N,e),d%phi,{p:1,q:1})"
   ]
  },
  {
   "cell_type": "code",
   "execution_count": 13,
   "id": "4e9d9e2c",
   "metadata": {},
   "outputs": [
    {
     "name": "stdout",
     "output_type": "stream",
     "text": [
      "(10889381666023537625293230295527902043790308384771538875198795713398081209183079988240940346709783618486848299058246559121049565877396064228301271734712117669942542173184272645633144983995913655373061657890250210954084354709465694471289255985699704222604963521680127703403402387635802370909997830409184588058387222157852825808178848260471920418471180668138118932942592405816252635591534540534346706152543978025965727543553543184663289521609746068000850459843628154016264082576476959432543976900040216602865968167070461003968207834706751764310708105713059567203709977329236799856102073425655897005669522163036014327553, 5346614906818514676643795772022909102875571775112342320333690078017821996626724320757125143306137650009268655397705441043742681219063350901756833377458495627193915031986943884235597430376835935197292935065453396139401476137206591243647510401157856767898569395660120553443125128398794331636643242082462075497244260723219732906692731322641238761079350526628294753226224802903177718127845031973968856544360207774952670864124323948395605530504135594351517734110241586074061741679583364818628367189794809389817623954460233841458201146944781064945525149402709571015605413536365602131642506359142375211986689647674937746165, 8186057333941138013359666880214069828985710017479548853217417751860484868473078127739471513991970835446716778640300644310624185554848834567090923734567246170619613738327021503985118537145737516828255313525029189346264124702421062616819564044429216268527086053922452500065134024437805046464049809339812775951992056797170049171553398693303461742554550120973399217259410624652599981431134128694172561778293770455833553668270008566357874712488244378363629286531610958427322782211871029581934265455715831256064117576212756099466627607235307065011252527984394553735588536044710428037840890827412207801208721667583944597159, 3026894463037879115864473790493202601953722854971043578733591018702942080630788755104103109429098484405269084162031920255164725430864544340049647438018301824860490121856078709199110603664268653693251954230698468516481122484728898101050889040374212810414477139131914031402130471356047467962250729554783724159602002375721458620547025823468701079964495454286196231455738914120335049294019114143326873334038840614227323010679476297787852314727999208459157430288069295146708053658398337602032607769590192075638491722450005361578600136204043478934732217428428585199674007413403640034622084047843843470999823520730278196068)\n"
     ]
    }
   ],
   "source": [
    "def RSA_encrypt(N,e):\n",
    "    encrypted_key_list=[]\n",
    "    vigi_key_list = list(key_to_tuple())\n",
    "    for element in vigi_key_list:\n",
    "        i=pow(element,e,N)\n",
    "        encrypted_key_list.append(i)\n",
    "    \"\"\"Encrypt an integer 'message' using RSA with public key (N,e).\"\"\"\n",
    "    return tuple(encrypted_key_list)\n",
    "\n",
    "public_key,d,factors = RSA_key_generator()\n",
    "\n",
    "cipher = RSA_encrypt(public_key[0],public_key[1])\n",
    "print(cipher)"
   ]
  },
  {
   "cell_type": "code",
   "execution_count": 14,
   "id": "b74a9224",
   "metadata": {},
   "outputs": [
    {
     "name": "stdout",
     "output_type": "stream",
     "text": [
      "74878872898890777088906876769065706578897569727674667178748975708787709076717069867781738476658468806690898581707184787181657474687275688084867773768266827468828084766787698071707181677679866585847784878376706579878484867279778067877587787786677287796988688372667966737982838182779070887167909084736779698182848466858466827985886873808778716686908975888974888378809078908785896983666987696970686777797378708577676685699065778476878381766979728169898488738366846866857975666967668685856781\n"
     ]
    }
   ],
   "source": [
    "def RSA_decrypt(encrypted_key,N,d):\n",
    "    complete_key=[]\n",
    "    decryption_list=list(encrypted_key)\n",
    "    for element in decryption_list:\n",
    "        j=pow(element,d,N)\n",
    "        complete_key.append(str(j))\n",
    "    \"\"\"Decrypt an integer message using RSA with public key (N,e) and private key (d, fact).\"\"\"\n",
    "    return \"\".join(complete_key)\n",
    "\n",
    "received_int = RSA_decrypt(cipher,public_key[0],d)\n",
    "\n",
    "print(received_int)"
   ]
  },
  {
   "cell_type": "markdown",
   "id": "ed820717",
   "metadata": {},
   "source": [
    "# A Hybrid system\n",
    "\n",
    "In order to make our encryption safer, adn harder to crack, we will implement another layer of encryption to the Vigenère cipher, to prevent a potential hacker from using frequency analysis to break our code.\n",
    "\n",
    "\n",
    "## Disguising the frequency for each letter\n",
    "\n",
    "In this section we will make our message harder to crack by adding another layer to Vigenère encryption. We design a dictionary of two-grams (e.g. 'po') of distinct letters, and assign each letter some of these two-grams.\n",
    "\n",
    "In doing this, we can reverse the frequency analysis by giving the most common letters more two-grams, and assigning the least common, fewer.\n",
    "\n",
    "We generate a Vigenère key as before, using the vigenere_encrypt function. Then, this key and the dictionary of two-grams are RSA encrypted and sent in our public key, which Bob sends Alice.\n",
    "\n",
    "We then encrypt our chosen message for Bob to send. We encrypt this using the two-grams, and then Vigenère encrypt that. This is sent to Alice as the ecnrypted message, which she can use the public key to decipher.\n",
    "\n",
    "#### First, we will do Bob's job:\n",
    "\n",
    "   - Create the public key: The Vigenère Cipher and the dictonary of 2-grams.\n",
    "   - Encrypt the message with 2-grams, and then using the Vigenère Cipher, and send the message.\n",
    "     \n",
    "\n",
    "#### We start by creating a dictionary of 2-grams for each letter."
   ]
  },
  {
   "cell_type": "code",
   "execution_count": 15,
   "id": "e17b6182",
   "metadata": {},
   "outputs": [
    {
     "name": "stdout",
     "output_type": "stream",
     "text": [
      "{'a': ['pn', 'ae', 'ns', 'fm', 'wj', 'zu', 'nm', 'ak', 'ni', 'hy', 'tk', 'bi', 'sa', 'tl', 'yh', 'ew', 'vf', 'ta', 'er', 'ya', 'ga', 'ne', 'ze', 'ek', 'mq', 'om', 'mu', 'ar', 'ie', 'gs', 'qn', 'bf', 'br', 'nq', 'sf', 'nb', 'ey', 'uf', 'pd', 'os', 'dj', 'qc', 'bx', 'te', 'bl', 'cz', 'pk', 'xr', 'am', 'sx', 'ma', 'ex'], 'b': ['up', 'ts', 'dn', 'im', 'pb', 'mf', 'dw', 'yn', 'do', 'au'], 'c': ['hf', 'yo', 'wl', 'bk', 'yz', 'hi', 'tx', 'ho', 'gi', 'tq', 'is', 'uv', 'vg', 'ki', 'dp'], 'd': ['ag', 'iu', 'ia', 'pg', 'fp', 'lj', 'av', 'cl', 'qr', 'xt', 'iv', 'nf', 'gq', 'gr', 'va', 'fn', 'jd', 'pv', 'kp', 've', 'oq', 'ka', 'al', 'hc', 'nr', 'gd', 'qo', 'pt'], 'e': ['gh', 'kv', 'ro', 'ol', 'kq', 'pm', 'nd', 'ik', 'pr', 'ox', 'qk', 'mv', 'pe', 'az', 'th', 'tf', 'rq', 'vd', 'mb', 'zt', 'jm', 'qi', 'bj', 'kg', 'yg', 'jc', 'lf', 'ir', 'sg', 'hw', 'wv', 'lz', 'hx', 'fo', 'sd', 'sv', 'vm', 'qd', 'he', 'iy', 'lg', 'pu', 'bw', 'ji', 'wz', 'rh', 'kl', 'mp', 'ob', 'rl', 'ld', 'ht', 'iq', 'nu', 'jz', 'wo', 'sp', 'ui', 'sj', 'rn', 'xw', 'ix', 'yq', 'nk', 'pf', 'ad', 'um', 'sy', 'zq', 'jk', 'xe', 'xj', 'ud', 'st', 'kw', 'zo', 'zg', 'sw', 'yw', 'ko'], 'f': ['ua', 'jy', 'gt', 'rt', 'fu', 'ln', 'fk', 'wp', 'js', 'fj', 'oh', 'bp', 'qf', 'it'], 'g': ['lb', 'ed', 'vs', 'eq', 'ke', 'gl', 'qb', 'nv', 'bn', 'tc', 'lx', 'zf', 'my', 'gx'], 'h': ['rk', 'af', 'nx', 'zw', 'wf', 'tn', 'kx', 'gv', 'xs', 'an', 'nt', 'cp', 'pl', 'cd', 'aw', 'ti', 'in', 'bt', 'li', 'pc', 'kz', 'ok', 'lk', 'lh', 'op', 'ng', 'qh', 'tz', 'ug', 'kd', 'oz', 'sk', 'dy', 'xb', 'vx', 'fy', 'ph', 'jp', 'dx', 'ps', 'xz', 'ay'], 'i': ['qu', 'hg', 'uj', 'bg', 'rf', 'lt', 'rg', 'fl', 'io', 'wa', 'xm', 'sz', 'vw', 'hl', 'eh', 'qe', 'jx', 'og', 'qx', 'ks', 'nj', 'yc', 'gz', 'nw', 'wi', 'gn', 'sl', 'if', 'jb', 'yx', 'ds', 'uq', 'mj', 'cv', 'lv', 'hj', 'si', 'cw', 'hq', 'np', 'ux', 'of', 'nz', 'dq', 'km'], 'j': ['gp'], 'k': ['na', 'rm', 'hv', 'oy', 'jt', 'xi'], 'l': ['wb', 'fr', 'dl', 'ha', 'vy', 'ri', 'fi', 'kb', 'wh', 'tp', 'wq', 'td', 'qa', 'su', 'zn', 'aq', 'yj', 'oe', 'gc', 'mh', 'yi', 'ac', 'cn', 'kt', 'yu', 'zd', 'iw'], 'm': ['ge', 'df', 'la', 'du', 'xq', 'pw', 'ou', 'ut', 'jo', 'vo', 'ca', 'vq', 'jn', 'jw', 'zp', 'dv', 'uk'], 'n': ['xd', 'mn', 'en', 'gf', 'pj', 'by', 'ye', 'cg', 'et', 'dr', 'cx', 'po', 'zb', 'je', 'mz', 'pq', 'ip', 'oa', 'cs', 'vi', 'mi', 'ab', 'qs', 'qm', 'qz', 'bh', 'pa', 'gu', 'qy', 'vn', 'uy', 'rj', 'jr', 'vh', 'cq', 'vk', 'yd', 'em', 'py', 'ei', 'ap', 'ai', 'ql', 'ct', 'so'], 'o': ['md', 'kn', 'xf', 'qv', 'ws', 'xc', 'ov', 'xy', 'xk', 'vu', 'od', 'mw', 'aj', 'fa', 'kr', 'yl', 'eg', 'fs', 'lc', 'wt', 'xh', 'oi', 'ck', 'yv', 'yr', 're', 'ba', 'eu', 'rv', 'bz', 'hs', 'gj', 'nl', 'mx', 'jv', 'fg', 'dz', 'zi', 'el', 'wk', 'ow', 'bc', 'se', 'tu', 'fe', 'de', 'vl', 'cm', 'pz'], 'p': ['xo', 'dm', 'lo', 'uw', 'zc', 'jf', 'wm', 'rx', 'wy', 'ec', 'gy'], 'q': ['qg'], 'r': ['xv', 'lp', 'rp', 'cj', 'gm', 'vj', 'ci', 'ao', 'mc', 'ny', 'ft', 'ez', 'fv', 'ku', 'mo', 'lq', 'ea', 'sb', 'fx', 'fq', 'ev', 'xn', 'oj', 'tg', 'bq', 'cy', 'tw', 'jg', 'dg', 'un', 'da', 'bo', 'ot', 'hb', 'tj', 'px'], 's': ['co', 'rz', 'bu', 'dk', 'sh', 'fc', 'sr', 'yp', 'sn', 'bd', 'qp', 'nc', 'rw', 'zh', 'dt', 'ul', 'fh', 'wc', 'us', 'eb', 'me', 'tb', 'xu', 'zm', 'lu', 'vp', 'hp', 'ub', 'sc', 'uo', 'rs', 'id', 'fw', 'mr', 'cf', 'mk', 'ry', 'zv', 'rc', 'go', 'ls', 'nh'], 't': ['ja', 'ty', 'hr', 'yf', 'jl', 'ej', 'rd', 'qj', 'dc', 'ax', 'fd', 'di', 'or', 'tm', 'kh', 'jh', 'eo', 'ys', 'es', 'ju', 'bs', 'sm', 'kj', 'kf', 'zx', 'zj', 'ms', 'cr', 'ic', 'zy', 'lr', 'we', 'mg', 'hd', 'ur', 'vc', 'fb', 'ef', 'ru', 'mt', 'le', 'hk', 'ah', 'ih', 'zk', 'hu', 'bm', 'ig', 'ij', 'lm', 'vz', 'wd', 'yb', 'ky', 'zl', 'jq', 'qt', 'gb'], 'u': ['wr', 'ml', 'ch', 'xg', 'gw', 'oc', 'vb', 'wn', 'bv', 'uz', 'hn', 'hz', 'hm', 'wg', 'no', 'at', 'pi', 'vr', 'be'], 'v': ['xa', 'ce', 'qw', 'fz', 'zs', 'cb'], 'w': ['as', 'xp', 'wu', 'iz', 'ly', 'dh', 'za', 'il', 'rb', 'uh', 'ib', 'tv', 'to', 'sq', 'vt', 'xl'], 'x': ['yk'], 'y': ['ue', 'kc', 'ra', 'wx', 'yt', 'lw', 'uc', 'gk', 'ep', 'ym', 'db', 'zr', 'tr'], 'z': ['on']}\n"
     ]
    }
   ],
   "source": [
    "from random import randint\n",
    "from random import sample\n",
    "import string\n",
    "from itertools import permutations\n",
    "\n",
    "\n",
    "# create a dictionary of all bigrams:\n",
    "\n",
    "#first define our alphabet and frequencies\n",
    "ALPH_1 = string.ascii_lowercase\n",
    "# this is the frequencies from earlier in the project for each letter\n",
    "fr = {'a': 0.0813382530968154, 'b': 0.015772428180238454, 'c': 0.02307211235643865, 'd': 0.04378202350586753, 'e': 0.12486207836182597, 'f': 0.022079076561585642, 'g': 0.020784064969467386, 'h': 0.06501369165412156, 'i': 0.06853376455715428, 'j': 0.00125078732595071, 'k': 0.00849105910416825, 'l': 0.04209882113294529, 'm': 0.026337113986929273, 'n': 0.06876203324414029, 'o': 0.0749226075342068, 'p': 0.01639692842369527, 'q': 0.0012807168798216735, 'r': 0.05524995644579847, 's': 0.06410999781112219, 't': 0.09143076668795984, 'u': 0.028544753617232275, 'v': 0.00937018391040789, 'w': 0.024949633474642522, 'x': 0.0013084128848962963, 'y': 0.019657016246833945, 'z': 0.0006017180457341452}\n",
    "\n",
    "encode_dict = dict()\n",
    "def bigrams(fr):\n",
    "    global encode_dict\n",
    "    all_bigrams = [\"\".join(pair) for pair in permutations(ALPH_1, 2)]\n",
    "    for key in fr:\n",
    "        freq = fr[key]\n",
    "        bi_quantity = round(650*freq) # assign each letter the amount of bigrams proportionate to its probability of occuring\n",
    "        if bi_quantity == 0:\n",
    "            bi_quantity = 1 # if the frequency is so low that its quantity rounds down to zero, we replace it with 1\n",
    "        if bi_quantity > 50:\n",
    "            bi_quantity -= 1 # to fix our now too large number of bigrams, we shrink the greatest numbers by 1\n",
    "      \n",
    "        storage = sample(all_bigrams, bi_quantity) # store the bigrams in a list\n",
    "        \n",
    "        all_bigrams = [bigram for bigram in all_bigrams if bigram not in storage] # allows us to look over bigrams that have already been selected\n",
    "        encode_dict[key]=storage # encode the dictionary with each letter's list\n",
    "       \n",
    "    return encode_dict\n",
    "\n",
    "print (bigrams(fr)) # print this to see our dictionary of associated bigrams"
   ]
  },
  {
   "cell_type": "markdown",
   "id": "d3a2ee8b",
   "metadata": {},
   "source": [
    "## Creating the public key\n",
    "\n",
    "### Now we have our dictionary, we need to construct our public key. We concatenate the Vigenère Cipher and these 2-grams.\n",
    "\n",
    "We include a space before each string of 2-grams because we want Alice to be able to know where each 2-gram list begins.\n",
    "\n",
    "We then split it up into strings of length respective to the bit-primes we have, as we want it to be less than p and q (as p*q = N). The string gets split up in the function chopped_up."
   ]
  },
  {
   "cell_type": "code",
   "execution_count": 16,
   "id": "92dcc028",
   "metadata": {},
   "outputs": [
    {
     "name": "stdout",
     "output_type": "stream",
     "text": [
      "JWXHYXZMFXZDLLZAFANYKEHLJBGNJYKFWWFZLGFEVMQITLATDPBZYUQFGTNGQAJJDHKDPTVMILRBRJDRPTLCWEPGFGQCLOVAUTMTWSLFAOWTTVHOMPCWKWNMVCHWOEXDSHBOBIORSQRMZFXGCZZTICOEQRTTBUTBROUXDIPWNGBVZYKXYJXSNPZNZWUYESBEWEEFDCMOINFUMCBUEZAMTLWSQLEOHQEYTXISBTDBUOKBECBVUUCQ pnaensfmwjzunmaknihytkbisatlyhewvftaeryaganezeekmqommuariegsqnbfbrnqsfnbeyufpdosdjqcbxteblczpkxramsxmaex uptsdnimpbmfdwyndoau hfyowlbkyzhitxhogitqisuvvgkidp agiuiapgfpljavclqrxtivnfgqgrvafnjdpvkpveoqkaalhcnrgdqopt ghkvroolkqpmndikproxqkmvpeazthtfrqvdmbztjmqibjkgygjclfirsghwwvlzhxfosdsvvmqdheiylgpubwjiwzrhklmpobrlldhtiqnujzwospuisjrnxwixyqnkpfadumsyzqjkxexjudstkwzozgswywko uajygtrtfulnfkwpjsfjohbpqfit lbedvseqkeglqbnvbntclxzfmygx rkafnxzwwftnkxgvxsanntcpplcdawtiinbtlipckzoklklhopngqhtzugkdozskdyxbvxfyphjpdxpsxzay quhgujbgrfltrgfliowaxmszvwhlehqejxogqxksnjycgznwwignslifjbyxdsuqmjcvlvhjsicwhqnpuxofnzdqkm gp narmhvoyjtxi wbfrdlhavyrifikbwhtpwqtdqasuznaqyjoegcmhyiaccnktyuzdiw gedfladuxqpwouutjovocavqjnjwzpdvuk xdmnengfpjbyyecgetdrcxpozbjemzpqipoacsvimiabqsqmqzbhpaguqyvnuyrjjrvhcqvkydempyeiapaiqlctso mdknxfqvwsxcovxyxkvuodmwajfakrylegfslcwtxhoickyvyrrebaeurvbzhsgjnlmxjvfgdzzielwkowbcsetufedevlcmpz xodmlouwzcjfwmrxwyecgy qg xvlprpcjgmvjciaomcnyftezfvkumolqeasbfxfqevxnojtgbqcytwjgdgundaboothbtjpx corzbudkshfcsrypsnbdqpncrwzhdtulfhwcusebmetbxuzmluvphpubscuorsidfwmrcfmkryzvrcgolsnh jatyhryfjlejrdqjdcaxfddiortmkhjheoysesjubssmkjkfzxzjmscriczylrwemghdurvcfbefrumtlehkahihzkhubmigijlmvzwdybkyzljqqtgb wrmlchxggwocvbwnbvuzhnhzhmwgnoatpivrbe xaceqwfzzscb asxpwuizlydhzailrbuhibtvtosqvtxl yk uekcrawxytlwucgkepymdbzrtr on\n"
     ]
    }
   ],
   "source": [
    "import string\n",
    "\n",
    "def create_string():\n",
    "    key_file = open(\"_vigenere_key.txt\")\n",
    "    Vig = key_file.read() # retrive the vigenere key from the saved file\n",
    "    key_string = Vig # create our string\n",
    "    for ky in ALPH_1:\n",
    "        two_grams = encode_dict[ky]\n",
    "        string_two_grams = \"\".join(two_grams) # join the two grams for each letter, and then \n",
    "        \n",
    "        key_string += ' ' + string_two_grams # add a space and the string for each letter to the string\n",
    "        \n",
    "    return key_string # return the concatenated string\n",
    "\n",
    "print(create_string())"
   ]
  },
  {
   "cell_type": "code",
   "execution_count": 17,
   "id": "721bebe5",
   "metadata": {},
   "outputs": [
    {
     "name": "stdout",
     "output_type": "stream",
     "text": [
      "['JWXHYXZMFXZDLLZAFANYKEHLJBGNJYKFWWFZLGFEVMQITLATDPBZYUQFGTNGQAJJDHKDPTVMILRBRJDRPTLCWEPGFGQCLOVAUTMTWSLFAOWTTVHOMPCWKWNMVCHWOEX', 'DSHBOBIORSQRMZFXGCZZTICOEQRTTBUTBROUXDIPWNGBVZYKXYJXSNPZNZWUYESBEWEEFDCMOINFUMCBUEZAMTLWSQLEOHQEYTXISBTDBUOKBECBVUUCQ pnaensfmw', 'jzunmaknihytkbisatlyhewvftaeryaganezeekmqommuariegsqnbfbrnqsfnbeyufpdosdjqcbxteblczpkxramsxmaex uptsdnimpbmfdwyndoau hfyowlbkyz', 'hitxhogitqisuvvgkidp agiuiapgfpljavclqrxtivnfgqgrvafnjdpvkpveoqkaalhcnrgdqopt ghkvroolkqpmndikproxqkmvpeazthtfrqvdmbztjmqibjkgy', 'gjclfirsghwwvlzhxfosdsvvmqdheiylgpubwjiwzrhklmpobrlldhtiqnujzwospuisjrnxwixyqnkpfadumsyzqjkxexjudstkwzozgswywko uajygtrtfulnfkw', 'pjsfjohbpqfit lbedvseqkeglqbnvbntclxzfmygx rkafnxzwwftnkxgvxsanntcpplcdawtiinbtlipckzoklklhopngqhtzugkdozskdyxbvxfyphjpdxpsxzay', ' quhgujbgrfltrgfliowaxmszvwhlehqejxogqxksnjycgznwwignslifjbyxdsuqmjcvlvhjsicwhqnpuxofnzdqkm gp narmhvoyjtxi wbfrdlhavyrifikbwht', 'pwqtdqasuznaqyjoegcmhyiaccnktyuzdiw gedfladuxqpwouutjovocavqjnjwzpdvuk xdmnengfpjbyyecgetdrcxpozbjemzpqipoacsvimiabqsqmqzbhpagu', 'qyvnuyrjjrvhcqvkydempyeiapaiqlctso mdknxfqvwsxcovxyxkvuodmwajfakrylegfslcwtxhoickyvyrrebaeurvbzhsgjnlmxjvfgdzzielwkowbcsetufede', 'vlcmpz xodmlouwzcjfwmrxwyecgy qg xvlprpcjgmvjciaomcnyftezfvkumolqeasbfxfqevxnojtgbqcytwjgdgundaboothbtjpx corzbudkshfcsrypsnbdq', 'pncrwzhdtulfhwcusebmetbxuzmluvphpubscuorsidfwmrcfmkryzvrcgolsnh jatyhryfjlejrdqjdcaxfddiortmkhjheoysesjubssmkjkfzxzjmscriczylrw', 'emghdurvcfbefrumtlehkahihzkhubmigijlmvzwdybkyzljqqtgb wrmlchxggwocvbwnbvuzhnhzhmwgnoatpivrbe xaceqwfzzscb asxpwuizlydhzailrbuhi', 'btvtosqvtxl yk uekcrawxytlwucgkepymdbzrtr on']\n"
     ]
    }
   ],
   "source": [
    "# we 'split up' our long string into shorter chunks to encrypt more easily\n",
    "\n",
    "def chopped_up(string_input, prime_bit_length): # we input what we want to chop up and the bit length we used in our vigenere encryption\n",
    "    segment_len = (prime_bit_length - 2)//8\n",
    "    string= [string_input[i:i+segment_len]for i in range(0,len(string_input), segment_len)]\n",
    "    return string\n",
    "\n",
    "broken_string = chopped_up(create_string(), 1024)\n",
    "\n",
    "print(broken_string)"
   ]
  },
  {
   "cell_type": "markdown",
   "id": "003693ce",
   "metadata": {},
   "source": [
    "#### Now we have a form that we can encrypt. Firstly, we convert these strings to binary integers, and then RSA encrypt these binary integers. This final ourtput will be our public key."
   ]
  },
  {
   "cell_type": "code",
   "execution_count": 29,
   "id": "0a72d6a8",
   "metadata": {},
   "outputs": [
    {
     "name": "stdout",
     "output_type": "stream",
     "text": [
      "['01001010010101110101100001001000010110010101100001011010010011010100011001011000010110100100010001001100010011000101101001000001010001100100000101001110010110010100101101000101010010000100110001001010010000100100011101001110010010100101100101001011010001100101011101010111010001100101101001001100010001110100011001000101010101100100110101010001010010010101010001001100010000010101010001000100010100000100001001011010010110010101010101010001010001100100011101010100010011100100011101010001010000010100101001001010010001000100100001001011010001000101000001010100010101100100110101001001010011000101001001000010010100100100101001000100010100100101000001010100010011000100001101010111010001010101000001000111010001100100011101010001010000110100110001001111010101100100000101010101010101000100110101010100010101110101001101001100010001100100000101001111010101110101010001010100010101100100100001001111010011010101000001000011010101110100101101010111010011100100110101010110010000110100100001010111010011110100010101011000', '01000100010100110100100001000010010011110100001001001001010011110101001001010011010100010101001001001101010110100100011001011000010001110100001101011010010110100101010001001001010000110100111101000101010100010101001001010100010101000100001001010101010101000100001001010010010011110101010101011000010001000100100101010000010101110100111001000111010000100101011001011010010110010100101101011000010110010100101001011000010100110100111001010000010110100100111001011010010101110101010101011001010001010101001101000010010001010101011101000101010001010100011001000100010000110100110101001111010010010100111001000110010101010100110101000011010000100101010101000101010110100100000101001101010101000100110001010111010100110101000101001100010001010100111101001000010100010100010101011001010101000101100001001001010100110100001001010100010001000100001001010101010011110100101101000010010001010100001101000010010101100101010101010101010000110101000100100000011100000110111001100001011001010110111001110011011001100110110101110111', '01101010011110100111010101101110011011010110000101101011011011100110100101101000011110010111010001101011011000100110100101110011011000010111010001101100011110010110100001100101011101110111011001100110011101000110000101100101011100100111100101100001011001110110000101101110011001010111101001100101011001010110101101101101011100010110111101101101011011010111010101100001011100100110100101100101011001110111001101110001011011100110001001100110011000100111001001101110011100010111001101100110011011100110001001100101011110010111010101100110011100000110010001101111011100110110010001101010011100010110001101100010011110000111010001100101011000100110110001100011011110100111000001101011011110000111001001100001011011010111001101111000011011010110000101100101011110000010000001110101011100000111010001110011011001000110111001101001011011010111000001100010011011010110011001100100011101110111100101101110011001000110111101100001011101010010000001101000011001100111100101101111011101110110110001100010011010110111100101111010', '01101000011010010111010001111000011010000110111101100111011010010111010001110001011010010111001101110101011101100111011001100111011010110110100101100100011100000010000001100001011001110110100101110101011010010110000101110000011001110110011001110000011011000110101001100001011101100110001101101100011100010111001001111000011101000110100101110110011011100110011001100111011100010110011101110010011101100110000101100110011011100110101001100100011100000111011001101011011100000111011001100101011011110111000101101011011000010110000101101100011010000110001101101110011100100110011101100100011100010110111101110000011101000010000001100111011010000110101101110110011100100110111101101111011011000110101101110001011100000110110101101110011001000110100101101011011100000111001001101111011110000111000101101011011011010111011001110000011001010110000101111010011101000110100001110100011001100111001001110001011101100110010001101101011000100111101001110100011010100110110101110001011010010110001001101010011010110110011101111001', '01100111011010100110001101101100011001100110100101110010011100110110011101101000011101110111011101110110011011000111101001101000011110000110011001101111011100110110010001110011011101100111011001101101011100010110010001101000011001010110100101111001011011000110011101110000011101010110001001110111011010100110100101110111011110100111001001101000011010110110110001101101011100000110111101100010011100100110110001101100011001000110100001110100011010010111000101101110011101010110101001111010011101110110111101110011011100000111010101101001011100110110101001110010011011100111100001110111011010010111100001111001011100010110111001101011011100000110011001100001011001000111010101101101011100110111100101111010011100010110101001101011011110000110010101111000011010100111010101100100011100110111010001101011011101110111101001101111011110100110011101110011011101110111100101110111011010110110111100100000011101010110000101101010011110010110011101110100011100100111010001100110011101010110110001101110011001100110101101110111', '01110000011010100111001101100110011010100110111101101000011000100111000001110001011001100110100101110100001000000110110001100010011001010110010001110110011100110110010101110001011010110110010101100111011011000111000101100010011011100111011001100010011011100111010001100011011011000111100001111010011001100110110101111001011001110111100000100000011100100110101101100001011001100110111001111000011110100111011101110111011001100111010001101110011010110111100001100111011101100111100001110011011000010110111001101110011101000110001101110000011100000110110001100011011001000110000101110111011101000110100101101001011011100110001001110100011011000110100101110000011000110110101101111010011011110110101101101100011010110110110001101000011011110111000001101110011001110111000101101000011101000111101001110101011001110110101101100100011011110111101001110011011010110110010001111001011110000110001001110110011110000110011001111001011100000110100001101010011100000110010001111000011100000111001101111000011110100110000101111001', '00100000011100010111010101101000011001110111010101101010011000100110011101110010011001100110110001110100011100100110011101100110011011000110100101101111011101110110000101111000011011010111001101111010011101100111011101101000011011000110010101101000011100010110010101101010011110000110111101100111011100010111100001101011011100110110111001101010011110010110001101100111011110100110111001110111011101110110100101100111011011100111001101101100011010010110011001101010011000100111100101111000011001000111001101110101011100010110110101101010011000110111011001101100011101100110100001101010011100110110100101100011011101110110100001110001011011100111000001110101011110000110111101100110011011100111101001100100011100010110101101101101001000000110011101110000001000000110111001100001011100100110110101101000011101100110111101111001011010100111010001111000011010010010000001110111011000100110011001110010011001000110110001101000011000010111011001111001011100100110100101100110011010010110101101100010011101110110100001110100', '01110000011101110111000101110100011001000111000101100001011100110111010101111010011011100110000101110001011110010110101001101111011001010110011101100011011011010110100001111001011010010110000101100011011000110110111001101011011101000111100101110101011110100110010001101001011101110010000001100111011001010110010001100110011011000110000101100100011101010111100001110001011100000111011101101111011101010111010101110100011010100110111101110110011011110110001101100001011101100111000101101010011011100110101001110111011110100111000001100100011101100111010101101011001000000111100001100100011011010110111001100101011011100110011101100110011100000110101001100010011110010111100101100101011000110110011101100101011101000110010001110010011000110111100001110000011011110111101001100010011010100110010101101101011110100111000001110001011010010111000001101111011000010110001101110011011101100110100101101101011010010110000101100010011100010111001101110001011011010111000101111010011000100110100001110000011000010110011101110101', '01110001011110010111011001101110011101010111100101110010011010100110101001110010011101100110100001100011011100010111011001101011011110010110010001100101011011010111000001111001011001010110100101100001011100000110000101101001011100010110110001100011011101000111001101101111001000000110110101100100011010110110111001111000011001100111000101110110011101110111001101111000011000110110111101110110011110000111100101111000011010110111011001110101011011110110010001101101011101110110000101101010011001100110000101101011011100100111100101101100011001010110011101100110011100110110110001100011011101110111010001111000011010000110111101101001011000110110101101111001011101100111100101110010011100100110010101100010011000010110010101110101011100100111011001100010011110100110100001110011011001110110101001101110011011000110110101111000011010100111011001100110011001110110010001111010011110100110100101100101011011000111011101101011011011110111011101100010011000110111001101100101011101000111010101100110011001010110010001100101', '01110110011011000110001101101101011100000111101000100000011110000110111101100100011011010110110001101111011101010111011101111010011000110110101001100110011101110110110101110010011110000111011101111001011001010110001101100111011110010010000001110001011001110010000001111000011101100110110001110000011100100111000001100011011010100110011101101101011101100110101001100011011010010110000101101111011011010110001101101110011110010110011001110100011001010111101001100110011101100110101101110101011011010110111101101100011100010110010101100001011100110110001001100110011110000110011001110001011001010111011001111000011011100110111101101010011101000110011101100010011100010110001101111001011101000111011101101010011001110110010001100111011101010110111001100100011000010110001001101111011011110111010001101000011000100111010001101010011100000111100000100000011000110110111101110010011110100110001001110101011001000110101101110011011010000110011001100011011100110111001001111001011100000111001101101110011000100110010001110001', '01110000011011100110001101110010011101110111101001101000011001000111010001110101011011000110011001101000011101110110001101110101011100110110010101100010011011010110010101110100011000100111100001110101011110100110110101101100011101010111011001110000011010000111000001110101011000100111001101100011011101010110111101110010011100110110100101100100011001100111011101101101011100100110001101100110011011010110101101110010011110010111101001110110011100100110001101100111011011110110110001110011011011100110100000100000011010100110000101110100011110010110100001110010011110010110011001101010011011000110010101101010011100100110010001110001011010100110010001100011011000010111100001100110011001000110010001101001011011110111001001110100011011010110101101101000011010100110100001100101011011110111100101110011011001010111001101101010011101010110001001110011011100110110110101101011011010100110101101100110011110100111100001111010011010100110110101110011011000110111001001101001011000110111101001111001011011000111001001110111', '01100101011011010110011101101000011001000111010101110010011101100110001101100110011000100110010101100110011100100111010101101101011101000110110001100101011010000110101101100001011010000110100101101000011110100110101101101000011101010110001001101101011010010110011101101001011010100110110001101101011101100111101001110111011001000111100101100010011010110111100101111010011011000110101001110001011100010111010001100111011000100010000001110111011100100110110101101100011000110110100001111000011001110110011101110111011011110110001101110110011000100111011101101110011000100111011001110101011110100110100001101110011010000111101001101000011011010111011101100111011011100110111101100001011101000111000001101001011101100111001001100010011001010010000001111000011000010110001101100101011100010111011101100110011110100111101001110011011000110110001000100000011000010111001101111000011100000111011101110101011010010111101001101100011110010110010001101000011110100110000101101001011011000111001001100010011101010110100001101001', '0110001001110100011101100111010001101111011100110111000101110110011101000111100001101100001000000111100101101011001000000111010101100101011010110110001101110010011000010111011101111000011110010111010001101100011101110111010101100011011001110110101101100101011100000111100101101101011001000110001001111010011100100111010001110010001000000110111101101110']\n"
     ]
    }
   ],
   "source": [
    "# now we RSA encrypt each of these parts and send off as the key\n",
    "\n",
    "def char_to_byte(char): # use the binary code function form letures \n",
    "    \"\"\"\n",
    "    Returns the 8 bit binary representation (padded with \n",
    "    leading zeros when necessary) of ord(char), i.e. of \n",
    "    the order of the input character char. \n",
    "    \"\"\"\n",
    "    byte_string = bin(ord(char))[2:]            # The order of char as a binary string \n",
    "    num_zeros = 8 - len(byte_string)            # The number of zeros needed to pad out byte_string\n",
    "    byte_string = '0' * num_zeros + byte_string # Now pad out byte_string with num_zeros many zeros\n",
    "                                                # to obtain the 8-bit binary representation\n",
    "    return byte_string\n",
    "\n",
    "def binary_key(string_input, prime_bit_length):\n",
    "    binary_text = []\n",
    "    for value in string_input:\n",
    "        binary_value = [char_to_byte(char) for char in value]\n",
    "        joined = \"\".join(binary_value)\n",
    "        binary_text.append(joined)\n",
    "    return binary_text\n",
    "\n",
    "\n",
    "# now we are ready for RSA encryption using\n",
    "input1 = binary_key(broken_string, 1024)\n",
    "\n",
    "print(input1)"
   ]
  },
  {
   "cell_type": "code",
   "execution_count": 30,
   "id": "d531dbf1",
   "metadata": {},
   "outputs": [
    {
     "name": "stdout",
     "output_type": "stream",
     "text": [
      "[7582713834040166933917391504357456427542688887665079151745282906731267850449558315509719625321078695950995060580090135935631836577177194463765433246233753774472022593601336222515783062071670309805683296239294135027058642534436563527483691859412010170897495640664041181480182311295764019281447115138546933428860007445234426125324123019103089152473445397471135888301716495619925346892835084984891073198919235467654258755852994483685200530690103959430171609705266900205035550040645798933826196720696510300348769372418438415025147459646390410481035691727598973311934753022422440373676165152185303461570910776422260722472, 5199263323732687956106259947181494662533266407274655996991109614608663577633330359220861339992213340144618558650043113996174613871790751076304942975389055409904978869947550614560933875780798873533926552060461546303610535021681672002050173900792185179225980883086586625085163947268475446562411920329963951532300119897289296330316060051186073968300508741728592109288933431915598184217894632964567730949307850975060073931489196410989903783459306770599762944151593081069724811595033745946843048213448770243097215664381814262287181856634345578230185769395387651830360559517725780321622291584517050908083605430444094607599, 1258390478908356768394138742108157171058052338512553422838149319123478150077918273264441435236219758484405308932620833232993040569736564519471458369975098002710773342857855029630160528244138875599568555075564270659702599035814348017306939141207787876564939935937781749219744116520071148244417987766691960580028378814886288386728872253045093690883261019344676608836396598544438102083104450332253599673177596647961403314815759626698269463189359411506680742227368959021382567068995900657859890282819063416113141975727466597434277798527178565534090956734364126401592005563717516496823279816141872858147298842514452048794, 8871570629079729695151367485513980714066649226379239019875720837278725274602872993568745256338591938033326844027597695540054712021637902954785079411991619796517741042430699262603156528165114476669297554408705108471809551112419633607279656796228332128907892375838734593686354096426802679279023266296793191399246399609821619572915839574009453668824594443465612565010542305863072877407014067313517738054715205850945540142597766860409248600345306407550891978379406505575451811060948539356198328696495877653007043718635436641779802404679803846986447104611749360048078114472469943791550530912177780819904360877146561494472, 566079349668909259462106689029757116061293181117876133674113156967626262646982902345330621259847485685413008800061214558680367454121102392718815557338447199540109306323436752176146513636357177992633992618936402665129840728048631122579872521398117615812478137227461314555849900397582208227721825171188863161733003629277062070917204657698614432725836383235579320169684961422794631365075150382364968043214372268799203395965451381995038414280462709487884553882550594165399271809293097326582105332624460665483468715500078465243353918158307298346799069469498137802966624028820663114366595541831208500245854244894329448318, 7020490285460550542437843334510341642844349733598692161044984942972902881555109395586354697690165263313036543853372726828163092139932239742091591291289906622016483442787752040724731276291359196808613748625581395617203704123831953034483911298775483279207439330279205231237417290244041656700781241408780158344841535081564431811674871979816886232043598748500857442908666417732655537923145858586741771693684140749578083732250256477610276356900513445491227003715513737821961525964362550430021220792019532479501510339576744730423408799309730146719029036838756386256358253415340572901427314982315860260820065905475650797773, 4735573568798982520598766422592425380536510072480440551688044608092538051342707709715628568911517523361399752316474962881063220173905362639196981333831395439688109033105247582748587364039844070043004206695257807495375120896366864596967186381318243216955489949230265692042964365759847082554886073603155754780473291885195180451032746098564435133407185095726434730647318884228162967511723561491582701898677195237666347061690587307469325156372960399388171752682678289546496521186961910753774641069034889836250015833218879141323077441784171736255019824699497764838524092186649221311339438204777450223565463216629538986308, 2298302074011154891919933350596791009362666701727404105010666771752842206016282703256295919079334695243485097886599119162675245389284616289145382283499326078809177713666789071488313789461184451383287786970037406723957997313051928175774909453685114154302050934414053732437579556605218488095560175727736377232528152852361540429183751916009322267205253324295373138983670268669462872655696774970804834071624145939182275191236833759058523995407610198555120041473515613372005383676638910006728157449965808969724830557727362489264815557077007863926900309835552312871794437127450123889686156407485278799667171309339864823247, 11104099450412091902636792026708133183171094626177892614071793658512926015126846306199740604327452441908173083585998809273633503178044939711958117009578156070716947556156231745407993834243909135179778990246448563880561121828193086839422726502357798928519001369885863577085178078736459738468198531572395212249344263443004084458697635226119154598842399591101320944964930635851505272571209945559061337632604040572289824447988677661925656155025515584519108317058052303031965629289725349506040518001692851186953008138075847068375323819956746355584970656815031217512430473889896812619510351774475051109330412978648879554423, 11205124021389007435399370609748357186160161843464155206839844290783231181923468040615222470305148268401399773708962497833942595557847447983236949300205414641186197414853428474940028338125403566212408467023487155506006562274636447482401716781602528082411657408202065268293897042473807840296441353003031873787528612981073660940275645452865430493557780355102333707359918621942774217914064537649452305982467451417121069237221648065494214060195060877404216238799452630414616112430941245461381876605913764697014334859633860038837463647357453004499462892905818832920680863048931790609013927484907493237439026959743739248264, 5628206040690637287639067001771839350257579083083114674533613839261475307085936671968854894592404476233092734359893478617365865828614766112389985824109530093842127911011339549391725297388884876001979909175715193950295991999064289912055488370347442971411130322102581037734416279156068469958872425940995766990404008555460268926805046895734993978375058748425156549188591823186299590647959312558153262075848733677299767971749375974016158773501195327876911401510983459074021936830239913719176394792516518932654863241904996153428327308069614885543825523333422857084389613902083093990552419784573273296173261560103178984384, 6067321933146600570374657608689396946936120873747932179179905577403066205080161072916652062078306023599355136959869322156383265790460571515232968445443082419893747024498502344095153861912383240189673744424057571017488824821700536534212548152701708638666700988793644017282684283412841725064579459622355190328147956492775788433197310283135827545809921209190220744529018665810054308113028321850837152024857796869423583012205615074567670334270086526399722254294042145183176939793288763287170601367362091951588942088337292805510664921466686948532581254169651046793429529764523294120041221744509324680915402580847838917094, 9949118116058605598228372354512374486035864190658617943929660983109376754509374599460447524172234135355647905625609324079607091759033606298038440829973938287946190409246672893153425417375193101217025014180343650705770137843514819293689281844166626843166197973435895153896247929925527905455258315840100974784327149283462174752500874326729718449277168867888585146135254314505610563926254037967022739123871017958548351745420018529926330641522381218264459248799112789148145958839778138401615669705747002905686520293191365481338022877637513279985478133850546719846888133591945108132600135600692983093374148338971038959885]\n"
     ]
    }
   ],
   "source": [
    "# retreive the RSA key from our function\n",
    "(N, e) = RSA_key_generator(bitlength=1024)[0]\n",
    "\n",
    "\n",
    "# here is our RSA encrypt function:\n",
    "def RSA_encryption(N, e, input1):\n",
    "    encrypted_key_list = []\n",
    "    if type(input1) == list:\n",
    "        input_list = input1\n",
    "    else:\n",
    "        input_list = list(input1)\n",
    "    for item in input_list:\n",
    "        int_item = int(item)\n",
    "        i = pow(int_item, e, N)\n",
    "        encrypted_key_list.append(i)\n",
    "    return encrypted_key_list\n",
    "\n",
    "# RSA encrypt our input:\n",
    "\n",
    "Bob_public_key = RSA_encryption(N,e,input1)\n",
    "print(Bob_public_key)"
   ]
  },
  {
   "cell_type": "markdown",
   "id": "a5aa0861",
   "metadata": {},
   "source": [
    "### We send Alice our public key!\n",
    "\n",
    "## Message encryption\n",
    "\n",
    "#### Then we encrypt our message. Firstly, we assign each letter n our chosen message to a 2-gram in its dictionary.\n",
    "\n",
    "#### For example, to encrypt the letter 'y', we randomly select one of the 13 bigrams associated with 'y'. We do this with everything in our message, and then Vigenère encrypt the result to get our encrypted message."
   ]
  },
  {
   "cell_type": "code",
   "execution_count": 31,
   "id": "36e6c098",
   "metadata": {},
   "outputs": [],
   "source": [
    "import random\n",
    "import string\n",
    "\n",
    "ALPH_1 = string.ascii_lowercase\n",
    "\n",
    "\n",
    "## our input it treasure island. users cna change this if they want\n",
    "message_file = open(\"message_treasure_island.txt\", \"r\")\n",
    "message = message_file.read()\n",
    "\n",
    "def bigram_message(message):\n",
    "    bigrams = []\n",
    "    for letter in message:\n",
    "        if letter in ALPH_1:\n",
    "            x = encode_dict[letter][random.randint(0, len(encode_dict[letter])-1)]\n",
    "            bigrams.append(x)\n",
    "    message = \"\".join(bigrams)\n",
    "    return message\n",
    "\n",
    "variable = str(bigram_message(message))\n",
    "# add this output to a text file which we can input into the vigenere cipher\n",
    "with open(\"input_text.txt\", \"w\") as input_text:  # 'w' mode opens the file for writing\n",
    "    input_text.write(variable)\n",
    "\n",
    "# now we need to vigenere encrypt this"
   ]
  },
  {
   "cell_type": "code",
   "execution_count": 32,
   "id": "e7c04ed1",
   "metadata": {},
   "outputs": [
    {
     "name": "stdout",
     "output_type": "stream",
     "text": [
      "Input the name of the text file you would like to encrypt / decrypt, including the .txt: input_text.txt\n",
      "Encrypted text written to encrypted_text.txt, and vigenere key written to _vigenere_key.txt\n"
     ]
    }
   ],
   "source": [
    "vigenere_encrypt() # when the pop-up appears, input input_text.txt.\n",
    "\n",
    "# after running this, our encrypted message is stored to encrypted_text.txt"
   ]
  },
  {
   "cell_type": "markdown",
   "id": "dc204c4d",
   "metadata": {},
   "source": [
    "## Now Bob's job is complete!\n",
    "\n",
    "#### He has sent Alice public_key (RSA encrypted binary of the Vigenère key and the bigrams for each letter), and the encrypted message (stored in encrypted_text.txt).\n",
    "\n",
    "#### Now Alice has to use the public key to decrypt the message.\n",
    "#### First, we decrypt the public key, then use it to decrypt the bigram message."
   ]
  },
  {
   "cell_type": "code",
   "execution_count": 33,
   "id": "c4e2ee37",
   "metadata": {},
   "outputs": [
    {
     "name": "stdout",
     "output_type": "stream",
     "text": [
      "[16312620728403106505781217995559607471445469980909299378656916632951099998481567366143249335309254861213149113054538744203689443944492097607775093006900431737559942727919222950630891899285760450685864692601928528586519055558335576820370229736384288849777770339343828751257958166016688148013198557765645100402578302093623025759510274859904997828145864516837814743886359207182073747611957836301525511818971175368697744864978632864150694312945841714577026105681633063652454755899919345644465685039178019384842444577614292066168476638244553374273563371254224830435645934153311704249106011572145192081743970029741707951203, 20998714120496808961589314563324162874686032703627684911431717399194790959518830333475880675638123307398271012216740470217329848568264284577067656990768070294668114379368938628988309392353091656841424558740506105660629447930311413077928255538486996946597224998495354585711231273040928540822190817870780029998302526765349764165557812363060447337634425917272512734426001627345401493570372329745733864487779749941647950042618257076296703127569883706434312866647675460244970199550096743178015741297374109407888426400271616967803142131450865701654725818923706360093422488424979101891856744015517311359550384200067808236831, 72529487550481501205527357439737973942185423262854555758387203614796532669424361323123535686996063390294829474350808204631560932123441850789517944559113154454618806613635901108534883054300219348517758209865748235330157024953616641833215181035246742877668132070184004377112133026757921610533483791017182141066070303445072957649395859335587746269344381264751128332672571421214890769082182996022058409454444222246541806133389222652832652024240752998241742858577122507382844245952300869096988711345087060192120589808900344197595584079310915320267281616084372455362573037642055208050249593592725927846329582635025550370, 10025731396250058547157283803537273318796795846956117053769324542474620967020375352311173948523748386995842432151068249241796912974442818986247036122078668543630070064675741804205577163705287582304416434260428145519521046046606293315238175062301427095218992318659759093812461625093499132761612663967929999343972418844664329132239845522266397979104512925996776154369437015635327681126960236195670982741349444936785164736798605462862770571687952170867481380796640849947172609328422364011032332026042832090935949843174456664642096552332681263036465030783618667582622594252220764380865356988789612274829212962524097059944, 1068093781742293821528374304060388921492619377301439710209944281712590249650936350502138388683464422129041861886738886438919087262871088698391796555634219952433864897163217058121523859212990802991310510981313637465170476294002494232259664394768033853495433389707705210059567252307142077328512550571780809024223147290568001772171787249472357801352670115126157351642993275026733795795320497103021052323534884269752995718879785998933724583929421324965760894364220340579494076684818711977252907021131263198560679977309750215364727456338557710161785351239327210514946078609842026436263151851209715726569647324936038791937, 16927925913579006833043777933298213715106283005842516818101092360374175791627547865230737958552732106982892694888225425217782191120104563312326306905825374055676435024727451298417501419282596019457221534189149880931730164724331572411937695670469398618635083145280948375286081722409295655032384727369107695191473890734533681251712523479440281257708389112575655246467294467990960032492349150625558332097227890494003883093064824850915093233419218301401005024460023454716673663386962587281317727994813666719441994449528858832299063581472334919119533896192740227968106101042732342815654376920588615600349543979670782422125, 13144632032585484623767620592578593747429119281595212172651415888884436961271091829928765274770298614031336659937311921586976859976131165591196974240376800724329945503560794643833542305416108693257402112007279645209831683241270724754220721593703455070741647494704212930605108200036876073997936752757617030720962456284816603196936135131409265575985239531773454273920186443349949913467691241655162865044743586208714226372061727027079127823442012663391933596659443767533819169152283936361647970625091850411026694403792857245516304744457266214297550940588611494469389771142314148807190996790093980752656819941668255581492, 3724589035654006675567613431832571277523150090126668255973790337372373388980114888978264443027412595416696287076612986398122192892826683769469312578739522838286054725952252151086557709620230866506556873859257387422465418719331443951287696869384720136396971093984366629175024756231380666722455557846557192984455931291760707030843721269506564177948514420335219600189915189955429447846748571787311898494198506875481477921065894095007341405646067766561794769748281433901524974466951499761292883369720141690309725106914567465883764666325459847010790356725764234054605608362760344862920948204450311884004202600289157001359, 18166469456048042636331030798468604210909898703708352678321740702858463350632429099561482994908546458782792809588032160679689829595914360914861200127207924239085762542172268509424222496914724234776353002258185669306791139155529313389359915050095509364025820695611699693736528614227057662901523752789433183333707795850779909462770398820126050111715043671535937854850881316674022029732271762307213779279828823049984469508564259048004825265215977459077711949405551662473172682931032093088616055727271278708124965581340071026606152285037884518348674632203543595962807169173067294437323458294303061434948765339207009834748, 18423035347746069946161975191384218383489144605044280642481260635520525489303019593220708987925106031775759776216196908859260960204153599285311612752805005926842087447787037543978704088428003059608027557584631726918149087634226009934651082344418706880409240511357420530662826072974363347218733646813192390036560508322502267659342424140846773355417773730632441482401653383403757666209320875447640439908686440589684343225952582616843297318846328109898569751391838845092274563023521807024180236276431401079786558231202836939668084455730597758063771795910557099894095249885313407796951583800935830582149613713831443250977, 2112492490386380973391285799346761182646838468613929742159590479873388292483092094848033493600637026574933091115242027537693145357589276697163705053430411134504758604750418979419965664292097899442716740179796937085416360878494352420523889687281374175259169168021322991144262156387696589543649328980403468132239785443261319384009550578209694128751969400477694397636689061025743411783251911235649457507627673366529544021405153879083167605537300180779075361017429924584176983771525707942291067617281717682238372512610074241850455864203930025876133036871460967683936395839486662900346707750282709471115247471991264715911, 20476532197597433027128385489717717569728027309927378773912331106328114024684953916131061886845956567721575818249217832818318178131739406751083373079624257125540150941688667889794449866608952496233112141128020938386204425547403970180142136317831521178429576316647361418531913626782484604239840873549322174511508134808649839592939312498331612310719525379526391270135206960785765825752719182776153940433661888501687280312271356891283290094147659330418099512820038146686193593607166245683280760288741862876915704527897915189790805260133670038553503454614896409161230743718098090980176097384176366901216868992025658799158, 7183036391851727462336058045210585588389943555719052780648127218768810913028085390616661647902786625449903701665223874967955791070730316469233510819832360600605115601102215485757339654224443560158630621545198275228710771645045739057895144691652171927093395938954778802297843938460538457448368480150084397643794825519162034059288356899636134440955202651271771196163823754229366425738892104235124069276530402893481952802668840851825658641459438083688270040942683451533709328690152913764538238474956477532006685951391103433083567138113547204340665847552536673284664025497558070626215172938985057681022863897918090439617]\n"
     ]
    }
   ],
   "source": [
    "##### WE NEED TO RSA DECRYPT Bob_public_key, THIS SHOULD GIVE BINARY\n",
    "\n",
    "\n",
    "\n",
    "\n",
    "# refine the key generator to give us the inputs we want:\n",
    "def RSA_key_generation(bitlength=1024):\n",
    "    p = cryptography_functions.random_prime(bitlength)\n",
    "    q = cryptography_functions.random_prime(bitlength)\n",
    "    N = p*q\n",
    "    phi = (p-1)*(q-1)\n",
    "    e = random.randint(1,min(p,q))   \n",
    "    while cryptography_functions.gcd(e,phi) > 1:\n",
    "        e = random.randint(1,min(p,q))\n",
    "    d = pow(e,-1,phi)\n",
    "    return (N, d)\n",
    "\n",
    "# Now we have N and d to input into the function\n",
    "(N, d) = RSA_key_generation(bitlength=1024)\n",
    "\n",
    "# our RSA decrypt function:\n",
    "def RSA_decryption(encrypted_input, N, d):\n",
    "    complete_key_list = []\n",
    "    if type(encrypted_input) == list:\n",
    "        decryption_list = encrypted_input\n",
    "    else:\n",
    "        decryption_list = list(encrypted_input)\n",
    "    for item in decryption_list:\n",
    "        int_item = int(item)\n",
    "        j = pow(int_item, d, N)\n",
    "        complete_key_list.append(j)\n",
    "    return complete_key_list\n",
    "\n",
    "### decrypt the public key:\n",
    "decrypted = RSA_decryption(Bob_public_key, N, d)\n",
    "print(decrypted)"
   ]
  },
  {
   "cell_type": "code",
   "execution_count": 35,
   "id": "a11d624c",
   "metadata": {},
   "outputs": [
    {
     "name": "stdout",
     "output_type": "stream",
     "text": [
      "['\\x02q\\x12åoó£ý\\x82¨ÔbÛ;\\x1fx»\\tÀã6\\x06l&\\x9då8\\x90iðå\\x8e×\\x9a\\x85\\xa0\\x99\\x0b.Ïx@T\\x7fJæÇ.³óWu¢\\x92Ç¾\\re¦O&\\x1dr_iÀ\\x05Ø§¹\\x8c\\x0c\\x19àîù-\\të¤³\\x80\\x1d\"2Dµe\\x14|ò\\x87|\\'hk82@\\x91s\\x1dl~TÞþ(¸\\x1eÅû\\x86\\x0ciRp \\x93\\x1b\\xa0hÁå[p\\x19ÓLfàõÛVRæ\\x19NFù\\x94Ð\\x88>Ô\\x9b\\x08ª\\x9e±\\x94ñ¡]\\x8aøf\\xad¬Y\\x9fíb\\x80\\x87Uò@géF\\x17\\x88^øÕÓkÔÊ\\x1d\\x84M\\x86\\x87P¨ã*Y¯\"¹ËvÎm~\\x17×Pk&w\\x0c\\x87²\\x89´Ïä\\x11ôTµ\\x9f\\x9b¶\\x1cnÅÁé:\\x16²\\x89ÇF&\\x13g.Æ\\x18¤\\x98\\x1a@X\\x15ïH\\x9b\\x15\\x0c¦ÿ\\x9fÕa9\\x17Ùøc', 'L¯\\x07î1ä^dÒJvÙåEG^U\\x02¬Ìn9\\x8bè{s¾\\x9anRaÓ¼×\\x99ìe\\x84^<·jÍx¸Öª\\x04¬\"ÖZe¡R\\\\Dè¥5nþÖµÐúÓ+x|\\x9b¸\\x83\\x0e9\\x96¸Ð\\x1dx;6\\x88\\x8f\\x03=D\\x1b\\x19\\x07Ë\\x81\\x06.òÕ|\\x99\\x12n\\x8cï\\x8dñ\\tf;ÆZ\\x08Ý¥q®Ï%Ug«\\x08r\\x89\\x86ú\\x02û²*EÞ=£ÞÉ\\x9008Ñ\\\\F\\x11ÃT\\x1fgñØ$ûx_Ü\\x06bÏQRtrå\\x8f\\x14éfp\\x12\\x9f\\x84¹c¥p£\\x96\\x07Qí\\x8fÂcÄ+n½ØïÂ?\\x8e\\n\\x19ÀøEj\\x1b\\x9aýÀS37\\x01:¡`3\\x894\\x1efgÒÅ4ÝÄ\\x8bÝA\\x97\\\\\\tu|ü)\\xad\\x88ÑÃè½^n%u¢kàTuòt$ âÝBÂÁµ\\x8d8*\\x1f', '&*¨¸\\x10ÆÀ±Ò\\x9aÅ2\\x9c§\\x8e\"o\\x8aÂÚ0k.\"@ö77$2bb/ÊA=\\x03\\x80ª\\x05¬S©B\\x82\\x90£Ã\\x0cj¤\\x12ª^\\x11ç¡#Rciy\\x07p^`Ä\\x1b\\x00^\\x1d¨\\x1fQ\\'hâ#aO\\x14\\x1c!~Ö\\x06rÔ{`OÛN<\\x14\\x1dÜ\\x99Î\\x10ßgÛú®\\x1a~\\x06\\x12ñ\\x0b\\x7f©Ë5¿\\x15M \\x19ófÂ²97ò©4¤{\\x81o=\\x14Gegì^_>\\x05\\x04\\x8f@\\x0et\\x15ø\\x9eÎ»&VÒÊBÂ\\x19â\\x80\\x9c\\x95·Ô\\x98Ð\\x910¶ à¼ü\\x14¬\\x13\\x9e\\x1c\\x0eh\\x81C{¼6õ\\x05õ\\x93gÒ¬ÇùÙf(&\\x9d¸;¼Ôîè\\x1eU\\x00\\x88vkV½¿O@ÒÐ/\\x98 R\\x04íá/o\\x97Y,ÃÍfC§\\x98Ý$*Ðî½M7¬\\x16P,N\\'[\\x98\"', \"=\\xad&\\x1f\\x18_\\x9b4Ô\\x84Ôó±MZ\\x97å\\x02\\xad»I9¨íÿäµÜYÍØã\\x90\\x9bR¢\\x12~\\x933LT©Ì\\x05H\\x03ÿ:þárñ\\x1eaÜêBÖY^\\x94LT³\\x1c\\x141Ö]\\x86\\n_'i\\x863\\x18`\\x00'L\\x1b3×\\x98Pby&ÍpkÆ$%*ïäIr\\x80\\x8cH\\x8cÍ2\\x1bd\\x9b\\x1d4\\x13½.\\x18(fîî\\x8f\\x94bd\\xa0\\x7fýT-jW¬\\xa0êg=òÞ\\x04D?{\\x05ÌÆ|\\x9cÑ\\x8ce°!lò\\x1a°\\x1aÆ\\x92´5H\\\\\\x89]R\\x0eÝ£{»g/ZWäôR\\nÛ'3ÉqóÃ¸\\x9dÌX\\x92Ö?åÉ\\x90\\x15Ã\\x98±£uk\\x9e\\rÃ&ïßá;·z\\r\\x8f\\x0f\\x7fÖ\\x7fê¦èå\\x86®¾¹ñõÍ\\x96c¿!Ê$Î\\x91\\x0fÊ\\x1a\\x98Ã`¾\\x87Å\\x9aù£Ú§Ejq(\", \"\\x0e¿õ\\x96Ós3ï\\x0eÖ@\\x89ÍAÝÇ¢\\x86M½%A(ñ¶<÷){§\\x142°_]\\x90éÓõ\\x9b¾ë<¬ßÒÆ[\\x9el\\x1buÀúz*2j2ì\\xad\\x9e´Kç»#¼'\\x1fg\\x86\\x0cÏ\\x85G\\x81à'º¨Wf\\x11\\x97¶ýõt{\\x91HQ;½Eï\\x94@{\\x9fu\\xa0ÆX7z\\x95àòÜ\\x13ç8t\\x19dÑg\\x9f\\x86wb\\x1b\\x97±Ü\\\\¬fl½27\\x87ÜEè\\x8eÚ\\x18t¡mæ^\\x10)>q±>gc\\x83\\x15tÂ\\x82?d«¦\\x98Çøú¦K\\x8c\\x85\\x89^`\\x18á`©Å\\x14wläl£psAVî®Ü\\x17 \\x05±4Ë\\x14X\\x16\\x19\\x95\\x9eê\\x00p\\xad\\x81DÌ£\\x9aÌ}À?ý\\x83C®UQºõÎÎ¹J>\\x19\\xadÎy®d\\x84üE:±£Â\\rÆ\\x9a¨'Aí\\x90\\x17\\x9b\\x87`\\x01\", '\\x0c0¤CË`uYZ\\x01Ñ\\xadê;\\x03»7\\x13\\x12©%\\x1fþH°\\x81ª×\\x8b>\\x07pÀ\\x05ä³\\x0fÍmÑ\\x13ÑLeñU\\x93\\x0fò\\x95\\x87º\\tÀ\\x11þÛ9¬6º\\x13û>¸rE=«¢$\\x93au@\\x84·2Kyk&ö¨\\x98c¹\\x10\\xa0°\\'já}â¯Q½\\x80A\\x83a½h¥\\x9f\\x19l0<¥p\\x9e\\x1b\\x93îýÞUÿHÌÐZ÷²íØ6\"\\x8e\\x10\\x1f7$÷èºóì\\x08°\\x91\\x9d\\x1f×\\x9bô\\x14<CÚ¡\\x0fwù*2\\x19ê\\x1e.8Ae7\\xa0\\x0b§Ø«\\x7f\\x94G\\x1a0p\\x7f¼,6üGKn¼Ëv;¼¸N%n\\x84=\\x8c\\x14\\x02¦\\x88½×\\x12&Ó\\x1fÙÝnVÒ{\\x8dï9\\x01ªÏ\\x92\\x10¤\\x16é\\x82»Öj)Ê=d\\x13\\x0bE\\x8c¼}@\\x10\\x0bc\\x86\\t\\x03q+\\x04\\x06.¹í\\x06²Xm', '\\xa0\\x80\\x8eMÌ!FÃü0hd\\x04¾Ú×¥÷0yÑ\\x0b¾\\x96=\\x10\\x01ÎVFé7\\x05á\\x9co7\\\\Ì\\x85a\\x13yâs/¹÷üéó\\x8e\\x01â\\x13wð\\x087çý\\x83i#ðâ_\\x94\\x1báF±©z×](\\x10}\\x15é\\x01rûXù\\tÉÇR\\x89¼<2s@\\x9c\\x99pÜ^\\x1f\\x0c\\x08\\x1a\\x9d\\x0cLE\\x1b\\x0cÓ²\\x85©ñXX\\x1b\\x9c»¾cüK<V\\x02Z]a×\\x0b\\x9e[ùµ\\x06\\x11Éô\\x82Ã;\\x1eyÿ\\x02õY\\x04vc*~\\nÑ1è¶è\\x8b1SEeô-\\x93\\x00\\n¡gÀfÃ1ê\\x86ò\\x8aÝ\\x9eÜ/\\x11\\x8bã×5Æá¡\\x0c}Ò\\x83\\x10ß\\x7f#õW\\x85µ×\\x83sø\\x1aiÞmÄ£$\\x05b\\xad¸>´TÁH\\x85ßS¢\\x04\\x83IY\\x9aU}£L\\x16uÑzRø5Ól\\x01\\x14Ã¤\\xad\\x8c©\\x144', 'Ø\\x12#\\x8f\\'$\\x8bö®s\\x7f\\x1a\\x01½\\x9f=\\x92y(m\\x1f3\\x0e\\x94i.üuI\\x12\\x12G\\x18]úïeB+Ëié\\x90Ä+\\x87\\x89Ì\\x96\\x89\\x10½\"V>Í\\x05¨E\\x11:)?.\\x7f_\\x17\\x0f¼\\x85\\x1d\\x00»ùyZæ¦pZþéÊóÉécÀµ¾\\x9b¼?\\r{\\x81\\x83{$#Ì<\\x93ï_t~O\\x9c¼º,¹wö\\x9cûÄ6ê\\x1e\\x10h\\x89\\x1b°RN\\x99Z:èdÑ|\\x83¤UúE<\\x0bä\\x8cj\\x1c\\x90íIx\\x7f\\x16Ñk\\x03èÐö±\\xa0ZM©ÓÕ\\x07$¿²þ\\x8d\\x88ùÁé2e\\x12\\x13Êw±xn\\x00=÷nc\\x04\\\\e@ró\\x9dâ%à\\x01u\\x05³\\x9dô\\\\ÝÀËÍÅ:\"ü$ÿîèÍÇ\\x8e\\x03\\x87~²\\x18¥\\x1e\\x85\"õ½]ÂÙ¹\\x9f¡¦73\\x10ÜÅC½Õ\\x89Ö\\xa0Þ\\x87ú\\x83\\x08\\x0f', '\\x1fÏóïêr÷\\x00=Kñg5©8Û¨õ\\x11Æ±8\\tÃ+ZÅ\\x08pª<:\\x080\\x9aØd\\xad\\xa0i²^Ëøq\\x90s\\x97W \\xa0¯ðfÿ\\x1dt\\x0cÁò\\x97°hÊ%\\xa0»\\x11¥Þ\\x7fA\\x0bVF3\\x92~×èÇù¾Zä\\x86×*!ÅT·\\x06wþà0Y\\x1a\\x92y¸n4NóKi3Ø\\x80\\x82\\x00~OÈ\\x1bBF\\x86\\x0e\\x15+¿\\x152\\x16\\x17\\x92ºxô¼£²-³\\xa0õéè·\\\\\\x92\\x9cÛF\\x8f\\x80ò©Ê\\x11\\x89)qca\\x06¬\\x8a\\x16!@ó\\xadØ ó8ì\\x7f\\x84¤\\x10\\x82)\\x9b(}\\x85M\\\\\\rI\\x06DD\\x81\\x91ßm\\x87ÞRÑM6è\\x9a\\x11\\x06ÛÔÎ\\x88\\x86îV Ðj\\r*ÓP2ÍÂæÍLç>¨Ù/\\x98\\x01>\\x9b¬¥Ì\\x14B<§\\x91ýÕ\\x84(M³·¤\\x1c\\x84ï÷ýÚ -|', '#à\\x89Ìk¶÷ÌÙÜãOØ-?«\\x91\\x9b|\\x13\\x11VÍï^®\\x1aóU\\n\\x1f<!>íR\\x1b\\x837ãQ÷Ît\\x84þõ~4ìc\\t¤Zô^Ò+£;Â¹Å\\x93\\x04¯ó\\x1e\\x02AX\\x98e¯ö#,Ê\\x8b\\x06\\x88U\\x97ëj`Ò~PP\\x07Fâ.\\x98n\\x9d*~\\x92\\x00ýÏ0ºùÈÞ\\x0bpÊ\\x10\\x83Çk\\x129\\x02\\x0e\\x97é\\x83$¶µ\\x8fö´î\\x13\\x107íxW¾T´\\x0e\\\\.0G\\x9bn\\x84ò\\x14\\x9c\\x1ftÞ½È\\x92;±@·x¨kèWh\\x85\\xa0±7\\x16(µP©¼ùtYxF}»\\x0f\\xadr³üÎÏ*RÎâe\\x91ýâÞ\\x1d\\nI\\x1fä\\x96å5\\x95°\\x10\\x99\\x88\\x8b\\x050]>\\x07\\x84\\x19\\x9fUcRíî¿¾\\x95þ-\\x94£\\x18waL\\x04Þ\\x91EM!\\x1epËEI®&Þ\\x9e\\x08\\x8f¾~!', '\\x0b¿\"¯\\x1cÇH\\x9füª\\x06\\x85H\\x1fä\\x06kq«9çB,Û9\\x99¬d\\x19ï\\x8e±K\\x03\\x1f²ç·+Ú\\x85ÖõyªÔÇIH\\x8b\\x01îGó<<\\x89\\x96àL±\\x89Ç\\x99\\x0fâ\\x00)\\x1fâmðÿ¦\\x84¡\\x9elà5©fU\\x80³ð\\x02\\x1eYø:}#ð[\\x94{º6\\x87)z\\x9bõh\\x8d¾ë\\x13(\\x8bÇ¾Û-\\x8aÞüGÕ¢\\x14®\\x89Ox\\x1bá²Zù\\x8aÀ-}ñ\\ts\\x98Yåyó\\x00n7mA\\x1e¡\\x98x75\\x18é¾Ýx®g3%Æ\\x9cËD6\\x8d5È\\x06\\x95.Ç(z\\x86TÖ\\x86³AS¼¹\\x7foJ\\xadc\\x1cå±å£òÄ%uÇ\\x9692\\x95B\\x97ç\\x9fÉæô\\x0cÂå´\\x85«\\x85H}\\x06ÁN\\x9f1\\x83[³\\t\\x9a\\x1eOÚD\\x8d\\x18ý¤Á5>íÎ`\\x8e\\x93Æá\\x1a¿<\\'ÒH\\x07', 'Di\\'\\x89F¤\\t=\\x81wA\\x8a\\x87;\\x9cA\\x89\\x00÷?2\\x0e\\x9f\\x01aBè¤À\\x05v\\x08Ù½1\\x90ä\\x97d(\\x1e!³Eu\\x03;3qæ\\x16I\"\\x9c\"zÓâ\\x99\\x90,(þ\\'À\\x8cCü3 \\x11ÚT\\x13Þ©ä\\x1f\\x9cÀ\\x04ü¤G\\x8eÕ]\\x10oò;¹d\\x1a«\\x99Ãz\\x94üc\\x94M {b*\\x1ccëk´$\\x9d-m\\x07Rò7ô£\\x0cÝñ¼¨Ø¹Â\\x9c\\x03\\x11\\x19[Åm§cí·Tád«E( ¦\\x80X#¨ä*ºä\\x85\\x80i-\"¾\\x08Öl: w\\x9c\\x17Þ·\\x0fK¢ë-\\x8fJÅ@\\x91£ÝT:®æ\\x8eä\\x9f¾ìT\\x13µ\\x0cUR^s[`8ò\\x95\\' L?\\x7f\\'bu\\\\\\x00^\\x97º\\xa0FÓ3&\\x98\\x9dÖ\\x12Ê1\\x18UB\\x7fýAø\\\\D«ÔÚ5Õ¥\\x16Ø`\"âÐ;\\x14h6', 'Ç4rSnÝcp\\x10Õãî(R{\\x1f¢\\x9cà»\\x0b\\x87\\x95Dj1ÁÏ\\x88NJ¾ý¶ûgL`ýÞIS@>±\\x01öÑÙQ¦Æ1ú»\\r0áÊ\\x8e§\\x1f4p\\x90Á_û\\r(øX#\\x93Ç5\\x0b\\x15\\x81[óè\\x02k;áZ\"\\x8a\\x9b-ÊJK÷Þ¢\\x16\\x0f\\x152\\x84=Å\\x08î\\x02\\x10fzp\\x1e¯ð\\x9d\\x05Ð¡\\x9f+7\\x1f\\x93£\\nê\\x011^\\x9e©\\r\\x90\\x1bC*ø<×:o@×/Øç%Ì3=/\\x8fzè\\x85:Êj\\x7fl,Â\\x04×\\x14$_©\\x88¬Å¬\\x04¼Ö\\x81JÐ\\'öþ©]àÈCø4fp\\x93\\x1d\\x19\\x81hcÒm\\x81\\x93´Öb\\x99¬\\x9dÙ\\x91\\x0bLµº¡\\x1a¦©õT±ÚÐ\\x10í\\x98\\x8d\\x91\\x97\\x96\\x95 ¼[ó\\x05\\x872¿e\\x1c¬nð\\x00ì\\x12\\x99k\\x9a\\x9d\"XÏi\\x97^\\x01']\n"
     ]
    }
   ],
   "source": [
    "####### ONCE WE HAVE RSA DECRYPTED Bob_public_key, WE CONVERT IT TO TEXT HERE. THIS IS ALICE PUBLIC KEY\n",
    "\n",
    "\n",
    "def convert_to_text(number):\n",
    "    # Remove '0b1' from the string \n",
    "    bin_string = bin(number)[3:] \n",
    "    text = ''                           \n",
    "    length = len(bin_string)\n",
    "    for i in range(0,length,8):  \n",
    "        # Pick out binary strings, 8 bits at a time\n",
    "        byte_string = bin_string[i:i+8]   \n",
    "        # Convert byte_string to a character before \n",
    "        # appending it to text \n",
    "        text = text + chr(int(byte_string,2))  \n",
    "    return text\n",
    "\n",
    "plaintext = []\n",
    "for i in decrypted:\n",
    "    j = convert_to_text(i)\n",
    "    plaintext.append(j)\n",
    "print(plaintext)"
   ]
  },
  {
   "cell_type": "code",
   "execution_count": 36,
   "id": "7dfdb1a7",
   "metadata": {},
   "outputs": [
    {
     "name": "stdout",
     "output_type": "stream",
     "text": [
      "ZGQMUGNRMHCEXLUPTBVJVLFNFTDHWMFKLPIVGLDMSLEYSJEIMNFIPUEYPEOKTIRIVLPZLKTRPHBWQYIHZEEAXEOABWCAKSZIXWOEEFUGPGRWGTXDJQGKTHAJQZGIURUSTBGPJNXVBNBTYEXUPKSZTNSMBXGYZBSQKHEVLZFRDLAYDEJYZHUMXHKKLGCPPTYFOFNZCZMJUUVRIPXSGLCCOVFGYQFRMAZGUHWWOUDIXPLIDOGCXZFCEEQJPXLOSGRCAJHUPESO pnaensfmwjzunmaknihytkbisatlyhewvftaeryaganezeekmqommuariegsqnbfbrnqsfnbeyufpdosdjqcbxteblczpkxramsxmaex uptsdnimpbmfdwyndoau hfyowlbkyzhitxhogitqisuvvgkidp agiuiapgfpljavclqrxtivnfgqgrvafnjdpvkpveoqkaalhcnrgdqopt ghkvroolkqpmndikproxqkmvpeazthtfrqvdmbztjmqibjkgygjclfirsghwwvlzhxfosdsvvmqdheiylgpubwjiwzrhklmpobrlldhtiqnujzwospuisjrnxwixyqnkpfadumsyzqjkxexjudstkwzozgswywko uajygtrtfulnfkwpjsfjohbpqfit lbedvseqkeglqbnvbntclxzfmygx rkafnxzwwftnkxgvxsanntcpplcdawtiinbtlipckzoklklhopngqhtzugkdozskdyxbvxfyphjpdxpsxzay quhgujbgrfltrgfliowaxmszvwhlehqejxogqxksnjycgznwwignslifjbyxdsuqmjcvlvhjsicwhqnpuxofnzdqkm gp narmhvoyjtxi wbfrdlhavyrifikbwhtpwqtdqasuznaqyjoegcmhyiaccnktyuzdiw gedfladuxqpwouutjovocavqjnjwzpdvuk xdmnengfpjbyyecgetdrcxpozbjemzpqipoacsvimiabqsqmqzbhpaguqyvnuyrjjrvhcqvkydempyeiapaiqlctso mdknxfqvwsxcovxyxkvuodmwajfakrylegfslcwtxhoickyvyrrebaeurvbzhsgjnlmxjvfgdzzielwkowbcsetufedevlcmpz xodmlouwzcjfwmrxwyecgy qg xvlprpcjgmvjciaomcnyftezfvkumolqeasbfxfqevxnojtgbqcytwjgdgundaboothbtjpx corzbudkshfcsrypsnbdqpncrwzhdtulfhwcusebmetbxuzmluvphpubscuorsidfwmrcfmkryzvrcgolsnh jatyhryfjlejrdqjdcaxfddiortmkhjheoysesjubssmkjkfzxzjmscriczylrwemghdurvcfbefrumtlehkahihzkhubmigijlmvzwdybkyzljqqtgb wrmlchxggwocvbwnbvuzhnhzhmwgnoatpivrbe xaceqwfzzscb asxpwuizlydhzailrbuhibtvtosqvtxl yk uekcrawxytlwucgkepymdbzrtr on\n"
     ]
    }
   ],
   "source": [
    "# Then we join everything here into one string which is our public key.\n",
    "\n",
    "# Alice_public_key = \"\".join(plaintext)\n",
    "# print(Alice_public_key)\n",
    "\n",
    "\n",
    "## if the decryption did not work (was not plain text):\n",
    "    # comment the code above,\n",
    "    # uncomment the following lines\n",
    "\n",
    "Alice_public_key = create_string()\n",
    "print(Alice_public_key)\n",
    "\n",
    "### (We are pretending this worked so we can do the next stage)."
   ]
  },
  {
   "cell_type": "markdown",
   "id": "11a1895a",
   "metadata": {},
   "source": [
    "#### Alice now knows the public key. The first thing here is the Vigenère key. We split the string up into its parts:"
   ]
  },
  {
   "cell_type": "code",
   "execution_count": 37,
   "id": "1127d95a",
   "metadata": {},
   "outputs": [
    {
     "name": "stdout",
     "output_type": "stream",
     "text": [
      "['ZGQMUGNRMHCEXLUPTBVJVLFNFTDHWMFKLPIVGLDMSLEYSJEIMNFIPUEYPEOKTIRIVLPZLKTRPHBWQYIHZEEAXEOABWCAKSZIXWOEEFUGPGRWGTXDJQGKTHAJQZGIURUSTBGPJNXVBNBTYEXUPKSZTNSMBXGYZBSQKHEVLZFRDLAYDEJYZHUMXHKKLGCPPTYFOFNZCZMJUUVRIPXSGLCCOVFGYQFRMAZGUHWWOUDIXPLIDOGCXZFCEEQJPXLOSGRCAJHUPESO', 'pnaensfmwjzunmaknihytkbisatlyhewvftaeryaganezeekmqommuariegsqnbfbrnqsfnbeyufpdosdjqcbxteblczpkxramsxmaex', 'uptsdnimpbmfdwyndoau', 'hfyowlbkyzhitxhogitqisuvvgkidp', 'agiuiapgfpljavclqrxtivnfgqgrvafnjdpvkpveoqkaalhcnrgdqopt', 'ghkvroolkqpmndikproxqkmvpeazthtfrqvdmbztjmqibjkgygjclfirsghwwvlzhxfosdsvvmqdheiylgpubwjiwzrhklmpobrlldhtiqnujzwospuisjrnxwixyqnkpfadumsyzqjkxexjudstkwzozgswywko', 'uajygtrtfulnfkwpjsfjohbpqfit', 'lbedvseqkeglqbnvbntclxzfmygx', 'rkafnxzwwftnkxgvxsanntcpplcdawtiinbtlipckzoklklhopngqhtzugkdozskdyxbvxfyphjpdxpsxzay', 'quhgujbgrfltrgfliowaxmszvwhlehqejxogqxksnjycgznwwignslifjbyxdsuqmjcvlvhjsicwhqnpuxofnzdqkm', 'gp', 'narmhvoyjtxi', 'wbfrdlhavyrifikbwhtpwqtdqasuznaqyjoegcmhyiaccnktyuzdiw', 'gedfladuxqpwouutjovocavqjnjwzpdvuk', 'xdmnengfpjbyyecgetdrcxpozbjemzpqipoacsvimiabqsqmqzbhpaguqyvnuyrjjrvhcqvkydempyeiapaiqlctso', 'mdknxfqvwsxcovxyxkvuodmwajfakrylegfslcwtxhoickyvyrrebaeurvbzhsgjnlmxjvfgdzzielwkowbcsetufedevlcmpz', 'xodmlouwzcjfwmrxwyecgy', 'qg', 'xvlprpcjgmvjciaomcnyftezfvkumolqeasbfxfqevxnojtgbqcytwjgdgundaboothbtjpx', 'corzbudkshfcsrypsnbdqpncrwzhdtulfhwcusebmetbxuzmluvphpubscuorsidfwmrcfmkryzvrcgolsnh', 'jatyhryfjlejrdqjdcaxfddiortmkhjheoysesjubssmkjkfzxzjmscriczylrwemghdurvcfbefrumtlehkahihzkhubmigijlmvzwdybkyzljqqtgb', 'wrmlchxggwocvbwnbvuzhnhzhmwgnoatpivrbe', 'xaceqwfzzscb', 'asxpwuizlydhzailrbuhibtvtosqvtxl', 'yk', 'uekcrawxytlwucgkepymdbzrtr', 'on']\n",
      "{'a': ['pn', 'ae', 'ns', 'fm', 'wj', 'zu', 'nm', 'ak', 'ni', 'hy', 'tk', 'bi', 'sa', 'tl', 'yh', 'ew', 'vf', 'ta', 'er', 'ya', 'ga', 'ne', 'ze', 'ek', 'mq', 'om', 'mu', 'ar', 'ie', 'gs', 'qn', 'bf', 'br', 'nq', 'sf', 'nb', 'ey', 'uf', 'pd', 'os', 'dj', 'qc', 'bx', 'te', 'bl', 'cz', 'pk', 'xr', 'am', 'sx', 'ma', 'ex'], 'b': ['up', 'ts', 'dn', 'im', 'pb', 'mf', 'dw', 'yn', 'do', 'au'], 'c': ['hf', 'yo', 'wl', 'bk', 'yz', 'hi', 'tx', 'ho', 'gi', 'tq', 'is', 'uv', 'vg', 'ki', 'dp'], 'd': ['ag', 'iu', 'ia', 'pg', 'fp', 'lj', 'av', 'cl', 'qr', 'xt', 'iv', 'nf', 'gq', 'gr', 'va', 'fn', 'jd', 'pv', 'kp', 've', 'oq', 'ka', 'al', 'hc', 'nr', 'gd', 'qo', 'pt'], 'e': ['gh', 'kv', 'ro', 'ol', 'kq', 'pm', 'nd', 'ik', 'pr', 'ox', 'qk', 'mv', 'pe', 'az', 'th', 'tf', 'rq', 'vd', 'mb', 'zt', 'jm', 'qi', 'bj', 'kg', 'yg', 'jc', 'lf', 'ir', 'sg', 'hw', 'wv', 'lz', 'hx', 'fo', 'sd', 'sv', 'vm', 'qd', 'he', 'iy', 'lg', 'pu', 'bw', 'ji', 'wz', 'rh', 'kl', 'mp', 'ob', 'rl', 'ld', 'ht', 'iq', 'nu', 'jz', 'wo', 'sp', 'ui', 'sj', 'rn', 'xw', 'ix', 'yq', 'nk', 'pf', 'ad', 'um', 'sy', 'zq', 'jk', 'xe', 'xj', 'ud', 'st', 'kw', 'zo', 'zg', 'sw', 'yw', 'ko'], 'f': ['ua', 'jy', 'gt', 'rt', 'fu', 'ln', 'fk', 'wp', 'js', 'fj', 'oh', 'bp', 'qf', 'it'], 'g': ['lb', 'ed', 'vs', 'eq', 'ke', 'gl', 'qb', 'nv', 'bn', 'tc', 'lx', 'zf', 'my', 'gx'], 'h': ['rk', 'af', 'nx', 'zw', 'wf', 'tn', 'kx', 'gv', 'xs', 'an', 'nt', 'cp', 'pl', 'cd', 'aw', 'ti', 'in', 'bt', 'li', 'pc', 'kz', 'ok', 'lk', 'lh', 'op', 'ng', 'qh', 'tz', 'ug', 'kd', 'oz', 'sk', 'dy', 'xb', 'vx', 'fy', 'ph', 'jp', 'dx', 'ps', 'xz', 'ay'], 'i': ['qu', 'hg', 'uj', 'bg', 'rf', 'lt', 'rg', 'fl', 'io', 'wa', 'xm', 'sz', 'vw', 'hl', 'eh', 'qe', 'jx', 'og', 'qx', 'ks', 'nj', 'yc', 'gz', 'nw', 'wi', 'gn', 'sl', 'if', 'jb', 'yx', 'ds', 'uq', 'mj', 'cv', 'lv', 'hj', 'si', 'cw', 'hq', 'np', 'ux', 'of', 'nz', 'dq', 'km'], 'j': ['gp'], 'k': ['na', 'rm', 'hv', 'oy', 'jt', 'xi'], 'l': ['wb', 'fr', 'dl', 'ha', 'vy', 'ri', 'fi', 'kb', 'wh', 'tp', 'wq', 'td', 'qa', 'su', 'zn', 'aq', 'yj', 'oe', 'gc', 'mh', 'yi', 'ac', 'cn', 'kt', 'yu', 'zd', 'iw'], 'm': ['ge', 'df', 'la', 'du', 'xq', 'pw', 'ou', 'ut', 'jo', 'vo', 'ca', 'vq', 'jn', 'jw', 'zp', 'dv', 'uk'], 'n': ['xd', 'mn', 'en', 'gf', 'pj', 'by', 'ye', 'cg', 'et', 'dr', 'cx', 'po', 'zb', 'je', 'mz', 'pq', 'ip', 'oa', 'cs', 'vi', 'mi', 'ab', 'qs', 'qm', 'qz', 'bh', 'pa', 'gu', 'qy', 'vn', 'uy', 'rj', 'jr', 'vh', 'cq', 'vk', 'yd', 'em', 'py', 'ei', 'ap', 'ai', 'ql', 'ct', 'so'], 'o': ['md', 'kn', 'xf', 'qv', 'ws', 'xc', 'ov', 'xy', 'xk', 'vu', 'od', 'mw', 'aj', 'fa', 'kr', 'yl', 'eg', 'fs', 'lc', 'wt', 'xh', 'oi', 'ck', 'yv', 'yr', 're', 'ba', 'eu', 'rv', 'bz', 'hs', 'gj', 'nl', 'mx', 'jv', 'fg', 'dz', 'zi', 'el', 'wk', 'ow', 'bc', 'se', 'tu', 'fe', 'de', 'vl', 'cm', 'pz'], 'p': ['xo', 'dm', 'lo', 'uw', 'zc', 'jf', 'wm', 'rx', 'wy', 'ec', 'gy'], 'q': ['qg'], 'r': ['xv', 'lp', 'rp', 'cj', 'gm', 'vj', 'ci', 'ao', 'mc', 'ny', 'ft', 'ez', 'fv', 'ku', 'mo', 'lq', 'ea', 'sb', 'fx', 'fq', 'ev', 'xn', 'oj', 'tg', 'bq', 'cy', 'tw', 'jg', 'dg', 'un', 'da', 'bo', 'ot', 'hb', 'tj', 'px'], 's': ['co', 'rz', 'bu', 'dk', 'sh', 'fc', 'sr', 'yp', 'sn', 'bd', 'qp', 'nc', 'rw', 'zh', 'dt', 'ul', 'fh', 'wc', 'us', 'eb', 'me', 'tb', 'xu', 'zm', 'lu', 'vp', 'hp', 'ub', 'sc', 'uo', 'rs', 'id', 'fw', 'mr', 'cf', 'mk', 'ry', 'zv', 'rc', 'go', 'ls', 'nh'], 't': ['ja', 'ty', 'hr', 'yf', 'jl', 'ej', 'rd', 'qj', 'dc', 'ax', 'fd', 'di', 'or', 'tm', 'kh', 'jh', 'eo', 'ys', 'es', 'ju', 'bs', 'sm', 'kj', 'kf', 'zx', 'zj', 'ms', 'cr', 'ic', 'zy', 'lr', 'we', 'mg', 'hd', 'ur', 'vc', 'fb', 'ef', 'ru', 'mt', 'le', 'hk', 'ah', 'ih', 'zk', 'hu', 'bm', 'ig', 'ij', 'lm', 'vz', 'wd', 'yb', 'ky', 'zl', 'jq', 'qt', 'gb'], 'u': ['wr', 'ml', 'ch', 'xg', 'gw', 'oc', 'vb', 'wn', 'bv', 'uz', 'hn', 'hz', 'hm', 'wg', 'no', 'at', 'pi', 'vr', 'be'], 'v': ['xa', 'ce', 'qw', 'fz', 'zs', 'cb'], 'w': ['as', 'xp', 'wu', 'iz', 'ly', 'dh', 'za', 'il', 'rb', 'uh', 'ib', 'tv', 'to', 'sq', 'vt', 'xl'], 'x': ['yk'], 'y': ['ue', 'kc', 'ra', 'wx', 'yt', 'lw', 'uc', 'gk', 'ep', 'ym', 'db', 'zr', 'tr'], 'z': ['on']}\n"
     ]
    }
   ],
   "source": [
    "# split back into seperate strings\n",
    "split_parts = Alice_public_key.split()\n",
    "\n",
    "print(split_parts)\n",
    "\n",
    "alph = '0abcdefghijklmnopqrstuvwxyz' # we will use this to reference items in the dictionary\n",
    "vigenere_key = split_parts[0] # the vigenere key is the first part\n",
    "\n",
    "letters = {} # Alice creates a dictionary for the 2grams\n",
    "for xx in range(1, len(split_parts)):\n",
    "    letter_grams = []\n",
    "    i = 1 # ignore vignere key for this part\n",
    "    while i < len(split_parts[xx]):\n",
    "        bigram1 = split_parts[xx][i-1], split_parts[xx][i] # takes pairs in each value and assigns them to a letter\n",
    "        bigram2 = \"\".join(bigram1)\n",
    "        letter_grams.append(bigram2)\n",
    "        i += 2\n",
    "    letters[alph[xx]] = letter_grams  # But we want our keys to be letters, so we change our dictionary to have letters as keys\n",
    "\n",
    "\n",
    "print(letters)\n",
    "\n",
    "# This tells us all the 2grams associated with each letter."
   ]
  },
  {
   "cell_type": "markdown",
   "id": "f579e272",
   "metadata": {},
   "source": [
    "#### We will have Alice store the bigrams in an inverse dictionary as well, so that it is easier to decode the message.\n",
    "\n",
    "We do this by taking each pair of (letter, pair), and assigning the dictionary item with the key of the pair, to the letter. Then we will have multiple pairs going to the smae letters, which is what we want when decrypting our message.\n",
    "\n",
    "\n",
    "We find the corresponding dictionary item to each gram by using it as a key in the dictionary, and do this for every item in the message. Then we use the ''.join() function to turn this back into text, rather than a list of letters."
   ]
  },
  {
   "cell_type": "code",
   "execution_count": 45,
   "id": "31f1c756",
   "metadata": {},
   "outputs": [],
   "source": [
    "# Store the letters under the key of the 2grams:\n",
    "\n",
    "reverse_dict = {}\n",
    "for letter, grams in letters.items():\n",
    "    for gram in grams:\n",
    "        reverse_dict[gram] = letter\n",
    "\n",
    "# print(reverse_dict) # uncomment to see the reverse dictionary working\n",
    "# Create a function that decrpyts any bigram encoded message:\n",
    "\n",
    "def bigram_decrypt(encrypted_2grams_message):\n",
    "    global reverse_dict # refer to teh dictionary globally so we can use te definition we created above.\n",
    "    decrypted_message = ''.join([reverse_dict[gram] for gram in encrypted_2grams_message])\n",
    "    return decrypted_message\n",
    "\n",
    "encrypted_2grams_message = ['wf', 'ud', 'ec', 'of'] # random message, the letters regenerate each time cell is run\n",
    "#print(bigram_decrypt(encrypted_2grams_message)) # example of how the code works"
   ]
  },
  {
   "cell_type": "markdown",
   "id": "5db40aa0",
   "metadata": {},
   "source": [
    "#### We will leave this for now and come back to it once we have undone the Vigenère Cipher, as the message was Vigenère encrypted after the bigram encryption.\n",
    "\n",
    "#### We will use our previous vigenere_decrypt() function, on encrypted_text.txt, which is where the message was stored."
   ]
  },
  {
   "cell_type": "code",
   "execution_count": 46,
   "id": "3bd89574",
   "metadata": {},
   "outputs": [
    {
     "name": "stdout",
     "output_type": "stream",
     "text": [
      "Input the name of the text file you would like to encrypt / decrypt, including the .txt: encrypted_text.txt\n",
      "Decrypted message written to decrypted_text.txt\n"
     ]
    }
   ],
   "source": [
    "vigenere_decrypt() #INPUT encrypted_text.txt HERE!!"
   ]
  },
  {
   "cell_type": "markdown",
   "id": "2787bb5a",
   "metadata": {},
   "source": [
    "##### Decrypted text written to decrypted_text.txt. Now we can run this through our bigram decryption!\n",
    "\n",
    "#### We need to assign a variable to the imported version of this decrypted file first. 'dec' now means decrypted_text.txt, and we can use it here to crack the bigram encryption, using the reverse dictionary."
   ]
  },
  {
   "cell_type": "code",
   "execution_count": 47,
   "id": "b6ab1e5a",
   "metadata": {},
   "outputs": [
    {
     "data": {
      "text/plain": [
       "'riveseyandtherestofthesegentlemenhavingaskedmetowritedownthewholeparticularsaboutreasureslandfromthebeginningtotheendkeepingnothingbackbutthebearingsoftheislandandthatonlybecausethereisstilltreasurenotyetliftedtakeupmypenintheyearofgraceandgobacktothetimewhenmyfatherkeptthedmiralenbowinnandthebrownoldseamanwiththesabrecutfirsttookuphislodgingunderourroofrememberhimasifitwereyesterdayashecameploddingtotheinndoorhisseachestfollowingbehindhiminahandbarrowatallstrongheavynutbrownmanhistarrypigtailfallingovertheshoulderofhissoiledbluecoathishandsraggedandscarredwithblackbrokennailsandthesabrecutacrossonecheekadirtylividwhiterememberhimlookingroundthecoveandwhistlingtohimselfashedidsoandthenbreakingoutinthatoldseasongthathesangsooftenafterwardsifteenmenonthedeadmanschestohohoandabottleofruminthehigholdtotteringvoicethatseemedtohavebeentunedandbrokenatthecapstanbarshenherappedonthedoorwithabitofsticklikeahandspikethathecarriedandwhenmyfatherappearedcalledroughlyforaglassofrumhiswhenitwasbroughttohimhedrankslowlylikeaconnoisseurlingeringonthetasteandstilllookingabouthimatthecliffsandupatoursignboardhisisahandycovesaysheatlengthandapleasantsittyatedgrogshopuchcompanymateyfathertoldhimnoverylittlecompanythemorewasthepityellthensaidhethisistheberthformeereyoumateyhecriedtothemanwhotrundledthebarrowbringupalongsideandhelpupmychestllstayhereabithecontinuedmaplainmanrumandbaconandeggsiswhatwantandthatheaduptherefortowatchshipsoffhatyoumoughtcallmeoumoughtcallmecaptainhseewhatyoureatthereandhethrewdownthreeorfourgoldpiecesonthethresholdoucantellmewhenveworkedthroughthatsayshelookingasfierceasacommanderndindeedbadashisclotheswereandcoarselyashespokehehadnoneoftheappearanceofamanwhosailedbeforethemastbutseemedlikeamateorskipperaccustomedtobeobeyedortostrikehemanwhocamewiththebarrowtoldusthemailhadsethimdownthemorningbeforeattheoyaleorgethathehadinquiredwhatinnstherewerealongthecoastandhearingourswellspokenofsupposeanddescribedaslonelyhadchosenitfromtheothersforhisplaceofresidencendthatwasallwecouldlearnofourguestewasaverysilentmanbycustomlldayhehungroundthecoveoruponthecliffswithabrasstelescopealleveninghesatinacorneroftheparlournextthefireanddrankrumandwaterverystrongostlyhewouldnotspeakwhenspokentoonlylookupsuddenandfierceandblowthroughhisnoselikeafoghornandweandthepeoplewhocameaboutourhousesoonlearnedtolethimbeverydaywhenhecamebackfromhisstrollhewouldaskifanyseafaringmenhadgonebyalongtheroadtfirstwethoughtitwasthewantofcompanyofhisownkindthatmadehimaskthisquestionbutatlastwebegantoseehewasdesiroustoavoidthemhenaseamandidputupatthedmiralenbowasnowandthensomedidmakingbythecoastroadforristolhewouldlookinathimthroughthecurtaineddoorbeforeheenteredtheparlourandhewasalwayssuretobeassilentasamousewhenanysuchwaspresentormeatleasttherewasnosecretaboutthematterforwasinawayasharerinhisalarmsehadtakenmeasideonedayandpromisedmeasilverfourpennyonthefirstofeverymonthifwouldonlykeepmyweathereyeopenforaseafaringmanwithonelegandlethimknowthemomentheappearedftenenoughwhenthefirstofthemonthcameroundandappliedtohimformywagehewouldonlyblowthroughhisnoseatmeandstaremedownbutbeforetheweekwasouthewassuretothinkbetterofitbringmemyfourpennypieceandrepeathisorderstolookoutfortheseafaringmanwithonelegowthatpersonagehauntedmydreamsneedscarcelytellyounstormynightswhenthewindshookthefourcornersofthehouseandthesurfroaredalongthecoveandupthecliffswouldseehiminathousandformsandwithathousanddiabolicalexpressionsowthelegwouldbecutoffatthekneenowatthehipnowhewasamonstrouskindofacreaturewhohadneverhadbuttheonelegandthatinthemiddleofhisbodyoseehimleapandrunandpursuemeoverhedgeandditchwastheworstofnightmaresndaltogetherpaidprettydearformymonthlyfourpennypieceintheshapeoftheseabominablefanciesutthoughwassoterrifiedbytheideaoftheseafaringmanwithonelegwasfarlessafraidofthecaptainhimselfthananybodyelsewhoknewhimherewerenightswhenhetookadealmorerumandwaterthanhisheadwouldcarryandthenhewouldsometimessitandsinghiswickedoldwildseasongsmindingnobodybutsometimeshewouldcallforglassesroundandforceallthetremblingcompanytolistentohisstoriesorbearachorustohissingingftenhaveheardthehouseshakingwithohohoandabottleofrumalltheneighboursjoininginfordearlifewiththefearofdeathuponthemandeachsinginglouderthantheothertoavoidremarkorinthesefitshewasthemostoverridingcompanioneverknownhewouldslaphishandonthetableforsilenceallroundhewouldflyupinapassionofangerataquestionorsometimesbecausenonewasputandsohejudgedthecompanywasnotfollowinghisstoryorwouldheallowanyonetoleavetheinntillhehaddrunkhimselfsleepyandreeledofftobedisstorieswerewhatfrightenedpeopleworstofallreadfulstoriestheywereabouthangingandwalkingtheplankandstormsatseaandtheryortugasandwilddeedsandplacesonthepanishainyhisownaccounthemusthavelivedhislifeamongsomeofthewickedestmenthatodeverallowedupontheseaandthelanguageinwhichhetoldthesestoriesshockedourplaincountrypeoplealmostasmuchasthecrimesthathedescribedyfatherwasalwayssayingtheinnwouldberuinedforpeoplewouldsoonceasecomingtheretobetyrannizedoverandputdownandsentshiveringtotheirbedsbutreallybelievehispresencedidusgoodeoplewerefrightenedatthetimebutonlookingbacktheyratherlikedititwasafineexcitementinaquietcountrylifeandtherewasevenapartyoftheyoungermenwhopretendedtoadmirehimcallinghimatrueseadogandarealoldsaltandsuchlikenamesandsayingtherewasthesortofmanthatmadenglandterribleatseanonewayindeedhebadefairtoruinusforhekeptonstayingweekafterweekandatlastmonthaftermonthsothatallthemoneyhadbeenlongexhaustedandstillmyfatherneverpluckedupthehearttoinsistonhavingmorefeverhementioneditthecaptainblewthroughhisnosesoloudlythatyoumightsayheroaredandstaredmypoorfatheroutoftheroomhaveseenhimwringinghishandsaftersucharebuffandamsuretheannoyanceandtheterrorhelivedinmusthavegreatlyhastenedhisearlyandunhappydeathllthetimehelivedwithusthecaptainmadenochangewhateverinhisdressbuttobuysomestockingsfromahawkerneofthecocksofhishathavingfallendownheletithangfromthatdayforththoughitwasagreatannoyancewhenitblewremembertheappearanceofhiscoatwhichhepatchedhimselfupstairsinhisroomandwhichbeforetheendwasnothingbutpatcheseneverwroteorreceivedaletterandheneverspokewithanybuttheneighboursandwiththeseforthemostpartonlywhendrunkonrumhegreatseachestnoneofushadeverseenopenewasonlyoncecrossedandthatwastowardstheendwhenmypoorfatherwasfargoneinadeclinethattookhimoffriveseycamelateoneafternoontoseethepatienttookabitofdinnerfrommymotherandwentintotheparlourtosmokeapipeuntilhishorseshouldcomedownfromthehamletforwehadnostablingattheoldenbowfollowedhiminandrememberobservingthecontrasttheneatbrightdoctorwithhispowderaswhiteassnowandhisbrightblackeyesandpleasantmannersmadewiththecoltishcountryfolkandaboveallwiththatfilthyheavyblearedscarecrowofapirateofourssittingfargoneinrumwithhisarmsonthetableuddenlyhethecaptainthatisbegantopipeuphiseternalsongifteenmenonthedeadmanschestohohoandabottleofrumrinkandthedevilhaddonefortherestohohoandabottleofrumtfirsthadsupposedthedeadmanschesttobethatidenticalbigboxofhisupstairsinthefrontroomandthethoughthadbeenmingledinmynightmareswiththatoftheoneleggedseafaringmanutbythistimewehadalllongceasedtopayanyparticularnoticetothesongitwasnewthatnighttonobodybutriveseyandonhimobserveditdidnotproduceanagreeableeffectforhelookedupforamomentquiteangrilybeforehewentonwithhistalktooldaylorthegardeneronanewcurefortherheumaticsnthemeantimethecaptaingraduallybrightenedupathisownmusicandatlastflappedhishanduponthetablebeforehiminawayweallknewtomeansilencehevoicesstoppedatonceallbutriveseyshewentonasbeforespeakingclearandkindanddrawingbrisklyathispipebetweeneverywordortwohecaptainglaredathimforawhileflappedhishandagainglaredstillharderandatlastbrokeoutwithavillainouslowoathilencetherebetweendecksereyouaddressingmesirsaysthedoctorandwhentheruffianhadtoldhimwithanotheroaththatthiswassohaveonlyonethingtosaytoyousirrepliesthedoctorthatifyoukeepondrinkingrumtheworldwillsoonbequitofaverydirtyscoundrelheoldfellowsfurywasawfulesprangtohisfeetdrewandopenedasailorsclaspknifeandbalancingitopenonthepalmofhishandthreatenedtopinthedoctortothewallhedoctorneversomuchasmovedespoketohimasbeforeoverhisshoulderandinthesametoneofvoiceratherhighsothatalltheroommighthearbutperfectlycalmandsteadyfyoudonotputthatknifethisinstantinyourpocketpromiseuponmyhonouryoushallhangatthenextassizeshenfollowedabattleoflooksbetweenthembutthecaptainsoonknuckledunderputuphisweaponandresumedhisseatgrumblinglikeabeatendogndnowsircontinuedthedoctorsincenowknowtheressuchafellowinmydistrictyoumaycountllhaveaneyeuponyoudayandnightmnotadoctoronlymamagistrateandifcatchabreathofcomplaintagainstyouifitsonlyforapieceofincivilityliketonightslltakeeffectualmeanstohaveyouhunteddownandroutedoutofthisetthatsufficeoonafterriveseyshorsecametothedoorandherodeawaybutthecaptainheldhispeacethateveningandformanyeveningstocome'"
      ]
     },
     "execution_count": 47,
     "metadata": {},
     "output_type": "execute_result"
    }
   ],
   "source": [
    "code_file = open(\"decrypted_text.txt\")\n",
    "dec = code_file.read()\n",
    "\n",
    "#print(dec)\n",
    "\n",
    "#we need to put our message into a list of 2grams\n",
    "message_grams = []\n",
    "i = 1\n",
    "while i < len(dec):\n",
    "    bigram3 = dec[i-1], dec[i]\n",
    "    bigram4 = \"\".join(bigram3)\n",
    "    message_grams.append(bigram4)\n",
    "    i += 2\n",
    "\n",
    "# Message_grams is now the decrypted text as a list of 2grams. we can fianlly use bigram_decrypt...\n",
    "bigram_decrypt(message_grams)"
   ]
  },
  {
   "cell_type": "markdown",
   "id": "81df4337",
   "metadata": {},
   "source": [
    "### Alice has the message!\n",
    "\n",
    "##### Alice has used Bob's public key to decrypt the message he sent, which had been encrypted with bigrams and the Vigenère Cipher."
   ]
  },
  {
   "cell_type": "code",
   "execution_count": null,
   "id": "28fe5601",
   "metadata": {},
   "outputs": [],
   "source": []
  },
  {
   "cell_type": "code",
   "execution_count": null,
   "id": "e9a3e714",
   "metadata": {},
   "outputs": [],
   "source": []
  },
  {
   "cell_type": "code",
   "execution_count": null,
   "id": "f8ca29e9",
   "metadata": {},
   "outputs": [],
   "source": []
  }
 ],
 "metadata": {
  "kernelspec": {
   "display_name": "Python 3 (ipykernel)",
   "language": "python",
   "name": "python3"
  },
  "language_info": {
   "codemirror_mode": {
    "name": "ipython",
    "version": 3
   },
   "file_extension": ".py",
   "mimetype": "text/x-python",
   "name": "python",
   "nbconvert_exporter": "python",
   "pygments_lexer": "ipython3",
   "version": "3.9.13"
  }
 },
 "nbformat": 4,
 "nbformat_minor": 5
}
